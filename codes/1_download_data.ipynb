{
 "cells": [
  {
   "cell_type": "markdown",
   "metadata": {},
   "source": [
    "# Download data collected and stored on our Google Drive"
   ]
  },
  {
   "cell_type": "code",
   "execution_count": 1,
   "metadata": {},
   "outputs": [],
   "source": [
    "from google_drive_downloader import GoogleDriveDownloader\n",
    "import requests\n",
    "import json\n",
    "import numpy\n",
    "import pandas\n",
    "\n",
    "%config Completer.use_jedi = False"
   ]
  },
  {
   "cell_type": "code",
   "execution_count": 2,
   "metadata": {},
   "outputs": [],
   "source": [
    "def download_gd_data_from_dict(dictionary: dict):\n",
    "    for i,j in dictionary.items():\n",
    "        GoogleDriveDownloader.download_file_from_google_drive(file_id=j,\n",
    "                                            dest_path=f\"../datasets/raw_data/{i}/{i}.zip\",\n",
    "                                            unzip=True,\n",
    "                                            showsize=True,\n",
    "                                            overwrite=False)"
   ]
  },
  {
   "cell_type": "markdown",
   "metadata": {},
   "source": [
    "## Source: GUIGK"
   ]
  },
  {
   "cell_type": "code",
   "execution_count": 3,
   "metadata": {},
   "outputs": [
    {
     "name": "stdout",
     "output_type": "stream",
     "text": [
      "Downloading 1BZCmADIZhJuf1_Jh-f6D8vSpI8p5-2wd into ../datasets/raw_data/guigk_voi/guigk_voi.zip... \n",
      "5.2 MiB B   Done.\n",
      "Unzipping...Done.\n",
      "Downloading 1wX99dmNUbiEKYKh-qAfxDipT9oC6DLzE into ../datasets/raw_data/guigk_pov/guigk_pov.zip... \n",
      "27.0 MiB                         Done.\n",
      "Unzipping...Done.\n",
      "Downloading 1URjb9NM6Fm_qES5kC4QPPXZGERzarUIa into ../datasets/raw_data/guigk_com/guigk_com.zip... \n",
      "63.1 MiB                                                   Done.\n",
      "Unzipping...Done.\n"
     ]
    }
   ],
   "source": [
    "gugik = {'guigk_voi':'1BZCmADIZhJuf1_Jh-f6D8vSpI8p5-2wd',\n",
    "        'guigk_pov':'1wX99dmNUbiEKYKh-qAfxDipT9oC6DLzE',\n",
    "        'guigk_com':'1URjb9NM6Fm_qES5kC4QPPXZGERzarUIa'}\n",
    "\n",
    "download_gd_data_from_dict(gugik)"
   ]
  },
  {
   "cell_type": "markdown",
   "metadata": {},
   "source": [
    "## Source: OSM"
   ]
  },
  {
   "cell_type": "code",
   "execution_count": 4,
   "metadata": {},
   "outputs": [
    {
     "name": "stdout",
     "output_type": "stream",
     "text": [
      "Downloading 195E_n9JlgavFWp4mbaOCHAYKFWziBkc0 into ../datasets/raw_data/osm_mazowieckie/osm_mazowieckie.zip... \n",
      "339.1 MiB                                                                                                                                                                                                                                                                                                                                                                 Done.\n",
      "Unzipping...Done.\n",
      "Downloading 146rCLx7-9RupOXXywm60Ug43LCP1SJiT into ../datasets/raw_data/osm_pomorskie/osm_pomorskie.zip... \n",
      "125.9 MiB                                                                                                        Done.\n",
      "Unzipping...Done.\n",
      "Downloading 1KG6uPhCZ-jKDgEpBU46WKHXVG_Mc-dBS into ../datasets/raw_data/osm_malopolskie/osm_malopolskie.zip... \n",
      "224.8 MiB                                                                                                                                                                                                                                                                                   Done.\n",
      "Unzipping...Done.\n"
     ]
    }
   ],
   "source": [
    "osm = {'osm_mazowieckie':'195E_n9JlgavFWp4mbaOCHAYKFWziBkc0',\n",
    "        'osm_pomorskie':'146rCLx7-9RupOXXywm60Ug43LCP1SJiT',\n",
    "        'osm_malopolskie':'1KG6uPhCZ-jKDgEpBU46WKHXVG_Mc-dBS'}\n",
    "\n",
    "download_gd_data_from_dict(osm)"
   ]
  },
  {
   "cell_type": "markdown",
   "metadata": {},
   "source": [
    "## Source: Inspire"
   ]
  },
  {
   "cell_type": "code",
   "execution_count": 5,
   "metadata": {},
   "outputs": [
    {
     "name": "stdout",
     "output_type": "stream",
     "text": [
      "Downloading 1avnBMziIn9uLetSbucMrZlZadhnSUvPE into ../datasets/raw_data/inspire/inspire.zip... \n",
      "28.2 MiB                             Done.\n",
      "Unzipping...Done.\n"
     ]
    }
   ],
   "source": [
    "inspire = {\"inspire\":\"1avnBMziIn9uLetSbucMrZlZadhnSUvPE\"}\n",
    "download_gd_data_from_dict(inspire)"
   ]
  },
  {
   "cell_type": "markdown",
   "metadata": {},
   "source": [
    "# Scrape pickup points data from websites"
   ]
  },
  {
   "cell_type": "markdown",
   "metadata": {},
   "source": [
    "## Source: Bliskapaczka.pl"
   ]
  },
  {
   "cell_type": "code",
   "execution_count": null,
   "metadata": {},
   "outputs": [],
   "source": []
  }
 ],
 "metadata": {
  "kernelspec": {
   "display_name": "Python 3",
   "language": "python",
   "name": "python3"
  },
  "language_info": {
   "codemirror_mode": {
    "name": "ipython",
    "version": 3
   },
   "file_extension": ".py",
   "mimetype": "text/x-python",
   "name": "python",
   "nbconvert_exporter": "python",
   "pygments_lexer": "ipython3",
   "version": "3.7.3"
  }
 },
 "nbformat": 4,
 "nbformat_minor": 4
}
