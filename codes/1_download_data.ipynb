{
 "cells": [
  {
   "cell_type": "markdown",
   "metadata": {},
   "source": [
    "# Download data collected and stored on our Google Drive"
   ]
  },
  {
   "cell_type": "code",
   "execution_count": 1,
   "metadata": {},
   "outputs": [],
   "source": [
    "from google_drive_downloader import GoogleDriveDownloader"
   ]
  },
  {
   "cell_type": "code",
   "execution_count": 2,
   "metadata": {},
   "outputs": [],
   "source": [
    "def download_gd_data_from_dict(dictionary: dict):\n",
    "    for i,j in dictionary.items():\n",
    "        GoogleDriveDownloader.download_file_from_google_drive(file_id=j,\n",
    "                                            dest_path=f\"../datasets/raw_data/{i}/{i}.zip\",\n",
    "                                            unzip=True,\n",
    "                                            showsize=True,\n",
    "                                            overwrite=False)"
   ]
  },
  {
   "cell_type": "markdown",
   "metadata": {},
   "source": [
    "## Source: GUIGK"
   ]
  },
  {
   "cell_type": "code",
   "execution_count": 3,
   "metadata": {},
   "outputs": [],
   "source": [
    "gugik = {'voi':'1BZCmADIZhJuf1_Jh-f6D8vSpI8p5-2wd',\n",
    "        'pov':'1wX99dmNUbiEKYKh-qAfxDipT9oC6DLzE',\n",
    "        'com':'1URjb9NM6Fm_qES5kC4QPPXZGERzarUIa'}\n",
    "\n",
    "download_gd_data_from_dict(gugik)"
   ]
  },
  {
   "cell_type": "markdown",
   "metadata": {},
   "source": [
    "## Source: OSM"
   ]
  },
  {
   "cell_type": "code",
   "execution_count": 4,
   "metadata": {},
   "outputs": [
    {
     "name": "stdout",
     "output_type": "stream",
     "text": [
      "Downloading 195E_n9JlgavFWp4mbaOCHAYKFWziBkc0 into ../datasets/raw_data/mazowieckie/mazowieckie.zip... \n",
      "339.0 MiB                                                                                                                                                                                                                                                                                                                     Done.\n",
      "Unzipping...Done.\n",
      "Downloading 146rCLx7-9RupOXXywm60Ug43LCP1SJiT into ../datasets/raw_data/pomorskie/pomorskie.zip... \n",
      "125.8 MiB                                                                                                                                      Done.\n",
      "Unzipping...Done.\n",
      "Downloading 1KG6uPhCZ-jKDgEpBU46WKHXVG_Mc-dBS into ../datasets/raw_data/malopolskie/malopolskie.zip... \n",
      "224.6 MiB                                                                                                                                                                                                                          Done.\n",
      "Unzipping...Done.\n"
     ]
    }
   ],
   "source": [
    "osm = {'mazowieckie':'195E_n9JlgavFWp4mbaOCHAYKFWziBkc0',\n",
    "        'pomorskie':'146rCLx7-9RupOXXywm60Ug43LCP1SJiT',\n",
    "        'malopolskie':'1KG6uPhCZ-jKDgEpBU46WKHXVG_Mc-dBS'}\n",
    "\n",
    "download_gd_data_from_dict(osm)"
   ]
  },
  {
   "cell_type": "markdown",
   "metadata": {},
   "source": [
    "# Scrape pickup points data from websites"
   ]
  },
  {
   "cell_type": "markdown",
   "metadata": {},
   "source": [
    "## Source: Bliskapaczka.pl"
   ]
  },
  {
   "cell_type": "code",
   "execution_count": null,
   "metadata": {},
   "outputs": [],
   "source": []
  }
 ],
 "metadata": {
  "kernelspec": {
   "display_name": "Python 3",
   "language": "python",
   "name": "python3"
  },
  "language_info": {
   "codemirror_mode": {
    "name": "ipython",
    "version": 3
   },
   "file_extension": ".py",
   "mimetype": "text/x-python",
   "name": "python",
   "nbconvert_exporter": "python",
   "pygments_lexer": "ipython3",
   "version": "3.7.3"
  }
 },
 "nbformat": 4,
 "nbformat_minor": 4
}
