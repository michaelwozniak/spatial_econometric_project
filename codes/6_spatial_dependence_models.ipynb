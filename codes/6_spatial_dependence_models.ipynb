{
 "cells": [
  {
   "cell_type": "code",
   "execution_count": 7,
   "metadata": {},
   "outputs": [],
   "source": [
    "library(rgdal)\n",
    "library(spdep)\n",
    "library(tidyverse)"
   ]
  },
  {
   "cell_type": "code",
   "execution_count": 14,
   "metadata": {},
   "outputs": [
    {
     "name": "stderr",
     "output_type": "stream",
     "text": [
      "Installing package into 'C:/Users/wozni/Documents/R/win-library/3.6'\n",
      "(as 'lib' is unspecified)\n",
      "also installing the dependencies 'geometries', 'jsonify', 'rapidjsonr', 'sfheaders', 'protolite', 'geojsonsf', 'geojson'\n",
      "\n"
     ]
    },
    {
     "name": "stdout",
     "output_type": "stream",
     "text": [
      "\n",
      "  There is a binary version available but the source version is later:\n",
      "          binary source needs_compilation\n",
      "sfheaders  0.3.0  0.4.0              TRUE\n",
      "\n",
      "  Binaries will be installed\n",
      "package 'geometries' successfully unpacked and MD5 sums checked\n",
      "package 'jsonify' successfully unpacked and MD5 sums checked\n",
      "package 'rapidjsonr' successfully unpacked and MD5 sums checked\n",
      "package 'sfheaders' successfully unpacked and MD5 sums checked\n",
      "package 'protolite' successfully unpacked and MD5 sums checked\n",
      "package 'geojsonsf' successfully unpacked and MD5 sums checked\n",
      "package 'geojson' successfully unpacked and MD5 sums checked\n",
      "package 'geojsonio' successfully unpacked and MD5 sums checked\n",
      "\n",
      "The downloaded binary packages are in\n",
      "\tC:\\Users\\wozni\\AppData\\Local\\Temp\\RtmpOgbMMm\\downloaded_packages\n"
     ]
    }
   ],
   "source": [
    "install.packages(\"geojsonio\")"
   ]
  },
  {
   "cell_type": "markdown",
   "metadata": {},
   "source": [
    "# Warszawa"
   ]
  },
  {
   "cell_type": "code",
   "execution_count": 40,
   "metadata": {},
   "outputs": [
    {
     "name": "stdout",
     "output_type": "stream",
     "text": [
      "OGR data source with driver: ESRI Shapefile \n",
      "Source: \"D:\\spatial_econometric_project\\datasets\\preprocessed_data\\df_warszawa.shp\", layer: \"df_warszawa\"\n",
      "with 601 features\n",
      "It has 31 fields\n",
      "Integer64 fields read as strings:  grid_index \n"
     ]
    }
   ],
   "source": [
    "df <- readOGR(\"../datasets/preprocessed_data/df_warszawa.shp\")\n",
    "df <- spTransform(df, CRS(\"+proj=longlat +ellps=GRS80 +no_defs\"))\n",
    "df.cont.nb <- poly2nb(as(df, \"SpatialPolygons\"), queen=TRUE)\n",
    "df.cont.listw <- nb2listw(df.cont.nb, style=\"W\")"
   ]
  },
  {
   "cell_type": "markdown",
   "metadata": {},
   "source": [
    "## OLS"
   ]
  },
  {
   "cell_type": "code",
   "execution_count": null,
   "metadata": {},
   "outputs": [],
   "source": [
    "model.lm <- lm(y~x1+x2+x3+x4, data=sub)\n",
    "summary(model.lm)"
   ]
  },
  {
   "cell_type": "code",
   "execution_count": null,
   "metadata": {},
   "outputs": [],
   "source": []
  },
  {
   "cell_type": "markdown",
   "metadata": {},
   "source": [
    "# Kraków"
   ]
  },
  {
   "cell_type": "code",
   "execution_count": 42,
   "metadata": {},
   "outputs": [
    {
     "name": "stdout",
     "output_type": "stream",
     "text": [
      "OGR data source with driver: ESRI Shapefile \n",
      "Source: \"D:\\spatial_econometric_project\\datasets\\preprocessed_data\\df_krakow.shp\", layer: \"df_krakow\"\n",
      "with 396 features\n",
      "It has 31 fields\n",
      "Integer64 fields read as strings:  grid_index \n"
     ]
    }
   ],
   "source": [
    "krakow <- readOGR(\"../datasets/preprocessed_data/df_krakow.shp\")\n",
    "krakow <- spTransform(krakow, CRS(\"+proj=longlat +ellps=GRS80 +no_defs\"))\n",
    "krakow.cont.nb <- poly2nb(as(krakow, \"SpatialPolygons\"), queen=TRUE)\n",
    "krakow.cont.listw <- nb2listw(krakow.cont.nb, style=\"W\")"
   ]
  },
  {
   "cell_type": "code",
   "execution_count": null,
   "metadata": {},
   "outputs": [],
   "source": []
  },
  {
   "cell_type": "markdown",
   "metadata": {},
   "source": [
    "# Poznań"
   ]
  },
  {
   "cell_type": "code",
   "execution_count": 43,
   "metadata": {},
   "outputs": [
    {
     "name": "stdout",
     "output_type": "stream",
     "text": [
      "OGR data source with driver: ESRI Shapefile \n",
      "Source: \"D:\\spatial_econometric_project\\datasets\\preprocessed_data\\df_poznan.shp\", layer: \"df_poznan\"\n",
      "with 324 features\n",
      "It has 31 fields\n",
      "Integer64 fields read as strings:  grid_index \n"
     ]
    }
   ],
   "source": [
    "poznan <- readOGR(\"../datasets/preprocessed_data/df_poznan.shp\")\n",
    "poznan <- spTransform(poznan, CRS(\"+proj=longlat +ellps=GRS80 +no_defs\"))\n",
    "poznan.cont.nb <- poly2nb(as(warszawa, \"SpatialPolygons\"), queen=TRUE)\n",
    "poznan.cont.listw <- nb2listw(poznan.cont.nb, style=\"W\")"
   ]
  },
  {
   "cell_type": "code",
   "execution_count": null,
   "metadata": {},
   "outputs": [],
   "source": []
  }
 ],
 "metadata": {
  "kernelspec": {
   "display_name": "R",
   "language": "R",
   "name": "ir"
  },
  "language_info": {
   "codemirror_mode": "r",
   "file_extension": ".r",
   "mimetype": "text/x-r-source",
   "name": "R",
   "pygments_lexer": "r",
   "version": "3.6.1"
  }
 },
 "nbformat": 4,
 "nbformat_minor": 4
}
