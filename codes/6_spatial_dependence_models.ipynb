{
 "cells": [
  {
   "cell_type": "markdown",
   "metadata": {},
   "source": [
    "# 7. Spatial dependence models"
   ]
  },
  {
   "cell_type": "markdown",
   "metadata": {},
   "source": [
    "**Warning! This chapter is realized in R**"
   ]
  },
  {
   "cell_type": "markdown",
   "metadata": {},
   "source": [
    "In this chapter we create spatial dependence econometric models to answer our research hypothesis. We believe based on spatial autocorrelation tests (performed in previous chapters) that spatial autocorrelation exists in the analyzed phenomenon. We create models for Warsaw and Cracow separately. We utilize here 1km2 grid!\n",
    "\n",
    "Generally, we specific following functional form of the models:\n",
    "$inpost_i = \\alpha * \\text{logistic_companies}_i + \\beta * \\text{demographic_variables}_i + \\gamma * \\text{point_of_interest_variables}_i + \\theta * \\text{spatial_terms}_i + \\epsilon$, \n",
    "\n",
    "where:\n",
    "\n",
    "* logistic_companies cover: DHL, DPD, Fedex, Poczta Polska, Ruch and UPS\n",
    "* demographic_variables cover: total density, density age 0-14, density age 15-64, density age 65-...,  total mail density, total female density, female density age 0-14, female density age 15-64, female density age 65-..., male density age 0-14, male density age 15-64, male density age 65-..., feminization ratio\n",
    "* point_of_interest_variables cover: buildings, shops, parks, forests, schools, railways, cycleways, parkings, crossings, bus stops\n",
    "\n",
    "Obviously, a significant proportion of these variables will be removed from the final model due to high co-linearity or statistical insignificance, however, based on the literature and our intuition, we assume that at least 1-2 variables from each category will ultimately be significant. \n",
    "\n",
    "Our expectations for the results are as follows (taking into account the research hypotheses). Based on the visual analysis of spatial data carried out in the previous chapters of this work, it seems to us that InPost has deployed parcel pick-up points in accordance with the competition. Therefore, we expect the variables in the logistic_companies category to be significant and have a positive sign. In addition, it seems to us that the control variables (groups: demographic_variables, point_of_interest_variables) should also be important in the models and their sign should follow the logic: the more shops in the grid, the more parcel machines, the greater the afforestation, the fewer parcel machines, the more bus stops the more parcel machines, the higher the population density, the more parcel machines etc. In addition, we believe that extending the OLS model with spatial components is a good idea and models that take into account spillover effects will be econometrically better. We apply these expectations to both Warsaw and Cracow.\n",
    "\n",
    "We adopted the following modeling strategy due to the complexity of the problem:\n",
    "\n",
    "1. OLS model estimation to establish an initial functional form that is free of collinearity (VIF statistic) of the variables along with model diagnostics.\n",
    "2. Estimation of the final OLS model using Stepwise Regression procedure (both directions).\n",
    "3. Estimation of spatial models with 3, 2, 1 spatial components (using obtimate functional form from point 2).\n",
    "4. Comparing the statistical properties of the models from step 3 and selecting the target model. We look for model with significant spatial components, highest number of significant variables and minimum AIC (we also take into account BIC).\n",
    "5. For the obtimate model in terms of spatial components, we test other combinations of variables using the general to specific (LSE) procedure. \n",
    "6. Interpret the results of the model from point 5 \n",
    "\n",
    "\n",
    "We covered all possible options to improve the models:\n",
    "-\tChanging spatial components (done - all possible components tried)\n",
    "-\tChanging the spatial weights matrix (done - QUEEN and ROOK tested)\n",
    "-\tChanging variables in the model (done - general to specific approach to make a choice for OLS and then infer based on it)\n",
    "\n",
    "We set 10% significance level!"
   ]
  },
  {
   "cell_type": "markdown",
   "metadata": {},
   "source": [
    "## Import dependencies"
   ]
  },
  {
   "cell_type": "code",
   "execution_count": 72,
   "metadata": {},
   "outputs": [],
   "source": [
    "library(rgdal)\n",
    "library(spdep)\n",
    "library(tidyverse)\n",
    "library(car)\n",
    "library(lmtest)\n",
    "library(arules)\n",
    "library(spatialreg)\n",
    "library(texreg)\n",
    "library(stargazer)"
   ]
  },
  {
   "cell_type": "markdown",
   "metadata": {},
   "source": [
    "## Models for Warsaw"
   ]
  },
  {
   "cell_type": "markdown",
   "metadata": {},
   "source": [
    "### Data loading, spatial transformations and additional feature engineering"
   ]
  },
  {
   "cell_type": "code",
   "execution_count": 2,
   "metadata": {},
   "outputs": [
    {
     "name": "stdout",
     "output_type": "stream",
     "text": [
      "OGR data source with driver: ESRI Shapefile \n",
      "Source: \"D:\\spatial_econometric_project\\datasets\\preprocessed_data\\df_warszawa.shp\", layer: \"df_warszawa\"\n",
      "with 601 features\n",
      "It has 31 fields\n",
      "Integer64 fields read as strings:  grid_index \n"
     ]
    }
   ],
   "source": [
    "df <- readOGR(\"../datasets/preprocessed_data/df_warszawa.shp\")\n",
    "df_data <- read.csv(\"../datasets/preprocessed_data/df_warszawa.csv\")\n",
    "df <- spTransform(df, CRS(\"+proj=longlat +ellps=GRS80 +no_defs\"))\n",
    "df.cont.nb <- poly2nb(as(df, \"SpatialPolygons\"), queen=TRUE) #QUEEN but ROOK was tried!\n",
    "df.cont.listw <- nb2listw(df.cont.nb, style=\"W\")"
   ]
  },
  {
   "cell_type": "code",
   "execution_count": 73,
   "metadata": {},
   "outputs": [
    {
     "name": "stdout",
     "output_type": "stream",
     "text": [
      "grid_index geometry dhl dpd fedex inpost poczta ruch ups tot tot_0_14 tot_15_64 tot_65__ tot_male tot_fem male_0_14 male_15_64 male_65__ fem_0_14 fem_15_64 fem_65__ fem_ratio buildings shops parks forests schools railways cycleways parkings crossings bus_stops"
     ]
    }
   ],
   "source": [
    "cat(colnames(df_data))"
   ]
  },
  {
   "cell_type": "markdown",
   "metadata": {},
   "source": [
    "We investigate again correlation between logistic companies. We can clearly see that Poczta Polska is highly collinear with other variables so we will remove it from the further analysis. The rest variables seems to be ok."
   ]
  },
  {
   "cell_type": "code",
   "execution_count": 3,
   "metadata": {},
   "outputs": [
    {
     "data": {
      "text/html": [
       "<table>\n",
       "<thead><tr><th></th><th scope=col>dhl</th><th scope=col>dpd</th><th scope=col>fedex</th><th scope=col>inpost</th><th scope=col>poczta</th><th scope=col>ruch</th><th scope=col>ups</th></tr></thead>\n",
       "<tbody>\n",
       "\t<tr><th scope=row>dhl</th><td>1.0000000 </td><td>0.6277199 </td><td>0.18363265</td><td>0.7380562 </td><td>0.9238711 </td><td>0.6356515 </td><td>0.53454845</td></tr>\n",
       "\t<tr><th scope=row>dpd</th><td>0.6277199 </td><td>1.0000000 </td><td>0.13532748</td><td>0.5657193 </td><td>0.6875670 </td><td>0.5941321 </td><td>0.43918066</td></tr>\n",
       "\t<tr><th scope=row>fedex</th><td>0.1836326 </td><td>0.1353275 </td><td>1.00000000</td><td>0.2048367 </td><td>0.1740457 </td><td>0.1312876 </td><td>0.08168199</td></tr>\n",
       "\t<tr><th scope=row>inpost</th><td>0.7380562 </td><td>0.5657193 </td><td>0.20483665</td><td>1.0000000 </td><td>0.7411384 </td><td>0.6494003 </td><td>0.53922648</td></tr>\n",
       "\t<tr><th scope=row>poczta</th><td>0.9238711 </td><td>0.6875670 </td><td>0.17404573</td><td>0.7411384 </td><td>1.0000000 </td><td>0.7454525 </td><td>0.57380202</td></tr>\n",
       "\t<tr><th scope=row>ruch</th><td>0.6356515 </td><td>0.5941321 </td><td>0.13128761</td><td>0.6494003 </td><td>0.7454525 </td><td>1.0000000 </td><td>0.53308523</td></tr>\n",
       "\t<tr><th scope=row>ups</th><td>0.5345484 </td><td>0.4391807 </td><td>0.08168199</td><td>0.5392265 </td><td>0.5738020 </td><td>0.5330852 </td><td>1.00000000</td></tr>\n",
       "</tbody>\n",
       "</table>\n"
      ],
      "text/latex": [
       "\\begin{tabular}{r|lllllll}\n",
       "  & dhl & dpd & fedex & inpost & poczta & ruch & ups\\\\\n",
       "\\hline\n",
       "\tdhl & 1.0000000  & 0.6277199  & 0.18363265 & 0.7380562  & 0.9238711  & 0.6356515  & 0.53454845\\\\\n",
       "\tdpd & 0.6277199  & 1.0000000  & 0.13532748 & 0.5657193  & 0.6875670  & 0.5941321  & 0.43918066\\\\\n",
       "\tfedex & 0.1836326  & 0.1353275  & 1.00000000 & 0.2048367  & 0.1740457  & 0.1312876  & 0.08168199\\\\\n",
       "\tinpost & 0.7380562  & 0.5657193  & 0.20483665 & 1.0000000  & 0.7411384  & 0.6494003  & 0.53922648\\\\\n",
       "\tpoczta & 0.9238711  & 0.6875670  & 0.17404573 & 0.7411384  & 1.0000000  & 0.7454525  & 0.57380202\\\\\n",
       "\truch & 0.6356515  & 0.5941321  & 0.13128761 & 0.6494003  & 0.7454525  & 1.0000000  & 0.53308523\\\\\n",
       "\tups & 0.5345484  & 0.4391807  & 0.08168199 & 0.5392265  & 0.5738020  & 0.5330852  & 1.00000000\\\\\n",
       "\\end{tabular}\n"
      ],
      "text/markdown": [
       "\n",
       "| <!--/--> | dhl | dpd | fedex | inpost | poczta | ruch | ups |\n",
       "|---|---|---|---|---|---|---|---|\n",
       "| dhl | 1.0000000  | 0.6277199  | 0.18363265 | 0.7380562  | 0.9238711  | 0.6356515  | 0.53454845 |\n",
       "| dpd | 0.6277199  | 1.0000000  | 0.13532748 | 0.5657193  | 0.6875670  | 0.5941321  | 0.43918066 |\n",
       "| fedex | 0.1836326  | 0.1353275  | 1.00000000 | 0.2048367  | 0.1740457  | 0.1312876  | 0.08168199 |\n",
       "| inpost | 0.7380562  | 0.5657193  | 0.20483665 | 1.0000000  | 0.7411384  | 0.6494003  | 0.53922648 |\n",
       "| poczta | 0.9238711  | 0.6875670  | 0.17404573 | 0.7411384  | 1.0000000  | 0.7454525  | 0.57380202 |\n",
       "| ruch | 0.6356515  | 0.5941321  | 0.13128761 | 0.6494003  | 0.7454525  | 1.0000000  | 0.53308523 |\n",
       "| ups | 0.5345484  | 0.4391807  | 0.08168199 | 0.5392265  | 0.5738020  | 0.5330852  | 1.00000000 |\n",
       "\n"
      ],
      "text/plain": [
       "       dhl       dpd       fedex      inpost    poczta    ruch      ups       \n",
       "dhl    1.0000000 0.6277199 0.18363265 0.7380562 0.9238711 0.6356515 0.53454845\n",
       "dpd    0.6277199 1.0000000 0.13532748 0.5657193 0.6875670 0.5941321 0.43918066\n",
       "fedex  0.1836326 0.1353275 1.00000000 0.2048367 0.1740457 0.1312876 0.08168199\n",
       "inpost 0.7380562 0.5657193 0.20483665 1.0000000 0.7411384 0.6494003 0.53922648\n",
       "poczta 0.9238711 0.6875670 0.17404573 0.7411384 1.0000000 0.7454525 0.57380202\n",
       "ruch   0.6356515 0.5941321 0.13128761 0.6494003 0.7454525 1.0000000 0.53308523\n",
       "ups    0.5345484 0.4391807 0.08168199 0.5392265 0.5738020 0.5330852 1.00000000"
      ]
     },
     "metadata": {},
     "output_type": "display_data"
    }
   ],
   "source": [
    "stats::cor(df_data %>% select('dhl', 'dpd', 'fedex', 'inpost', 'poczta', 'ruch', 'ups'))"
   ]
  },
  {
   "cell_type": "markdown",
   "metadata": {},
   "source": [
    "Potential enhancement of the features."
   ]
  },
  {
   "cell_type": "code",
   "execution_count": 4,
   "metadata": {},
   "outputs": [],
   "source": [
    "df$tot_0_14 <- df$tot_0_14/df$tot\n",
    "df$tot_15_64 <- df$tot_15_64/df$tot\n",
    "df$tot_65__ <- df$tot_65__/df$tot\n",
    "\n",
    "df$male_0_14 <- df$male_0_14/df$tot_male \n",
    "df$male_15_64 <- df$male_15_64/df$tot_male \n",
    "df$male_65__ <- df$male_65__/df$tot_male \n",
    "\n",
    "df$fem_0_14 <- df$fem_0_14/df$tot_fem \n",
    "df$fem_15_64 <- df$fem_15_64/df$tot_fem \n",
    "df$fem_65__ <- df$fem_65__/df$tot_fem "
   ]
  },
  {
   "cell_type": "markdown",
   "metadata": {},
   "source": [
    "### OLS models"
   ]
  },
  {
   "cell_type": "markdown",
   "metadata": {},
   "source": [
    "Based on many tries we decided that below formula is the most appropriate general formula for the given problem. We removed Poczta Polska from logistic companies, we left total density and feminization ratio in case of demographic data and finally we leave all data regarding points of interest."
   ]
  },
  {
   "cell_type": "code",
   "execution_count": 5,
   "metadata": {},
   "outputs": [],
   "source": [
    "formula = inpost ~ dhl + dpd + fedex + ruch + ups +\n",
    "            log(tot + 1) + fem_ratio + \n",
    "            buildings + shops + parks + forests + schools + \n",
    "            railways + cycleways + parkings + crossings + bus_stops"
   ]
  },
  {
   "cell_type": "markdown",
   "metadata": {},
   "source": [
    "We estimate OLS model and we perform its diagnostics. We see that nearly 50% of the variables are significant (2 or more per each category of data). We do not have now high collinearity. However this model did not pass Ramsey and Breusch–Pagan test so the functional form is wrong and we have got heteroscedasticity in the errors. It occurred that at the level of 10% significance our residuals are spatially dependent!"
   ]
  },
  {
   "cell_type": "code",
   "execution_count": 6,
   "metadata": {},
   "outputs": [
    {
     "data": {
      "text/plain": [
       "\n",
       "Call:\n",
       "lm(formula = formula, data = df)\n",
       "\n",
       "Residuals:\n",
       "    Min      1Q  Median      3Q     Max \n",
       "-4.6926 -0.5928 -0.1367  0.3983  5.4677 \n",
       "\n",
       "Coefficients:\n",
       "               Estimate Std. Error t value Pr(>|t|)    \n",
       "(Intercept)  -1.095e-01  1.768e-01  -0.619 0.536066    \n",
       "dhl           2.425e-01  3.221e-02   7.529 1.95e-13 ***\n",
       "dpd           4.465e-02  7.660e-02   0.583 0.560192    \n",
       "fedex         4.634e-01  3.063e-01   1.513 0.130902    \n",
       "ruch          3.813e-01  8.948e-02   4.262 2.37e-05 ***\n",
       "ups           3.945e-01  1.120e-01   3.521 0.000463 ***\n",
       "log(tot + 1)  1.909e-01  3.953e-02   4.830 1.75e-06 ***\n",
       "fem_ratio    -4.774e-03  2.312e-03  -2.065 0.039352 *  \n",
       "buildings    -5.622e-05  9.314e-04  -0.060 0.951885    \n",
       "shops        -3.495e-03  9.629e-02  -0.036 0.971055    \n",
       "parks        -5.541e-02  1.443e-02  -3.839 0.000137 ***\n",
       "forests      -6.320e-03  5.571e-03  -1.134 0.257150    \n",
       "schools       7.159e-02  1.838e-02   3.895 0.000110 ***\n",
       "railways      4.179e-03  3.056e-03   1.368 0.171990    \n",
       "cycleways    -4.947e-04  5.660e-03  -0.087 0.930380    \n",
       "parkings      1.420e-03  3.715e-03   0.382 0.702542    \n",
       "crossings     3.810e-03  2.529e-03   1.507 0.132412    \n",
       "bus_stops     3.841e-01  3.343e-01   1.149 0.251004    \n",
       "---\n",
       "Signif. codes:  0 '***' 0.001 '**' 0.01 '*' 0.05 '.' 0.1 ' ' 1\n",
       "\n",
       "Residual standard error: 1.307 on 583 degrees of freedom\n",
       "Multiple R-squared:  0.6858,\tAdjusted R-squared:  0.6767 \n",
       "F-statistic: 74.87 on 17 and 583 DF,  p-value: < 2.2e-16\n"
      ]
     },
     "metadata": {},
     "output_type": "display_data"
    },
    {
     "data": {
      "text/html": [
       "<dl class=dl-horizontal>\n",
       "\t<dt>dhl</dt>\n",
       "\t\t<dd>3.43074019528456</dd>\n",
       "\t<dt>dpd</dt>\n",
       "\t\t<dd>1.95978922947825</dd>\n",
       "\t<dt>fedex</dt>\n",
       "\t\t<dd>1.0698836897454</dd>\n",
       "\t<dt>ruch</dt>\n",
       "\t\t<dd>2.6144021482233</dd>\n",
       "\t<dt>ups</dt>\n",
       "\t\t<dd>1.66193714988798</dd>\n",
       "\t<dt>log(tot + 1)</dt>\n",
       "\t\t<dd>3.75608916762092</dd>\n",
       "\t<dt>fem_ratio</dt>\n",
       "\t\t<dd>2.22705414708662</dd>\n",
       "\t<dt>buildings</dt>\n",
       "\t\t<dd>1.1403314263769</dd>\n",
       "\t<dt>shops</dt>\n",
       "\t\t<dd>1.76526175900298</dd>\n",
       "\t<dt>parks</dt>\n",
       "\t\t<dd>1.4312130818324</dd>\n",
       "\t<dt>forests</dt>\n",
       "\t\t<dd>1.16414512840716</dd>\n",
       "\t<dt>schools</dt>\n",
       "\t\t<dd>3.2249545670834</dd>\n",
       "\t<dt>railways</dt>\n",
       "\t\t<dd>1.24378280865441</dd>\n",
       "\t<dt>cycleways</dt>\n",
       "\t\t<dd>1.80434409053292</dd>\n",
       "\t<dt>parkings</dt>\n",
       "\t\t<dd>3.54942158012825</dd>\n",
       "\t<dt>crossings</dt>\n",
       "\t\t<dd>4.52584196399078</dd>\n",
       "\t<dt>bus_stops</dt>\n",
       "\t\t<dd>1.03639735191893</dd>\n",
       "</dl>\n"
      ],
      "text/latex": [
       "\\begin{description*}\n",
       "\\item[dhl] 3.43074019528456\n",
       "\\item[dpd] 1.95978922947825\n",
       "\\item[fedex] 1.0698836897454\n",
       "\\item[ruch] 2.6144021482233\n",
       "\\item[ups] 1.66193714988798\n",
       "\\item[log(tot + 1)] 3.75608916762092\n",
       "\\item[fem\\textbackslash{}\\_ratio] 2.22705414708662\n",
       "\\item[buildings] 1.1403314263769\n",
       "\\item[shops] 1.76526175900298\n",
       "\\item[parks] 1.4312130818324\n",
       "\\item[forests] 1.16414512840716\n",
       "\\item[schools] 3.2249545670834\n",
       "\\item[railways] 1.24378280865441\n",
       "\\item[cycleways] 1.80434409053292\n",
       "\\item[parkings] 3.54942158012825\n",
       "\\item[crossings] 4.52584196399078\n",
       "\\item[bus\\textbackslash{}\\_stops] 1.03639735191893\n",
       "\\end{description*}\n"
      ],
      "text/markdown": [
       "dhl\n",
       ":   3.43074019528456dpd\n",
       ":   1.95978922947825fedex\n",
       ":   1.0698836897454ruch\n",
       ":   2.6144021482233ups\n",
       ":   1.66193714988798log(tot + 1)\n",
       ":   3.75608916762092fem_ratio\n",
       ":   2.22705414708662buildings\n",
       ":   1.1403314263769shops\n",
       ":   1.76526175900298parks\n",
       ":   1.4312130818324forests\n",
       ":   1.16414512840716schools\n",
       ":   3.2249545670834railways\n",
       ":   1.24378280865441cycleways\n",
       ":   1.80434409053292parkings\n",
       ":   3.54942158012825crossings\n",
       ":   4.52584196399078bus_stops\n",
       ":   1.03639735191893\n",
       "\n"
      ],
      "text/plain": [
       "         dhl          dpd        fedex         ruch          ups log(tot + 1) \n",
       "    3.430740     1.959789     1.069884     2.614402     1.661937     3.756089 \n",
       "   fem_ratio    buildings        shops        parks      forests      schools \n",
       "    2.227054     1.140331     1.765262     1.431213     1.164145     3.224955 \n",
       "    railways    cycleways     parkings    crossings    bus_stops \n",
       "    1.243783     1.804344     3.549422     4.525842     1.036397 "
      ]
     },
     "metadata": {},
     "output_type": "display_data"
    },
    {
     "data": {
      "text/plain": [
       "\n",
       "\tstudentized Breusch-Pagan test\n",
       "\n",
       "data:  ols\n",
       "BP = 141.3, df = 17, p-value < 2.2e-16\n"
      ]
     },
     "metadata": {},
     "output_type": "display_data"
    },
    {
     "data": {
      "text/plain": [
       "\n",
       "\tRESET test\n",
       "\n",
       "data:  ols\n",
       "RESET = 5.2474, df1 = 17, df2 = 566, p-value = 7.66e-11\n"
      ]
     },
     "metadata": {},
     "output_type": "display_data"
    },
    {
     "data": {
      "text/plain": [
       "\n",
       "\tGlobal Moran I for regression residuals\n",
       "\n",
       "data:  \n",
       "model: lm(formula = formula, data = df)\n",
       "weights: df.cont.listw\n",
       "\n",
       "Moran I statistic standard deviate = 1.6831, p-value = 0.04618\n",
       "alternative hypothesis: greater\n",
       "sample estimates:\n",
       "Observed Moran I      Expectation         Variance \n",
       "    0.0291485488    -0.0063435194     0.0004446764 \n"
      ]
     },
     "metadata": {},
     "output_type": "display_data"
    }
   ],
   "source": [
    "ols <- lm(formula, data=df)\n",
    "summary(ols)\n",
    "car::vif(ols)\n",
    "bptest(ols) \n",
    "resettest(ols, power=2, type=\"regressor\")\n",
    "lm.morantest(ols, df.cont.listw) "
   ]
  },
  {
   "cell_type": "markdown",
   "metadata": {},
   "source": [
    "Then we applied Stepwise Regression procedure to obtain the most significant model starting from the function form defined above."
   ]
  },
  {
   "cell_type": "code",
   "execution_count": 7,
   "metadata": {},
   "outputs": [
    {
     "data": {
      "text/plain": [
       "\n",
       "Call:\n",
       "lm(formula = inpost ~ dhl + schools + log(tot + 1) + ruch + parks + \n",
       "    ups + crossings + fem_ratio + fedex, data = df)\n",
       "\n",
       "Coefficients:\n",
       " (Intercept)           dhl       schools  log(tot + 1)          ruch  \n",
       "   -0.144470      0.258789      0.075243      0.192578      0.379413  \n",
       "       parks           ups     crossings     fem_ratio         fedex  \n",
       "   -0.058957      0.379756      0.004715     -0.004973      0.482499  \n"
      ]
     },
     "metadata": {},
     "output_type": "display_data"
    }
   ],
   "source": [
    "intercept_only <- lm(inpost~1, data=df)\n",
    "all <- lm(formula, data=df)\n",
    "both <- step(intercept_only, direction='both', scope=formula(all), trace=0)\n",
    "both"
   ]
  },
  {
   "cell_type": "markdown",
   "metadata": {},
   "source": [
    "Based on Stepwise Regression we obtained final formula of the model and we are able to run our final OLS with diagnostic part. We see that nearly all variables in the model are significant (of course due to the heteroscedasticity we use biased error variance estimator - we omitted application of the robust matrix due to lack of time). There is no collinearity in the model, but again we did not pass Ramsey and B-P tests. What is more residuals from the model are still spatially dependent. In case of  interpretation we can see that: logistic companies have positive sign as expected; the greater the total density the more InPost pick-up points are stated; fem_ratio results is interesting because its sign is negative (more woman less pick-up points, quite spurious?!), in addition, the negative relationship between parks and pickup points is interesting but maybe intuitive."
   ]
  },
  {
   "cell_type": "code",
   "execution_count": 8,
   "metadata": {},
   "outputs": [
    {
     "data": {
      "text/plain": [
       "\n",
       "Call:\n",
       "lm(formula = formula, data = df)\n",
       "\n",
       "Residuals:\n",
       "    Min      1Q  Median      3Q     Max \n",
       "-4.9841 -0.6204 -0.1485  0.3748  5.7877 \n",
       "\n",
       "Coefficients:\n",
       "              Estimate Std. Error t value Pr(>|t|)    \n",
       "(Intercept)  -0.144470   0.171182  -0.844 0.399034    \n",
       "dhl           0.258789   0.028132   9.199  < 2e-16 ***\n",
       "schools       0.075243   0.015650   4.808 1.94e-06 ***\n",
       "log(tot + 1)  0.192578   0.039205   4.912 1.17e-06 ***\n",
       "ruch          0.379413   0.081565   4.652 4.07e-06 ***\n",
       "parks        -0.058957   0.013272  -4.442 1.06e-05 ***\n",
       "ups           0.379756   0.108958   3.485 0.000528 ***\n",
       "crossings     0.004715   0.002238   2.106 0.035612 *  \n",
       "fem_ratio    -0.004973   0.002298  -2.164 0.030876 *  \n",
       "fedex         0.482499   0.303603   1.589 0.112541    \n",
       "---\n",
       "Signif. codes:  0 '***' 0.001 '**' 0.01 '*' 0.05 '.' 0.1 ' ' 1\n",
       "\n",
       "Residual standard error: 1.303 on 591 degrees of freedom\n",
       "Multiple R-squared:  0.683,\tAdjusted R-squared:  0.6782 \n",
       "F-statistic: 141.5 on 9 and 591 DF,  p-value: < 2.2e-16\n"
      ]
     },
     "metadata": {},
     "output_type": "display_data"
    },
    {
     "name": "stdout",
     "output_type": "stream",
     "text": [
      "AIC 2035.98"
     ]
    },
    {
     "data": {
      "text/html": [
       "<dl class=dl-horizontal>\n",
       "\t<dt>dhl</dt>\n",
       "\t\t<dd>2.63025185365071</dd>\n",
       "\t<dt>schools</dt>\n",
       "\t\t<dd>2.34901560332611</dd>\n",
       "\t<dt>log(tot + 1)</dt>\n",
       "\t\t<dd>3.71236593931246</dd>\n",
       "\t<dt>ruch</dt>\n",
       "\t\t<dd>2.1828715504893</dd>\n",
       "\t<dt>parks</dt>\n",
       "\t\t<dd>1.21605920953507</dd>\n",
       "\t<dt>ups</dt>\n",
       "\t\t<dd>1.57969063002112</dd>\n",
       "\t<dt>crossings</dt>\n",
       "\t\t<dd>3.56330324631023</dd>\n",
       "\t<dt>fem_ratio</dt>\n",
       "\t\t<dd>2.21206367597018</dd>\n",
       "\t<dt>fedex</dt>\n",
       "\t\t<dd>1.05589585603365</dd>\n",
       "</dl>\n"
      ],
      "text/latex": [
       "\\begin{description*}\n",
       "\\item[dhl] 2.63025185365071\n",
       "\\item[schools] 2.34901560332611\n",
       "\\item[log(tot + 1)] 3.71236593931246\n",
       "\\item[ruch] 2.1828715504893\n",
       "\\item[parks] 1.21605920953507\n",
       "\\item[ups] 1.57969063002112\n",
       "\\item[crossings] 3.56330324631023\n",
       "\\item[fem\\textbackslash{}\\_ratio] 2.21206367597018\n",
       "\\item[fedex] 1.05589585603365\n",
       "\\end{description*}\n"
      ],
      "text/markdown": [
       "dhl\n",
       ":   2.63025185365071schools\n",
       ":   2.34901560332611log(tot + 1)\n",
       ":   3.71236593931246ruch\n",
       ":   2.1828715504893parks\n",
       ":   1.21605920953507ups\n",
       ":   1.57969063002112crossings\n",
       ":   3.56330324631023fem_ratio\n",
       ":   2.21206367597018fedex\n",
       ":   1.05589585603365\n",
       "\n"
      ],
      "text/plain": [
       "         dhl      schools log(tot + 1)         ruch        parks          ups \n",
       "    2.630252     2.349016     3.712366     2.182872     1.216059     1.579691 \n",
       "   crossings    fem_ratio        fedex \n",
       "    3.563303     2.212064     1.055896 "
      ]
     },
     "metadata": {},
     "output_type": "display_data"
    },
    {
     "data": {
      "text/plain": [
       "\n",
       "\tstudentized Breusch-Pagan test\n",
       "\n",
       "data:  ols\n",
       "BP = 133.08, df = 9, p-value < 2.2e-16\n"
      ]
     },
     "metadata": {},
     "output_type": "display_data"
    },
    {
     "data": {
      "text/plain": [
       "\n",
       "\tRESET test\n",
       "\n",
       "data:  ols\n",
       "RESET = 6.8392, df1 = 9, df2 = 582, p-value = 2.223e-09\n"
      ]
     },
     "metadata": {},
     "output_type": "display_data"
    },
    {
     "data": {
      "text/plain": [
       "\n",
       "\tGlobal Moran I for regression residuals\n",
       "\n",
       "data:  \n",
       "model: lm(formula = formula, data = df)\n",
       "weights: df.cont.listw\n",
       "\n",
       "Moran I statistic standard deviate = 1.4688, p-value = 0.07094\n",
       "alternative hypothesis: greater\n",
       "sample estimates:\n",
       "Observed Moran I      Expectation         Variance \n",
       "    0.0268763136    -0.0042751978     0.0004497972 \n"
      ]
     },
     "metadata": {},
     "output_type": "display_data"
    }
   ],
   "source": [
    "formula = inpost ~ dhl + schools + log(tot + 1) + ruch + parks + \n",
    "    ups + crossings + fem_ratio + fedex\n",
    "ols <- lm(formula, data=df)\n",
    "summary(ols)\n",
    "cat(\"AIC\", AIC(ols))\n",
    "car::vif(ols)\n",
    "bptest(ols) \n",
    "resettest(ols, power=2, type=\"regressor\")\n",
    "lm.morantest(ols, df.cont.listw) "
   ]
  },
  {
   "cell_type": "markdown",
   "metadata": {},
   "source": [
    "### Spatial models with 3, 2, or 1 spatial components"
   ]
  },
  {
   "cell_type": "markdown",
   "metadata": {},
   "source": [
    "Now we moved to the estimation of the spatial models. In the first step we estimate all possible models due to spatial terms and then we analyze which model is reasonable (based on number of significant variables, significant spatial terms and AIC+BIC)."
   ]
  },
  {
   "cell_type": "code",
   "execution_count": 9,
   "metadata": {},
   "outputs": [
    {
     "data": {
      "text/plain": [
       "\n",
       "Call:sacsarlm(formula = formula, data = df, listw = df.cont.listw, \n",
       "    type = \"sacmixed\", method = \"LU\")\n",
       "\n",
       "Residuals:\n",
       "     Min       1Q   Median       3Q      Max \n",
       "-4.65144 -0.59387 -0.10078  0.39765  5.29613 \n",
       "\n",
       "Type: sacmixed \n",
       "Coefficients: (numerical Hessian approximate standard errors) \n",
       "                   Estimate Std. Error z value  Pr(>|z|)\n",
       "(Intercept)      -0.3096406  0.3759817 -0.8236  0.410194\n",
       "dhl               0.2228032  0.0321699  6.9258 4.335e-12\n",
       "schools           0.0805577  0.0174675  4.6119 3.991e-06\n",
       "log(tot + 1)      0.1356923  0.0439068  3.0905  0.001998\n",
       "ruch              0.4126336  0.0829722  4.9732 6.587e-07\n",
       "parks            -0.0388209  0.0159319 -2.4367  0.014823\n",
       "ups               0.3522209  0.1076515  3.2719  0.001068\n",
       "crossings         0.0067908  0.0026043  2.6076  0.009119\n",
       "fem_ratio        -0.0038325  0.0023313 -1.6440  0.100181\n",
       "fedex             0.6562935  0.3025839  2.1690  0.030085\n",
       "lag.dhl           0.1202994  0.1140963  1.0544  0.291715\n",
       "lag.schools      -0.0409694  0.0355450 -1.1526  0.249072\n",
       "lag.log(tot + 1)  0.1711298  0.1043324  1.6402  0.100956\n",
       "lag.ruch         -0.5786937  0.2098404 -2.7578  0.005820\n",
       "lag.parks        -0.0495603  0.0343919 -1.4410  0.149572\n",
       "lag.ups          -0.1687182  0.2763260 -0.6106  0.541480\n",
       "lag.crossings    -0.0065111  0.0046852 -1.3897  0.164615\n",
       "lag.fem_ratio    -0.0063947  0.0054941 -1.1639  0.244458\n",
       "lag.fedex        -0.1503513  0.9066266 -0.1658  0.868286\n",
       "\n",
       "Rho: 0.29692\n",
       "Approximate (numerical Hessian) standard error: 0.23463\n",
       "    z-value: 1.2654, p-value: 0.20571\n",
       "Lambda: -0.30141\n",
       "Approximate (numerical Hessian) standard error: 0.30838\n",
       "    z-value: -0.97738, p-value: 0.32838\n",
       "\n",
       "LR test value: 27.493, p-value: 0.0038685\n",
       "\n",
       "Log likelihood: -993.2434 for sacmixed model\n",
       "ML residual variance (sigma squared): 1.5565, (sigma: 1.2476)\n",
       "Number of observations: 601 \n",
       "Number of parameters estimated: 22 \n",
       "AIC: 2030.5, (AIC for lm: 2036)\n"
      ]
     },
     "metadata": {},
     "output_type": "display_data"
    }
   ],
   "source": [
    "GNS <- sacsarlm(formula, data=df, listw=df.cont.listw, type=\"sacmixed\", method=\"LU\")\n",
    "summary(GNS)"
   ]
  },
  {
   "cell_type": "code",
   "execution_count": 10,
   "metadata": {},
   "outputs": [
    {
     "data": {
      "text/plain": [
       "\n",
       "Call:sacsarlm(formula = formula, data = df, listw = df.cont.listw)\n",
       "\n",
       "Residuals:\n",
       "     Min       1Q   Median       3Q      Max \n",
       "-4.77462 -0.60148 -0.15324  0.41148  5.76569 \n",
       "\n",
       "Type: sac \n",
       "Coefficients: (asymptotic standard errors) \n",
       "               Estimate Std. Error z value  Pr(>|z|)\n",
       "(Intercept)  -0.1721734  0.1729029 -0.9958 0.3193566\n",
       "dhl           0.2477643  0.0287298  8.6239 < 2.2e-16\n",
       "schools       0.0723287  0.0158275  4.5698 4.881e-06\n",
       "log(tot + 1)  0.1809632  0.0391950  4.6170 3.893e-06\n",
       "ruch          0.3864329  0.0807050  4.7882 1.683e-06\n",
       "parks        -0.0596580  0.0133850 -4.4571 8.308e-06\n",
       "ups           0.3753236  0.1079086  3.4782 0.0005049\n",
       "crossings     0.0041734  0.0023173  1.8010 0.0717103\n",
       "fem_ratio    -0.0047245  0.0022738 -2.0778 0.0377256\n",
       "fedex         0.4830808  0.2999343  1.6106 0.1072621\n",
       "\n",
       "Rho: 0.074328\n",
       "Asymptotic standard error: 0.064193\n",
       "    z-value: 1.1579, p-value: 0.24691\n",
       "Lambda: 0.024735\n",
       "Asymptotic standard error: 0.10089\n",
       "    z-value: 0.24518, p-value: 0.80632\n",
       "\n",
       "LR test value: 2.8919, p-value: 0.23552\n",
       "\n",
       "Log likelihood: -1005.544 for sac model\n",
       "ML residual variance (sigma squared): 1.6611, (sigma: 1.2889)\n",
       "Number of observations: 601 \n",
       "Number of parameters estimated: 13 \n",
       "AIC: 2037.1, (AIC for lm: 2036)\n"
      ]
     },
     "metadata": {},
     "output_type": "display_data"
    }
   ],
   "source": [
    "SAC <- sacsarlm(formula, data=df, listw=df.cont.listw)\n",
    "summary(SAC)"
   ]
  },
  {
   "cell_type": "code",
   "execution_count": 11,
   "metadata": {},
   "outputs": [
    {
     "data": {
      "text/plain": [
       "\n",
       "Call:errorsarlm(formula = formula, data = df, listw = df.cont.listw, \n",
       "    etype = \"mixed\")\n",
       "\n",
       "Residuals:\n",
       "      Min        1Q    Median        3Q       Max \n",
       "-4.757531 -0.597547 -0.095155  0.389789  5.263433 \n",
       "\n",
       "Type: error \n",
       "Coefficients: (asymptotic standard errors) \n",
       "                   Estimate Std. Error z value  Pr(>|z|)\n",
       "(Intercept)      -0.4234932  0.4373072 -0.9684  0.332839\n",
       "dhl               0.2223463  0.0310939  7.1508 8.629e-13\n",
       "schools           0.0800192  0.0169938  4.7087 2.493e-06\n",
       "log(tot + 1)      0.1461070  0.0423166  3.4527  0.000555\n",
       "ruch              0.3927065  0.0797844  4.9221 8.562e-07\n",
       "parks            -0.0423316  0.0153067 -2.7656  0.005683\n",
       "ups               0.3401743  0.1063629  3.1982  0.001383\n",
       "crossings         0.0068412  0.0025220  2.7126  0.006676\n",
       "fem_ratio        -0.0043878  0.0022628 -1.9391  0.052495\n",
       "fedex             0.6458184  0.3077289  2.0987  0.035847\n",
       "lag.dhl           0.2297732  0.0727347  3.1591  0.001583\n",
       "lag.schools      -0.0208795  0.0358180 -0.5829  0.559939\n",
       "lag.log(tot + 1)  0.2490517  0.0863627  2.8838  0.003929\n",
       "lag.ruch         -0.4778735  0.2308265 -2.0703  0.038427\n",
       "lag.parks        -0.0753979  0.0289574 -2.6038  0.009221\n",
       "lag.ups          -0.0353482  0.2830698 -0.1249  0.900623\n",
       "lag.crossings    -0.0068383  0.0051760 -1.3212  0.186450\n",
       "lag.fem_ratio    -0.0081216  0.0058392 -1.3909  0.164264\n",
       "lag.fedex         0.1775282  0.9899517  0.1793  0.857678\n",
       "\n",
       "Lambda: 0.042353, LR test value: 0.28328, p-value: 0.59456\n",
       "Asymptotic standard error: 0.076145\n",
       "    z-value: 0.55622, p-value: 0.57806\n",
       "Wald statistic: 0.30938, p-value: 0.57806\n",
       "\n",
       "Log likelihood: -993.5147 for error model\n",
       "ML residual variance (sigma squared): 1.5969, (sigma: 1.2637)\n",
       "Number of observations: 601 \n",
       "Number of parameters estimated: 21 \n",
       "AIC: 2029, (AIC for lm: 2027.3)\n"
      ]
     },
     "metadata": {},
     "output_type": "display_data"
    }
   ],
   "source": [
    "SDM <- errorsarlm(formula, data=df, listw=df.cont.listw, etype=\"mixed\")\n",
    "summary(SDM)"
   ]
  },
  {
   "cell_type": "code",
   "execution_count": 12,
   "metadata": {},
   "outputs": [
    {
     "data": {
      "text/plain": [
       "\n",
       "Call:errorsarlm(formula = formula, data = df, listw = df.cont.listw, \n",
       "    etype = \"emixed\")\n",
       "\n",
       "Residuals:\n",
       "      Min        1Q    Median        3Q       Max \n",
       "-4.757531 -0.597547 -0.095155  0.389789  5.263433 \n",
       "\n",
       "Type: error \n",
       "Coefficients: (asymptotic standard errors) \n",
       "                   Estimate Std. Error z value  Pr(>|z|)\n",
       "(Intercept)      -0.4234932  0.4373072 -0.9684  0.332839\n",
       "dhl               0.2223463  0.0310939  7.1508 8.629e-13\n",
       "schools           0.0800192  0.0169938  4.7087 2.493e-06\n",
       "log(tot + 1)      0.1461070  0.0423166  3.4527  0.000555\n",
       "ruch              0.3927065  0.0797844  4.9221 8.562e-07\n",
       "parks            -0.0423316  0.0153067 -2.7656  0.005683\n",
       "ups               0.3401743  0.1063629  3.1982  0.001383\n",
       "crossings         0.0068412  0.0025220  2.7126  0.006676\n",
       "fem_ratio        -0.0043878  0.0022628 -1.9391  0.052495\n",
       "fedex             0.6458184  0.3077289  2.0987  0.035847\n",
       "lag.dhl           0.2297732  0.0727347  3.1591  0.001583\n",
       "lag.schools      -0.0208795  0.0358180 -0.5829  0.559939\n",
       "lag.log(tot + 1)  0.2490517  0.0863627  2.8838  0.003929\n",
       "lag.ruch         -0.4778735  0.2308265 -2.0703  0.038427\n",
       "lag.parks        -0.0753979  0.0289574 -2.6038  0.009221\n",
       "lag.ups          -0.0353482  0.2830698 -0.1249  0.900623\n",
       "lag.crossings    -0.0068383  0.0051760 -1.3212  0.186450\n",
       "lag.fem_ratio    -0.0081216  0.0058392 -1.3909  0.164264\n",
       "lag.fedex         0.1775282  0.9899517  0.1793  0.857678\n",
       "\n",
       "Lambda: 0.042353, LR test value: 0.28328, p-value: 0.59456\n",
       "Asymptotic standard error: 0.076145\n",
       "    z-value: 0.55622, p-value: 0.57806\n",
       "Wald statistic: 0.30938, p-value: 0.57806\n",
       "\n",
       "Log likelihood: -993.5147 for error model\n",
       "ML residual variance (sigma squared): 1.5969, (sigma: 1.2637)\n",
       "Number of observations: 601 \n",
       "Number of parameters estimated: 21 \n",
       "AIC: 2029, (AIC for lm: 2027.3)\n"
      ]
     },
     "metadata": {},
     "output_type": "display_data"
    }
   ],
   "source": [
    "SDEM <- errorsarlm(formula, data=df, listw=df.cont.listw, etype=\"emixed\")\n",
    "summary(SDEM)"
   ]
  },
  {
   "cell_type": "code",
   "execution_count": 13,
   "metadata": {},
   "outputs": [
    {
     "data": {
      "text/plain": [
       "\n",
       "Call:errorsarlm(formula = formula, data = df, listw = df.cont.listw)\n",
       "\n",
       "Residuals:\n",
       "     Min       1Q   Median       3Q      Max \n",
       "-4.81062 -0.60202 -0.18188  0.39096  5.84370 \n",
       "\n",
       "Type: error \n",
       "Coefficients: (asymptotic standard errors) \n",
       "               Estimate Std. Error z value  Pr(>|z|)\n",
       "(Intercept)  -0.1301997  0.1734180 -0.7508  0.452782\n",
       "dhl           0.2530099  0.0283798  8.9151 < 2.2e-16\n",
       "schools       0.0758115  0.0158034  4.7972 1.609e-06\n",
       "log(tot + 1)  0.1823923  0.0394561  4.6227 3.788e-06\n",
       "ruch          0.3885116  0.0808737  4.8039 1.556e-06\n",
       "parks        -0.0560362  0.0134822 -4.1563 3.234e-05\n",
       "ups           0.3819184  0.1078447  3.5414  0.000398\n",
       "crossings     0.0050275  0.0022632  2.2214  0.026325\n",
       "fem_ratio    -0.0046251  0.0022768 -2.0314  0.042218\n",
       "fedex         0.4883269  0.2992225  1.6320  0.102682\n",
       "\n",
       "Lambda: 0.097709, LR test value: 1.5928, p-value: 0.20693\n",
       "Asymptotic standard error: 0.074295\n",
       "    z-value: 1.3152, p-value: 0.18846\n",
       "Wald statistic: 1.7296, p-value: 0.18846\n",
       "\n",
       "Log likelihood: -1006.194 for error model\n",
       "ML residual variance (sigma squared): 1.6639, (sigma: 1.2899)\n",
       "Number of observations: 601 \n",
       "Number of parameters estimated: 12 \n",
       "AIC: 2036.4, (AIC for lm: 2036)\n"
      ]
     },
     "metadata": {},
     "output_type": "display_data"
    }
   ],
   "source": [
    "SEM <- errorsarlm(formula, data=df, listw=df.cont.listw)\n",
    "summary(SEM)"
   ]
  },
  {
   "cell_type": "code",
   "execution_count": 20,
   "metadata": {},
   "outputs": [
    {
     "data": {
      "text/plain": [
       "\n",
       "Call:lagsarlm(formula = formula, data = df, listw = df.cont.listw)\n",
       "\n",
       "Residuals:\n",
       "     Min       1Q   Median       3Q      Max \n",
       "-4.79287 -0.60136 -0.15215  0.41224  5.74634 \n",
       "\n",
       "Type: lag \n",
       "Coefficients: (asymptotic standard errors) \n",
       "               Estimate Std. Error z value  Pr(>|z|)\n",
       "(Intercept)  -0.1786277  0.1706989 -1.0464 0.2953537\n",
       "dhl           0.2478015  0.0282846  8.7610 < 2.2e-16\n",
       "schools       0.0717215  0.0156378  4.5864 4.509e-06\n",
       "log(tot + 1)  0.1821701  0.0389206  4.6806 2.861e-06\n",
       "ruch          0.3845874  0.0806541  4.7684 1.857e-06\n",
       "parks        -0.0605122  0.0132188 -4.5778 4.700e-06\n",
       "ups           0.3736604  0.1078399  3.4650 0.0005303\n",
       "crossings     0.0040075  0.0022673  1.7675 0.0771456\n",
       "fem_ratio    -0.0047848  0.0022728 -2.1052 0.0352740\n",
       "fedex         0.4814659  0.3002205  1.6037 0.1087785\n",
       "\n",
       "Rho: 0.084055, LR test value: 2.8325, p-value: 0.092373\n",
       "Asymptotic standard error: 0.048482\n",
       "    z-value: 1.7337, p-value: 0.082964\n",
       "Wald statistic: 3.0059, p-value: 0.082964\n",
       "\n",
       "Log likelihood: -1005.574 for lag model\n",
       "ML residual variance (sigma squared): 1.6611, (sigma: 1.2888)\n",
       "Number of observations: 601 \n",
       "Number of parameters estimated: 12 \n",
       "AIC: 2035.1, (AIC for lm: 2036)\n",
       "LM test for residual autocorrelation\n",
       "test value: 0.059256, p-value: 0.80768\n"
      ]
     },
     "metadata": {},
     "output_type": "display_data"
    }
   ],
   "source": [
    "SAR <- lagsarlm(formula, data=df, listw=df.cont.listw)\n",
    "summary(SAR)"
   ]
  },
  {
   "cell_type": "code",
   "execution_count": 15,
   "metadata": {},
   "outputs": [
    {
     "data": {
      "text/plain": [
       "\n",
       "Call:\n",
       "lm(formula = formula(paste(\"y ~ \", paste(colnames(x)[-1], collapse = \"+\"))), \n",
       "    data = as.data.frame(x), weights = weights)\n",
       "\n",
       "Residuals:\n",
       "    Min      1Q  Median      3Q     Max \n",
       "-4.8073 -0.5970 -0.0874  0.3925  5.2600 \n",
       "\n",
       "Coefficients:\n",
       "                  Estimate Std. Error t value Pr(>|t|)    \n",
       "(Intercept)      -0.419836   0.434336  -0.967 0.334137    \n",
       "dhl               0.223368   0.031732   7.039 5.47e-12 ***\n",
       "schools           0.080110   0.017349   4.618 4.78e-06 ***\n",
       "log.tot...1.      0.146202   0.043149   3.388 0.000751 ***\n",
       "ruch              0.392732   0.081145   4.840 1.67e-06 ***\n",
       "parks            -0.041995   0.015633  -2.686 0.007431 ** \n",
       "ups               0.340498   0.108101   3.150 0.001717 ** \n",
       "crossings         0.006810   0.002574   2.645 0.008378 ** \n",
       "fem_ratio        -0.004387   0.002300  -1.907 0.056960 .  \n",
       "fedex             0.647918   0.311972   2.077 0.038254 *  \n",
       "lag.dhl           0.226797   0.073165   3.100 0.002030 ** \n",
       "lag.schools      -0.021032   0.035888  -0.586 0.558083    \n",
       "lag.log.tot...1.  0.252093   0.086542   2.913 0.003718 ** \n",
       "lag.ruch         -0.496170   0.230863  -2.149 0.032031 *  \n",
       "lag.parks        -0.075354   0.029070  -2.592 0.009777 ** \n",
       "lag.ups          -0.039089   0.283833  -0.138 0.890509    \n",
       "lag.crossings    -0.006459   0.005184  -1.246 0.213252    \n",
       "lag.fem_ratio    -0.008335   0.005853  -1.424 0.154978    \n",
       "lag.fedex         0.135883   0.995723   0.136 0.891500    \n",
       "---\n",
       "Signif. codes:  0 '***' 0.001 '**' 0.01 '*' 0.05 '.' 0.1 ' ' 1\n",
       "\n",
       "Residual standard error: 1.285 on 582 degrees of freedom\n",
       "Multiple R-squared:  0.6968,\tAdjusted R-squared:  0.6874 \n",
       "F-statistic: 74.31 on 18 and 582 DF,  p-value: < 2.2e-16\n"
      ]
     },
     "metadata": {},
     "output_type": "display_data"
    }
   ],
   "source": [
    "SLX <- lmSLX(formula, data=df, listw=df.cont.listw)\n",
    "summary(SLX)"
   ]
  },
  {
   "cell_type": "markdown",
   "metadata": {},
   "source": [
    "Based on the above outputs we can clearly state that the best spatial model is **SAR (Spatial Lag Model)** - significant spatial terms and many significant variables."
   ]
  },
  {
   "cell_type": "markdown",
   "metadata": {},
   "source": [
    "Then we compare models BIC and AIC. We can clearly see that the best model in comparison to the OLS is SAR, however its BIC is greater that OLS BIC. In case of AIC which is more important the best model is SLX. However based on its output we can claim that SAR is still better in case of econometric inference."
   ]
  },
  {
   "cell_type": "code",
   "execution_count": 30,
   "metadata": {},
   "outputs": [
    {
     "name": "stdout",
     "output_type": "stream",
     "text": [
      "ols 2084.365 \n",
      "GNS 2127.256 \n",
      "SAC 2094.27 \n",
      "SDM 2121.4 \n",
      "SDEM 2121.4 \n",
      "SAR 2087.931 \n",
      "SLX 2115.285 \n",
      "SEM 2089.17 \n",
      "\n",
      "ols 2035.98 \n",
      "GNS 2030.487 \n",
      "SAC 2037.088 \n",
      "SDM 2029.029 \n",
      "SDEM 2029.029 \n",
      "SAR 2035.147 \n",
      "SLX 2027.313 \n",
      "SEM 2036.387 \n"
     ]
    }
   ],
   "source": [
    "cat(\"ols\",BIC(ols) ,'\\n')\n",
    "cat(\"GNS\",BIC(GNS),'\\n')\n",
    "cat(\"SAC\",BIC(SAC),'\\n')\n",
    "cat(\"SDM\",BIC(SDM),'\\n')\n",
    "cat(\"SDEM\",BIC(SDEM),'\\n')\n",
    "cat(\"SAR\",BIC(SAR),'\\n')\n",
    "cat(\"SLX\",BIC(SLX),'\\n')\n",
    "cat(\"SEM\",BIC(SEM),'\\n')\n",
    "cat('\\n')\n",
    "cat(\"ols\",AIC(ols) ,'\\n')\n",
    "cat(\"GNS\",AIC(GNS),'\\n')\n",
    "cat(\"SAC\",AIC(SAC),'\\n')\n",
    "cat(\"SDM\",AIC(SDM),'\\n')\n",
    "cat(\"SDEM\",AIC(SDEM),'\\n')\n",
    "cat(\"SAR\",AIC(SAR),'\\n')\n",
    "cat(\"SLX\",AIC(SLX),'\\n')\n",
    "cat(\"SEM\",AIC(SEM),'\\n')"
   ]
  },
  {
   "cell_type": "markdown",
   "metadata": {},
   "source": [
    "Now we wanted to find better functional form for the SAR model in the general to specific procedure (LSA) done by hand, however we were not able to improve this model (our previous functional form was the best one). Residuals in the model are not autocorrelated."
   ]
  },
  {
   "cell_type": "code",
   "execution_count": 27,
   "metadata": {},
   "outputs": [
    {
     "data": {
      "text/plain": [
       "\n",
       "Call:\n",
       "lagsarlm(formula = formula_gen_to_specifc, data = df, listw = df.cont.listw)\n",
       "\n",
       "Residuals:\n",
       "     Min       1Q   Median       3Q      Max \n",
       "-4.79287 -0.60136 -0.15215  0.41224  5.74634 \n",
       "\n",
       "Type: lag \n",
       "Coefficients: (asymptotic standard errors) \n",
       "               Estimate Std. Error z value  Pr(>|z|)\n",
       "(Intercept)  -0.1786277  0.1706989 -1.0464 0.2953537\n",
       "dhl           0.2478015  0.0282846  8.7610 < 2.2e-16\n",
       "fedex         0.4814659  0.3002205  1.6037 0.1087785\n",
       "ruch          0.3845874  0.0806541  4.7684 1.857e-06\n",
       "ups           0.3736604  0.1078399  3.4650 0.0005303\n",
       "log(tot + 1)  0.1821701  0.0389206  4.6806 2.861e-06\n",
       "fem_ratio    -0.0047848  0.0022728 -2.1052 0.0352740\n",
       "parks        -0.0605122  0.0132188 -4.5778 4.700e-06\n",
       "schools       0.0717215  0.0156378  4.5864 4.509e-06\n",
       "crossings     0.0040075  0.0022673  1.7675 0.0771456\n",
       "\n",
       "Rho: 0.084055, LR test value: 2.8325, p-value: 0.092373\n",
       "Asymptotic standard error: 0.048482\n",
       "    z-value: 1.7337, p-value: 0.082964\n",
       "Wald statistic: 3.0059, p-value: 0.082964\n",
       "\n",
       "Log likelihood: -1005.574 for lag model\n",
       "ML residual variance (sigma squared): 1.6611, (sigma: 1.2888)\n",
       "Number of observations: 601 \n",
       "Number of parameters estimated: 12 \n",
       "AIC: 2035.1, (AIC for lm: 2036)\n",
       "LM test for residual autocorrelation\n",
       "test value: 0.059256, p-value: 0.80768\n"
      ]
     },
     "metadata": {},
     "output_type": "display_data"
    }
   ],
   "source": [
    "formula_max = inpost ~ dhl + dpd + fedex + ruch + ups +\n",
    "            log(tot + 1) + fem_ratio + \n",
    "            buildings + shops + parks + forests + schools + \n",
    "            railways + cycleways + parkings + crossings + bus_stops\n",
    "\n",
    "formula_gen_to_specifc = inpost ~ dhl + fedex + ruch + ups +\n",
    "            log(tot + 1) + fem_ratio + \n",
    "            parks + schools + \n",
    "            crossings\n",
    "\n",
    "SAR_g2s<- lagsarlm(formula_gen_to_specifc, data=df, listw=df.cont.listw)\n",
    "summary(SAR_g2s) #the same as previously!"
   ]
  },
  {
   "cell_type": "markdown",
   "metadata": {},
   "source": [
    "### Direct and indirect impacts"
   ]
  },
  {
   "cell_type": "markdown",
   "metadata": {},
   "source": [
    "Now we calculate direct and indirect impacts of the model. And we finally analyze its output.\n",
    "\n",
    "Let's start with logistic companies variables. We see that either in case of direct and indirect impacts all parameters for logistic companies (apart indirect Fedex) are significant (at least around 10%). Internalization effects are greater than spill-over, but still spill-over effects are significant. In case of demographic variables we claim that total population density is important variable for the model in case of direct and indirect impact (has positive sign). Feminization ratio in case of direct impact is also significant and has negative sign (it is quite non intuitive). In case of point of interest data we see that number of schools, number of parks and number of crossings are significant in the model (crossings spillover effect is not relevant) with respectively positive, negative and positive sign. We claim that it might be intuitive."
   ]
  },
  {
   "cell_type": "code",
   "execution_count": 31,
   "metadata": {},
   "outputs": [
    {
     "data": {
      "text/plain": [
       "Impact measures (lag, trace):\n",
       "                   Direct      Indirect        Total\n",
       "dhl           0.248049502  0.0224925064  0.270542008\n",
       "schools       0.071793286  0.0065100350  0.078303321\n",
       "log(tot + 1)  0.182352374  0.0165352557  0.198887629\n",
       "ruch          0.384972296  0.0349083218  0.419880618\n",
       "parks        -0.060572761 -0.0054925860 -0.066065347\n",
       "ups           0.374034348  0.0339164961  0.407950844\n",
       "crossings     0.004011499  0.0003637527  0.004375252\n",
       "fem_ratio    -0.004789587 -0.0004343077 -0.005223894\n",
       "fedex         0.481947745  0.0437018122  0.525649557\n",
       "========================================================\n",
       "Simulation results ( variance matrix):\n",
       "========================================================\n",
       "Simulated standard errors\n",
       "                  Direct     Indirect       Total\n",
       "dhl          0.024577792 0.0129272070 0.028335501\n",
       "schools      0.015146244 0.0039862622 0.016354111\n",
       "log(tot + 1) 0.040420150 0.0102503478 0.044770293\n",
       "ruch         0.088578780 0.0225102250 0.099527465\n",
       "parks        0.012891407 0.0034663042 0.014522086\n",
       "ups          0.113698964 0.0211674881 0.123919020\n",
       "crossings    0.002284907 0.0002921432 0.002466855\n",
       "fem_ratio    0.002397949 0.0003680842 0.002656685\n",
       "fedex        0.301055300 0.0459967224 0.336405595\n",
       "\n",
       "Simulated z-values:\n",
       "                Direct  Indirect     Total\n",
       "dhl           9.966821  1.774916  9.454823\n",
       "schools       4.912906  1.728297  4.971320\n",
       "log(tot + 1)  4.403271  1.630457  4.348724\n",
       "ruch          4.345967  1.613528  4.232815\n",
       "parks        -4.649420 -1.643065 -4.519525\n",
       "ups           3.300633  1.657163  3.311489\n",
       "crossings     1.757779  1.229201  1.773702\n",
       "fem_ratio    -1.918089 -1.203378 -1.898014\n",
       "fedex         1.596473  1.029195  1.569434\n",
       "\n",
       "Simulated p-values:\n",
       "             Direct     Indirect Total     \n",
       "dhl          < 2.22e-16 0.075912 < 2.22e-16\n",
       "schools      8.9736e-07 0.083935 6.6498e-07\n",
       "log(tot + 1) 1.0663e-05 0.103005 1.3693e-05\n",
       "ruch         1.3866e-05 0.106630 2.3078e-05\n",
       "parks        3.3287e-06 0.100369 6.1978e-06\n",
       "ups          0.00096467 0.097487 0.00092801\n",
       "crossings    0.07878510 0.218996 0.07611251\n",
       "fem_ratio    0.05509969 0.228830 0.05769430\n",
       "fedex        0.11038315 0.303388 0.11654685"
      ]
     },
     "metadata": {},
     "output_type": "display_data"
    }
   ],
   "source": [
    "# distribution of total impact \n",
    "# vector of traces of powers of a spatial weights matrix\n",
    "# converting censored listw to CsparseMatrix form\n",
    "W.c <- as(as_dgRMatrix_listw(df.cont.listw), \"CsparseMatrix\") \n",
    "# the default values for the number of powers is 30\n",
    "trMat<-trW(W.c, type=\"mult\") \n",
    "\n",
    "SAR_imp<-impacts(SAR, tr=trMat, R=200)\n",
    "summary(SAR_imp, zstats=TRUE, short=TRUE)"
   ]
  },
  {
   "cell_type": "markdown",
   "metadata": {},
   "source": [
    "## Models for Cracow"
   ]
  },
  {
   "cell_type": "markdown",
   "metadata": {},
   "source": [
    "For the Cracow we applied the same procedure as for Warsaw, so we will omit here additional comments and focus only on the results."
   ]
  },
  {
   "cell_type": "markdown",
   "metadata": {},
   "source": [
    "### Data loading, spatial transformations and additional feature engineering"
   ]
  },
  {
   "cell_type": "code",
   "execution_count": 36,
   "metadata": {},
   "outputs": [
    {
     "name": "stdout",
     "output_type": "stream",
     "text": [
      "OGR data source with driver: ESRI Shapefile \n",
      "Source: \"D:\\spatial_econometric_project\\datasets\\preprocessed_data\\df_krakow.shp\", layer: \"df_krakow\"\n",
      "with 396 features\n",
      "It has 31 fields\n",
      "Integer64 fields read as strings:  grid_index \n"
     ]
    }
   ],
   "source": [
    "df <- readOGR(\"../datasets/preprocessed_data/df_krakow.shp\")\n",
    "df_data <- read.csv(\"../datasets/preprocessed_data/df_krakow.csv\")\n",
    "df <- spTransform(df, CRS(\"+proj=longlat +ellps=GRS80 +no_defs\"))\n",
    "df.cont.nb <- poly2nb(as(df, \"SpatialPolygons\"), queen=TRUE) #QUEEN but ROOK was tried!\n",
    "df.cont.listw <- nb2listw(df.cont.nb, style=\"W\")"
   ]
  },
  {
   "cell_type": "code",
   "execution_count": 37,
   "metadata": {},
   "outputs": [
    {
     "name": "stdout",
     "output_type": "stream",
     "text": [
      "grid_index geometry dhl dpd fedex inpost poczta ruch ups tot tot_0_14 tot_15_64 tot_65__ tot_male tot_fem male_0_14 male_15_64 male_65__ fem_0_14 fem_15_64 fem_65__ fem_ratio buildings shops parks forests schools railways cycleways parkings crossings bus_stops"
     ]
    }
   ],
   "source": [
    "cat(colnames(df_data))"
   ]
  },
  {
   "cell_type": "code",
   "execution_count": 38,
   "metadata": {},
   "outputs": [
    {
     "data": {
      "text/html": [
       "<table>\n",
       "<thead><tr><th></th><th scope=col>dhl</th><th scope=col>dpd</th><th scope=col>fedex</th><th scope=col>inpost</th><th scope=col>poczta</th><th scope=col>ruch</th><th scope=col>ups</th></tr></thead>\n",
       "<tbody>\n",
       "\t<tr><th scope=row>dhl</th><td>1.0000000 </td><td>0.6382852 </td><td>0.36539944</td><td>0.6853909 </td><td>0.9543118 </td><td>0.7208735 </td><td>0.59141000</td></tr>\n",
       "\t<tr><th scope=row>dpd</th><td>0.6382852 </td><td>1.0000000 </td><td>0.15220265</td><td>0.5960094 </td><td>0.6589668 </td><td>0.5101946 </td><td>0.48551713</td></tr>\n",
       "\t<tr><th scope=row>fedex</th><td>0.3653994 </td><td>0.1522026 </td><td>1.00000000</td><td>0.2529419 </td><td>0.2965195 </td><td>0.2026232 </td><td>0.06370109</td></tr>\n",
       "\t<tr><th scope=row>inpost</th><td>0.6853909 </td><td>0.5960094 </td><td>0.25294189</td><td>1.0000000 </td><td>0.6777870 </td><td>0.5782590 </td><td>0.51096506</td></tr>\n",
       "\t<tr><th scope=row>poczta</th><td>0.9543118 </td><td>0.6589668 </td><td>0.29651949</td><td>0.6777870 </td><td>1.0000000 </td><td>0.7762247 </td><td>0.63031294</td></tr>\n",
       "\t<tr><th scope=row>ruch</th><td>0.7208735 </td><td>0.5101946 </td><td>0.20262317</td><td>0.5782590 </td><td>0.7762247 </td><td>1.0000000 </td><td>0.59953072</td></tr>\n",
       "\t<tr><th scope=row>ups</th><td>0.5914100 </td><td>0.4855171 </td><td>0.06370109</td><td>0.5109651 </td><td>0.6303129 </td><td>0.5995307 </td><td>1.00000000</td></tr>\n",
       "</tbody>\n",
       "</table>\n"
      ],
      "text/latex": [
       "\\begin{tabular}{r|lllllll}\n",
       "  & dhl & dpd & fedex & inpost & poczta & ruch & ups\\\\\n",
       "\\hline\n",
       "\tdhl & 1.0000000  & 0.6382852  & 0.36539944 & 0.6853909  & 0.9543118  & 0.7208735  & 0.59141000\\\\\n",
       "\tdpd & 0.6382852  & 1.0000000  & 0.15220265 & 0.5960094  & 0.6589668  & 0.5101946  & 0.48551713\\\\\n",
       "\tfedex & 0.3653994  & 0.1522026  & 1.00000000 & 0.2529419  & 0.2965195  & 0.2026232  & 0.06370109\\\\\n",
       "\tinpost & 0.6853909  & 0.5960094  & 0.25294189 & 1.0000000  & 0.6777870  & 0.5782590  & 0.51096506\\\\\n",
       "\tpoczta & 0.9543118  & 0.6589668  & 0.29651949 & 0.6777870  & 1.0000000  & 0.7762247  & 0.63031294\\\\\n",
       "\truch & 0.7208735  & 0.5101946  & 0.20262317 & 0.5782590  & 0.7762247  & 1.0000000  & 0.59953072\\\\\n",
       "\tups & 0.5914100  & 0.4855171  & 0.06370109 & 0.5109651  & 0.6303129  & 0.5995307  & 1.00000000\\\\\n",
       "\\end{tabular}\n"
      ],
      "text/markdown": [
       "\n",
       "| <!--/--> | dhl | dpd | fedex | inpost | poczta | ruch | ups |\n",
       "|---|---|---|---|---|---|---|---|\n",
       "| dhl | 1.0000000  | 0.6382852  | 0.36539944 | 0.6853909  | 0.9543118  | 0.7208735  | 0.59141000 |\n",
       "| dpd | 0.6382852  | 1.0000000  | 0.15220265 | 0.5960094  | 0.6589668  | 0.5101946  | 0.48551713 |\n",
       "| fedex | 0.3653994  | 0.1522026  | 1.00000000 | 0.2529419  | 0.2965195  | 0.2026232  | 0.06370109 |\n",
       "| inpost | 0.6853909  | 0.5960094  | 0.25294189 | 1.0000000  | 0.6777870  | 0.5782590  | 0.51096506 |\n",
       "| poczta | 0.9543118  | 0.6589668  | 0.29651949 | 0.6777870  | 1.0000000  | 0.7762247  | 0.63031294 |\n",
       "| ruch | 0.7208735  | 0.5101946  | 0.20262317 | 0.5782590  | 0.7762247  | 1.0000000  | 0.59953072 |\n",
       "| ups | 0.5914100  | 0.4855171  | 0.06370109 | 0.5109651  | 0.6303129  | 0.5995307  | 1.00000000 |\n",
       "\n"
      ],
      "text/plain": [
       "       dhl       dpd       fedex      inpost    poczta    ruch      ups       \n",
       "dhl    1.0000000 0.6382852 0.36539944 0.6853909 0.9543118 0.7208735 0.59141000\n",
       "dpd    0.6382852 1.0000000 0.15220265 0.5960094 0.6589668 0.5101946 0.48551713\n",
       "fedex  0.3653994 0.1522026 1.00000000 0.2529419 0.2965195 0.2026232 0.06370109\n",
       "inpost 0.6853909 0.5960094 0.25294189 1.0000000 0.6777870 0.5782590 0.51096506\n",
       "poczta 0.9543118 0.6589668 0.29651949 0.6777870 1.0000000 0.7762247 0.63031294\n",
       "ruch   0.7208735 0.5101946 0.20262317 0.5782590 0.7762247 1.0000000 0.59953072\n",
       "ups    0.5914100 0.4855171 0.06370109 0.5109651 0.6303129 0.5995307 1.00000000"
      ]
     },
     "metadata": {},
     "output_type": "display_data"
    }
   ],
   "source": [
    "stats::cor(df_data %>% select('dhl', 'dpd', 'fedex', 'inpost', 'poczta', 'ruch', 'ups'))"
   ]
  },
  {
   "cell_type": "code",
   "execution_count": 39,
   "metadata": {},
   "outputs": [],
   "source": [
    "df$tot_0_14 <- df$tot_0_14/df$tot\n",
    "df$tot_15_64 <- df$tot_15_64/df$tot\n",
    "df$tot_65__ <- df$tot_65__/df$tot\n",
    "\n",
    "df$male_0_14 <- df$male_0_14/df$tot_male \n",
    "df$male_15_64 <- df$male_15_64/df$tot_male \n",
    "df$male_65__ <- df$male_65__/df$tot_male \n",
    "\n",
    "df$fem_0_14 <- df$fem_0_14/df$tot_fem \n",
    "df$fem_15_64 <- df$fem_15_64/df$tot_fem \n",
    "df$fem_65__ <- df$fem_65__/df$tot_fem "
   ]
  },
  {
   "cell_type": "markdown",
   "metadata": {},
   "source": [
    "### OLS models"
   ]
  },
  {
   "cell_type": "code",
   "execution_count": 40,
   "metadata": {},
   "outputs": [],
   "source": [
    "formula = inpost ~ dhl + dpd + fedex + ruch + ups +\n",
    "            log(tot + 1) + fem_ratio + \n",
    "            buildings + shops + parks + forests + schools + \n",
    "            railways + cycleways + parkings + crossings + bus_stops"
   ]
  },
  {
   "cell_type": "code",
   "execution_count": 41,
   "metadata": {},
   "outputs": [
    {
     "data": {
      "text/plain": [
       "\n",
       "Call:\n",
       "lm(formula = formula, data = df)\n",
       "\n",
       "Residuals:\n",
       "    Min      1Q  Median      3Q     Max \n",
       "-3.5947 -0.3813 -0.1155  0.2777  4.5829 \n",
       "\n",
       "Coefficients:\n",
       "               Estimate Std. Error t value Pr(>|t|)    \n",
       "(Intercept)  -2.488e-01  2.005e-01  -1.241 0.215269    \n",
       "dhl           1.396e-01  5.011e-02   2.786 0.005611 ** \n",
       "dpd           2.882e-01  1.181e-01   2.441 0.015086 *  \n",
       "fedex         3.097e-01  2.544e-01   1.217 0.224222    \n",
       "ruch          1.630e-01  1.278e-01   1.275 0.202973    \n",
       "ups           3.471e-01  1.401e-01   2.478 0.013649 *  \n",
       "log(tot + 1)  1.759e-01  3.619e-02   4.860 1.72e-06 ***\n",
       "fem_ratio    -4.458e-03  2.012e-03  -2.216 0.027299 *  \n",
       "buildings     1.653e-04  1.429e-03   0.116 0.907966    \n",
       "shops        -2.642e-02  4.412e-02  -0.599 0.549580    \n",
       "parks        -1.900e-01  4.962e-02  -3.828 0.000151 ***\n",
       "forests      -1.475e-03  4.636e-03  -0.318 0.750610    \n",
       "schools       1.162e-01  2.165e-02   5.369 1.38e-07 ***\n",
       "railways      3.185e-05  2.674e-03   0.012 0.990503    \n",
       "cycleways     1.733e-02  4.848e-03   3.576 0.000395 ***\n",
       "parkings      1.348e-02  3.347e-03   4.029 6.77e-05 ***\n",
       "crossings    -1.951e-04  4.568e-03  -0.043 0.965949    \n",
       "bus_stops     2.966e-02  2.497e-02   1.188 0.235638    \n",
       "---\n",
       "Signif. codes:  0 '***' 0.001 '**' 0.01 '*' 0.05 '.' 0.1 ' ' 1\n",
       "\n",
       "Residual standard error: 0.9239 on 378 degrees of freedom\n",
       "Multiple R-squared:  0.7301,\tAdjusted R-squared:  0.718 \n",
       "F-statistic: 60.16 on 17 and 378 DF,  p-value: < 2.2e-16\n"
      ]
     },
     "metadata": {},
     "output_type": "display_data"
    },
    {
     "data": {
      "text/html": [
       "<dl class=dl-horizontal>\n",
       "\t<dt>dhl</dt>\n",
       "\t\t<dd>5.91530699443968</dd>\n",
       "\t<dt>dpd</dt>\n",
       "\t\t<dd>2.09119602039824</dd>\n",
       "\t<dt>fedex</dt>\n",
       "\t\t<dd>1.25663490762429</dd>\n",
       "\t<dt>ruch</dt>\n",
       "\t\t<dd>2.59382177999011</dd>\n",
       "\t<dt>ups</dt>\n",
       "\t\t<dd>1.84912107764761</dd>\n",
       "\t<dt>log(tot + 1)</dt>\n",
       "\t\t<dd>2.9741467267538</dd>\n",
       "\t<dt>fem_ratio</dt>\n",
       "\t\t<dd>1.57709281465724</dd>\n",
       "\t<dt>buildings</dt>\n",
       "\t\t<dd>1.29008503139089</dd>\n",
       "\t<dt>shops</dt>\n",
       "\t\t<dd>1.61869388677658</dd>\n",
       "\t<dt>parks</dt>\n",
       "\t\t<dd>2.61338556051656</dd>\n",
       "\t<dt>forests</dt>\n",
       "\t\t<dd>1.13210023260207</dd>\n",
       "\t<dt>schools</dt>\n",
       "\t\t<dd>3.06269293498438</dd>\n",
       "\t<dt>railways</dt>\n",
       "\t\t<dd>1.32307665061535</dd>\n",
       "\t<dt>cycleways</dt>\n",
       "\t\t<dd>2.72966242316714</dd>\n",
       "\t<dt>parkings</dt>\n",
       "\t\t<dd>2.21290088213628</dd>\n",
       "\t<dt>crossings</dt>\n",
       "\t\t<dd>7.1572960902755</dd>\n",
       "\t<dt>bus_stops</dt>\n",
       "\t\t<dd>2.47137276155454</dd>\n",
       "</dl>\n"
      ],
      "text/latex": [
       "\\begin{description*}\n",
       "\\item[dhl] 5.91530699443968\n",
       "\\item[dpd] 2.09119602039824\n",
       "\\item[fedex] 1.25663490762429\n",
       "\\item[ruch] 2.59382177999011\n",
       "\\item[ups] 1.84912107764761\n",
       "\\item[log(tot + 1)] 2.9741467267538\n",
       "\\item[fem\\textbackslash{}\\_ratio] 1.57709281465724\n",
       "\\item[buildings] 1.29008503139089\n",
       "\\item[shops] 1.61869388677658\n",
       "\\item[parks] 2.61338556051656\n",
       "\\item[forests] 1.13210023260207\n",
       "\\item[schools] 3.06269293498438\n",
       "\\item[railways] 1.32307665061535\n",
       "\\item[cycleways] 2.72966242316714\n",
       "\\item[parkings] 2.21290088213628\n",
       "\\item[crossings] 7.1572960902755\n",
       "\\item[bus\\textbackslash{}\\_stops] 2.47137276155454\n",
       "\\end{description*}\n"
      ],
      "text/markdown": [
       "dhl\n",
       ":   5.91530699443968dpd\n",
       ":   2.09119602039824fedex\n",
       ":   1.25663490762429ruch\n",
       ":   2.59382177999011ups\n",
       ":   1.84912107764761log(tot + 1)\n",
       ":   2.9741467267538fem_ratio\n",
       ":   1.57709281465724buildings\n",
       ":   1.29008503139089shops\n",
       ":   1.61869388677658parks\n",
       ":   2.61338556051656forests\n",
       ":   1.13210023260207schools\n",
       ":   3.06269293498438railways\n",
       ":   1.32307665061535cycleways\n",
       ":   2.72966242316714parkings\n",
       ":   2.21290088213628crossings\n",
       ":   7.1572960902755bus_stops\n",
       ":   2.47137276155454\n",
       "\n"
      ],
      "text/plain": [
       "         dhl          dpd        fedex         ruch          ups log(tot + 1) \n",
       "    5.915307     2.091196     1.256635     2.593822     1.849121     2.974147 \n",
       "   fem_ratio    buildings        shops        parks      forests      schools \n",
       "    1.577093     1.290085     1.618694     2.613386     1.132100     3.062693 \n",
       "    railways    cycleways     parkings    crossings    bus_stops \n",
       "    1.323077     2.729662     2.212901     7.157296     2.471373 "
      ]
     },
     "metadata": {},
     "output_type": "display_data"
    },
    {
     "data": {
      "text/plain": [
       "\n",
       "\tstudentized Breusch-Pagan test\n",
       "\n",
       "data:  ols\n",
       "BP = 111.49, df = 17, p-value = 6.313e-16\n"
      ]
     },
     "metadata": {},
     "output_type": "display_data"
    },
    {
     "data": {
      "text/plain": [
       "\n",
       "\tRESET test\n",
       "\n",
       "data:  ols\n",
       "RESET = 7.3525, df1 = 17, df2 = 361, p-value = 1.501e-15\n"
      ]
     },
     "metadata": {},
     "output_type": "display_data"
    },
    {
     "data": {
      "text/plain": [
       "\n",
       "\tGlobal Moran I for regression residuals\n",
       "\n",
       "data:  \n",
       "model: lm(formula = formula, data = df)\n",
       "weights: df.cont.listw\n",
       "\n",
       "Moran I statistic standard deviate = 0.86543, p-value = 0.1934\n",
       "alternative hypothesis: greater\n",
       "sample estimates:\n",
       "Observed Moran I      Expectation         Variance \n",
       "    0.0119504900    -0.0105986646     0.0006788895 \n"
      ]
     },
     "metadata": {},
     "output_type": "display_data"
    }
   ],
   "source": [
    "ols <- lm(formula, data=df)\n",
    "summary(ols)\n",
    "car::vif(ols)\n",
    "bptest(ols) \n",
    "resettest(ols, power=2, type=\"regressor\")\n",
    "lm.morantest(ols, df.cont.listw) "
   ]
  },
  {
   "cell_type": "code",
   "execution_count": 45,
   "metadata": {},
   "outputs": [],
   "source": [
    "intercept_only <- lm(inpost~1, data=df)\n",
    "all <- lm(formula, data=df)\n",
    "both <- step(intercept_only, direction='both', scope=formula(all), trace=0)"
   ]
  },
  {
   "cell_type": "markdown",
   "metadata": {},
   "source": [
    "Based on Stepwise Regression we obtained final formula of the model and we are able to run our final OLS with diagnostic part. We see that nearly all variables in the model are significant (of course due to the heteroscedasticity we use biased error variance estimator - we omitted application of the robust matrix due to lack of time). There is no collinearity in the model, but again we did not pass Ramsey and B-P tests. What is more residuals from the model are not spatially dependent. In case of interpretation we can see that: logistic companies have positive sign as expected; the greater the total density the more InPost pick-up points are stated; fem_ratio results is interesting because its sign is negative (more woman less pick-up points), in addition, the negative relationship between parks and pickup points is interesting but intuitive. There is positive relationship between pickup points and schools, parkings, cycleways and bus stops. It is also intuitive!"
   ]
  },
  {
   "cell_type": "code",
   "execution_count": 46,
   "metadata": {},
   "outputs": [
    {
     "data": {
      "text/plain": [
       "\n",
       "Call:\n",
       "lm(formula = formula, data = df)\n",
       "\n",
       "Residuals:\n",
       "    Min      1Q  Median      3Q     Max \n",
       "-3.8521 -0.3876 -0.1289  0.2793  4.4299 \n",
       "\n",
       "Coefficients:\n",
       "              Estimate Std. Error t value Pr(>|t|)    \n",
       "(Intercept)  -0.257783   0.182849  -1.410  0.15940    \n",
       "schools       0.122166   0.020100   6.078 2.93e-09 ***\n",
       "dhl           0.171940   0.036511   4.709 3.48e-06 ***\n",
       "parkings      0.012623   0.003094   4.080 5.48e-05 ***\n",
       "cycleways     0.017109   0.004353   3.931  0.00010 ***\n",
       "log(tot + 1)  0.173857   0.035023   4.964 1.04e-06 ***\n",
       "parks        -0.193973   0.047366  -4.095 5.14e-05 ***\n",
       "ups           0.361201   0.132367   2.729  0.00665 ** \n",
       "dpd           0.261543   0.115585   2.263  0.02421 *  \n",
       "fem_ratio    -0.004469   0.001989  -2.247  0.02523 *  \n",
       "bus_stops     0.036833   0.023741   1.551  0.12161    \n",
       "---\n",
       "Signif. codes:  0 '***' 0.001 '**' 0.01 '*' 0.05 '.' 0.1 ' ' 1\n",
       "\n",
       "Residual standard error: 0.9197 on 385 degrees of freedom\n",
       "Multiple R-squared:  0.7276,\tAdjusted R-squared:  0.7206 \n",
       "F-statistic: 102.9 on 10 and 385 DF,  p-value: < 2.2e-16\n"
      ]
     },
     "metadata": {},
     "output_type": "display_data"
    },
    {
     "name": "stdout",
     "output_type": "stream",
     "text": [
      "AIC 1070.335"
     ]
    },
    {
     "data": {
      "text/html": [
       "<dl class=dl-horizontal>\n",
       "\t<dt>schools</dt>\n",
       "\t\t<dd>2.66526956909113</dd>\n",
       "\t<dt>dhl</dt>\n",
       "\t\t<dd>3.16904435818374</dd>\n",
       "\t<dt>parkings</dt>\n",
       "\t\t<dd>1.9086031413205</dd>\n",
       "\t<dt>cycleways</dt>\n",
       "\t\t<dd>2.22102488709486</dd>\n",
       "\t<dt>log(tot + 1)</dt>\n",
       "\t\t<dd>2.81120907739961</dd>\n",
       "\t<dt>parks</dt>\n",
       "\t\t<dd>2.40316337562723</dd>\n",
       "\t<dt>ups</dt>\n",
       "\t\t<dd>1.66611441778565</dd>\n",
       "\t<dt>dpd</dt>\n",
       "\t\t<dd>2.02317947356491</dd>\n",
       "\t<dt>fem_ratio</dt>\n",
       "\t\t<dd>1.55568601607867</dd>\n",
       "\t<dt>bus_stops</dt>\n",
       "\t\t<dd>2.25474958116342</dd>\n",
       "</dl>\n"
      ],
      "text/latex": [
       "\\begin{description*}\n",
       "\\item[schools] 2.66526956909113\n",
       "\\item[dhl] 3.16904435818374\n",
       "\\item[parkings] 1.9086031413205\n",
       "\\item[cycleways] 2.22102488709486\n",
       "\\item[log(tot + 1)] 2.81120907739961\n",
       "\\item[parks] 2.40316337562723\n",
       "\\item[ups] 1.66611441778565\n",
       "\\item[dpd] 2.02317947356491\n",
       "\\item[fem\\textbackslash{}\\_ratio] 1.55568601607867\n",
       "\\item[bus\\textbackslash{}\\_stops] 2.25474958116342\n",
       "\\end{description*}\n"
      ],
      "text/markdown": [
       "schools\n",
       ":   2.66526956909113dhl\n",
       ":   3.16904435818374parkings\n",
       ":   1.9086031413205cycleways\n",
       ":   2.22102488709486log(tot + 1)\n",
       ":   2.81120907739961parks\n",
       ":   2.40316337562723ups\n",
       ":   1.66611441778565dpd\n",
       ":   2.02317947356491fem_ratio\n",
       ":   1.55568601607867bus_stops\n",
       ":   2.25474958116342\n",
       "\n"
      ],
      "text/plain": [
       "     schools          dhl     parkings    cycleways log(tot + 1)        parks \n",
       "    2.665270     3.169044     1.908603     2.221025     2.811209     2.403163 \n",
       "         ups          dpd    fem_ratio    bus_stops \n",
       "    1.666114     2.023179     1.555686     2.254750 "
      ]
     },
     "metadata": {},
     "output_type": "display_data"
    },
    {
     "data": {
      "text/plain": [
       "\n",
       "\tstudentized Breusch-Pagan test\n",
       "\n",
       "data:  ols\n",
       "BP = 115.78, df = 10, p-value < 2.2e-16\n"
      ]
     },
     "metadata": {},
     "output_type": "display_data"
    },
    {
     "data": {
      "text/plain": [
       "\n",
       "\tRESET test\n",
       "\n",
       "data:  ols\n",
       "RESET = 11.021, df1 = 10, df2 = 375, p-value < 2.2e-16\n"
      ]
     },
     "metadata": {},
     "output_type": "display_data"
    },
    {
     "data": {
      "text/plain": [
       "\n",
       "\tGlobal Moran I for regression residuals\n",
       "\n",
       "data:  \n",
       "model: lm(formula = formula, data = df)\n",
       "weights: df.cont.listw\n",
       "\n",
       "Moran I statistic standard deviate = 0.71454, p-value = 0.2374\n",
       "alternative hypothesis: greater\n",
       "sample estimates:\n",
       "Observed Moran I      Expectation         Variance \n",
       "    0.0113325967    -0.0074311675     0.0006895866 \n"
      ]
     },
     "metadata": {},
     "output_type": "display_data"
    }
   ],
   "source": [
    "formula = formula(both)\n",
    "ols <- lm(formula, data=df)\n",
    "summary(ols)\n",
    "cat(\"AIC\", AIC(ols))\n",
    "car::vif(ols)\n",
    "bptest(ols) \n",
    "resettest(ols, power=2, type=\"regressor\")\n",
    "lm.morantest(ols, df.cont.listw) "
   ]
  },
  {
   "cell_type": "markdown",
   "metadata": {},
   "source": [
    "### Spatial models with 3, 2, or 1 spatial components"
   ]
  },
  {
   "cell_type": "code",
   "execution_count": 47,
   "metadata": {},
   "outputs": [
    {
     "data": {
      "text/plain": [
       "\n",
       "Call:sacsarlm(formula = formula, data = df, listw = df.cont.listw, \n",
       "    type = \"sacmixed\", method = \"LU\")\n",
       "\n",
       "Residuals:\n",
       "      Min        1Q    Median        3Q       Max \n",
       "-3.754389 -0.361068 -0.076336  0.271624  3.595976 \n",
       "\n",
       "Type: sacmixed \n",
       "Coefficients: (numerical Hessian approximate standard errors) \n",
       "                   Estimate Std. Error z value  Pr(>|z|)\n",
       "(Intercept)      -0.1892880  0.4461054 -0.4243 0.6713380\n",
       "schools           0.1208664  0.0227048  5.3234 1.019e-07\n",
       "dhl               0.1962639  0.0445578  4.4047 1.059e-05\n",
       "parkings          0.0059313  0.0036499  1.6251 0.1041487\n",
       "cycleways         0.0164590  0.0049380  3.3331 0.0008587\n",
       "log(tot + 1)      0.1349492  0.0378908  3.5615 0.0003687\n",
       "parks            -0.1756511  0.0494775 -3.5501 0.0003851\n",
       "ups               0.4202907  0.1360512  3.0892 0.0020069\n",
       "dpd               0.2239553  0.1174352  1.9071 0.0565136\n",
       "fem_ratio        -0.0037182  0.0019435 -1.9132 0.0557240\n",
       "bus_stops         0.0285210  0.0258514  1.1033 0.2699121\n",
       "lag.schools       0.0062202  0.0832470  0.0747 0.9404381\n",
       "lag.dhl          -0.1137251  0.1105301 -1.0289 0.3035237\n",
       "lag.parkings      0.0203799  0.0079271  2.5709 0.0101433\n",
       "lag.cycleways    -0.0017016  0.0119220 -0.1427 0.8865048\n",
       "lag.log(tot + 1)  0.0746430  0.0880310  0.8479 0.3964844\n",
       "lag.parks        -0.1449582  0.1437940 -1.0081 0.3134082\n",
       "lag.ups           0.6999156  0.5261605  1.3302 0.1834419\n",
       "lag.dpd           0.1489114  0.4033567  0.3692 0.7119932\n",
       "lag.fem_ratio    -0.0039038  0.0058527 -0.6670 0.5047704\n",
       "lag.bus_stops     0.0168665  0.0687687  0.2453 0.8062525\n",
       "\n",
       "Rho: -0.052812\n",
       "Approximate (numerical Hessian) standard error: 0.19295\n",
       "    z-value: -0.27372, p-value: 0.7843\n",
       "Lambda: 0.098125\n",
       "Approximate (numerical Hessian) standard error: 0.18232\n",
       "    z-value: 0.53819, p-value: 0.59044\n",
       "\n",
       "LR test value: 18.533, p-value: 0.10044\n",
       "\n",
       "Log likelihood: -513.9013 for sacmixed model\n",
       "ML residual variance (sigma squared): 0.78334, (sigma: 0.88506)\n",
       "Number of observations: 396 \n",
       "Number of parameters estimated: 24 \n",
       "AIC: 1075.8, (AIC for lm: 1070.3)\n"
      ]
     },
     "metadata": {},
     "output_type": "display_data"
    }
   ],
   "source": [
    "GNS <- sacsarlm(formula, data=df, listw=df.cont.listw, type=\"sacmixed\", method=\"LU\")\n",
    "summary(GNS)"
   ]
  },
  {
   "cell_type": "code",
   "execution_count": 49,
   "metadata": {},
   "outputs": [
    {
     "data": {
      "text/plain": [
       "\n",
       "Call:sacsarlm(formula = formula, data = df, listw = df.cont.listw)\n",
       "\n",
       "Residuals:\n",
       "      Min        1Q    Median        3Q       Max \n",
       "-3.742778 -0.378442 -0.082933  0.251057  4.336691 \n",
       "\n",
       "Type: sac \n",
       "Coefficients: (asymptotic standard errors) \n",
       "               Estimate Std. Error z value  Pr(>|z|)\n",
       "(Intercept)  -0.2285383  0.1732757 -1.3189  0.187193\n",
       "schools       0.1173015  0.0192607  6.0902 1.128e-09\n",
       "dhl           0.1519248  0.0356379  4.2630 2.017e-05\n",
       "parkings      0.0117739  0.0029482  3.9935 6.510e-05\n",
       "cycleways     0.0135092  0.0044227  3.0545  0.002254\n",
       "log(tot + 1)  0.1480035  0.0352868  4.1943 2.737e-05\n",
       "parks        -0.2093795  0.0460939 -4.5425 5.560e-06\n",
       "ups           0.3964271  0.1306332  3.0347  0.002408\n",
       "dpd           0.2521028  0.1130940  2.2291  0.025804\n",
       "fem_ratio    -0.0042107  0.0019415 -2.1688  0.030098\n",
       "bus_stops     0.0287761  0.0228751  1.2580  0.208405\n",
       "\n",
       "Rho: 0.17813\n",
       "Asymptotic standard error: 0.073257\n",
       "    z-value: 2.4315, p-value: 0.015035\n",
       "Lambda: -0.13362\n",
       "Asymptotic standard error: 0.12831\n",
       "    z-value: -1.0414, p-value: 0.29771\n",
       "\n",
       "LR test value: 6.4252, p-value: 0.040251\n",
       "\n",
       "Log likelihood: -519.9551 for sac model\n",
       "ML residual variance (sigma squared): 0.80336, (sigma: 0.8963)\n",
       "Number of observations: 396 \n",
       "Number of parameters estimated: 14 \n",
       "AIC: 1067.9, (AIC for lm: 1070.3)\n"
      ]
     },
     "metadata": {},
     "output_type": "display_data"
    }
   ],
   "source": [
    "SAC <- sacsarlm(formula, data=df, listw=df.cont.listw)\n",
    "summary(SAC)"
   ]
  },
  {
   "cell_type": "code",
   "execution_count": 50,
   "metadata": {},
   "outputs": [
    {
     "data": {
      "text/plain": [
       "\n",
       "Call:errorsarlm(formula = formula, data = df, listw = df.cont.listw, \n",
       "    etype = \"mixed\")\n",
       "\n",
       "Residuals:\n",
       "      Min        1Q    Median        3Q       Max \n",
       "-3.760312 -0.365729 -0.075627  0.271674  3.603924 \n",
       "\n",
       "Type: error \n",
       "Coefficients: (asymptotic standard errors) \n",
       "                    Estimate  Std. Error z value  Pr(>|z|)\n",
       "(Intercept)      -0.17645482  0.42142109 -0.4187 0.6754253\n",
       "schools           0.12092515  0.02199218  5.4986 3.829e-08\n",
       "dhl               0.19673895  0.04426460  4.4446 8.805e-06\n",
       "parkings          0.00583431  0.00360056  1.6204 0.1051483\n",
       "cycleways         0.01647383  0.00484529  3.4000 0.0006739\n",
       "log(tot + 1)      0.13436113  0.03792020  3.5433 0.0003952\n",
       "parks            -0.17550184  0.04948822 -3.5463 0.0003906\n",
       "ups               0.41637263  0.13400568  3.1071 0.0018892\n",
       "dpd               0.22459114  0.11692782  1.9208 0.0547610\n",
       "fem_ratio        -0.00368692  0.00193419 -1.9062 0.0566261\n",
       "bus_stops         0.02828919  0.02562449  1.1040 0.2695973\n",
       "lag.schools       0.00050302  0.05562900  0.0090 0.9927854\n",
       "lag.dhl          -0.12002572  0.09986252 -1.2019 0.2293985\n",
       "lag.parkings      0.01941050  0.00698256  2.7799 0.0054383\n",
       "lag.cycleways    -0.00255865  0.01066416 -0.2399 0.8103848\n",
       "lag.log(tot + 1)  0.06306240  0.07498315  0.8410 0.4003362\n",
       "lag.parks        -0.13147963  0.12638399 -1.0403 0.2981919\n",
       "lag.ups           0.66553839  0.50395021  1.3206 0.1866204\n",
       "lag.dpd           0.13631876  0.39046925  0.3491 0.7270028\n",
       "lag.fem_ratio    -0.00352377  0.00545605 -0.6458 0.5183792\n",
       "lag.bus_stops     0.01432684  0.05960677  0.2404 0.8100544\n",
       "\n",
       "Lambda: 0.054941, LR test value: 0.2927, p-value: 0.58849\n",
       "Asymptotic standard error: 0.09206\n",
       "    z-value: 0.5968, p-value: 0.55064\n",
       "Wald statistic: 0.35617, p-value: 0.55064\n",
       "\n",
       "Log likelihood: -513.9413 for error model\n",
       "ML residual variance (sigma squared): 0.78455, (sigma: 0.88575)\n",
       "Number of observations: 396 \n",
       "Number of parameters estimated: 23 \n",
       "AIC: 1073.9, (AIC for lm: 1072.2)\n"
      ]
     },
     "metadata": {},
     "output_type": "display_data"
    }
   ],
   "source": [
    "SDM <- errorsarlm(formula, data=df, listw=df.cont.listw, etype=\"mixed\")\n",
    "summary(SDM)"
   ]
  },
  {
   "cell_type": "code",
   "execution_count": 51,
   "metadata": {},
   "outputs": [
    {
     "data": {
      "text/plain": [
       "\n",
       "Call:errorsarlm(formula = formula, data = df, listw = df.cont.listw, \n",
       "    etype = \"emixed\")\n",
       "\n",
       "Residuals:\n",
       "      Min        1Q    Median        3Q       Max \n",
       "-3.760312 -0.365729 -0.075627  0.271674  3.603924 \n",
       "\n",
       "Type: error \n",
       "Coefficients: (asymptotic standard errors) \n",
       "                    Estimate  Std. Error z value  Pr(>|z|)\n",
       "(Intercept)      -0.17645482  0.42142109 -0.4187 0.6754253\n",
       "schools           0.12092515  0.02199218  5.4986 3.829e-08\n",
       "dhl               0.19673895  0.04426460  4.4446 8.805e-06\n",
       "parkings          0.00583431  0.00360056  1.6204 0.1051483\n",
       "cycleways         0.01647383  0.00484529  3.4000 0.0006739\n",
       "log(tot + 1)      0.13436113  0.03792020  3.5433 0.0003952\n",
       "parks            -0.17550184  0.04948822 -3.5463 0.0003906\n",
       "ups               0.41637263  0.13400568  3.1071 0.0018892\n",
       "dpd               0.22459114  0.11692782  1.9208 0.0547610\n",
       "fem_ratio        -0.00368692  0.00193419 -1.9062 0.0566261\n",
       "bus_stops         0.02828919  0.02562449  1.1040 0.2695973\n",
       "lag.schools       0.00050302  0.05562900  0.0090 0.9927854\n",
       "lag.dhl          -0.12002572  0.09986252 -1.2019 0.2293985\n",
       "lag.parkings      0.01941050  0.00698256  2.7799 0.0054383\n",
       "lag.cycleways    -0.00255865  0.01066416 -0.2399 0.8103848\n",
       "lag.log(tot + 1)  0.06306240  0.07498315  0.8410 0.4003362\n",
       "lag.parks        -0.13147963  0.12638399 -1.0403 0.2981919\n",
       "lag.ups           0.66553839  0.50395021  1.3206 0.1866204\n",
       "lag.dpd           0.13631876  0.39046925  0.3491 0.7270028\n",
       "lag.fem_ratio    -0.00352377  0.00545605 -0.6458 0.5183792\n",
       "lag.bus_stops     0.01432684  0.05960677  0.2404 0.8100544\n",
       "\n",
       "Lambda: 0.054941, LR test value: 0.2927, p-value: 0.58849\n",
       "Asymptotic standard error: 0.09206\n",
       "    z-value: 0.5968, p-value: 0.55064\n",
       "Wald statistic: 0.35617, p-value: 0.55064\n",
       "\n",
       "Log likelihood: -513.9413 for error model\n",
       "ML residual variance (sigma squared): 0.78455, (sigma: 0.88575)\n",
       "Number of observations: 396 \n",
       "Number of parameters estimated: 23 \n",
       "AIC: 1073.9, (AIC for lm: 1072.2)\n"
      ]
     },
     "metadata": {},
     "output_type": "display_data"
    }
   ],
   "source": [
    "SDEM <- errorsarlm(formula, data=df, listw=df.cont.listw, etype=\"emixed\")\n",
    "summary(SDEM)"
   ]
  },
  {
   "cell_type": "code",
   "execution_count": 52,
   "metadata": {},
   "outputs": [
    {
     "data": {
      "text/plain": [
       "\n",
       "Call:errorsarlm(formula = formula, data = df, listw = df.cont.listw)\n",
       "\n",
       "Residuals:\n",
       "     Min       1Q   Median       3Q      Max \n",
       "-3.86442 -0.38388 -0.13033  0.28413  4.43792 \n",
       "\n",
       "Type: error \n",
       "Coefficients: (asymptotic standard errors) \n",
       "               Estimate Std. Error z value  Pr(>|z|)\n",
       "(Intercept)  -0.2513907  0.1825858 -1.3768   0.16856\n",
       "schools       0.1222839  0.0199770  6.1212 9.285e-10\n",
       "dhl           0.1744698  0.0362854  4.8083 1.522e-06\n",
       "parkings      0.0122151  0.0030927  3.9497 7.826e-05\n",
       "cycleways     0.0171933  0.0043202  3.9797 6.899e-05\n",
       "log(tot + 1)  0.1715968  0.0348729  4.9206 8.627e-07\n",
       "parks        -0.1926390  0.0468210 -4.1144 3.882e-05\n",
       "ups           0.3558354  0.1300344  2.7365   0.00621\n",
       "dpd           0.2611246  0.1137346  2.2959   0.02168\n",
       "fem_ratio    -0.0043836  0.0019600 -2.2365   0.02532\n",
       "bus_stops     0.0363045  0.0236105  1.5376   0.12414\n",
       "\n",
       "Lambda: 0.051161, LR test value: 0.23035, p-value: 0.63126\n",
       "Asymptotic standard error: 0.09221\n",
       "    z-value: 0.55483, p-value: 0.57901\n",
       "Wald statistic: 0.30783, p-value: 0.57901\n",
       "\n",
       "Log likelihood: -523.0526 for error model\n",
       "ML residual variance (sigma squared): 0.82154, (sigma: 0.90639)\n",
       "Number of observations: 396 \n",
       "Number of parameters estimated: 13 \n",
       "AIC: 1072.1, (AIC for lm: 1070.3)\n"
      ]
     },
     "metadata": {},
     "output_type": "display_data"
    }
   ],
   "source": [
    "SEM <- errorsarlm(formula, data=df, listw=df.cont.listw)\n",
    "summary(SEM)"
   ]
  },
  {
   "cell_type": "code",
   "execution_count": 53,
   "metadata": {},
   "outputs": [
    {
     "data": {
      "text/plain": [
       "\n",
       "Call:lagsarlm(formula = formula, data = df, listw = df.cont.listw)\n",
       "\n",
       "Residuals:\n",
       "     Min       1Q   Median       3Q      Max \n",
       "-3.80128 -0.37166 -0.10260  0.24129  4.37771 \n",
       "\n",
       "Type: lag \n",
       "Coefficients: (asymptotic standard errors) \n",
       "               Estimate Std. Error z value  Pr(>|z|)\n",
       "(Intercept)  -0.2341478  0.1790217 -1.3079 0.1908972\n",
       "schools       0.1189272  0.0197130  6.0329 1.610e-09\n",
       "dhl           0.1613324  0.0362029  4.4563 8.337e-06\n",
       "parkings      0.0113351  0.0030435  3.7244 0.0001958\n",
       "cycleways     0.0145720  0.0044047  3.3083 0.0009386\n",
       "log(tot + 1)  0.1515994  0.0352620  4.2992 1.714e-05\n",
       "parks        -0.2043753  0.0465837 -4.3873 1.148e-05\n",
       "ups           0.3763571  0.1298082  2.8993 0.0037396\n",
       "dpd           0.2542829  0.1130757  2.2488 0.0245262\n",
       "fem_ratio    -0.0041514  0.0019474 -2.1318 0.0330254\n",
       "bus_stops     0.0302281  0.0233637  1.2938 0.1957335\n",
       "\n",
       "Rho: 0.13838, LR test value: 5.3541, p-value: 0.020673\n",
       "Asymptotic standard error: 0.057539\n",
       "    z-value: 2.4049, p-value: 0.016177\n",
       "Wald statistic: 5.7836, p-value: 0.016177\n",
       "\n",
       "Log likelihood: -520.4907 for lag model\n",
       "ML residual variance (sigma squared): 0.80902, (sigma: 0.89946)\n",
       "Number of observations: 396 \n",
       "Number of parameters estimated: 13 \n",
       "AIC: 1067, (AIC for lm: 1070.3)\n",
       "LM test for residual autocorrelation\n",
       "test value: 0.99309, p-value: 0.31899\n"
      ]
     },
     "metadata": {},
     "output_type": "display_data"
    }
   ],
   "source": [
    "SAR <- lagsarlm(formula, data=df, listw=df.cont.listw)\n",
    "summary(SAR)"
   ]
  },
  {
   "cell_type": "code",
   "execution_count": 54,
   "metadata": {},
   "outputs": [
    {
     "data": {
      "text/plain": [
       "\n",
       "Call:\n",
       "lm(formula = formula(paste(\"y ~ \", paste(colnames(x)[-1], collapse = \"+\"))), \n",
       "    data = as.data.frame(x), weights = weights)\n",
       "\n",
       "Residuals:\n",
       "    Min      1Q  Median      3Q     Max \n",
       "-3.7586 -0.3556 -0.0735  0.2721  3.6347 \n",
       "\n",
       "Coefficients:\n",
       "                  Estimate Std. Error t value Pr(>|t|)    \n",
       "(Intercept)      -0.176261   0.418246  -0.421 0.673684    \n",
       "schools           0.120789   0.022690   5.323 1.76e-07 ***\n",
       "dhl               0.195098   0.045651   4.274 2.44e-05 ***\n",
       "parkings          0.005944   0.003725   1.596 0.111351    \n",
       "cycleways         0.016424   0.004999   3.285 0.001115 ** \n",
       "log.tot...1.      0.135231   0.039192   3.450 0.000623 ***\n",
       "parks            -0.176600   0.050968  -3.465 0.000592 ***\n",
       "ups               0.416330   0.137141   3.036 0.002567 ** \n",
       "dpd               0.225329   0.119836   1.880 0.060841 .  \n",
       "fem_ratio        -0.003700   0.001987  -1.862 0.063436 .  \n",
       "bus_stops         0.028342   0.026456   1.071 0.284729    \n",
       "lag.schools       0.003063   0.056190   0.055 0.956560    \n",
       "lag.dhl          -0.116153   0.101077  -1.149 0.251223    \n",
       "lag.parkings      0.019129   0.007078   2.703 0.007190 ** \n",
       "lag.cycleways    -0.002752   0.010772  -0.255 0.798504    \n",
       "lag.log.tot...1.  0.058043   0.075474   0.769 0.442348    \n",
       "lag.parks        -0.128221   0.127751  -1.004 0.316182    \n",
       "lag.ups           0.653317   0.510612   1.279 0.201520    \n",
       "lag.dpd           0.148930   0.394592   0.377 0.706069    \n",
       "lag.fem_ratio    -0.003319   0.005468  -0.607 0.544229    \n",
       "lag.bus_stops     0.012499   0.060475   0.207 0.836366    \n",
       "---\n",
       "Signif. codes:  0 '***' 0.001 '**' 0.01 '*' 0.05 '.' 0.1 ' ' 1\n",
       "\n",
       "Residual standard error: 0.9107 on 375 degrees of freedom\n",
       "Multiple R-squared:  0.7398,\tAdjusted R-squared:  0.726 \n",
       "F-statistic: 53.32 on 20 and 375 DF,  p-value: < 2.2e-16\n"
      ]
     },
     "metadata": {},
     "output_type": "display_data"
    }
   ],
   "source": [
    "SLX <- lmSLX(formula, data=df, listw=df.cont.listw)\n",
    "summary(SLX)"
   ]
  },
  {
   "cell_type": "markdown",
   "metadata": {},
   "source": [
    "Again SAR model seems to be the best in case of spatial terms significance and number of relevant variables! \n",
    "For Cracow BIC and AIC results also indicates SAR as the best model!"
   ]
  },
  {
   "cell_type": "code",
   "execution_count": 55,
   "metadata": {},
   "outputs": [
    {
     "name": "stdout",
     "output_type": "stream",
     "text": [
      "ols 1118.112 \n",
      "GNS 1171.356 \n",
      "SAC 1123.65 \n",
      "SDM 1165.455 \n",
      "SDEM 1165.455 \n",
      "SAR 1118.74 \n",
      "SLX 1159.766 \n",
      "SEM 1123.863 \n",
      "\n",
      "ols 1070.335 \n",
      "GNS 1075.803 \n",
      "SAC 1067.91 \n",
      "SDM 1073.883 \n",
      "SDEM 1073.883 \n",
      "SAR 1066.981 \n",
      "SLX 1072.175 \n",
      "SEM 1072.105 \n"
     ]
    }
   ],
   "source": [
    "cat(\"ols\",BIC(ols) ,'\\n')\n",
    "cat(\"GNS\",BIC(GNS),'\\n')\n",
    "cat(\"SAC\",BIC(SAC),'\\n')\n",
    "cat(\"SDM\",BIC(SDM),'\\n')\n",
    "cat(\"SDEM\",BIC(SDEM),'\\n')\n",
    "cat(\"SAR\",BIC(SAR),'\\n')\n",
    "cat(\"SLX\",BIC(SLX),'\\n')\n",
    "cat(\"SEM\",BIC(SEM),'\\n')\n",
    "cat('\\n')\n",
    "cat(\"ols\",AIC(ols) ,'\\n')\n",
    "cat(\"GNS\",AIC(GNS),'\\n')\n",
    "cat(\"SAC\",AIC(SAC),'\\n')\n",
    "cat(\"SDM\",AIC(SDM),'\\n')\n",
    "cat(\"SDEM\",AIC(SDEM),'\\n')\n",
    "cat(\"SAR\",AIC(SAR),'\\n')\n",
    "cat(\"SLX\",AIC(SLX),'\\n')\n",
    "cat(\"SEM\",AIC(SEM),'\\n')"
   ]
  },
  {
   "cell_type": "markdown",
   "metadata": {},
   "source": [
    "Now we looked for better formula for SAR and we found it in the general to specific procedure."
   ]
  },
  {
   "cell_type": "code",
   "execution_count": 67,
   "metadata": {},
   "outputs": [
    {
     "data": {
      "text/plain": [
       "\n",
       "Call:\n",
       "lagsarlm(formula = formula_gen_to_specifc, data = df, listw = df.cont.listw)\n",
       "\n",
       "Residuals:\n",
       "     Min       1Q   Median       3Q      Max \n",
       "-3.71682 -0.36660 -0.09821  0.25738  4.45771 \n",
       "\n",
       "Type: lag \n",
       "Coefficients: (asymptotic standard errors) \n",
       "               Estimate Std. Error z value  Pr(>|z|)\n",
       "(Intercept)  -0.2358848  0.1789241 -1.3184 0.1873862\n",
       "dhl           0.1474649  0.0390720  3.7742 0.0001605\n",
       "dpd           0.2694286  0.1125832  2.3932 0.0167044\n",
       "ruch          0.1777519  0.1225243  1.4507 0.1468500\n",
       "ups           0.3238056  0.1339810  2.4168 0.0156575\n",
       "log(tot + 1)  0.1531382  0.0352776  4.3409 1.419e-05\n",
       "fem_ratio    -0.0041838  0.0019456 -2.1504 0.0315219\n",
       "parks        -0.2068055  0.0466168 -4.4363 9.153e-06\n",
       "schools       0.1132504  0.0203474  5.5658 2.609e-08\n",
       "cycleways     0.0160661  0.0042884  3.7464 0.0001794\n",
       "parkings      0.0124737  0.0030467  4.0941 4.238e-05\n",
       "\n",
       "Rho: 0.14868, LR test value: 6.2791, p-value: 0.012217\n",
       "Asymptotic standard error: 0.057206\n",
       "    z-value: 2.599, p-value: 0.0093501\n",
       "Wald statistic: 6.7547, p-value: 0.0093501\n",
       "\n",
       "Log likelihood: -520.2749 for lag model\n",
       "ML residual variance (sigma squared): 0.80779, (sigma: 0.89877)\n",
       "Number of observations: 396 \n",
       "Number of parameters estimated: 13 \n",
       "AIC: 1066.5, (AIC for lm: 1070.8)\n",
       "LM test for residual autocorrelation\n",
       "test value: 1.0503, p-value: 0.30544\n"
      ]
     },
     "metadata": {},
     "output_type": "display_data"
    }
   ],
   "source": [
    "formula_max = inpost ~ dhl + dpd + fedex + ruch + ups +\n",
    "            log(tot + 1) + fem_ratio + \n",
    "            buildings + shops + parks + forests + schools + \n",
    "            railways + cycleways + parkings + crossings + bus_stops\n",
    "\n",
    "formula_gen_to_specifc = inpost ~ dhl + dpd + ruch + ups +\n",
    "            log(tot + 1) + fem_ratio + \n",
    "            parks + schools + \n",
    "            cycleways + parkings\n",
    "\n",
    "SAR_g2s<- lagsarlm(formula_gen_to_specifc, data=df, listw=df.cont.listw)\n",
    "summary(SAR_g2s) #the same as previously!"
   ]
  },
  {
   "cell_type": "markdown",
   "metadata": {},
   "source": [
    "### Direct and indirect impacts"
   ]
  },
  {
   "cell_type": "markdown",
   "metadata": {},
   "source": [
    "Now we move to the statistical inference part.\n",
    "\n",
    "Let's start with logistic companies variables. We see that either in case of direct and indirect impacts all parameters for logistic companies (apart from Ruch total, and UPS indirect) are significant (at least around 10%). Internalization effects are greater than spill-over, but still spill-over effects are significant. In case of demographic variables we claim that total population density is important variable for the model in case of direct and indirect impact (has positive sign). Feminization ratio in case of direct impact is also significant and has negative sign (it is quite non intuitive). In case of point of interest data we see that number of schools, number of parks, number of cycleways and number of parkings are significant in the model with respectively positive, negative positive, and positive sign. We claim that it is intuitive."
   ]
  },
  {
   "cell_type": "code",
   "execution_count": 71,
   "metadata": {},
   "outputs": [
    {
     "data": {
      "text/plain": [
       "Impact measures (lag, trace):\n",
       "                   Direct      Indirect        Total\n",
       "dhl           0.147953001  0.0252655979  0.173218599\n",
       "dpd           0.270320307  0.0461619849  0.316482292\n",
       "ruch          0.178340242  0.0304547581  0.208795000\n",
       "ups           0.324877326  0.0554785630  0.380355889\n",
       "log(tot + 1)  0.153644998  0.0262376074  0.179882606\n",
       "fem_ratio    -0.004197681 -0.0007168284 -0.004914509\n",
       "parks        -0.207489962 -0.0354325896 -0.242922552\n",
       "schools       0.113625255  0.0194035267  0.133028781\n",
       "cycleways     0.016119260  0.0027526493  0.018871909\n",
       "parkings      0.012514984  0.0021371554  0.014652139\n",
       "========================================================\n",
       "Simulation results ( variance matrix):\n",
       "========================================================\n",
       "Simulated standard errors\n",
       "                  Direct     Indirect       Total\n",
       "dhl          0.041731285 0.0130662719 0.048890019\n",
       "dpd          0.110718063 0.0287868162 0.130905207\n",
       "ruch         0.128213530 0.0284477403 0.151676217\n",
       "ups          0.139900865 0.0365312845 0.167022198\n",
       "log(tot + 1) 0.033852240 0.0123982027 0.039850455\n",
       "fem_ratio    0.001985456 0.0005281447 0.002395458\n",
       "parks        0.042365144 0.0183702719 0.053278416\n",
       "schools      0.019925685 0.0094147423 0.025152062\n",
       "cycleways    0.004677447 0.0014080831 0.005410368\n",
       "parkings     0.003082116 0.0010750601 0.003681574\n",
       "\n",
       "Simulated z-values:\n",
       "                Direct  Indirect     Total\n",
       "dhl           3.540222  2.047906  3.569165\n",
       "dpd           2.439148  1.707472  2.438485\n",
       "ruch          1.457977  1.222888  1.461804\n",
       "ups           2.247846  1.591503  2.230932\n",
       "log(tot + 1)  4.540161  2.249261  4.556571\n",
       "fem_ratio    -2.248551 -1.589268 -2.214091\n",
       "parks        -4.844420 -2.066040 -4.564480\n",
       "schools       5.595339  2.186592  5.251147\n",
       "cycleways     3.539126  2.109490  3.608703\n",
       "parkings      3.947842  2.057703  3.905900\n",
       "\n",
       "Simulated p-values:\n",
       "             Direct     Indirect Total     \n",
       "dhl          0.00039979 0.040569 0.00035812\n",
       "dpd          0.01472195 0.087734 0.01474897\n",
       "ruch         0.14484675 0.221372 0.14379506\n",
       "ups          0.02458603 0.111497 0.02568562\n",
       "log(tot + 1) 5.6211e-06 0.024496 5.1996e-06\n",
       "fem_ratio    0.02454109 0.112000 0.02682251\n",
       "parks        1.2698e-06 0.038825 5.0073e-06\n",
       "schools      2.2019e-08 0.028772 1.5116e-07\n",
       "cycleways    0.00040145 0.034902 0.00030773\n",
       "parkings     7.8859e-05 0.039619 9.3875e-05"
      ]
     },
     "metadata": {},
     "output_type": "display_data"
    }
   ],
   "source": [
    "# distribution of total impact \n",
    "# vector of traces of powers of a spatial weights matrix\n",
    "# converting censored listw to CsparseMatrix form\n",
    "W.c <- as(as_dgRMatrix_listw(df.cont.listw), \"CsparseMatrix\") \n",
    "# the default values for the number of powers is 30\n",
    "trMat<-trW(W.c, type=\"mult\") \n",
    "\n",
    "SAR_imp<-impacts(SAR_g2s, tr=trMat, R=200)\n",
    "summary(SAR_imp, zstats=TRUE, short=TRUE)"
   ]
  },
  {
   "cell_type": "markdown",
   "metadata": {},
   "source": [
    "## Conclusions from spatial dependence models\n",
    "\n",
    "We combine our statistical inference for Warsaw and Cracow. Base of above research we can generally claim that InPost has deployed parcel pick-up points in line with the competitors - as the number of InPost pick-up points increases, the number of competitors' pick-up points increases (ignoring competitors not significant in the regression). We demonstrate that our control variables from the demographic group and points of interest are also significant, so InPost follows modeling logic and literature guidance for instance such variables are positively related with number of InPost's pick-up points: number of cycleways, number of parkings, number of schools, number of crossings. As it turned out a significant spatial effect in multivariate econometric models is Spatial Lag. It is quite intuitive that spillover effect exists for this problem."
   ]
  }
 ],
 "metadata": {
  "kernelspec": {
   "display_name": "R",
   "language": "R",
   "name": "ir"
  },
  "language_info": {
   "codemirror_mode": "r",
   "file_extension": ".r",
   "mimetype": "text/x-r-source",
   "name": "R",
   "pygments_lexer": "r",
   "version": "3.6.1"
  },
  "toc-autonumbering": false
 },
 "nbformat": 4,
 "nbformat_minor": 4
}
