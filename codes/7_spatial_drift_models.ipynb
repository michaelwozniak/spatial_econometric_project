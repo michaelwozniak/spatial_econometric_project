{
 "cells": [
  {
   "cell_type": "code",
   "execution_count": 36,
   "metadata": {
    "ExecuteTime": {
     "end_time": "2021-06-10T21:03:56.718011Z",
     "start_time": "2021-06-10T21:03:56.697586Z"
    }
   },
   "outputs": [
    {
     "data": {
      "text/html": [
       "<style>.container { width:90% !important; }</style>"
      ],
      "text/plain": [
       "<IPython.core.display.HTML object>"
      ]
     },
     "metadata": {},
     "output_type": "display_data"
    },
    {
     "data": {
      "text/html": [
       "<style>.output_result { max-width:90% !important; }</style>"
      ],
      "text/plain": [
       "<IPython.core.display.HTML object>"
      ]
     },
     "metadata": {},
     "output_type": "display_data"
    },
    {
     "data": {
      "text/html": [
       "<style>.prompt { display:none !important; }</style>"
      ],
      "text/plain": [
       "<IPython.core.display.HTML object>"
      ]
     },
     "metadata": {},
     "output_type": "display_data"
    }
   ],
   "source": [
    "import pandas as pd\n",
    "import numpy as np\n",
    "import matplotlib.pyplot as plt\n",
    "import seaborn as sns\n",
    "import geopandas as gpd\n",
    "# import shapely\n",
    "# from shapely import wkt\n",
    "sns.set(style='darkgrid')\n",
    "% matplotlib inline\n",
    "\n",
    "from IPython.core.display import display, HTML\n",
    "display(HTML(\"<style>.container { width:90% !important; }</style>\"))\n",
    "display(HTML(\"<style>.output_result { max-width:90% !important; }</style>\"))\n",
    "display(HTML(\"<style>.prompt { display:none !important; }</style>\"))"
   ]
  },
  {
   "cell_type": "code",
   "execution_count": 52,
   "metadata": {
    "ExecuteTime": {
     "end_time": "2021-06-10T21:08:49.465093Z",
     "start_time": "2021-06-10T21:08:49.360366Z"
    }
   },
   "outputs": [],
   "source": [
    "df_warszawa = pd.read_csv(\"../datasets/preprocessed_data/df_warszawa_gwr.csv\")\n",
    "df_krakow = pd.read_csv(\"../datasets/preprocessed_data/df_krakow_gwr.csv\")\n",
    "df_poznan = pd.read_csv(\"../datasets/preprocessed_data/df_poznan_gwr.csv\")"
   ]
  },
  {
   "cell_type": "code",
   "execution_count": 53,
   "metadata": {
    "ExecuteTime": {
     "end_time": "2021-06-10T21:08:49.618607Z",
     "start_time": "2021-06-10T21:08:49.568489Z"
    }
   },
   "outputs": [
    {
     "data": {
      "text/html": [
       "<div>\n",
       "<style scoped>\n",
       "    .dataframe tbody tr th:only-of-type {\n",
       "        vertical-align: middle;\n",
       "    }\n",
       "\n",
       "    .dataframe tbody tr th {\n",
       "        vertical-align: top;\n",
       "    }\n",
       "\n",
       "    .dataframe thead th {\n",
       "        text-align: right;\n",
       "    }\n",
       "</style>\n",
       "<table border=\"1\" class=\"dataframe\">\n",
       "  <thead>\n",
       "    <tr style=\"text-align: right;\">\n",
       "      <th></th>\n",
       "      <th>buffer_index</th>\n",
       "      <th>operator</th>\n",
       "      <th>center</th>\n",
       "      <th>buffer</th>\n",
       "      <th>poczta_points</th>\n",
       "      <th>dhl_points</th>\n",
       "      <th>ruch_points</th>\n",
       "      <th>dpd_points</th>\n",
       "      <th>ups_points</th>\n",
       "      <th>fedex_points</th>\n",
       "      <th>...</th>\n",
       "      <th>buildings</th>\n",
       "      <th>shops</th>\n",
       "      <th>parks</th>\n",
       "      <th>forests</th>\n",
       "      <th>schools</th>\n",
       "      <th>railways</th>\n",
       "      <th>cycleways</th>\n",
       "      <th>parkings</th>\n",
       "      <th>crossings</th>\n",
       "      <th>bus_stops</th>\n",
       "    </tr>\n",
       "  </thead>\n",
       "  <tbody>\n",
       "    <tr>\n",
       "      <th>0</th>\n",
       "      <td>2494</td>\n",
       "      <td>inpost</td>\n",
       "      <td>POINT (18.17881 51.85185)</td>\n",
       "      <td>POLYGON ((18.18608963414273 51.85184977535621,...</td>\n",
       "      <td>0.0</td>\n",
       "      <td>0.0</td>\n",
       "      <td>0.0</td>\n",
       "      <td>0.0</td>\n",
       "      <td>0.0</td>\n",
       "      <td>0.0</td>\n",
       "      <td>...</td>\n",
       "      <td>0.0</td>\n",
       "      <td>0.0</td>\n",
       "      <td>0.0</td>\n",
       "      <td>0.0</td>\n",
       "      <td>0.0</td>\n",
       "      <td>0.0</td>\n",
       "      <td>0.0</td>\n",
       "      <td>0.0</td>\n",
       "      <td>0.0</td>\n",
       "      <td>0.0</td>\n",
       "    </tr>\n",
       "    <tr>\n",
       "      <th>1</th>\n",
       "      <td>2496</td>\n",
       "      <td>inpost</td>\n",
       "      <td>POINT (14.44149 53.92722)</td>\n",
       "      <td>POLYGON ((14.44912674094946 53.92721975778738,...</td>\n",
       "      <td>0.0</td>\n",
       "      <td>0.0</td>\n",
       "      <td>0.0</td>\n",
       "      <td>0.0</td>\n",
       "      <td>0.0</td>\n",
       "      <td>0.0</td>\n",
       "      <td>...</td>\n",
       "      <td>0.0</td>\n",
       "      <td>0.0</td>\n",
       "      <td>0.0</td>\n",
       "      <td>0.0</td>\n",
       "      <td>0.0</td>\n",
       "      <td>0.0</td>\n",
       "      <td>0.0</td>\n",
       "      <td>0.0</td>\n",
       "      <td>0.0</td>\n",
       "      <td>0.0</td>\n",
       "    </tr>\n",
       "    <tr>\n",
       "      <th>2</th>\n",
       "      <td>2498</td>\n",
       "      <td>inpost</td>\n",
       "      <td>POINT (20.95456 52.20284)</td>\n",
       "      <td>POLYGON ((20.96189699400729 52.20283977250097,...</td>\n",
       "      <td>1.0</td>\n",
       "      <td>0.0</td>\n",
       "      <td>0.0</td>\n",
       "      <td>0.0</td>\n",
       "      <td>0.0</td>\n",
       "      <td>0.0</td>\n",
       "      <td>...</td>\n",
       "      <td>0.0</td>\n",
       "      <td>0.0</td>\n",
       "      <td>3.0</td>\n",
       "      <td>48.0</td>\n",
       "      <td>5.0</td>\n",
       "      <td>2.0</td>\n",
       "      <td>1.0</td>\n",
       "      <td>31.0</td>\n",
       "      <td>20.0</td>\n",
       "      <td>1.0</td>\n",
       "    </tr>\n",
       "    <tr>\n",
       "      <th>3</th>\n",
       "      <td>2499</td>\n",
       "      <td>inpost</td>\n",
       "      <td>POINT (15.073679 54.09444300000001)</td>\n",
       "      <td>POLYGON ((15.08134649249089 54.09444275629603,...</td>\n",
       "      <td>2.0</td>\n",
       "      <td>0.0</td>\n",
       "      <td>0.0</td>\n",
       "      <td>0.0</td>\n",
       "      <td>0.0</td>\n",
       "      <td>0.0</td>\n",
       "      <td>...</td>\n",
       "      <td>0.0</td>\n",
       "      <td>0.0</td>\n",
       "      <td>0.0</td>\n",
       "      <td>0.0</td>\n",
       "      <td>0.0</td>\n",
       "      <td>0.0</td>\n",
       "      <td>0.0</td>\n",
       "      <td>0.0</td>\n",
       "      <td>0.0</td>\n",
       "      <td>0.0</td>\n",
       "    </tr>\n",
       "    <tr>\n",
       "      <th>4</th>\n",
       "      <td>2500</td>\n",
       "      <td>inpost</td>\n",
       "      <td>POINT (18.94084 50.91234)</td>\n",
       "      <td>POLYGON ((18.94797171499726 50.91233978278487,...</td>\n",
       "      <td>0.0</td>\n",
       "      <td>0.0</td>\n",
       "      <td>0.0</td>\n",
       "      <td>0.0</td>\n",
       "      <td>0.0</td>\n",
       "      <td>0.0</td>\n",
       "      <td>...</td>\n",
       "      <td>0.0</td>\n",
       "      <td>0.0</td>\n",
       "      <td>0.0</td>\n",
       "      <td>0.0</td>\n",
       "      <td>0.0</td>\n",
       "      <td>0.0</td>\n",
       "      <td>0.0</td>\n",
       "      <td>0.0</td>\n",
       "      <td>0.0</td>\n",
       "      <td>0.0</td>\n",
       "    </tr>\n",
       "  </tbody>\n",
       "</table>\n",
       "<p>5 rows × 33 columns</p>\n",
       "</div>"
      ],
      "text/plain": [
       "   buffer_index operator                               center  \\\n",
       "0          2494   inpost            POINT (18.17881 51.85185)   \n",
       "1          2496   inpost            POINT (14.44149 53.92722)   \n",
       "2          2498   inpost            POINT (20.95456 52.20284)   \n",
       "3          2499   inpost  POINT (15.073679 54.09444300000001)   \n",
       "4          2500   inpost            POINT (18.94084 50.91234)   \n",
       "\n",
       "                                              buffer  poczta_points  \\\n",
       "0  POLYGON ((18.18608963414273 51.85184977535621,...            0.0   \n",
       "1  POLYGON ((14.44912674094946 53.92721975778738,...            0.0   \n",
       "2  POLYGON ((20.96189699400729 52.20283977250097,...            1.0   \n",
       "3  POLYGON ((15.08134649249089 54.09444275629603,...            2.0   \n",
       "4  POLYGON ((18.94797171499726 50.91233978278487,...            0.0   \n",
       "\n",
       "   dhl_points  ruch_points  dpd_points  ups_points  fedex_points  ...  \\\n",
       "0         0.0          0.0         0.0         0.0           0.0  ...   \n",
       "1         0.0          0.0         0.0         0.0           0.0  ...   \n",
       "2         0.0          0.0         0.0         0.0           0.0  ...   \n",
       "3         0.0          0.0         0.0         0.0           0.0  ...   \n",
       "4         0.0          0.0         0.0         0.0           0.0  ...   \n",
       "\n",
       "   buildings  shops  parks  forests  schools  railways  cycleways  parkings  \\\n",
       "0        0.0    0.0    0.0      0.0      0.0       0.0        0.0       0.0   \n",
       "1        0.0    0.0    0.0      0.0      0.0       0.0        0.0       0.0   \n",
       "2        0.0    0.0    3.0     48.0      5.0       2.0        1.0      31.0   \n",
       "3        0.0    0.0    0.0      0.0      0.0       0.0        0.0       0.0   \n",
       "4        0.0    0.0    0.0      0.0      0.0       0.0        0.0       0.0   \n",
       "\n",
       "   crossings  bus_stops  \n",
       "0        0.0        0.0  \n",
       "1        0.0        0.0  \n",
       "2       20.0        1.0  \n",
       "3        0.0        0.0  \n",
       "4        0.0        0.0  \n",
       "\n",
       "[5 rows x 33 columns]"
      ]
     },
     "execution_count": 53,
     "metadata": {},
     "output_type": "execute_result"
    }
   ],
   "source": [
    "df_warszawa.head()"
   ]
  },
  {
   "cell_type": "code",
   "execution_count": 54,
   "metadata": {
    "ExecuteTime": {
     "end_time": "2021-06-10T21:08:50.008348Z",
     "start_time": "2021-06-10T21:08:49.999373Z"
    }
   },
   "outputs": [
    {
     "data": {
      "text/plain": [
       "'18.17881 51.85185)'"
      ]
     },
     "execution_count": 54,
     "metadata": {},
     "output_type": "execute_result"
    }
   ],
   "source": [
    "df_warszawa['center'][0][7:]"
   ]
  },
  {
   "cell_type": "code",
   "execution_count": 55,
   "metadata": {
    "ExecuteTime": {
     "end_time": "2021-06-10T21:08:50.495188Z",
     "start_time": "2021-06-10T21:08:50.479269Z"
    }
   },
   "outputs": [],
   "source": [
    "df_warszawa['z'], df_warszawa['y'] = df_warszawa['center'][0].split('(')\n",
    "df_warszawa['lon'], df_warszawa['lat'] = df_warszawa['y'][0].split(' ')\n",
    "df_warszawa['xxx'], df_warszawa['yyyy'] = df_warszawa['lat'][0].split(')')"
   ]
  },
  {
   "cell_type": "code",
   "execution_count": 56,
   "metadata": {
    "ExecuteTime": {
     "end_time": "2021-06-10T21:08:50.966420Z",
     "start_time": "2021-06-10T21:08:50.900571Z"
    }
   },
   "outputs": [
    {
     "data": {
      "text/html": [
       "<div>\n",
       "<style scoped>\n",
       "    .dataframe tbody tr th:only-of-type {\n",
       "        vertical-align: middle;\n",
       "    }\n",
       "\n",
       "    .dataframe tbody tr th {\n",
       "        vertical-align: top;\n",
       "    }\n",
       "\n",
       "    .dataframe thead th {\n",
       "        text-align: right;\n",
       "    }\n",
       "</style>\n",
       "<table border=\"1\" class=\"dataframe\">\n",
       "  <thead>\n",
       "    <tr style=\"text-align: right;\">\n",
       "      <th></th>\n",
       "      <th>buffer_index</th>\n",
       "      <th>operator</th>\n",
       "      <th>center</th>\n",
       "      <th>buffer</th>\n",
       "      <th>poczta_points</th>\n",
       "      <th>dhl_points</th>\n",
       "      <th>ruch_points</th>\n",
       "      <th>dpd_points</th>\n",
       "      <th>ups_points</th>\n",
       "      <th>fedex_points</th>\n",
       "      <th>...</th>\n",
       "      <th>cycleways</th>\n",
       "      <th>parkings</th>\n",
       "      <th>crossings</th>\n",
       "      <th>bus_stops</th>\n",
       "      <th>z</th>\n",
       "      <th>y</th>\n",
       "      <th>lon</th>\n",
       "      <th>lat</th>\n",
       "      <th>xxx</th>\n",
       "      <th>yyyy</th>\n",
       "    </tr>\n",
       "  </thead>\n",
       "  <tbody>\n",
       "    <tr>\n",
       "      <th>0</th>\n",
       "      <td>2494</td>\n",
       "      <td>inpost</td>\n",
       "      <td>POINT (18.17881 51.85185)</td>\n",
       "      <td>POLYGON ((18.18608963414273 51.85184977535621,...</td>\n",
       "      <td>0.0</td>\n",
       "      <td>0.0</td>\n",
       "      <td>0.0</td>\n",
       "      <td>0.0</td>\n",
       "      <td>0.0</td>\n",
       "      <td>0.0</td>\n",
       "      <td>...</td>\n",
       "      <td>0.0</td>\n",
       "      <td>0.0</td>\n",
       "      <td>0.0</td>\n",
       "      <td>0.0</td>\n",
       "      <td>POINT</td>\n",
       "      <td>18.17881 51.85185)</td>\n",
       "      <td>18.17881</td>\n",
       "      <td>51.85185)</td>\n",
       "      <td>51.85185</td>\n",
       "      <td></td>\n",
       "    </tr>\n",
       "    <tr>\n",
       "      <th>1</th>\n",
       "      <td>2496</td>\n",
       "      <td>inpost</td>\n",
       "      <td>POINT (14.44149 53.92722)</td>\n",
       "      <td>POLYGON ((14.44912674094946 53.92721975778738,...</td>\n",
       "      <td>0.0</td>\n",
       "      <td>0.0</td>\n",
       "      <td>0.0</td>\n",
       "      <td>0.0</td>\n",
       "      <td>0.0</td>\n",
       "      <td>0.0</td>\n",
       "      <td>...</td>\n",
       "      <td>0.0</td>\n",
       "      <td>0.0</td>\n",
       "      <td>0.0</td>\n",
       "      <td>0.0</td>\n",
       "      <td>POINT</td>\n",
       "      <td>18.17881 51.85185)</td>\n",
       "      <td>18.17881</td>\n",
       "      <td>51.85185)</td>\n",
       "      <td>51.85185</td>\n",
       "      <td></td>\n",
       "    </tr>\n",
       "    <tr>\n",
       "      <th>2</th>\n",
       "      <td>2498</td>\n",
       "      <td>inpost</td>\n",
       "      <td>POINT (20.95456 52.20284)</td>\n",
       "      <td>POLYGON ((20.96189699400729 52.20283977250097,...</td>\n",
       "      <td>1.0</td>\n",
       "      <td>0.0</td>\n",
       "      <td>0.0</td>\n",
       "      <td>0.0</td>\n",
       "      <td>0.0</td>\n",
       "      <td>0.0</td>\n",
       "      <td>...</td>\n",
       "      <td>1.0</td>\n",
       "      <td>31.0</td>\n",
       "      <td>20.0</td>\n",
       "      <td>1.0</td>\n",
       "      <td>POINT</td>\n",
       "      <td>18.17881 51.85185)</td>\n",
       "      <td>18.17881</td>\n",
       "      <td>51.85185)</td>\n",
       "      <td>51.85185</td>\n",
       "      <td></td>\n",
       "    </tr>\n",
       "    <tr>\n",
       "      <th>3</th>\n",
       "      <td>2499</td>\n",
       "      <td>inpost</td>\n",
       "      <td>POINT (15.073679 54.09444300000001)</td>\n",
       "      <td>POLYGON ((15.08134649249089 54.09444275629603,...</td>\n",
       "      <td>2.0</td>\n",
       "      <td>0.0</td>\n",
       "      <td>0.0</td>\n",
       "      <td>0.0</td>\n",
       "      <td>0.0</td>\n",
       "      <td>0.0</td>\n",
       "      <td>...</td>\n",
       "      <td>0.0</td>\n",
       "      <td>0.0</td>\n",
       "      <td>0.0</td>\n",
       "      <td>0.0</td>\n",
       "      <td>POINT</td>\n",
       "      <td>18.17881 51.85185)</td>\n",
       "      <td>18.17881</td>\n",
       "      <td>51.85185)</td>\n",
       "      <td>51.85185</td>\n",
       "      <td></td>\n",
       "    </tr>\n",
       "    <tr>\n",
       "      <th>4</th>\n",
       "      <td>2500</td>\n",
       "      <td>inpost</td>\n",
       "      <td>POINT (18.94084 50.91234)</td>\n",
       "      <td>POLYGON ((18.94797171499726 50.91233978278487,...</td>\n",
       "      <td>0.0</td>\n",
       "      <td>0.0</td>\n",
       "      <td>0.0</td>\n",
       "      <td>0.0</td>\n",
       "      <td>0.0</td>\n",
       "      <td>0.0</td>\n",
       "      <td>...</td>\n",
       "      <td>0.0</td>\n",
       "      <td>0.0</td>\n",
       "      <td>0.0</td>\n",
       "      <td>0.0</td>\n",
       "      <td>POINT</td>\n",
       "      <td>18.17881 51.85185)</td>\n",
       "      <td>18.17881</td>\n",
       "      <td>51.85185)</td>\n",
       "      <td>51.85185</td>\n",
       "      <td></td>\n",
       "    </tr>\n",
       "  </tbody>\n",
       "</table>\n",
       "<p>5 rows × 39 columns</p>\n",
       "</div>"
      ],
      "text/plain": [
       "   buffer_index operator                               center  \\\n",
       "0          2494   inpost            POINT (18.17881 51.85185)   \n",
       "1          2496   inpost            POINT (14.44149 53.92722)   \n",
       "2          2498   inpost            POINT (20.95456 52.20284)   \n",
       "3          2499   inpost  POINT (15.073679 54.09444300000001)   \n",
       "4          2500   inpost            POINT (18.94084 50.91234)   \n",
       "\n",
       "                                              buffer  poczta_points  \\\n",
       "0  POLYGON ((18.18608963414273 51.85184977535621,...            0.0   \n",
       "1  POLYGON ((14.44912674094946 53.92721975778738,...            0.0   \n",
       "2  POLYGON ((20.96189699400729 52.20283977250097,...            1.0   \n",
       "3  POLYGON ((15.08134649249089 54.09444275629603,...            2.0   \n",
       "4  POLYGON ((18.94797171499726 50.91233978278487,...            0.0   \n",
       "\n",
       "   dhl_points  ruch_points  dpd_points  ups_points  fedex_points  ...  \\\n",
       "0         0.0          0.0         0.0         0.0           0.0  ...   \n",
       "1         0.0          0.0         0.0         0.0           0.0  ...   \n",
       "2         0.0          0.0         0.0         0.0           0.0  ...   \n",
       "3         0.0          0.0         0.0         0.0           0.0  ...   \n",
       "4         0.0          0.0         0.0         0.0           0.0  ...   \n",
       "\n",
       "   cycleways  parkings  crossings  bus_stops       z                   y  \\\n",
       "0        0.0       0.0        0.0        0.0  POINT   18.17881 51.85185)   \n",
       "1        0.0       0.0        0.0        0.0  POINT   18.17881 51.85185)   \n",
       "2        1.0      31.0       20.0        1.0  POINT   18.17881 51.85185)   \n",
       "3        0.0       0.0        0.0        0.0  POINT   18.17881 51.85185)   \n",
       "4        0.0       0.0        0.0        0.0  POINT   18.17881 51.85185)   \n",
       "\n",
       "        lon        lat       xxx  yyyy  \n",
       "0  18.17881  51.85185)  51.85185        \n",
       "1  18.17881  51.85185)  51.85185        \n",
       "2  18.17881  51.85185)  51.85185        \n",
       "3  18.17881  51.85185)  51.85185        \n",
       "4  18.17881  51.85185)  51.85185        \n",
       "\n",
       "[5 rows x 39 columns]"
      ]
     },
     "execution_count": 56,
     "metadata": {},
     "output_type": "execute_result"
    }
   ],
   "source": [
    "df_warszawa.head()"
   ]
  },
  {
   "cell_type": "code",
   "execution_count": null,
   "metadata": {},
   "outputs": [],
   "source": []
  },
  {
   "cell_type": "code",
   "execution_count": null,
   "metadata": {},
   "outputs": [],
   "source": []
  },
  {
   "cell_type": "code",
   "execution_count": 3,
   "metadata": {
    "ExecuteTime": {
     "end_time": "2021-06-10T20:27:32.809037Z",
     "start_time": "2021-06-10T20:27:32.799100Z"
    }
   },
   "outputs": [],
   "source": [
    "df = pd.concat([df_warszawa, df_krakow, df_poznan])"
   ]
  },
  {
   "cell_type": "code",
   "execution_count": 4,
   "metadata": {
    "ExecuteTime": {
     "end_time": "2021-06-10T20:27:33.471315Z",
     "start_time": "2021-06-10T20:27:33.422480Z"
    }
   },
   "outputs": [
    {
     "data": {
      "text/html": [
       "<div>\n",
       "<style scoped>\n",
       "    .dataframe tbody tr th:only-of-type {\n",
       "        vertical-align: middle;\n",
       "    }\n",
       "\n",
       "    .dataframe tbody tr th {\n",
       "        vertical-align: top;\n",
       "    }\n",
       "\n",
       "    .dataframe thead th {\n",
       "        text-align: right;\n",
       "    }\n",
       "</style>\n",
       "<table border=\"1\" class=\"dataframe\">\n",
       "  <thead>\n",
       "    <tr style=\"text-align: right;\">\n",
       "      <th></th>\n",
       "      <th>buffer_index</th>\n",
       "      <th>operator</th>\n",
       "      <th>center</th>\n",
       "      <th>buffer</th>\n",
       "      <th>poczta_points</th>\n",
       "      <th>dhl_points</th>\n",
       "      <th>ruch_points</th>\n",
       "      <th>dpd_points</th>\n",
       "      <th>ups_points</th>\n",
       "      <th>fedex_points</th>\n",
       "      <th>...</th>\n",
       "      <th>buildings</th>\n",
       "      <th>shops</th>\n",
       "      <th>parks</th>\n",
       "      <th>forests</th>\n",
       "      <th>schools</th>\n",
       "      <th>railways</th>\n",
       "      <th>cycleways</th>\n",
       "      <th>parkings</th>\n",
       "      <th>crossings</th>\n",
       "      <th>bus_stops</th>\n",
       "    </tr>\n",
       "  </thead>\n",
       "  <tbody>\n",
       "    <tr>\n",
       "      <th>0</th>\n",
       "      <td>2494</td>\n",
       "      <td>inpost</td>\n",
       "      <td>POINT (18.17881 51.85185)</td>\n",
       "      <td>POLYGON ((18.18608963414273 51.85184977535621,...</td>\n",
       "      <td>0.0</td>\n",
       "      <td>0.0</td>\n",
       "      <td>0.0</td>\n",
       "      <td>0.0</td>\n",
       "      <td>0.0</td>\n",
       "      <td>0.0</td>\n",
       "      <td>...</td>\n",
       "      <td>0.0</td>\n",
       "      <td>0.0</td>\n",
       "      <td>0.0</td>\n",
       "      <td>0.0</td>\n",
       "      <td>0.0</td>\n",
       "      <td>0.0</td>\n",
       "      <td>0.0</td>\n",
       "      <td>0.0</td>\n",
       "      <td>0.0</td>\n",
       "      <td>0.0</td>\n",
       "    </tr>\n",
       "    <tr>\n",
       "      <th>1</th>\n",
       "      <td>2496</td>\n",
       "      <td>inpost</td>\n",
       "      <td>POINT (14.44149 53.92722)</td>\n",
       "      <td>POLYGON ((14.44912674094946 53.92721975778738,...</td>\n",
       "      <td>0.0</td>\n",
       "      <td>0.0</td>\n",
       "      <td>0.0</td>\n",
       "      <td>0.0</td>\n",
       "      <td>0.0</td>\n",
       "      <td>0.0</td>\n",
       "      <td>...</td>\n",
       "      <td>0.0</td>\n",
       "      <td>0.0</td>\n",
       "      <td>0.0</td>\n",
       "      <td>0.0</td>\n",
       "      <td>0.0</td>\n",
       "      <td>0.0</td>\n",
       "      <td>0.0</td>\n",
       "      <td>0.0</td>\n",
       "      <td>0.0</td>\n",
       "      <td>0.0</td>\n",
       "    </tr>\n",
       "    <tr>\n",
       "      <th>2</th>\n",
       "      <td>2498</td>\n",
       "      <td>inpost</td>\n",
       "      <td>POINT (20.95456 52.20284)</td>\n",
       "      <td>POLYGON ((20.96189699400729 52.20283977250097,...</td>\n",
       "      <td>1.0</td>\n",
       "      <td>0.0</td>\n",
       "      <td>0.0</td>\n",
       "      <td>0.0</td>\n",
       "      <td>0.0</td>\n",
       "      <td>0.0</td>\n",
       "      <td>...</td>\n",
       "      <td>0.0</td>\n",
       "      <td>0.0</td>\n",
       "      <td>3.0</td>\n",
       "      <td>48.0</td>\n",
       "      <td>5.0</td>\n",
       "      <td>2.0</td>\n",
       "      <td>1.0</td>\n",
       "      <td>31.0</td>\n",
       "      <td>20.0</td>\n",
       "      <td>1.0</td>\n",
       "    </tr>\n",
       "    <tr>\n",
       "      <th>3</th>\n",
       "      <td>2499</td>\n",
       "      <td>inpost</td>\n",
       "      <td>POINT (15.073679 54.09444300000001)</td>\n",
       "      <td>POLYGON ((15.08134649249089 54.09444275629603,...</td>\n",
       "      <td>2.0</td>\n",
       "      <td>0.0</td>\n",
       "      <td>0.0</td>\n",
       "      <td>0.0</td>\n",
       "      <td>0.0</td>\n",
       "      <td>0.0</td>\n",
       "      <td>...</td>\n",
       "      <td>0.0</td>\n",
       "      <td>0.0</td>\n",
       "      <td>0.0</td>\n",
       "      <td>0.0</td>\n",
       "      <td>0.0</td>\n",
       "      <td>0.0</td>\n",
       "      <td>0.0</td>\n",
       "      <td>0.0</td>\n",
       "      <td>0.0</td>\n",
       "      <td>0.0</td>\n",
       "    </tr>\n",
       "    <tr>\n",
       "      <th>4</th>\n",
       "      <td>2500</td>\n",
       "      <td>inpost</td>\n",
       "      <td>POINT (18.94084 50.91234)</td>\n",
       "      <td>POLYGON ((18.94797171499726 50.91233978278487,...</td>\n",
       "      <td>0.0</td>\n",
       "      <td>0.0</td>\n",
       "      <td>0.0</td>\n",
       "      <td>0.0</td>\n",
       "      <td>0.0</td>\n",
       "      <td>0.0</td>\n",
       "      <td>...</td>\n",
       "      <td>0.0</td>\n",
       "      <td>0.0</td>\n",
       "      <td>0.0</td>\n",
       "      <td>0.0</td>\n",
       "      <td>0.0</td>\n",
       "      <td>0.0</td>\n",
       "      <td>0.0</td>\n",
       "      <td>0.0</td>\n",
       "      <td>0.0</td>\n",
       "      <td>0.0</td>\n",
       "    </tr>\n",
       "  </tbody>\n",
       "</table>\n",
       "<p>5 rows × 33 columns</p>\n",
       "</div>"
      ],
      "text/plain": [
       "   buffer_index operator                               center  \\\n",
       "0          2494   inpost            POINT (18.17881 51.85185)   \n",
       "1          2496   inpost            POINT (14.44149 53.92722)   \n",
       "2          2498   inpost            POINT (20.95456 52.20284)   \n",
       "3          2499   inpost  POINT (15.073679 54.09444300000001)   \n",
       "4          2500   inpost            POINT (18.94084 50.91234)   \n",
       "\n",
       "                                              buffer  poczta_points  \\\n",
       "0  POLYGON ((18.18608963414273 51.85184977535621,...            0.0   \n",
       "1  POLYGON ((14.44912674094946 53.92721975778738,...            0.0   \n",
       "2  POLYGON ((20.96189699400729 52.20283977250097,...            1.0   \n",
       "3  POLYGON ((15.08134649249089 54.09444275629603,...            2.0   \n",
       "4  POLYGON ((18.94797171499726 50.91233978278487,...            0.0   \n",
       "\n",
       "   dhl_points  ruch_points  dpd_points  ups_points  fedex_points  ...  \\\n",
       "0         0.0          0.0         0.0         0.0           0.0  ...   \n",
       "1         0.0          0.0         0.0         0.0           0.0  ...   \n",
       "2         0.0          0.0         0.0         0.0           0.0  ...   \n",
       "3         0.0          0.0         0.0         0.0           0.0  ...   \n",
       "4         0.0          0.0         0.0         0.0           0.0  ...   \n",
       "\n",
       "   buildings  shops  parks  forests  schools  railways  cycleways  parkings  \\\n",
       "0        0.0    0.0    0.0      0.0      0.0       0.0        0.0       0.0   \n",
       "1        0.0    0.0    0.0      0.0      0.0       0.0        0.0       0.0   \n",
       "2        0.0    0.0    3.0     48.0      5.0       2.0        1.0      31.0   \n",
       "3        0.0    0.0    0.0      0.0      0.0       0.0        0.0       0.0   \n",
       "4        0.0    0.0    0.0      0.0      0.0       0.0        0.0       0.0   \n",
       "\n",
       "   crossings  bus_stops  \n",
       "0        0.0        0.0  \n",
       "1        0.0        0.0  \n",
       "2       20.0        1.0  \n",
       "3        0.0        0.0  \n",
       "4        0.0        0.0  \n",
       "\n",
       "[5 rows x 33 columns]"
      ]
     },
     "execution_count": 4,
     "metadata": {},
     "output_type": "execute_result"
    }
   ],
   "source": [
    "df.head()"
   ]
  },
  {
   "cell_type": "code",
   "execution_count": 5,
   "metadata": {
    "ExecuteTime": {
     "end_time": "2021-06-10T20:27:33.989558Z",
     "start_time": "2021-06-10T20:27:33.981579Z"
    }
   },
   "outputs": [],
   "source": [
    "df = df.drop(columns = {'operator', 'buffer'})"
   ]
  },
  {
   "cell_type": "code",
   "execution_count": 6,
   "metadata": {
    "ExecuteTime": {
     "end_time": "2021-06-10T20:27:34.633911Z",
     "start_time": "2021-06-10T20:27:34.574566Z"
    }
   },
   "outputs": [
    {
     "data": {
      "text/html": [
       "<div>\n",
       "<style scoped>\n",
       "    .dataframe tbody tr th:only-of-type {\n",
       "        vertical-align: middle;\n",
       "    }\n",
       "\n",
       "    .dataframe tbody tr th {\n",
       "        vertical-align: top;\n",
       "    }\n",
       "\n",
       "    .dataframe thead th {\n",
       "        text-align: right;\n",
       "    }\n",
       "</style>\n",
       "<table border=\"1\" class=\"dataframe\">\n",
       "  <thead>\n",
       "    <tr style=\"text-align: right;\">\n",
       "      <th></th>\n",
       "      <th>buffer_index</th>\n",
       "      <th>center</th>\n",
       "      <th>poczta_points</th>\n",
       "      <th>dhl_points</th>\n",
       "      <th>ruch_points</th>\n",
       "      <th>dpd_points</th>\n",
       "      <th>ups_points</th>\n",
       "      <th>fedex_points</th>\n",
       "      <th>TOT</th>\n",
       "      <th>TOT_0_14</th>\n",
       "      <th>...</th>\n",
       "      <th>buildings</th>\n",
       "      <th>shops</th>\n",
       "      <th>parks</th>\n",
       "      <th>forests</th>\n",
       "      <th>schools</th>\n",
       "      <th>railways</th>\n",
       "      <th>cycleways</th>\n",
       "      <th>parkings</th>\n",
       "      <th>crossings</th>\n",
       "      <th>bus_stops</th>\n",
       "    </tr>\n",
       "  </thead>\n",
       "  <tbody>\n",
       "    <tr>\n",
       "      <th>0</th>\n",
       "      <td>2494</td>\n",
       "      <td>POINT (18.17881 51.85185)</td>\n",
       "      <td>0.0</td>\n",
       "      <td>0.0</td>\n",
       "      <td>0.0</td>\n",
       "      <td>0.0</td>\n",
       "      <td>0.0</td>\n",
       "      <td>0.0</td>\n",
       "      <td>156.250000</td>\n",
       "      <td>24.50</td>\n",
       "      <td>...</td>\n",
       "      <td>0.0</td>\n",
       "      <td>0.0</td>\n",
       "      <td>0.0</td>\n",
       "      <td>0.0</td>\n",
       "      <td>0.0</td>\n",
       "      <td>0.0</td>\n",
       "      <td>0.0</td>\n",
       "      <td>0.0</td>\n",
       "      <td>0.0</td>\n",
       "      <td>0.0</td>\n",
       "    </tr>\n",
       "    <tr>\n",
       "      <th>1</th>\n",
       "      <td>2496</td>\n",
       "      <td>POINT (14.44149 53.92722)</td>\n",
       "      <td>0.0</td>\n",
       "      <td>0.0</td>\n",
       "      <td>0.0</td>\n",
       "      <td>0.0</td>\n",
       "      <td>0.0</td>\n",
       "      <td>0.0</td>\n",
       "      <td>1545.666667</td>\n",
       "      <td>191.00</td>\n",
       "      <td>...</td>\n",
       "      <td>0.0</td>\n",
       "      <td>0.0</td>\n",
       "      <td>0.0</td>\n",
       "      <td>0.0</td>\n",
       "      <td>0.0</td>\n",
       "      <td>0.0</td>\n",
       "      <td>0.0</td>\n",
       "      <td>0.0</td>\n",
       "      <td>0.0</td>\n",
       "      <td>0.0</td>\n",
       "    </tr>\n",
       "    <tr>\n",
       "      <th>2</th>\n",
       "      <td>2498</td>\n",
       "      <td>POINT (20.95456 52.20284)</td>\n",
       "      <td>1.0</td>\n",
       "      <td>0.0</td>\n",
       "      <td>0.0</td>\n",
       "      <td>0.0</td>\n",
       "      <td>0.0</td>\n",
       "      <td>0.0</td>\n",
       "      <td>8293.750000</td>\n",
       "      <td>1065.00</td>\n",
       "      <td>...</td>\n",
       "      <td>0.0</td>\n",
       "      <td>0.0</td>\n",
       "      <td>3.0</td>\n",
       "      <td>48.0</td>\n",
       "      <td>5.0</td>\n",
       "      <td>2.0</td>\n",
       "      <td>1.0</td>\n",
       "      <td>31.0</td>\n",
       "      <td>20.0</td>\n",
       "      <td>1.0</td>\n",
       "    </tr>\n",
       "    <tr>\n",
       "      <th>3</th>\n",
       "      <td>2499</td>\n",
       "      <td>POINT (15.073679 54.09444300000001)</td>\n",
       "      <td>2.0</td>\n",
       "      <td>0.0</td>\n",
       "      <td>0.0</td>\n",
       "      <td>0.0</td>\n",
       "      <td>0.0</td>\n",
       "      <td>0.0</td>\n",
       "      <td>220.250000</td>\n",
       "      <td>36.25</td>\n",
       "      <td>...</td>\n",
       "      <td>0.0</td>\n",
       "      <td>0.0</td>\n",
       "      <td>0.0</td>\n",
       "      <td>0.0</td>\n",
       "      <td>0.0</td>\n",
       "      <td>0.0</td>\n",
       "      <td>0.0</td>\n",
       "      <td>0.0</td>\n",
       "      <td>0.0</td>\n",
       "      <td>0.0</td>\n",
       "    </tr>\n",
       "    <tr>\n",
       "      <th>4</th>\n",
       "      <td>2500</td>\n",
       "      <td>POINT (18.94084 50.91234)</td>\n",
       "      <td>0.0</td>\n",
       "      <td>0.0</td>\n",
       "      <td>0.0</td>\n",
       "      <td>0.0</td>\n",
       "      <td>0.0</td>\n",
       "      <td>0.0</td>\n",
       "      <td>2073.500000</td>\n",
       "      <td>271.75</td>\n",
       "      <td>...</td>\n",
       "      <td>0.0</td>\n",
       "      <td>0.0</td>\n",
       "      <td>0.0</td>\n",
       "      <td>0.0</td>\n",
       "      <td>0.0</td>\n",
       "      <td>0.0</td>\n",
       "      <td>0.0</td>\n",
       "      <td>0.0</td>\n",
       "      <td>0.0</td>\n",
       "      <td>0.0</td>\n",
       "    </tr>\n",
       "  </tbody>\n",
       "</table>\n",
       "<p>5 rows × 31 columns</p>\n",
       "</div>"
      ],
      "text/plain": [
       "   buffer_index                               center  poczta_points  \\\n",
       "0          2494            POINT (18.17881 51.85185)            0.0   \n",
       "1          2496            POINT (14.44149 53.92722)            0.0   \n",
       "2          2498            POINT (20.95456 52.20284)            1.0   \n",
       "3          2499  POINT (15.073679 54.09444300000001)            2.0   \n",
       "4          2500            POINT (18.94084 50.91234)            0.0   \n",
       "\n",
       "   dhl_points  ruch_points  dpd_points  ups_points  fedex_points          TOT  \\\n",
       "0         0.0          0.0         0.0         0.0           0.0   156.250000   \n",
       "1         0.0          0.0         0.0         0.0           0.0  1545.666667   \n",
       "2         0.0          0.0         0.0         0.0           0.0  8293.750000   \n",
       "3         0.0          0.0         0.0         0.0           0.0   220.250000   \n",
       "4         0.0          0.0         0.0         0.0           0.0  2073.500000   \n",
       "\n",
       "   TOT_0_14  ...  buildings  shops  parks  forests  schools  railways  \\\n",
       "0     24.50  ...        0.0    0.0    0.0      0.0      0.0       0.0   \n",
       "1    191.00  ...        0.0    0.0    0.0      0.0      0.0       0.0   \n",
       "2   1065.00  ...        0.0    0.0    3.0     48.0      5.0       2.0   \n",
       "3     36.25  ...        0.0    0.0    0.0      0.0      0.0       0.0   \n",
       "4    271.75  ...        0.0    0.0    0.0      0.0      0.0       0.0   \n",
       "\n",
       "   cycleways  parkings  crossings  bus_stops  \n",
       "0        0.0       0.0        0.0        0.0  \n",
       "1        0.0       0.0        0.0        0.0  \n",
       "2        1.0      31.0       20.0        1.0  \n",
       "3        0.0       0.0        0.0        0.0  \n",
       "4        0.0       0.0        0.0        0.0  \n",
       "\n",
       "[5 rows x 31 columns]"
      ]
     },
     "execution_count": 6,
     "metadata": {},
     "output_type": "execute_result"
    }
   ],
   "source": [
    "df.head()"
   ]
  },
  {
   "cell_type": "code",
   "execution_count": 13,
   "metadata": {
    "ExecuteTime": {
     "end_time": "2021-06-10T20:32:01.702674Z",
     "start_time": "2021-06-10T20:32:01.534928Z"
    }
   },
   "outputs": [],
   "source": [
    "import shapely\n",
    "from shapely.geometry import Point\n",
    "import shapely.wkt\n",
    "df['geometry'] = df.apply(lambda x: shapely.wkt.loads(x['center']), axis=1)"
   ]
  },
  {
   "cell_type": "code",
   "execution_count": 15,
   "metadata": {
    "ExecuteTime": {
     "end_time": "2021-06-10T20:32:10.219742Z",
     "start_time": "2021-06-10T20:32:10.175885Z"
    }
   },
   "outputs": [],
   "source": [
    "df_geo = gpd.GeoDataFrame(df, geometry = 'geometry', crs = \"epsg:4258\")"
   ]
  },
  {
   "cell_type": "code",
   "execution_count": 10,
   "metadata": {
    "ExecuteTime": {
     "end_time": "2021-06-10T20:30:07.090153Z",
     "start_time": "2021-06-10T20:30:05.598565Z"
    }
   },
   "outputs": [],
   "source": [
    "import mgwr"
   ]
  },
  {
   "cell_type": "code",
   "execution_count": 11,
   "metadata": {
    "ExecuteTime": {
     "end_time": "2021-06-10T20:30:11.716611Z",
     "start_time": "2021-06-10T20:30:11.712936Z"
    }
   },
   "outputs": [],
   "source": [
    "import numpy as np\n",
    "from mgwr.gwr import GWR, MGWR\n",
    "from mgwr.sel_bw import Sel_BW"
   ]
  },
  {
   "cell_type": "code",
   "execution_count": 12,
   "metadata": {
    "ExecuteTime": {
     "end_time": "2021-06-10T20:30:38.292603Z",
     "start_time": "2021-06-10T20:30:38.286619Z"
    }
   },
   "outputs": [],
   "source": [
    "from mgwr.utils import compare_surfaces, truncate_colormap"
   ]
  },
  {
   "cell_type": "code",
   "execution_count": 23,
   "metadata": {
    "ExecuteTime": {
     "end_time": "2021-06-10T20:35:58.486279Z",
     "start_time": "2021-06-10T20:35:57.694618Z"
    }
   },
   "outputs": [
    {
     "name": "stderr",
     "output_type": "stream",
     "text": [
      "c:\\users\\michal_schudnij\\appdata\\local\\programs\\python\\python36-32\\lib\\site-packages\\ipykernel_launcher.py:3: UserWarning: Geometry is in a geographic CRS. Results from 'centroid' are likely incorrect. Use 'GeoSeries.to_crs()' to re-project geometries to a projected CRS before this operation.\n",
      "\n",
      "  This is separate from the ipykernel package so we can avoid doing imports until\n"
     ]
    },
    {
     "data": {
      "image/png": "[encoded data removed]",
      "text/plain": [
       "<Figure size 720x720 with 1 Axes>"
      ]
     },
     "metadata": {},
     "output_type": "display_data"
    }
   ],
   "source": [
    "fig, ax = plt.subplots(figsize = (10, 10))\n",
    "df_geo.plot(ax=ax, **{'edgecolor': 'black', 'facecolor': 'white'})\n",
    "df_geo.centroid.plot(ax = ax, c = 'black')\n",
    "plt.savefig('georgia_shp')\n",
    "plt.show()"
   ]
  },
  {
   "cell_type": "code",
   "execution_count": 60,
   "metadata": {
    "ExecuteTime": {
     "end_time": "2021-06-10T21:09:58.049469Z",
     "start_time": "2021-06-10T21:09:57.920808Z"
    }
   },
   "outputs": [],
   "source": [
    "import shapely\n",
    "from shapely.geometry import Point\n",
    "import shapely.wkt\n",
    "df_warszawa['geometry'] = df_warszawa.apply(lambda x: shapely.wkt.loads(x['center']), axis=1)\n",
    "\n",
    "df_geo = gpd.GeoDataFrame(df_warszawa, geometry = 'geometry', crs = \"epsg:4258\")"
   ]
  },
  {
   "cell_type": "code",
   "execution_count": 61,
   "metadata": {
    "ExecuteTime": {
     "end_time": "2021-06-10T21:09:59.005592Z",
     "start_time": "2021-06-10T21:09:58.801140Z"
    }
   },
   "outputs": [
    {
     "data": {
      "text/html": [
       "<div>\n",
       "<style scoped>\n",
       "    .dataframe tbody tr th:only-of-type {\n",
       "        vertical-align: middle;\n",
       "    }\n",
       "\n",
       "    .dataframe tbody tr th {\n",
       "        vertical-align: top;\n",
       "    }\n",
       "\n",
       "    .dataframe thead th {\n",
       "        text-align: right;\n",
       "    }\n",
       "</style>\n",
       "<table border=\"1\" class=\"dataframe\">\n",
       "  <thead>\n",
       "    <tr style=\"text-align: right;\">\n",
       "      <th></th>\n",
       "      <th>buffer_index</th>\n",
       "      <th>operator</th>\n",
       "      <th>center</th>\n",
       "      <th>buffer</th>\n",
       "      <th>poczta_points</th>\n",
       "      <th>dhl_points</th>\n",
       "      <th>ruch_points</th>\n",
       "      <th>dpd_points</th>\n",
       "      <th>ups_points</th>\n",
       "      <th>fedex_points</th>\n",
       "      <th>...</th>\n",
       "      <th>parkings</th>\n",
       "      <th>crossings</th>\n",
       "      <th>bus_stops</th>\n",
       "      <th>z</th>\n",
       "      <th>y</th>\n",
       "      <th>lon</th>\n",
       "      <th>lat</th>\n",
       "      <th>xxx</th>\n",
       "      <th>yyyy</th>\n",
       "      <th>geometry</th>\n",
       "    </tr>\n",
       "  </thead>\n",
       "  <tbody>\n",
       "    <tr>\n",
       "      <th>0</th>\n",
       "      <td>2494</td>\n",
       "      <td>inpost</td>\n",
       "      <td>POINT (18.17881 51.85185)</td>\n",
       "      <td>POLYGON ((18.18608963414273 51.85184977535621,...</td>\n",
       "      <td>0.0</td>\n",
       "      <td>0.0</td>\n",
       "      <td>0.0</td>\n",
       "      <td>0.0</td>\n",
       "      <td>0.0</td>\n",
       "      <td>0.0</td>\n",
       "      <td>...</td>\n",
       "      <td>0.0</td>\n",
       "      <td>0.0</td>\n",
       "      <td>0.0</td>\n",
       "      <td>POINT</td>\n",
       "      <td>18.17881 51.85185)</td>\n",
       "      <td>18.17881</td>\n",
       "      <td>51.85185)</td>\n",
       "      <td>51.85185</td>\n",
       "      <td></td>\n",
       "      <td>POINT (18.17881 51.85185)</td>\n",
       "    </tr>\n",
       "    <tr>\n",
       "      <th>1</th>\n",
       "      <td>2496</td>\n",
       "      <td>inpost</td>\n",
       "      <td>POINT (14.44149 53.92722)</td>\n",
       "      <td>POLYGON ((14.44912674094946 53.92721975778738,...</td>\n",
       "      <td>0.0</td>\n",
       "      <td>0.0</td>\n",
       "      <td>0.0</td>\n",
       "      <td>0.0</td>\n",
       "      <td>0.0</td>\n",
       "      <td>0.0</td>\n",
       "      <td>...</td>\n",
       "      <td>0.0</td>\n",
       "      <td>0.0</td>\n",
       "      <td>0.0</td>\n",
       "      <td>POINT</td>\n",
       "      <td>18.17881 51.85185)</td>\n",
       "      <td>18.17881</td>\n",
       "      <td>51.85185)</td>\n",
       "      <td>51.85185</td>\n",
       "      <td></td>\n",
       "      <td>POINT (14.44149 53.92722)</td>\n",
       "    </tr>\n",
       "    <tr>\n",
       "      <th>2</th>\n",
       "      <td>2498</td>\n",
       "      <td>inpost</td>\n",
       "      <td>POINT (20.95456 52.20284)</td>\n",
       "      <td>POLYGON ((20.96189699400729 52.20283977250097,...</td>\n",
       "      <td>1.0</td>\n",
       "      <td>0.0</td>\n",
       "      <td>0.0</td>\n",
       "      <td>0.0</td>\n",
       "      <td>0.0</td>\n",
       "      <td>0.0</td>\n",
       "      <td>...</td>\n",
       "      <td>31.0</td>\n",
       "      <td>20.0</td>\n",
       "      <td>1.0</td>\n",
       "      <td>POINT</td>\n",
       "      <td>18.17881 51.85185)</td>\n",
       "      <td>18.17881</td>\n",
       "      <td>51.85185)</td>\n",
       "      <td>51.85185</td>\n",
       "      <td></td>\n",
       "      <td>POINT (20.95456 52.20284)</td>\n",
       "    </tr>\n",
       "    <tr>\n",
       "      <th>3</th>\n",
       "      <td>2499</td>\n",
       "      <td>inpost</td>\n",
       "      <td>POINT (15.073679 54.09444300000001)</td>\n",
       "      <td>POLYGON ((15.08134649249089 54.09444275629603,...</td>\n",
       "      <td>2.0</td>\n",
       "      <td>0.0</td>\n",
       "      <td>0.0</td>\n",
       "      <td>0.0</td>\n",
       "      <td>0.0</td>\n",
       "      <td>0.0</td>\n",
       "      <td>...</td>\n",
       "      <td>0.0</td>\n",
       "      <td>0.0</td>\n",
       "      <td>0.0</td>\n",
       "      <td>POINT</td>\n",
       "      <td>18.17881 51.85185)</td>\n",
       "      <td>18.17881</td>\n",
       "      <td>51.85185)</td>\n",
       "      <td>51.85185</td>\n",
       "      <td></td>\n",
       "      <td>POINT (15.07368 54.09444)</td>\n",
       "    </tr>\n",
       "    <tr>\n",
       "      <th>4</th>\n",
       "      <td>2500</td>\n",
       "      <td>inpost</td>\n",
       "      <td>POINT (18.94084 50.91234)</td>\n",
       "      <td>POLYGON ((18.94797171499726 50.91233978278487,...</td>\n",
       "      <td>0.0</td>\n",
       "      <td>0.0</td>\n",
       "      <td>0.0</td>\n",
       "      <td>0.0</td>\n",
       "      <td>0.0</td>\n",
       "      <td>0.0</td>\n",
       "      <td>...</td>\n",
       "      <td>0.0</td>\n",
       "      <td>0.0</td>\n",
       "      <td>0.0</td>\n",
       "      <td>POINT</td>\n",
       "      <td>18.17881 51.85185)</td>\n",
       "      <td>18.17881</td>\n",
       "      <td>51.85185)</td>\n",
       "      <td>51.85185</td>\n",
       "      <td></td>\n",
       "      <td>POINT (18.94084 50.91234)</td>\n",
       "    </tr>\n",
       "  </tbody>\n",
       "</table>\n",
       "<p>5 rows × 40 columns</p>\n",
       "</div>"
      ],
      "text/plain": [
       "   buffer_index operator                               center  \\\n",
       "0          2494   inpost            POINT (18.17881 51.85185)   \n",
       "1          2496   inpost            POINT (14.44149 53.92722)   \n",
       "2          2498   inpost            POINT (20.95456 52.20284)   \n",
       "3          2499   inpost  POINT (15.073679 54.09444300000001)   \n",
       "4          2500   inpost            POINT (18.94084 50.91234)   \n",
       "\n",
       "                                              buffer  poczta_points  \\\n",
       "0  POLYGON ((18.18608963414273 51.85184977535621,...            0.0   \n",
       "1  POLYGON ((14.44912674094946 53.92721975778738,...            0.0   \n",
       "2  POLYGON ((20.96189699400729 52.20283977250097,...            1.0   \n",
       "3  POLYGON ((15.08134649249089 54.09444275629603,...            2.0   \n",
       "4  POLYGON ((18.94797171499726 50.91233978278487,...            0.0   \n",
       "\n",
       "   dhl_points  ruch_points  dpd_points  ups_points  fedex_points  ...  \\\n",
       "0         0.0          0.0         0.0         0.0           0.0  ...   \n",
       "1         0.0          0.0         0.0         0.0           0.0  ...   \n",
       "2         0.0          0.0         0.0         0.0           0.0  ...   \n",
       "3         0.0          0.0         0.0         0.0           0.0  ...   \n",
       "4         0.0          0.0         0.0         0.0           0.0  ...   \n",
       "\n",
       "   parkings  crossings  bus_stops       z                   y       lon  \\\n",
       "0       0.0        0.0        0.0  POINT   18.17881 51.85185)  18.17881   \n",
       "1       0.0        0.0        0.0  POINT   18.17881 51.85185)  18.17881   \n",
       "2      31.0       20.0        1.0  POINT   18.17881 51.85185)  18.17881   \n",
       "3       0.0        0.0        0.0  POINT   18.17881 51.85185)  18.17881   \n",
       "4       0.0        0.0        0.0  POINT   18.17881 51.85185)  18.17881   \n",
       "\n",
       "         lat       xxx  yyyy                   geometry  \n",
       "0  51.85185)  51.85185        POINT (18.17881 51.85185)  \n",
       "1  51.85185)  51.85185        POINT (14.44149 53.92722)  \n",
       "2  51.85185)  51.85185        POINT (20.95456 52.20284)  \n",
       "3  51.85185)  51.85185        POINT (15.07368 54.09444)  \n",
       "4  51.85185)  51.85185        POINT (18.94084 50.91234)  \n",
       "\n",
       "[5 rows x 40 columns]"
      ]
     },
     "execution_count": 61,
     "metadata": {},
     "output_type": "execute_result"
    }
   ],
   "source": [
    "df_geo.head()"
   ]
  },
  {
   "cell_type": "code",
   "execution_count": 62,
   "metadata": {
    "ExecuteTime": {
     "end_time": "2021-06-10T21:10:02.824253Z",
     "start_time": "2021-06-10T21:10:02.816269Z"
    }
   },
   "outputs": [
    {
     "data": {
      "text/plain": [
       "'POINT (14.44149 53.92722)'"
      ]
     },
     "execution_count": 62,
     "metadata": {},
     "output_type": "execute_result"
    }
   ],
   "source": [
    "df_geo['center'][1]"
   ]
  },
  {
   "cell_type": "code",
   "execution_count": 70,
   "metadata": {
    "ExecuteTime": {
     "end_time": "2021-06-10T21:12:14.183324Z",
     "start_time": "2021-06-10T21:12:14.175345Z"
    }
   },
   "outputs": [],
   "source": [
    "df_geo['lon'] = df_geo['lon'].astype(float)"
   ]
  },
  {
   "cell_type": "code",
   "execution_count": 71,
   "metadata": {
    "ExecuteTime": {
     "end_time": "2021-06-10T21:12:23.621973Z",
     "start_time": "2021-06-10T21:12:23.615594Z"
    }
   },
   "outputs": [],
   "source": [
    "df_geo['xxx'] = df_geo['xxx'].astype(float)"
   ]
  },
  {
   "cell_type": "code",
   "execution_count": 88,
   "metadata": {
    "ExecuteTime": {
     "end_time": "2021-06-10T21:16:36.360244Z",
     "start_time": "2021-06-10T21:16:36.352278Z"
    }
   },
   "outputs": [
    {
     "data": {
      "text/plain": [
       "['buffer_index',\n",
       " 'operator',\n",
       " 'center',\n",
       " 'buffer',\n",
       " 'poczta_points',\n",
       " 'dhl_points',\n",
       " 'ruch_points',\n",
       " 'dpd_points',\n",
       " 'ups_points',\n",
       " 'fedex_points',\n",
       " 'TOT',\n",
       " 'TOT_0_14',\n",
       " 'TOT_15_64',\n",
       " 'TOT_65__',\n",
       " 'TOT_MALE',\n",
       " 'TOT_FEM',\n",
       " 'MALE_0_14',\n",
       " 'MALE_15_64',\n",
       " 'MALE_65__',\n",
       " 'FEM_0_14',\n",
       " 'FEM_15_64',\n",
       " 'FEM_65__',\n",
       " 'FEM_RATIO',\n",
       " 'buildings',\n",
       " 'shops',\n",
       " 'parks',\n",
       " 'forests',\n",
       " 'schools',\n",
       " 'railways',\n",
       " 'cycleways',\n",
       " 'parkings',\n",
       " 'crossings',\n",
       " 'bus_stops',\n",
       " 'z',\n",
       " 'y',\n",
       " 'lon',\n",
       " 'lat',\n",
       " 'xxx',\n",
       " 'yyyy',\n",
       " 'geometry']"
      ]
     },
     "execution_count": 88,
     "metadata": {},
     "output_type": "execute_result"
    }
   ],
   "source": [
    "df_geo.columns.to_list()"
   ]
  },
  {
   "cell_type": "code",
   "execution_count": 101,
   "metadata": {
    "ExecuteTime": {
     "end_time": "2021-06-10T21:18:56.857519Z",
     "start_time": "2021-06-10T21:18:56.848580Z"
    }
   },
   "outputs": [],
   "source": [
    "g_y = df_geo['FEM_RATIO'].values.reshape((-1, 1))\n",
    "g_X = df_geo[['buildings', 'TOT_FEM']].values\n",
    "u = df_geo['lon']\n",
    "v = df_geo['xxx']\n",
    "g_coords = list(zip(u, v))"
   ]
  },
  {
   "cell_type": "code",
   "execution_count": 102,
   "metadata": {
    "ExecuteTime": {
     "end_time": "2021-06-10T21:18:57.175949Z",
     "start_time": "2021-06-10T21:18:57.167970Z"
    }
   },
   "outputs": [],
   "source": [
    "selector = Sel_BW(g_coords, g_y, g_X)"
   ]
  },
  {
   "cell_type": "code",
   "execution_count": null,
   "metadata": {},
   "outputs": [],
   "source": []
  },
  {
   "cell_type": "code",
   "execution_count": 103,
   "metadata": {
    "ExecuteTime": {
     "end_time": "2021-06-10T21:18:57.497643Z",
     "start_time": "2021-06-10T21:18:57.457223Z"
    }
   },
   "outputs": [
    {
     "name": "stderr",
     "output_type": "stream",
     "text": [
      "c:\\users\\michal_schudnij\\appdata\\local\\programs\\python\\python36-32\\lib\\site-packages\\mgwr\\kernels.py:60: RuntimeWarning: invalid value encountered in true_divide\n",
      "  self.kernel = self._kernel_funcs(self.dvec / self.bandwidth)\n"
     ]
    },
    {
     "ename": "LinAlgError",
     "evalue": "Matrix is singular.",
     "output_type": "error",
     "traceback": [
      "\u001b[1;31m---------------------------------------------------------------------------\u001b[0m",
      "\u001b[1;31mLinAlgError\u001b[0m                               Traceback (most recent call last)",
      "\u001b[1;32m<ipython-input-103-9296d574ee64>\u001b[0m in \u001b[0;36m<module>\u001b[1;34m()\u001b[0m\n\u001b[1;32m----> 1\u001b[1;33m \u001b[0mbw\u001b[0m \u001b[1;33m=\u001b[0m \u001b[0mselector\u001b[0m\u001b[1;33m.\u001b[0m\u001b[0msearch\u001b[0m\u001b[1;33m(\u001b[0m\u001b[1;33m)\u001b[0m\u001b[1;33m\u001b[0m\u001b[0m\n\u001b[0m",
      "\u001b[1;32mc:\\users\\michal_schudnij\\appdata\\local\\programs\\python\\python36-32\\lib\\site-packages\\mgwr\\sel_bw.py\u001b[0m in \u001b[0;36msearch\u001b[1;34m(self, search_method, criterion, bw_min, bw_max, interval, tol, max_iter, init_multi, tol_multi, rss_score, max_iter_multi, multi_bw_min, multi_bw_max, bws_same_times, pool, verbose)\u001b[0m\n\u001b[0;32m    317\u001b[0m                 -1]  #scalar, optimal bw from initial gwr model\n\u001b[0;32m    318\u001b[0m         \u001b[1;32melse\u001b[0m\u001b[1;33m:\u001b[0m\u001b[1;33m\u001b[0m\u001b[0m\n\u001b[1;32m--> 319\u001b[1;33m             \u001b[0mself\u001b[0m\u001b[1;33m.\u001b[0m\u001b[0m_bw\u001b[0m\u001b[1;33m(\u001b[0m\u001b[1;33m)\u001b[0m\u001b[1;33m\u001b[0m\u001b[0m\n\u001b[0m\u001b[0;32m    320\u001b[0m             \u001b[0mself\u001b[0m\u001b[1;33m.\u001b[0m\u001b[0msel_hist\u001b[0m \u001b[1;33m=\u001b[0m \u001b[0mself\u001b[0m\u001b[1;33m.\u001b[0m\u001b[0mbw\u001b[0m\u001b[1;33m[\u001b[0m\u001b[1;33m-\u001b[0m\u001b[1;36m1\u001b[0m\u001b[1;33m]\u001b[0m\u001b[1;33m\u001b[0m\u001b[0m\n\u001b[0;32m    321\u001b[0m \u001b[1;33m\u001b[0m\u001b[0m\n",
      "\u001b[1;32mc:\\users\\michal_schudnij\\appdata\\local\\programs\\python\\python36-32\\lib\\site-packages\\mgwr\\sel_bw.py\u001b[0m in \u001b[0;36m_bw\u001b[1;34m(self)\u001b[0m\n\u001b[0;32m    337\u001b[0m             self.bw = golden_section(a, c, delta, gwr_func, self.tol,\n\u001b[0;32m    338\u001b[0m                                      \u001b[0mself\u001b[0m\u001b[1;33m.\u001b[0m\u001b[0mmax_iter\u001b[0m\u001b[1;33m,\u001b[0m \u001b[0mself\u001b[0m\u001b[1;33m.\u001b[0m\u001b[0mint_score\u001b[0m\u001b[1;33m,\u001b[0m\u001b[1;33m\u001b[0m\u001b[0m\n\u001b[1;32m--> 339\u001b[1;33m                                      self.verbose)\n\u001b[0m\u001b[0;32m    340\u001b[0m         \u001b[1;32melif\u001b[0m \u001b[0mself\u001b[0m\u001b[1;33m.\u001b[0m\u001b[0msearch_method\u001b[0m \u001b[1;33m==\u001b[0m \u001b[1;34m'interval'\u001b[0m\u001b[1;33m:\u001b[0m\u001b[1;33m\u001b[0m\u001b[0m\n\u001b[0;32m    341\u001b[0m             self.bw = equal_interval(self.bw_min, self.bw_max, self.interval,\n",
      "\u001b[1;32mc:\\users\\michal_schudnij\\appdata\\local\\programs\\python\\python36-32\\lib\\site-packages\\mgwr\\search.py\u001b[0m in \u001b[0;36mgolden_section\u001b[1;34m(a, c, delta, function, tol, max_iter, int_score, verbose)\u001b[0m\n\u001b[0;32m     60\u001b[0m             \u001b[0mscore_b\u001b[0m \u001b[1;33m=\u001b[0m \u001b[0mdict\u001b[0m\u001b[1;33m[\u001b[0m\u001b[0mb\u001b[0m\u001b[1;33m]\u001b[0m\u001b[1;33m\u001b[0m\u001b[0m\n\u001b[0;32m     61\u001b[0m         \u001b[1;32melse\u001b[0m\u001b[1;33m:\u001b[0m\u001b[1;33m\u001b[0m\u001b[0m\n\u001b[1;32m---> 62\u001b[1;33m             \u001b[0mscore_b\u001b[0m \u001b[1;33m=\u001b[0m \u001b[0mfunction\u001b[0m\u001b[1;33m(\u001b[0m\u001b[0mb\u001b[0m\u001b[1;33m)\u001b[0m\u001b[1;33m\u001b[0m\u001b[0m\n\u001b[0m\u001b[0;32m     63\u001b[0m             \u001b[0mdict\u001b[0m\u001b[1;33m[\u001b[0m\u001b[0mb\u001b[0m\u001b[1;33m]\u001b[0m \u001b[1;33m=\u001b[0m \u001b[0mscore_b\u001b[0m\u001b[1;33m\u001b[0m\u001b[0m\n\u001b[0;32m     64\u001b[0m             \u001b[1;32mif\u001b[0m \u001b[0mverbose\u001b[0m\u001b[1;33m:\u001b[0m\u001b[1;33m\u001b[0m\u001b[0m\n",
      "\u001b[1;32mc:\\users\\michal_schudnij\\appdata\\local\\programs\\python\\python36-32\\lib\\site-packages\\mgwr\\sel_bw.py\u001b[0m in \u001b[0;36m<lambda>\u001b[1;34m(bw)\u001b[0m\n\u001b[0;32m    327\u001b[0m             \u001b[0mself\u001b[0m\u001b[1;33m.\u001b[0m\u001b[0mcoords\u001b[0m\u001b[1;33m,\u001b[0m \u001b[0mself\u001b[0m\u001b[1;33m.\u001b[0m\u001b[0my\u001b[0m\u001b[1;33m,\u001b[0m \u001b[0mself\u001b[0m\u001b[1;33m.\u001b[0m\u001b[0mX_loc\u001b[0m\u001b[1;33m,\u001b[0m \u001b[0mbw\u001b[0m\u001b[1;33m,\u001b[0m \u001b[0mfamily\u001b[0m\u001b[1;33m=\u001b[0m\u001b[0mself\u001b[0m\u001b[1;33m.\u001b[0m\u001b[0mfamily\u001b[0m\u001b[1;33m,\u001b[0m \u001b[0mkernel\u001b[0m\u001b[1;33m=\u001b[0m\u001b[1;33m\u001b[0m\u001b[0m\n\u001b[0;32m    328\u001b[0m             \u001b[0mself\u001b[0m\u001b[1;33m.\u001b[0m\u001b[0mkernel\u001b[0m\u001b[1;33m,\u001b[0m \u001b[0mfixed\u001b[0m\u001b[1;33m=\u001b[0m\u001b[0mself\u001b[0m\u001b[1;33m.\u001b[0m\u001b[0mfixed\u001b[0m\u001b[1;33m,\u001b[0m \u001b[0mconstant\u001b[0m\u001b[1;33m=\u001b[0m\u001b[0mself\u001b[0m\u001b[1;33m.\u001b[0m\u001b[0mconstant\u001b[0m\u001b[1;33m,\u001b[0m \u001b[0moffset\u001b[0m\u001b[1;33m=\u001b[0m\u001b[0mself\u001b[0m\u001b[1;33m.\u001b[0m\u001b[1;33m\u001b[0m\u001b[0m\n\u001b[1;32m--> 329\u001b[1;33m             offset, spherical=self.spherical).fit(lite=True, pool=self.pool))\n\u001b[0m\u001b[0;32m    330\u001b[0m \u001b[1;33m\u001b[0m\u001b[0m\n\u001b[0;32m    331\u001b[0m         \u001b[0mself\u001b[0m\u001b[1;33m.\u001b[0m\u001b[0m_optimized_function\u001b[0m \u001b[1;33m=\u001b[0m \u001b[0mgwr_func\u001b[0m\u001b[1;33m\u001b[0m\u001b[0m\n",
      "\u001b[1;32mc:\\users\\michal_schudnij\\appdata\\local\\programs\\python\\python36-32\\lib\\site-packages\\mgwr\\gwr.py\u001b[0m in \u001b[0;36mfit\u001b[1;34m(self, ini_params, tol, max_iter, solve, lite, pool)\u001b[0m\n\u001b[0;32m    333\u001b[0m                 \u001b[0mrslt\u001b[0m \u001b[1;33m=\u001b[0m \u001b[0mmap\u001b[0m\u001b[1;33m(\u001b[0m\u001b[0mself\u001b[0m\u001b[1;33m.\u001b[0m\u001b[0m_local_fit\u001b[0m\u001b[1;33m,\u001b[0m \u001b[0mrange\u001b[0m\u001b[1;33m(\u001b[0m\u001b[0mm\u001b[0m\u001b[1;33m)\u001b[0m\u001b[1;33m)\u001b[0m  \u001b[1;31m#sequential\u001b[0m\u001b[1;33m\u001b[0m\u001b[0m\n\u001b[0;32m    334\u001b[0m \u001b[1;33m\u001b[0m\u001b[0m\n\u001b[1;32m--> 335\u001b[1;33m             \u001b[0mrslt_list\u001b[0m \u001b[1;33m=\u001b[0m \u001b[0mlist\u001b[0m\u001b[1;33m(\u001b[0m\u001b[0mzip\u001b[0m\u001b[1;33m(\u001b[0m\u001b[1;33m*\u001b[0m\u001b[0mrslt\u001b[0m\u001b[1;33m)\u001b[0m\u001b[1;33m)\u001b[0m\u001b[1;33m\u001b[0m\u001b[0m\n\u001b[0m\u001b[0;32m    336\u001b[0m             \u001b[0minflu\u001b[0m \u001b[1;33m=\u001b[0m \u001b[0mnp\u001b[0m\u001b[1;33m.\u001b[0m\u001b[0marray\u001b[0m\u001b[1;33m(\u001b[0m\u001b[0mrslt_list\u001b[0m\u001b[1;33m[\u001b[0m\u001b[1;36m0\u001b[0m\u001b[1;33m]\u001b[0m\u001b[1;33m)\u001b[0m\u001b[1;33m.\u001b[0m\u001b[0mreshape\u001b[0m\u001b[1;33m(\u001b[0m\u001b[1;33m-\u001b[0m\u001b[1;36m1\u001b[0m\u001b[1;33m,\u001b[0m \u001b[1;36m1\u001b[0m\u001b[1;33m)\u001b[0m\u001b[1;33m\u001b[0m\u001b[0m\n\u001b[0;32m    337\u001b[0m             \u001b[0mresid\u001b[0m \u001b[1;33m=\u001b[0m \u001b[0mnp\u001b[0m\u001b[1;33m.\u001b[0m\u001b[0marray\u001b[0m\u001b[1;33m(\u001b[0m\u001b[0mrslt_list\u001b[0m\u001b[1;33m[\u001b[0m\u001b[1;36m1\u001b[0m\u001b[1;33m]\u001b[0m\u001b[1;33m)\u001b[0m\u001b[1;33m.\u001b[0m\u001b[0mreshape\u001b[0m\u001b[1;33m(\u001b[0m\u001b[1;33m-\u001b[0m\u001b[1;36m1\u001b[0m\u001b[1;33m,\u001b[0m \u001b[1;36m1\u001b[0m\u001b[1;33m)\u001b[0m\u001b[1;33m\u001b[0m\u001b[0m\n",
      "\u001b[1;32mc:\\users\\michal_schudnij\\appdata\\local\\programs\\python\\python36-32\\lib\\site-packages\\mgwr\\gwr.py\u001b[0m in \u001b[0;36m_local_fit\u001b[1;34m(self, i)\u001b[0m\n\u001b[0;32m    249\u001b[0m \u001b[1;33m\u001b[0m\u001b[0m\n\u001b[0;32m    250\u001b[0m         \u001b[1;32mif\u001b[0m \u001b[0misinstance\u001b[0m\u001b[1;33m(\u001b[0m\u001b[0mself\u001b[0m\u001b[1;33m.\u001b[0m\u001b[0mfamily\u001b[0m\u001b[1;33m,\u001b[0m \u001b[0mGaussian\u001b[0m\u001b[1;33m)\u001b[0m\u001b[1;33m:\u001b[0m\u001b[1;33m\u001b[0m\u001b[0m\n\u001b[1;32m--> 251\u001b[1;33m             \u001b[0mbetas\u001b[0m\u001b[1;33m,\u001b[0m \u001b[0minv_xtx_xt\u001b[0m \u001b[1;33m=\u001b[0m \u001b[0m_compute_betas_gwr\u001b[0m\u001b[1;33m(\u001b[0m\u001b[0mself\u001b[0m\u001b[1;33m.\u001b[0m\u001b[0my\u001b[0m\u001b[1;33m,\u001b[0m \u001b[0mself\u001b[0m\u001b[1;33m.\u001b[0m\u001b[0mX\u001b[0m\u001b[1;33m,\u001b[0m \u001b[0mwi\u001b[0m\u001b[1;33m)\u001b[0m\u001b[1;33m\u001b[0m\u001b[0m\n\u001b[0m\u001b[0;32m    252\u001b[0m             \u001b[0mpredy\u001b[0m \u001b[1;33m=\u001b[0m \u001b[0mnp\u001b[0m\u001b[1;33m.\u001b[0m\u001b[0mdot\u001b[0m\u001b[1;33m(\u001b[0m\u001b[0mself\u001b[0m\u001b[1;33m.\u001b[0m\u001b[0mX\u001b[0m\u001b[1;33m[\u001b[0m\u001b[0mi\u001b[0m\u001b[1;33m]\u001b[0m\u001b[1;33m,\u001b[0m \u001b[0mbetas\u001b[0m\u001b[1;33m)\u001b[0m\u001b[1;33m[\u001b[0m\u001b[1;36m0\u001b[0m\u001b[1;33m]\u001b[0m\u001b[1;33m\u001b[0m\u001b[0m\n\u001b[0;32m    253\u001b[0m             \u001b[0mresid\u001b[0m \u001b[1;33m=\u001b[0m \u001b[0mself\u001b[0m\u001b[1;33m.\u001b[0m\u001b[0my\u001b[0m\u001b[1;33m[\u001b[0m\u001b[0mi\u001b[0m\u001b[1;33m]\u001b[0m \u001b[1;33m-\u001b[0m \u001b[0mpredy\u001b[0m\u001b[1;33m\u001b[0m\u001b[0m\n",
      "\u001b[1;32mc:\\users\\michal_schudnij\\appdata\\local\\programs\\python\\python36-32\\lib\\site-packages\\spglm\\iwls.py\u001b[0m in \u001b[0;36m_compute_betas_gwr\u001b[1;34m(y, x, wi)\u001b[0m\n\u001b[0;32m     35\u001b[0m     \u001b[0mxT\u001b[0m \u001b[1;33m=\u001b[0m \u001b[1;33m(\u001b[0m\u001b[0mx\u001b[0m \u001b[1;33m*\u001b[0m \u001b[0mwi\u001b[0m\u001b[1;33m)\u001b[0m\u001b[1;33m.\u001b[0m\u001b[0mT\u001b[0m\u001b[1;33m\u001b[0m\u001b[0m\n\u001b[0;32m     36\u001b[0m     \u001b[0mxtx\u001b[0m \u001b[1;33m=\u001b[0m \u001b[0mnp\u001b[0m\u001b[1;33m.\u001b[0m\u001b[0mdot\u001b[0m\u001b[1;33m(\u001b[0m\u001b[0mxT\u001b[0m\u001b[1;33m,\u001b[0m \u001b[0mx\u001b[0m\u001b[1;33m)\u001b[0m\u001b[1;33m\u001b[0m\u001b[0m\n\u001b[1;32m---> 37\u001b[1;33m     \u001b[0mxtx_inv_xt\u001b[0m \u001b[1;33m=\u001b[0m \u001b[0mlinalg\u001b[0m\u001b[1;33m.\u001b[0m\u001b[0msolve\u001b[0m\u001b[1;33m(\u001b[0m\u001b[0mxtx\u001b[0m\u001b[1;33m,\u001b[0m \u001b[0mxT\u001b[0m\u001b[1;33m)\u001b[0m\u001b[1;33m\u001b[0m\u001b[0m\n\u001b[0m\u001b[0;32m     38\u001b[0m     \u001b[0mbetas\u001b[0m \u001b[1;33m=\u001b[0m \u001b[0mnp\u001b[0m\u001b[1;33m.\u001b[0m\u001b[0mdot\u001b[0m\u001b[1;33m(\u001b[0m\u001b[0mxtx_inv_xt\u001b[0m\u001b[1;33m,\u001b[0m \u001b[0my\u001b[0m\u001b[1;33m)\u001b[0m\u001b[1;33m\u001b[0m\u001b[0m\n\u001b[0;32m     39\u001b[0m     \u001b[1;32mreturn\u001b[0m \u001b[0mbetas\u001b[0m\u001b[1;33m,\u001b[0m \u001b[0mxtx_inv_xt\u001b[0m\u001b[1;33m\u001b[0m\u001b[0m\n",
      "\u001b[1;32mc:\\users\\michal_schudnij\\appdata\\local\\programs\\python\\python36-32\\lib\\site-packages\\scipy\\linalg\\basic.py\u001b[0m in \u001b[0;36msolve\u001b[1;34m(a, b, sym_pos, lower, overwrite_a, overwrite_b, debug, check_finite, assume_a, transposed)\u001b[0m\n\u001b[0;32m    212\u001b[0m                                                (a1, b1))\n\u001b[0;32m    213\u001b[0m         \u001b[0mlu\u001b[0m\u001b[1;33m,\u001b[0m \u001b[0mipvt\u001b[0m\u001b[1;33m,\u001b[0m \u001b[0minfo\u001b[0m \u001b[1;33m=\u001b[0m \u001b[0mgetrf\u001b[0m\u001b[1;33m(\u001b[0m\u001b[0ma1\u001b[0m\u001b[1;33m,\u001b[0m \u001b[0moverwrite_a\u001b[0m\u001b[1;33m=\u001b[0m\u001b[0moverwrite_a\u001b[0m\u001b[1;33m)\u001b[0m\u001b[1;33m\u001b[0m\u001b[0m\n\u001b[1;32m--> 214\u001b[1;33m         \u001b[0m_solve_check\u001b[0m\u001b[1;33m(\u001b[0m\u001b[0mn\u001b[0m\u001b[1;33m,\u001b[0m \u001b[0minfo\u001b[0m\u001b[1;33m)\u001b[0m\u001b[1;33m\u001b[0m\u001b[0m\n\u001b[0m\u001b[0;32m    215\u001b[0m         x, info = getrs(lu, ipvt, b1,\n\u001b[0;32m    216\u001b[0m                         trans=trans, overwrite_b=overwrite_b)\n",
      "\u001b[1;32mc:\\users\\michal_schudnij\\appdata\\local\\programs\\python\\python36-32\\lib\\site-packages\\scipy\\linalg\\basic.py\u001b[0m in \u001b[0;36m_solve_check\u001b[1;34m(n, info, lamch, rcond)\u001b[0m\n\u001b[0;32m     27\u001b[0m                          '.'.format(-info))\n\u001b[0;32m     28\u001b[0m     \u001b[1;32melif\u001b[0m \u001b[1;36m0\u001b[0m \u001b[1;33m<\u001b[0m \u001b[0minfo\u001b[0m\u001b[1;33m:\u001b[0m\u001b[1;33m\u001b[0m\u001b[0m\n\u001b[1;32m---> 29\u001b[1;33m         \u001b[1;32mraise\u001b[0m \u001b[0mLinAlgError\u001b[0m\u001b[1;33m(\u001b[0m\u001b[1;34m'Matrix is singular.'\u001b[0m\u001b[1;33m)\u001b[0m\u001b[1;33m\u001b[0m\u001b[0m\n\u001b[0m\u001b[0;32m     30\u001b[0m \u001b[1;33m\u001b[0m\u001b[0m\n\u001b[0;32m     31\u001b[0m     \u001b[1;32mif\u001b[0m \u001b[0mlamch\u001b[0m \u001b[1;32mis\u001b[0m \u001b[1;32mNone\u001b[0m\u001b[1;33m:\u001b[0m\u001b[1;33m\u001b[0m\u001b[0m\n",
      "\u001b[1;31mLinAlgError\u001b[0m: Matrix is singular."
     ]
    }
   ],
   "source": [
    "bw = selector.search()"
   ]
  },
  {
   "cell_type": "code",
   "execution_count": 78,
   "metadata": {
    "ExecuteTime": {
     "end_time": "2021-06-10T21:13:23.903521Z",
     "start_time": "2021-06-10T21:13:23.855605Z"
    }
   },
   "outputs": [
    {
     "name": "stderr",
     "output_type": "stream",
     "text": [
      "c:\\users\\michal_schudnij\\appdata\\local\\programs\\python\\python36-32\\lib\\site-packages\\mgwr\\kernels.py:60: RuntimeWarning: invalid value encountered in true_divide\n",
      "  self.kernel = self._kernel_funcs(self.dvec / self.bandwidth)\n"
     ]
    },
    {
     "ename": "LinAlgError",
     "evalue": "Matrix is singular.",
     "output_type": "error",
     "traceback": [
      "\u001b[1;31m---------------------------------------------------------------------------\u001b[0m",
      "\u001b[1;31mLinAlgError\u001b[0m                               Traceback (most recent call last)",
      "\u001b[1;32m<ipython-input-78-82bb945bab3b>\u001b[0m in \u001b[0;36m<module>\u001b[1;34m()\u001b[0m\n\u001b[0;32m      2\u001b[0m \u001b[0minterval\u001b[0m \u001b[1;33m=\u001b[0m \u001b[1;36m2\u001b[0m\u001b[1;33m,\u001b[0m\u001b[1;33m\u001b[0m\u001b[0m\n\u001b[0;32m      3\u001b[0m \u001b[0mbw_min\u001b[0m \u001b[1;33m=\u001b[0m \u001b[1;36m101\u001b[0m\u001b[1;33m,\u001b[0m\u001b[1;33m\u001b[0m\u001b[0m\n\u001b[1;32m----> 4\u001b[1;33m bw_max = 150)\n\u001b[0m",
      "\u001b[1;32mc:\\users\\michal_schudnij\\appdata\\local\\programs\\python\\python36-32\\lib\\site-packages\\mgwr\\sel_bw.py\u001b[0m in \u001b[0;36msearch\u001b[1;34m(self, search_method, criterion, bw_min, bw_max, interval, tol, max_iter, init_multi, tol_multi, rss_score, max_iter_multi, multi_bw_min, multi_bw_max, bws_same_times, pool, verbose)\u001b[0m\n\u001b[0;32m    317\u001b[0m                 -1]  #scalar, optimal bw from initial gwr model\n\u001b[0;32m    318\u001b[0m         \u001b[1;32melse\u001b[0m\u001b[1;33m:\u001b[0m\u001b[1;33m\u001b[0m\u001b[0m\n\u001b[1;32m--> 319\u001b[1;33m             \u001b[0mself\u001b[0m\u001b[1;33m.\u001b[0m\u001b[0m_bw\u001b[0m\u001b[1;33m(\u001b[0m\u001b[1;33m)\u001b[0m\u001b[1;33m\u001b[0m\u001b[0m\n\u001b[0m\u001b[0;32m    320\u001b[0m             \u001b[0mself\u001b[0m\u001b[1;33m.\u001b[0m\u001b[0msel_hist\u001b[0m \u001b[1;33m=\u001b[0m \u001b[0mself\u001b[0m\u001b[1;33m.\u001b[0m\u001b[0mbw\u001b[0m\u001b[1;33m[\u001b[0m\u001b[1;33m-\u001b[0m\u001b[1;36m1\u001b[0m\u001b[1;33m]\u001b[0m\u001b[1;33m\u001b[0m\u001b[0m\n\u001b[0;32m    321\u001b[0m \u001b[1;33m\u001b[0m\u001b[0m\n",
      "\u001b[1;32mc:\\users\\michal_schudnij\\appdata\\local\\programs\\python\\python36-32\\lib\\site-packages\\mgwr\\sel_bw.py\u001b[0m in \u001b[0;36m_bw\u001b[1;34m(self)\u001b[0m\n\u001b[0;32m    340\u001b[0m         \u001b[1;32melif\u001b[0m \u001b[0mself\u001b[0m\u001b[1;33m.\u001b[0m\u001b[0msearch_method\u001b[0m \u001b[1;33m==\u001b[0m \u001b[1;34m'interval'\u001b[0m\u001b[1;33m:\u001b[0m\u001b[1;33m\u001b[0m\u001b[0m\n\u001b[0;32m    341\u001b[0m             self.bw = equal_interval(self.bw_min, self.bw_max, self.interval,\n\u001b[1;32m--> 342\u001b[1;33m                                      gwr_func, self.int_score, self.verbose)\n\u001b[0m\u001b[0;32m    343\u001b[0m         \u001b[1;32melif\u001b[0m \u001b[0mself\u001b[0m\u001b[1;33m.\u001b[0m\u001b[0msearch_method\u001b[0m \u001b[1;33m==\u001b[0m \u001b[1;34m'scipy'\u001b[0m\u001b[1;33m:\u001b[0m\u001b[1;33m\u001b[0m\u001b[0m\n\u001b[0;32m    344\u001b[0m             self.bw_min, self.bw_max = self._init_section(\n",
      "\u001b[1;32mc:\\users\\michal_schudnij\\appdata\\local\\programs\\python\\python36-32\\lib\\site-packages\\mgwr\\search.py\u001b[0m in \u001b[0;36mequal_interval\u001b[1;34m(l_bound, u_bound, interval, function, int_score, verbose)\u001b[0m\n\u001b[0;32m    139\u001b[0m     \u001b[0moutput\u001b[0m \u001b[1;33m=\u001b[0m \u001b[1;33m[\u001b[0m\u001b[1;33m]\u001b[0m\u001b[1;33m\u001b[0m\u001b[0m\n\u001b[0;32m    140\u001b[0m \u001b[1;33m\u001b[0m\u001b[0m\n\u001b[1;32m--> 141\u001b[1;33m     \u001b[0mscore_a\u001b[0m \u001b[1;33m=\u001b[0m \u001b[0mfunction\u001b[0m\u001b[1;33m(\u001b[0m\u001b[0ma\u001b[0m\u001b[1;33m)\u001b[0m\u001b[1;33m\u001b[0m\u001b[0m\n\u001b[0m\u001b[0;32m    142\u001b[0m     \u001b[1;32mif\u001b[0m \u001b[0mverbose\u001b[0m\u001b[1;33m:\u001b[0m\u001b[1;33m\u001b[0m\u001b[0m\n\u001b[0;32m    143\u001b[0m         \u001b[0mprint\u001b[0m\u001b[1;33m(\u001b[0m\u001b[0mscore_a\u001b[0m\u001b[1;33m)\u001b[0m\u001b[1;33m\u001b[0m\u001b[0m\n",
      "\u001b[1;32mc:\\users\\michal_schudnij\\appdata\\local\\programs\\python\\python36-32\\lib\\site-packages\\mgwr\\sel_bw.py\u001b[0m in \u001b[0;36m<lambda>\u001b[1;34m(bw)\u001b[0m\n\u001b[0;32m    327\u001b[0m             \u001b[0mself\u001b[0m\u001b[1;33m.\u001b[0m\u001b[0mcoords\u001b[0m\u001b[1;33m,\u001b[0m \u001b[0mself\u001b[0m\u001b[1;33m.\u001b[0m\u001b[0my\u001b[0m\u001b[1;33m,\u001b[0m \u001b[0mself\u001b[0m\u001b[1;33m.\u001b[0m\u001b[0mX_loc\u001b[0m\u001b[1;33m,\u001b[0m \u001b[0mbw\u001b[0m\u001b[1;33m,\u001b[0m \u001b[0mfamily\u001b[0m\u001b[1;33m=\u001b[0m\u001b[0mself\u001b[0m\u001b[1;33m.\u001b[0m\u001b[0mfamily\u001b[0m\u001b[1;33m,\u001b[0m \u001b[0mkernel\u001b[0m\u001b[1;33m=\u001b[0m\u001b[1;33m\u001b[0m\u001b[0m\n\u001b[0;32m    328\u001b[0m             \u001b[0mself\u001b[0m\u001b[1;33m.\u001b[0m\u001b[0mkernel\u001b[0m\u001b[1;33m,\u001b[0m \u001b[0mfixed\u001b[0m\u001b[1;33m=\u001b[0m\u001b[0mself\u001b[0m\u001b[1;33m.\u001b[0m\u001b[0mfixed\u001b[0m\u001b[1;33m,\u001b[0m \u001b[0mconstant\u001b[0m\u001b[1;33m=\u001b[0m\u001b[0mself\u001b[0m\u001b[1;33m.\u001b[0m\u001b[0mconstant\u001b[0m\u001b[1;33m,\u001b[0m \u001b[0moffset\u001b[0m\u001b[1;33m=\u001b[0m\u001b[0mself\u001b[0m\u001b[1;33m.\u001b[0m\u001b[1;33m\u001b[0m\u001b[0m\n\u001b[1;32m--> 329\u001b[1;33m             offset, spherical=self.spherical).fit(lite=True, pool=self.pool))\n\u001b[0m\u001b[0;32m    330\u001b[0m \u001b[1;33m\u001b[0m\u001b[0m\n\u001b[0;32m    331\u001b[0m         \u001b[0mself\u001b[0m\u001b[1;33m.\u001b[0m\u001b[0m_optimized_function\u001b[0m \u001b[1;33m=\u001b[0m \u001b[0mgwr_func\u001b[0m\u001b[1;33m\u001b[0m\u001b[0m\n",
      "\u001b[1;32mc:\\users\\michal_schudnij\\appdata\\local\\programs\\python\\python36-32\\lib\\site-packages\\mgwr\\gwr.py\u001b[0m in \u001b[0;36mfit\u001b[1;34m(self, ini_params, tol, max_iter, solve, lite, pool)\u001b[0m\n\u001b[0;32m    333\u001b[0m                 \u001b[0mrslt\u001b[0m \u001b[1;33m=\u001b[0m \u001b[0mmap\u001b[0m\u001b[1;33m(\u001b[0m\u001b[0mself\u001b[0m\u001b[1;33m.\u001b[0m\u001b[0m_local_fit\u001b[0m\u001b[1;33m,\u001b[0m \u001b[0mrange\u001b[0m\u001b[1;33m(\u001b[0m\u001b[0mm\u001b[0m\u001b[1;33m)\u001b[0m\u001b[1;33m)\u001b[0m  \u001b[1;31m#sequential\u001b[0m\u001b[1;33m\u001b[0m\u001b[0m\n\u001b[0;32m    334\u001b[0m \u001b[1;33m\u001b[0m\u001b[0m\n\u001b[1;32m--> 335\u001b[1;33m             \u001b[0mrslt_list\u001b[0m \u001b[1;33m=\u001b[0m \u001b[0mlist\u001b[0m\u001b[1;33m(\u001b[0m\u001b[0mzip\u001b[0m\u001b[1;33m(\u001b[0m\u001b[1;33m*\u001b[0m\u001b[0mrslt\u001b[0m\u001b[1;33m)\u001b[0m\u001b[1;33m)\u001b[0m\u001b[1;33m\u001b[0m\u001b[0m\n\u001b[0m\u001b[0;32m    336\u001b[0m             \u001b[0minflu\u001b[0m \u001b[1;33m=\u001b[0m \u001b[0mnp\u001b[0m\u001b[1;33m.\u001b[0m\u001b[0marray\u001b[0m\u001b[1;33m(\u001b[0m\u001b[0mrslt_list\u001b[0m\u001b[1;33m[\u001b[0m\u001b[1;36m0\u001b[0m\u001b[1;33m]\u001b[0m\u001b[1;33m)\u001b[0m\u001b[1;33m.\u001b[0m\u001b[0mreshape\u001b[0m\u001b[1;33m(\u001b[0m\u001b[1;33m-\u001b[0m\u001b[1;36m1\u001b[0m\u001b[1;33m,\u001b[0m \u001b[1;36m1\u001b[0m\u001b[1;33m)\u001b[0m\u001b[1;33m\u001b[0m\u001b[0m\n\u001b[0;32m    337\u001b[0m             \u001b[0mresid\u001b[0m \u001b[1;33m=\u001b[0m \u001b[0mnp\u001b[0m\u001b[1;33m.\u001b[0m\u001b[0marray\u001b[0m\u001b[1;33m(\u001b[0m\u001b[0mrslt_list\u001b[0m\u001b[1;33m[\u001b[0m\u001b[1;36m1\u001b[0m\u001b[1;33m]\u001b[0m\u001b[1;33m)\u001b[0m\u001b[1;33m.\u001b[0m\u001b[0mreshape\u001b[0m\u001b[1;33m(\u001b[0m\u001b[1;33m-\u001b[0m\u001b[1;36m1\u001b[0m\u001b[1;33m,\u001b[0m \u001b[1;36m1\u001b[0m\u001b[1;33m)\u001b[0m\u001b[1;33m\u001b[0m\u001b[0m\n",
      "\u001b[1;32mc:\\users\\michal_schudnij\\appdata\\local\\programs\\python\\python36-32\\lib\\site-packages\\mgwr\\gwr.py\u001b[0m in \u001b[0;36m_local_fit\u001b[1;34m(self, i)\u001b[0m\n\u001b[0;32m    249\u001b[0m \u001b[1;33m\u001b[0m\u001b[0m\n\u001b[0;32m    250\u001b[0m         \u001b[1;32mif\u001b[0m \u001b[0misinstance\u001b[0m\u001b[1;33m(\u001b[0m\u001b[0mself\u001b[0m\u001b[1;33m.\u001b[0m\u001b[0mfamily\u001b[0m\u001b[1;33m,\u001b[0m \u001b[0mGaussian\u001b[0m\u001b[1;33m)\u001b[0m\u001b[1;33m:\u001b[0m\u001b[1;33m\u001b[0m\u001b[0m\n\u001b[1;32m--> 251\u001b[1;33m             \u001b[0mbetas\u001b[0m\u001b[1;33m,\u001b[0m \u001b[0minv_xtx_xt\u001b[0m \u001b[1;33m=\u001b[0m \u001b[0m_compute_betas_gwr\u001b[0m\u001b[1;33m(\u001b[0m\u001b[0mself\u001b[0m\u001b[1;33m.\u001b[0m\u001b[0my\u001b[0m\u001b[1;33m,\u001b[0m \u001b[0mself\u001b[0m\u001b[1;33m.\u001b[0m\u001b[0mX\u001b[0m\u001b[1;33m,\u001b[0m \u001b[0mwi\u001b[0m\u001b[1;33m)\u001b[0m\u001b[1;33m\u001b[0m\u001b[0m\n\u001b[0m\u001b[0;32m    252\u001b[0m             \u001b[0mpredy\u001b[0m \u001b[1;33m=\u001b[0m \u001b[0mnp\u001b[0m\u001b[1;33m.\u001b[0m\u001b[0mdot\u001b[0m\u001b[1;33m(\u001b[0m\u001b[0mself\u001b[0m\u001b[1;33m.\u001b[0m\u001b[0mX\u001b[0m\u001b[1;33m[\u001b[0m\u001b[0mi\u001b[0m\u001b[1;33m]\u001b[0m\u001b[1;33m,\u001b[0m \u001b[0mbetas\u001b[0m\u001b[1;33m)\u001b[0m\u001b[1;33m[\u001b[0m\u001b[1;36m0\u001b[0m\u001b[1;33m]\u001b[0m\u001b[1;33m\u001b[0m\u001b[0m\n\u001b[0;32m    253\u001b[0m             \u001b[0mresid\u001b[0m \u001b[1;33m=\u001b[0m \u001b[0mself\u001b[0m\u001b[1;33m.\u001b[0m\u001b[0my\u001b[0m\u001b[1;33m[\u001b[0m\u001b[0mi\u001b[0m\u001b[1;33m]\u001b[0m \u001b[1;33m-\u001b[0m \u001b[0mpredy\u001b[0m\u001b[1;33m\u001b[0m\u001b[0m\n",
      "\u001b[1;32mc:\\users\\michal_schudnij\\appdata\\local\\programs\\python\\python36-32\\lib\\site-packages\\spglm\\iwls.py\u001b[0m in \u001b[0;36m_compute_betas_gwr\u001b[1;34m(y, x, wi)\u001b[0m\n\u001b[0;32m     35\u001b[0m     \u001b[0mxT\u001b[0m \u001b[1;33m=\u001b[0m \u001b[1;33m(\u001b[0m\u001b[0mx\u001b[0m \u001b[1;33m*\u001b[0m \u001b[0mwi\u001b[0m\u001b[1;33m)\u001b[0m\u001b[1;33m.\u001b[0m\u001b[0mT\u001b[0m\u001b[1;33m\u001b[0m\u001b[0m\n\u001b[0;32m     36\u001b[0m     \u001b[0mxtx\u001b[0m \u001b[1;33m=\u001b[0m \u001b[0mnp\u001b[0m\u001b[1;33m.\u001b[0m\u001b[0mdot\u001b[0m\u001b[1;33m(\u001b[0m\u001b[0mxT\u001b[0m\u001b[1;33m,\u001b[0m \u001b[0mx\u001b[0m\u001b[1;33m)\u001b[0m\u001b[1;33m\u001b[0m\u001b[0m\n\u001b[1;32m---> 37\u001b[1;33m     \u001b[0mxtx_inv_xt\u001b[0m \u001b[1;33m=\u001b[0m \u001b[0mlinalg\u001b[0m\u001b[1;33m.\u001b[0m\u001b[0msolve\u001b[0m\u001b[1;33m(\u001b[0m\u001b[0mxtx\u001b[0m\u001b[1;33m,\u001b[0m \u001b[0mxT\u001b[0m\u001b[1;33m)\u001b[0m\u001b[1;33m\u001b[0m\u001b[0m\n\u001b[0m\u001b[0;32m     38\u001b[0m     \u001b[0mbetas\u001b[0m \u001b[1;33m=\u001b[0m \u001b[0mnp\u001b[0m\u001b[1;33m.\u001b[0m\u001b[0mdot\u001b[0m\u001b[1;33m(\u001b[0m\u001b[0mxtx_inv_xt\u001b[0m\u001b[1;33m,\u001b[0m \u001b[0my\u001b[0m\u001b[1;33m)\u001b[0m\u001b[1;33m\u001b[0m\u001b[0m\n\u001b[0;32m     39\u001b[0m     \u001b[1;32mreturn\u001b[0m \u001b[0mbetas\u001b[0m\u001b[1;33m,\u001b[0m \u001b[0mxtx_inv_xt\u001b[0m\u001b[1;33m\u001b[0m\u001b[0m\n",
      "\u001b[1;32mc:\\users\\michal_schudnij\\appdata\\local\\programs\\python\\python36-32\\lib\\site-packages\\scipy\\linalg\\basic.py\u001b[0m in \u001b[0;36msolve\u001b[1;34m(a, b, sym_pos, lower, overwrite_a, overwrite_b, debug, check_finite, assume_a, transposed)\u001b[0m\n\u001b[0;32m    212\u001b[0m                                                (a1, b1))\n\u001b[0;32m    213\u001b[0m         \u001b[0mlu\u001b[0m\u001b[1;33m,\u001b[0m \u001b[0mipvt\u001b[0m\u001b[1;33m,\u001b[0m \u001b[0minfo\u001b[0m \u001b[1;33m=\u001b[0m \u001b[0mgetrf\u001b[0m\u001b[1;33m(\u001b[0m\u001b[0ma1\u001b[0m\u001b[1;33m,\u001b[0m \u001b[0moverwrite_a\u001b[0m\u001b[1;33m=\u001b[0m\u001b[0moverwrite_a\u001b[0m\u001b[1;33m)\u001b[0m\u001b[1;33m\u001b[0m\u001b[0m\n\u001b[1;32m--> 214\u001b[1;33m         \u001b[0m_solve_check\u001b[0m\u001b[1;33m(\u001b[0m\u001b[0mn\u001b[0m\u001b[1;33m,\u001b[0m \u001b[0minfo\u001b[0m\u001b[1;33m)\u001b[0m\u001b[1;33m\u001b[0m\u001b[0m\n\u001b[0m\u001b[0;32m    215\u001b[0m         x, info = getrs(lu, ipvt, b1,\n\u001b[0;32m    216\u001b[0m                         trans=trans, overwrite_b=overwrite_b)\n",
      "\u001b[1;32mc:\\users\\michal_schudnij\\appdata\\local\\programs\\python\\python36-32\\lib\\site-packages\\scipy\\linalg\\basic.py\u001b[0m in \u001b[0;36m_solve_check\u001b[1;34m(n, info, lamch, rcond)\u001b[0m\n\u001b[0;32m     27\u001b[0m                          '.'.format(-info))\n\u001b[0;32m     28\u001b[0m     \u001b[1;32melif\u001b[0m \u001b[1;36m0\u001b[0m \u001b[1;33m<\u001b[0m \u001b[0minfo\u001b[0m\u001b[1;33m:\u001b[0m\u001b[1;33m\u001b[0m\u001b[0m\n\u001b[1;32m---> 29\u001b[1;33m         \u001b[1;32mraise\u001b[0m \u001b[0mLinAlgError\u001b[0m\u001b[1;33m(\u001b[0m\u001b[1;34m'Matrix is singular.'\u001b[0m\u001b[1;33m)\u001b[0m\u001b[1;33m\u001b[0m\u001b[0m\n\u001b[0m\u001b[0;32m     30\u001b[0m \u001b[1;33m\u001b[0m\u001b[0m\n\u001b[0;32m     31\u001b[0m     \u001b[1;32mif\u001b[0m \u001b[0mlamch\u001b[0m \u001b[1;32mis\u001b[0m \u001b[1;32mNone\u001b[0m\u001b[1;33m:\u001b[0m\u001b[1;33m\u001b[0m\u001b[0m\n",
      "\u001b[1;31mLinAlgError\u001b[0m: Matrix is singular."
     ]
    }
   ],
   "source": [
    "bw = selector.search(search_method = 'interval',\n",
    "interval = 2,\n",
    "bw_min = 101,\n",
    "bw_max = 150)"
   ]
  },
  {
   "cell_type": "code",
   "execution_count": null,
   "metadata": {},
   "outputs": [],
   "source": []
  }
 ],
 "metadata": {
  "kernelspec": {
   "display_name": "Python 3",
   "language": "python",
   "name": "python3"
  },
  "language_info": {
   "codemirror_mode": {
    "name": "ipython",
    "version": 3
   },
   "file_extension": ".py",
   "mimetype": "text/x-python",
   "name": "python",
   "nbconvert_exporter": "python",
   "pygments_lexer": "ipython3",
   "version": "3.6.4"
  }
 },
 "nbformat": 4,
 "nbformat_minor": 4
}
