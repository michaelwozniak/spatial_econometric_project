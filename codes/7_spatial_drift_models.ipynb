{
 "cells": [
  {
   "cell_type": "code",
   "execution_count": 114,
   "metadata": {
    "ExecuteTime": {
     "end_time": "2021-06-11T17:41:45.539693Z",
     "start_time": "2021-06-11T17:41:45.522739Z"
    }
   },
   "outputs": [
    {
     "data": {
      "text/html": [
       "<style>.container { width:90% !important; }</style>"
      ],
      "text/plain": [
       "<IPython.core.display.HTML object>"
      ]
     },
     "metadata": {},
     "output_type": "display_data"
    },
    {
     "data": {
      "text/html": [
       "<style>.output_result { max-width:90% !important; }</style>"
      ],
      "text/plain": [
       "<IPython.core.display.HTML object>"
      ]
     },
     "metadata": {},
     "output_type": "display_data"
    },
    {
     "data": {
      "text/html": [
       "<style>.prompt { display:none !important; }</style>"
      ],
      "text/plain": [
       "<IPython.core.display.HTML object>"
      ]
     },
     "metadata": {},
     "output_type": "display_data"
    }
   ],
   "source": [
    "import pandas as pd\n",
    "import numpy as np\n",
    "import matplotlib.pyplot as plt\n",
    "import seaborn as sns\n",
    "import geopandas as gpd\n",
    "# import shapely\n",
    "# from shapely import wkt\n",
    "sns.set(style='darkgrid')\n",
    "% matplotlib inline\n",
    "\n",
    "from IPython.core.display import display, HTML\n",
    "display(HTML(\"<style>.container { width:90% !important; }</style>\"))\n",
    "display(HTML(\"<style>.output_result { max-width:90% !important; }</style>\"))\n",
    "display(HTML(\"<style>.prompt { display:none !important; }</style>\"))"
   ]
  },
  {
   "cell_type": "code",
   "execution_count": 115,
   "metadata": {
    "ExecuteTime": {
     "end_time": "2021-06-11T17:41:46.011744Z",
     "start_time": "2021-06-11T17:41:46.004775Z"
    }
   },
   "outputs": [
    {
     "data": {
      "text/plain": [
       "'C:\\\\Users\\\\Michal_schudnij\\\\Desktop\\\\Spatial_eco\\\\repo\\\\codes'"
      ]
     },
     "execution_count": 115,
     "metadata": {},
     "output_type": "execute_result"
    }
   ],
   "source": [
    "%pwd"
   ]
  },
  {
   "cell_type": "code",
   "execution_count": 116,
   "metadata": {
    "ExecuteTime": {
     "end_time": "2021-06-11T17:41:46.573601Z",
     "start_time": "2021-06-11T17:41:46.465892Z"
    }
   },
   "outputs": [],
   "source": [
    "df_warszawa = pd.read_csv(\"../datasets/preprocessed_data/df_warszawa_gwr_niepelny.csv\")\n",
    "df_krakow = pd.read_csv(\"../datasets/preprocessed_data/df_krakow_gwr_niepelny.csv\")\n",
    "df_poznan = pd.read_csv(\"../datasets/preprocessed_data/df_poznan_gwr_niepelny.csv\")"
   ]
  },
  {
   "cell_type": "code",
   "execution_count": 117,
   "metadata": {
    "ExecuteTime": {
     "end_time": "2021-06-11T17:41:47.112117Z",
     "start_time": "2021-06-11T17:41:47.062249Z"
    }
   },
   "outputs": [
    {
     "data": {
      "text/html": [
       "<div>\n",
       "<style scoped>\n",
       "    .dataframe tbody tr th:only-of-type {\n",
       "        vertical-align: middle;\n",
       "    }\n",
       "\n",
       "    .dataframe tbody tr th {\n",
       "        vertical-align: top;\n",
       "    }\n",
       "\n",
       "    .dataframe thead th {\n",
       "        text-align: right;\n",
       "    }\n",
       "</style>\n",
       "<table border=\"1\" class=\"dataframe\">\n",
       "  <thead>\n",
       "    <tr style=\"text-align: right;\">\n",
       "      <th></th>\n",
       "      <th>buffer_index</th>\n",
       "      <th>jpt_nazwa_</th>\n",
       "      <th>operator</th>\n",
       "      <th>point_id</th>\n",
       "      <th>center</th>\n",
       "      <th>buffer</th>\n",
       "      <th>inpost_points</th>\n",
       "      <th>poczta_points</th>\n",
       "      <th>dhl_points</th>\n",
       "      <th>ruch_points</th>\n",
       "      <th>...</th>\n",
       "      <th>TOT_65__</th>\n",
       "      <th>TOT_MALE</th>\n",
       "      <th>TOT_FEM</th>\n",
       "      <th>MALE_0_14</th>\n",
       "      <th>MALE_15_64</th>\n",
       "      <th>MALE_65__</th>\n",
       "      <th>FEM_0_14</th>\n",
       "      <th>FEM_15_64</th>\n",
       "      <th>FEM_65__</th>\n",
       "      <th>FEM_RATIO</th>\n",
       "    </tr>\n",
       "  </thead>\n",
       "  <tbody>\n",
       "    <tr>\n",
       "      <th>0</th>\n",
       "      <td>2709</td>\n",
       "      <td>powiat Warszawa</td>\n",
       "      <td>inpost</td>\n",
       "      <td>18334</td>\n",
       "      <td>POINT (21.0303 52.3169)</td>\n",
       "      <td>POLYGON ((21.03765588883248 52.31689977156337,...</td>\n",
       "      <td>2</td>\n",
       "      <td>0.0</td>\n",
       "      <td>0.0</td>\n",
       "      <td>0.0</td>\n",
       "      <td>...</td>\n",
       "      <td>32.00</td>\n",
       "      <td>240.25</td>\n",
       "      <td>251.50</td>\n",
       "      <td>59.00</td>\n",
       "      <td>165.00</td>\n",
       "      <td>16.25</td>\n",
       "      <td>57.25</td>\n",
       "      <td>178.5</td>\n",
       "      <td>15.75</td>\n",
       "      <td>103.493095</td>\n",
       "    </tr>\n",
       "    <tr>\n",
       "      <th>1</th>\n",
       "      <td>2711</td>\n",
       "      <td>powiat Warszawa</td>\n",
       "      <td>inpost</td>\n",
       "      <td>11787</td>\n",
       "      <td>POINT (20.99999 52.31708)</td>\n",
       "      <td>POLYGON ((21.00734591875068 52.31707977156189,...</td>\n",
       "      <td>1</td>\n",
       "      <td>1.0</td>\n",
       "      <td>3.0</td>\n",
       "      <td>0.0</td>\n",
       "      <td>...</td>\n",
       "      <td>39.75</td>\n",
       "      <td>92.25</td>\n",
       "      <td>106.75</td>\n",
       "      <td>10.75</td>\n",
       "      <td>69.75</td>\n",
       "      <td>12.25</td>\n",
       "      <td>10.25</td>\n",
       "      <td>68.5</td>\n",
       "      <td>28.00</td>\n",
       "      <td>103.576308</td>\n",
       "    </tr>\n",
       "    <tr>\n",
       "      <th>2</th>\n",
       "      <td>2713</td>\n",
       "      <td>powiat Warszawa</td>\n",
       "      <td>inpost</td>\n",
       "      <td>9475</td>\n",
       "      <td>POINT (21.0302805409061 52.3174329976903)</td>\n",
       "      <td>POLYGON ((21.03763651833026 52.31743276924928,...</td>\n",
       "      <td>3</td>\n",
       "      <td>0.0</td>\n",
       "      <td>0.0</td>\n",
       "      <td>0.0</td>\n",
       "      <td>...</td>\n",
       "      <td>32.00</td>\n",
       "      <td>240.25</td>\n",
       "      <td>251.50</td>\n",
       "      <td>59.00</td>\n",
       "      <td>165.00</td>\n",
       "      <td>16.25</td>\n",
       "      <td>57.25</td>\n",
       "      <td>178.5</td>\n",
       "      <td>15.75</td>\n",
       "      <td>103.493095</td>\n",
       "    </tr>\n",
       "    <tr>\n",
       "      <th>3</th>\n",
       "      <td>2714</td>\n",
       "      <td>powiat Warszawa</td>\n",
       "      <td>inpost</td>\n",
       "      <td>35467</td>\n",
       "      <td>POINT (21.03759 52.31755)</td>\n",
       "      <td>POLYGON ((21.04494599687195 52.31754977155803,...</td>\n",
       "      <td>2</td>\n",
       "      <td>0.0</td>\n",
       "      <td>0.0</td>\n",
       "      <td>0.0</td>\n",
       "      <td>...</td>\n",
       "      <td>32.00</td>\n",
       "      <td>240.25</td>\n",
       "      <td>251.50</td>\n",
       "      <td>59.00</td>\n",
       "      <td>165.00</td>\n",
       "      <td>16.25</td>\n",
       "      <td>57.25</td>\n",
       "      <td>178.5</td>\n",
       "      <td>15.75</td>\n",
       "      <td>103.493095</td>\n",
       "    </tr>\n",
       "    <tr>\n",
       "      <th>4</th>\n",
       "      <td>2715</td>\n",
       "      <td>powiat Warszawa</td>\n",
       "      <td>inpost</td>\n",
       "      <td>11434</td>\n",
       "      <td>POINT (21.05028 52.31764)</td>\n",
       "      <td>POLYGON ((21.05763601183158 52.31763977155728,...</td>\n",
       "      <td>2</td>\n",
       "      <td>2.0</td>\n",
       "      <td>1.0</td>\n",
       "      <td>0.0</td>\n",
       "      <td>...</td>\n",
       "      <td>70.25</td>\n",
       "      <td>1039.00</td>\n",
       "      <td>1139.75</td>\n",
       "      <td>308.50</td>\n",
       "      <td>699.50</td>\n",
       "      <td>31.00</td>\n",
       "      <td>290.50</td>\n",
       "      <td>810.0</td>\n",
       "      <td>39.25</td>\n",
       "      <td>108.008928</td>\n",
       "    </tr>\n",
       "  </tbody>\n",
       "</table>\n",
       "<p>5 rows × 26 columns</p>\n",
       "</div>"
      ],
      "text/plain": [
       "   buffer_index       jpt_nazwa_ operator  point_id  \\\n",
       "0          2709  powiat Warszawa   inpost     18334   \n",
       "1          2711  powiat Warszawa   inpost     11787   \n",
       "2          2713  powiat Warszawa   inpost      9475   \n",
       "3          2714  powiat Warszawa   inpost     35467   \n",
       "4          2715  powiat Warszawa   inpost     11434   \n",
       "\n",
       "                                      center  \\\n",
       "0                    POINT (21.0303 52.3169)   \n",
       "1                  POINT (20.99999 52.31708)   \n",
       "2  POINT (21.0302805409061 52.3174329976903)   \n",
       "3                  POINT (21.03759 52.31755)   \n",
       "4                  POINT (21.05028 52.31764)   \n",
       "\n",
       "                                              buffer  inpost_points  \\\n",
       "0  POLYGON ((21.03765588883248 52.31689977156337,...              2   \n",
       "1  POLYGON ((21.00734591875068 52.31707977156189,...              1   \n",
       "2  POLYGON ((21.03763651833026 52.31743276924928,...              3   \n",
       "3  POLYGON ((21.04494599687195 52.31754977155803,...              2   \n",
       "4  POLYGON ((21.05763601183158 52.31763977155728,...              2   \n",
       "\n",
       "   poczta_points  dhl_points  ruch_points  ...  TOT_65__  TOT_MALE  TOT_FEM  \\\n",
       "0            0.0         0.0          0.0  ...     32.00    240.25   251.50   \n",
       "1            1.0         3.0          0.0  ...     39.75     92.25   106.75   \n",
       "2            0.0         0.0          0.0  ...     32.00    240.25   251.50   \n",
       "3            0.0         0.0          0.0  ...     32.00    240.25   251.50   \n",
       "4            2.0         1.0          0.0  ...     70.25   1039.00  1139.75   \n",
       "\n",
       "   MALE_0_14  MALE_15_64  MALE_65__  FEM_0_14  FEM_15_64  FEM_65__   FEM_RATIO  \n",
       "0      59.00      165.00      16.25     57.25      178.5     15.75  103.493095  \n",
       "1      10.75       69.75      12.25     10.25       68.5     28.00  103.576308  \n",
       "2      59.00      165.00      16.25     57.25      178.5     15.75  103.493095  \n",
       "3      59.00      165.00      16.25     57.25      178.5     15.75  103.493095  \n",
       "4     308.50      699.50      31.00    290.50      810.0     39.25  108.008928  \n",
       "\n",
       "[5 rows x 26 columns]"
      ]
     },
     "execution_count": 117,
     "metadata": {},
     "output_type": "execute_result"
    }
   ],
   "source": [
    "df_warszawa.head()"
   ]
  },
  {
   "cell_type": "code",
   "execution_count": 118,
   "metadata": {
    "ExecuteTime": {
     "end_time": "2021-06-11T17:41:54.060775Z",
     "start_time": "2021-06-11T17:41:54.054058Z"
    }
   },
   "outputs": [
    {
     "data": {
      "text/plain": [
       "'21.0303 52.3169)'"
      ]
     },
     "execution_count": 118,
     "metadata": {},
     "output_type": "execute_result"
    }
   ],
   "source": [
    "df_warszawa['center'][0][7:]"
   ]
  },
  {
   "cell_type": "code",
   "execution_count": 119,
   "metadata": {
    "ExecuteTime": {
     "end_time": "2021-06-11T17:41:54.458843Z",
     "start_time": "2021-06-11T17:41:54.452853Z"
    }
   },
   "outputs": [],
   "source": [
    "# df_warszawa['z'], df_warszawa['y'] = df_warszawa['center'][0].split('(')\n",
    "# df_warszawa['lon'], df_warszawa['lat'] = df_warszawa['y'][0].split(' ')\n",
    "# df_warszawa['xxx'], df_warszawa['yyyy'] = df_warszawa['lat'][0].split(')')"
   ]
  },
  {
   "cell_type": "code",
   "execution_count": 120,
   "metadata": {
    "ExecuteTime": {
     "end_time": "2021-06-11T17:41:54.907009Z",
     "start_time": "2021-06-11T17:41:54.838782Z"
    }
   },
   "outputs": [],
   "source": [
    "df_warszawa = pd.read_csv(\"../datasets/preprocessed_data/df_warszawa_gwr_niepelny.csv\")\n",
    "df_warszawa[['remove', 'long']] = df_warszawa['center'].str.split('(', expand=True)\n",
    "df_warszawa[['long', 'lat']] = df_warszawa['long'].str.split(' ', expand=True)\n",
    "df_warszawa[['lat', 'remove2']] = df_warszawa['lat'].str.split(')', expand=True)"
   ]
  },
  {
   "cell_type": "code",
   "execution_count": 121,
   "metadata": {
    "ExecuteTime": {
     "end_time": "2021-06-11T17:41:55.797956Z",
     "start_time": "2021-06-11T17:41:55.752079Z"
    }
   },
   "outputs": [
    {
     "data": {
      "text/html": [
       "<div>\n",
       "<style scoped>\n",
       "    .dataframe tbody tr th:only-of-type {\n",
       "        vertical-align: middle;\n",
       "    }\n",
       "\n",
       "    .dataframe tbody tr th {\n",
       "        vertical-align: top;\n",
       "    }\n",
       "\n",
       "    .dataframe thead th {\n",
       "        text-align: right;\n",
       "    }\n",
       "</style>\n",
       "<table border=\"1\" class=\"dataframe\">\n",
       "  <thead>\n",
       "    <tr style=\"text-align: right;\">\n",
       "      <th></th>\n",
       "      <th>buffer_index</th>\n",
       "      <th>jpt_nazwa_</th>\n",
       "      <th>operator</th>\n",
       "      <th>point_id</th>\n",
       "      <th>center</th>\n",
       "      <th>buffer</th>\n",
       "      <th>inpost_points</th>\n",
       "      <th>poczta_points</th>\n",
       "      <th>dhl_points</th>\n",
       "      <th>ruch_points</th>\n",
       "      <th>...</th>\n",
       "      <th>MALE_15_64</th>\n",
       "      <th>MALE_65__</th>\n",
       "      <th>FEM_0_14</th>\n",
       "      <th>FEM_15_64</th>\n",
       "      <th>FEM_65__</th>\n",
       "      <th>FEM_RATIO</th>\n",
       "      <th>remove</th>\n",
       "      <th>long</th>\n",
       "      <th>lat</th>\n",
       "      <th>remove2</th>\n",
       "    </tr>\n",
       "  </thead>\n",
       "  <tbody>\n",
       "    <tr>\n",
       "      <th>0</th>\n",
       "      <td>2709</td>\n",
       "      <td>powiat Warszawa</td>\n",
       "      <td>inpost</td>\n",
       "      <td>18334</td>\n",
       "      <td>POINT (21.0303 52.3169)</td>\n",
       "      <td>POLYGON ((21.03765588883248 52.31689977156337,...</td>\n",
       "      <td>2</td>\n",
       "      <td>0.0</td>\n",
       "      <td>0.0</td>\n",
       "      <td>0.0</td>\n",
       "      <td>...</td>\n",
       "      <td>165.00</td>\n",
       "      <td>16.25</td>\n",
       "      <td>57.25</td>\n",
       "      <td>178.5</td>\n",
       "      <td>15.75</td>\n",
       "      <td>103.493095</td>\n",
       "      <td>POINT</td>\n",
       "      <td>21.0303</td>\n",
       "      <td>52.3169</td>\n",
       "      <td></td>\n",
       "    </tr>\n",
       "    <tr>\n",
       "      <th>1</th>\n",
       "      <td>2711</td>\n",
       "      <td>powiat Warszawa</td>\n",
       "      <td>inpost</td>\n",
       "      <td>11787</td>\n",
       "      <td>POINT (20.99999 52.31708)</td>\n",
       "      <td>POLYGON ((21.00734591875068 52.31707977156189,...</td>\n",
       "      <td>1</td>\n",
       "      <td>1.0</td>\n",
       "      <td>3.0</td>\n",
       "      <td>0.0</td>\n",
       "      <td>...</td>\n",
       "      <td>69.75</td>\n",
       "      <td>12.25</td>\n",
       "      <td>10.25</td>\n",
       "      <td>68.5</td>\n",
       "      <td>28.00</td>\n",
       "      <td>103.576308</td>\n",
       "      <td>POINT</td>\n",
       "      <td>20.99999</td>\n",
       "      <td>52.31708</td>\n",
       "      <td></td>\n",
       "    </tr>\n",
       "    <tr>\n",
       "      <th>2</th>\n",
       "      <td>2713</td>\n",
       "      <td>powiat Warszawa</td>\n",
       "      <td>inpost</td>\n",
       "      <td>9475</td>\n",
       "      <td>POINT (21.0302805409061 52.3174329976903)</td>\n",
       "      <td>POLYGON ((21.03763651833026 52.31743276924928,...</td>\n",
       "      <td>3</td>\n",
       "      <td>0.0</td>\n",
       "      <td>0.0</td>\n",
       "      <td>0.0</td>\n",
       "      <td>...</td>\n",
       "      <td>165.00</td>\n",
       "      <td>16.25</td>\n",
       "      <td>57.25</td>\n",
       "      <td>178.5</td>\n",
       "      <td>15.75</td>\n",
       "      <td>103.493095</td>\n",
       "      <td>POINT</td>\n",
       "      <td>21.0302805409061</td>\n",
       "      <td>52.3174329976903</td>\n",
       "      <td></td>\n",
       "    </tr>\n",
       "    <tr>\n",
       "      <th>3</th>\n",
       "      <td>2714</td>\n",
       "      <td>powiat Warszawa</td>\n",
       "      <td>inpost</td>\n",
       "      <td>35467</td>\n",
       "      <td>POINT (21.03759 52.31755)</td>\n",
       "      <td>POLYGON ((21.04494599687195 52.31754977155803,...</td>\n",
       "      <td>2</td>\n",
       "      <td>0.0</td>\n",
       "      <td>0.0</td>\n",
       "      <td>0.0</td>\n",
       "      <td>...</td>\n",
       "      <td>165.00</td>\n",
       "      <td>16.25</td>\n",
       "      <td>57.25</td>\n",
       "      <td>178.5</td>\n",
       "      <td>15.75</td>\n",
       "      <td>103.493095</td>\n",
       "      <td>POINT</td>\n",
       "      <td>21.03759</td>\n",
       "      <td>52.31755</td>\n",
       "      <td></td>\n",
       "    </tr>\n",
       "    <tr>\n",
       "      <th>4</th>\n",
       "      <td>2715</td>\n",
       "      <td>powiat Warszawa</td>\n",
       "      <td>inpost</td>\n",
       "      <td>11434</td>\n",
       "      <td>POINT (21.05028 52.31764)</td>\n",
       "      <td>POLYGON ((21.05763601183158 52.31763977155728,...</td>\n",
       "      <td>2</td>\n",
       "      <td>2.0</td>\n",
       "      <td>1.0</td>\n",
       "      <td>0.0</td>\n",
       "      <td>...</td>\n",
       "      <td>699.50</td>\n",
       "      <td>31.00</td>\n",
       "      <td>290.50</td>\n",
       "      <td>810.0</td>\n",
       "      <td>39.25</td>\n",
       "      <td>108.008928</td>\n",
       "      <td>POINT</td>\n",
       "      <td>21.05028</td>\n",
       "      <td>52.31764</td>\n",
       "      <td></td>\n",
       "    </tr>\n",
       "  </tbody>\n",
       "</table>\n",
       "<p>5 rows × 30 columns</p>\n",
       "</div>"
      ],
      "text/plain": [
       "   buffer_index       jpt_nazwa_ operator  point_id  \\\n",
       "0          2709  powiat Warszawa   inpost     18334   \n",
       "1          2711  powiat Warszawa   inpost     11787   \n",
       "2          2713  powiat Warszawa   inpost      9475   \n",
       "3          2714  powiat Warszawa   inpost     35467   \n",
       "4          2715  powiat Warszawa   inpost     11434   \n",
       "\n",
       "                                      center  \\\n",
       "0                    POINT (21.0303 52.3169)   \n",
       "1                  POINT (20.99999 52.31708)   \n",
       "2  POINT (21.0302805409061 52.3174329976903)   \n",
       "3                  POINT (21.03759 52.31755)   \n",
       "4                  POINT (21.05028 52.31764)   \n",
       "\n",
       "                                              buffer  inpost_points  \\\n",
       "0  POLYGON ((21.03765588883248 52.31689977156337,...              2   \n",
       "1  POLYGON ((21.00734591875068 52.31707977156189,...              1   \n",
       "2  POLYGON ((21.03763651833026 52.31743276924928,...              3   \n",
       "3  POLYGON ((21.04494599687195 52.31754977155803,...              2   \n",
       "4  POLYGON ((21.05763601183158 52.31763977155728,...              2   \n",
       "\n",
       "   poczta_points  dhl_points  ruch_points  ...  MALE_15_64  MALE_65__  \\\n",
       "0            0.0         0.0          0.0  ...      165.00      16.25   \n",
       "1            1.0         3.0          0.0  ...       69.75      12.25   \n",
       "2            0.0         0.0          0.0  ...      165.00      16.25   \n",
       "3            0.0         0.0          0.0  ...      165.00      16.25   \n",
       "4            2.0         1.0          0.0  ...      699.50      31.00   \n",
       "\n",
       "   FEM_0_14  FEM_15_64  FEM_65__   FEM_RATIO  remove              long  \\\n",
       "0     57.25      178.5     15.75  103.493095  POINT            21.0303   \n",
       "1     10.25       68.5     28.00  103.576308  POINT           20.99999   \n",
       "2     57.25      178.5     15.75  103.493095  POINT   21.0302805409061   \n",
       "3     57.25      178.5     15.75  103.493095  POINT           21.03759   \n",
       "4    290.50      810.0     39.25  108.008928  POINT           21.05028   \n",
       "\n",
       "                lat  remove2  \n",
       "0           52.3169           \n",
       "1          52.31708           \n",
       "2  52.3174329976903           \n",
       "3          52.31755           \n",
       "4          52.31764           \n",
       "\n",
       "[5 rows x 30 columns]"
      ]
     },
     "execution_count": 121,
     "metadata": {},
     "output_type": "execute_result"
    }
   ],
   "source": [
    "df_warszawa.head()"
   ]
  },
  {
   "cell_type": "code",
   "execution_count": null,
   "metadata": {},
   "outputs": [],
   "source": []
  },
  {
   "cell_type": "code",
   "execution_count": null,
   "metadata": {},
   "outputs": [],
   "source": []
  },
  {
   "cell_type": "code",
   "execution_count": 122,
   "metadata": {
    "ExecuteTime": {
     "end_time": "2021-06-11T17:41:58.742720Z",
     "start_time": "2021-06-11T17:41:58.721780Z"
    }
   },
   "outputs": [],
   "source": [
    "df = pd.concat([df_warszawa, df_krakow, df_poznan])"
   ]
  },
  {
   "cell_type": "code",
   "execution_count": 123,
   "metadata": {
    "ExecuteTime": {
     "end_time": "2021-06-11T17:41:59.278511Z",
     "start_time": "2021-06-11T17:41:59.237620Z"
    }
   },
   "outputs": [
    {
     "data": {
      "text/html": [
       "<div>\n",
       "<style scoped>\n",
       "    .dataframe tbody tr th:only-of-type {\n",
       "        vertical-align: middle;\n",
       "    }\n",
       "\n",
       "    .dataframe tbody tr th {\n",
       "        vertical-align: top;\n",
       "    }\n",
       "\n",
       "    .dataframe thead th {\n",
       "        text-align: right;\n",
       "    }\n",
       "</style>\n",
       "<table border=\"1\" class=\"dataframe\">\n",
       "  <thead>\n",
       "    <tr style=\"text-align: right;\">\n",
       "      <th></th>\n",
       "      <th>buffer_index</th>\n",
       "      <th>jpt_nazwa_</th>\n",
       "      <th>operator</th>\n",
       "      <th>point_id</th>\n",
       "      <th>center</th>\n",
       "      <th>buffer</th>\n",
       "      <th>inpost_points</th>\n",
       "      <th>poczta_points</th>\n",
       "      <th>dhl_points</th>\n",
       "      <th>ruch_points</th>\n",
       "      <th>...</th>\n",
       "      <th>MALE_15_64</th>\n",
       "      <th>MALE_65__</th>\n",
       "      <th>FEM_0_14</th>\n",
       "      <th>FEM_15_64</th>\n",
       "      <th>FEM_65__</th>\n",
       "      <th>FEM_RATIO</th>\n",
       "      <th>remove</th>\n",
       "      <th>long</th>\n",
       "      <th>lat</th>\n",
       "      <th>remove2</th>\n",
       "    </tr>\n",
       "  </thead>\n",
       "  <tbody>\n",
       "    <tr>\n",
       "      <th>0</th>\n",
       "      <td>2709</td>\n",
       "      <td>powiat Warszawa</td>\n",
       "      <td>inpost</td>\n",
       "      <td>18334</td>\n",
       "      <td>POINT (21.0303 52.3169)</td>\n",
       "      <td>POLYGON ((21.03765588883248 52.31689977156337,...</td>\n",
       "      <td>2</td>\n",
       "      <td>0.0</td>\n",
       "      <td>0.0</td>\n",
       "      <td>0.0</td>\n",
       "      <td>...</td>\n",
       "      <td>165.00</td>\n",
       "      <td>16.25</td>\n",
       "      <td>57.25</td>\n",
       "      <td>178.5</td>\n",
       "      <td>15.75</td>\n",
       "      <td>103.493095</td>\n",
       "      <td>POINT</td>\n",
       "      <td>21.0303</td>\n",
       "      <td>52.3169</td>\n",
       "      <td></td>\n",
       "    </tr>\n",
       "    <tr>\n",
       "      <th>1</th>\n",
       "      <td>2711</td>\n",
       "      <td>powiat Warszawa</td>\n",
       "      <td>inpost</td>\n",
       "      <td>11787</td>\n",
       "      <td>POINT (20.99999 52.31708)</td>\n",
       "      <td>POLYGON ((21.00734591875068 52.31707977156189,...</td>\n",
       "      <td>1</td>\n",
       "      <td>1.0</td>\n",
       "      <td>3.0</td>\n",
       "      <td>0.0</td>\n",
       "      <td>...</td>\n",
       "      <td>69.75</td>\n",
       "      <td>12.25</td>\n",
       "      <td>10.25</td>\n",
       "      <td>68.5</td>\n",
       "      <td>28.00</td>\n",
       "      <td>103.576308</td>\n",
       "      <td>POINT</td>\n",
       "      <td>20.99999</td>\n",
       "      <td>52.31708</td>\n",
       "      <td></td>\n",
       "    </tr>\n",
       "    <tr>\n",
       "      <th>2</th>\n",
       "      <td>2713</td>\n",
       "      <td>powiat Warszawa</td>\n",
       "      <td>inpost</td>\n",
       "      <td>9475</td>\n",
       "      <td>POINT (21.0302805409061 52.3174329976903)</td>\n",
       "      <td>POLYGON ((21.03763651833026 52.31743276924928,...</td>\n",
       "      <td>3</td>\n",
       "      <td>0.0</td>\n",
       "      <td>0.0</td>\n",
       "      <td>0.0</td>\n",
       "      <td>...</td>\n",
       "      <td>165.00</td>\n",
       "      <td>16.25</td>\n",
       "      <td>57.25</td>\n",
       "      <td>178.5</td>\n",
       "      <td>15.75</td>\n",
       "      <td>103.493095</td>\n",
       "      <td>POINT</td>\n",
       "      <td>21.0302805409061</td>\n",
       "      <td>52.3174329976903</td>\n",
       "      <td></td>\n",
       "    </tr>\n",
       "    <tr>\n",
       "      <th>3</th>\n",
       "      <td>2714</td>\n",
       "      <td>powiat Warszawa</td>\n",
       "      <td>inpost</td>\n",
       "      <td>35467</td>\n",
       "      <td>POINT (21.03759 52.31755)</td>\n",
       "      <td>POLYGON ((21.04494599687195 52.31754977155803,...</td>\n",
       "      <td>2</td>\n",
       "      <td>0.0</td>\n",
       "      <td>0.0</td>\n",
       "      <td>0.0</td>\n",
       "      <td>...</td>\n",
       "      <td>165.00</td>\n",
       "      <td>16.25</td>\n",
       "      <td>57.25</td>\n",
       "      <td>178.5</td>\n",
       "      <td>15.75</td>\n",
       "      <td>103.493095</td>\n",
       "      <td>POINT</td>\n",
       "      <td>21.03759</td>\n",
       "      <td>52.31755</td>\n",
       "      <td></td>\n",
       "    </tr>\n",
       "    <tr>\n",
       "      <th>4</th>\n",
       "      <td>2715</td>\n",
       "      <td>powiat Warszawa</td>\n",
       "      <td>inpost</td>\n",
       "      <td>11434</td>\n",
       "      <td>POINT (21.05028 52.31764)</td>\n",
       "      <td>POLYGON ((21.05763601183158 52.31763977155728,...</td>\n",
       "      <td>2</td>\n",
       "      <td>2.0</td>\n",
       "      <td>1.0</td>\n",
       "      <td>0.0</td>\n",
       "      <td>...</td>\n",
       "      <td>699.50</td>\n",
       "      <td>31.00</td>\n",
       "      <td>290.50</td>\n",
       "      <td>810.0</td>\n",
       "      <td>39.25</td>\n",
       "      <td>108.008928</td>\n",
       "      <td>POINT</td>\n",
       "      <td>21.05028</td>\n",
       "      <td>52.31764</td>\n",
       "      <td></td>\n",
       "    </tr>\n",
       "  </tbody>\n",
       "</table>\n",
       "<p>5 rows × 30 columns</p>\n",
       "</div>"
      ],
      "text/plain": [
       "   buffer_index       jpt_nazwa_ operator  point_id  \\\n",
       "0          2709  powiat Warszawa   inpost     18334   \n",
       "1          2711  powiat Warszawa   inpost     11787   \n",
       "2          2713  powiat Warszawa   inpost      9475   \n",
       "3          2714  powiat Warszawa   inpost     35467   \n",
       "4          2715  powiat Warszawa   inpost     11434   \n",
       "\n",
       "                                      center  \\\n",
       "0                    POINT (21.0303 52.3169)   \n",
       "1                  POINT (20.99999 52.31708)   \n",
       "2  POINT (21.0302805409061 52.3174329976903)   \n",
       "3                  POINT (21.03759 52.31755)   \n",
       "4                  POINT (21.05028 52.31764)   \n",
       "\n",
       "                                              buffer  inpost_points  \\\n",
       "0  POLYGON ((21.03765588883248 52.31689977156337,...              2   \n",
       "1  POLYGON ((21.00734591875068 52.31707977156189,...              1   \n",
       "2  POLYGON ((21.03763651833026 52.31743276924928,...              3   \n",
       "3  POLYGON ((21.04494599687195 52.31754977155803,...              2   \n",
       "4  POLYGON ((21.05763601183158 52.31763977155728,...              2   \n",
       "\n",
       "   poczta_points  dhl_points  ruch_points  ...  MALE_15_64  MALE_65__  \\\n",
       "0            0.0         0.0          0.0  ...      165.00      16.25   \n",
       "1            1.0         3.0          0.0  ...       69.75      12.25   \n",
       "2            0.0         0.0          0.0  ...      165.00      16.25   \n",
       "3            0.0         0.0          0.0  ...      165.00      16.25   \n",
       "4            2.0         1.0          0.0  ...      699.50      31.00   \n",
       "\n",
       "   FEM_0_14  FEM_15_64  FEM_65__   FEM_RATIO  remove              long  \\\n",
       "0     57.25      178.5     15.75  103.493095  POINT            21.0303   \n",
       "1     10.25       68.5     28.00  103.576308  POINT           20.99999   \n",
       "2     57.25      178.5     15.75  103.493095  POINT   21.0302805409061   \n",
       "3     57.25      178.5     15.75  103.493095  POINT           21.03759   \n",
       "4    290.50      810.0     39.25  108.008928  POINT           21.05028   \n",
       "\n",
       "                lat  remove2  \n",
       "0           52.3169           \n",
       "1          52.31708           \n",
       "2  52.3174329976903           \n",
       "3          52.31755           \n",
       "4          52.31764           \n",
       "\n",
       "[5 rows x 30 columns]"
      ]
     },
     "execution_count": 123,
     "metadata": {},
     "output_type": "execute_result"
    }
   ],
   "source": [
    "df.head()"
   ]
  },
  {
   "cell_type": "code",
   "execution_count": 124,
   "metadata": {
    "ExecuteTime": {
     "end_time": "2021-06-11T17:42:01.498588Z",
     "start_time": "2021-06-11T17:42:01.490060Z"
    }
   },
   "outputs": [],
   "source": [
    "df = df.drop(columns = {'operator', 'buffer'})"
   ]
  },
  {
   "cell_type": "code",
   "execution_count": 125,
   "metadata": {
    "ExecuteTime": {
     "end_time": "2021-06-11T17:42:01.845458Z",
     "start_time": "2021-06-11T17:42:01.798457Z"
    }
   },
   "outputs": [
    {
     "data": {
      "text/html": [
       "<div>\n",
       "<style scoped>\n",
       "    .dataframe tbody tr th:only-of-type {\n",
       "        vertical-align: middle;\n",
       "    }\n",
       "\n",
       "    .dataframe tbody tr th {\n",
       "        vertical-align: top;\n",
       "    }\n",
       "\n",
       "    .dataframe thead th {\n",
       "        text-align: right;\n",
       "    }\n",
       "</style>\n",
       "<table border=\"1\" class=\"dataframe\">\n",
       "  <thead>\n",
       "    <tr style=\"text-align: right;\">\n",
       "      <th></th>\n",
       "      <th>buffer_index</th>\n",
       "      <th>jpt_nazwa_</th>\n",
       "      <th>point_id</th>\n",
       "      <th>center</th>\n",
       "      <th>inpost_points</th>\n",
       "      <th>poczta_points</th>\n",
       "      <th>dhl_points</th>\n",
       "      <th>ruch_points</th>\n",
       "      <th>dpd_points</th>\n",
       "      <th>ups_points</th>\n",
       "      <th>...</th>\n",
       "      <th>MALE_15_64</th>\n",
       "      <th>MALE_65__</th>\n",
       "      <th>FEM_0_14</th>\n",
       "      <th>FEM_15_64</th>\n",
       "      <th>FEM_65__</th>\n",
       "      <th>FEM_RATIO</th>\n",
       "      <th>remove</th>\n",
       "      <th>long</th>\n",
       "      <th>lat</th>\n",
       "      <th>remove2</th>\n",
       "    </tr>\n",
       "  </thead>\n",
       "  <tbody>\n",
       "    <tr>\n",
       "      <th>0</th>\n",
       "      <td>2709</td>\n",
       "      <td>powiat Warszawa</td>\n",
       "      <td>18334</td>\n",
       "      <td>POINT (21.0303 52.3169)</td>\n",
       "      <td>2</td>\n",
       "      <td>0.0</td>\n",
       "      <td>0.0</td>\n",
       "      <td>0.0</td>\n",
       "      <td>1.0</td>\n",
       "      <td>1.0</td>\n",
       "      <td>...</td>\n",
       "      <td>165.00</td>\n",
       "      <td>16.25</td>\n",
       "      <td>57.25</td>\n",
       "      <td>178.5</td>\n",
       "      <td>15.75</td>\n",
       "      <td>103.493095</td>\n",
       "      <td>POINT</td>\n",
       "      <td>21.0303</td>\n",
       "      <td>52.3169</td>\n",
       "      <td></td>\n",
       "    </tr>\n",
       "    <tr>\n",
       "      <th>1</th>\n",
       "      <td>2711</td>\n",
       "      <td>powiat Warszawa</td>\n",
       "      <td>11787</td>\n",
       "      <td>POINT (20.99999 52.31708)</td>\n",
       "      <td>1</td>\n",
       "      <td>1.0</td>\n",
       "      <td>3.0</td>\n",
       "      <td>0.0</td>\n",
       "      <td>1.0</td>\n",
       "      <td>0.0</td>\n",
       "      <td>...</td>\n",
       "      <td>69.75</td>\n",
       "      <td>12.25</td>\n",
       "      <td>10.25</td>\n",
       "      <td>68.5</td>\n",
       "      <td>28.00</td>\n",
       "      <td>103.576308</td>\n",
       "      <td>POINT</td>\n",
       "      <td>20.99999</td>\n",
       "      <td>52.31708</td>\n",
       "      <td></td>\n",
       "    </tr>\n",
       "    <tr>\n",
       "      <th>2</th>\n",
       "      <td>2713</td>\n",
       "      <td>powiat Warszawa</td>\n",
       "      <td>9475</td>\n",
       "      <td>POINT (21.0302805409061 52.3174329976903)</td>\n",
       "      <td>3</td>\n",
       "      <td>0.0</td>\n",
       "      <td>0.0</td>\n",
       "      <td>0.0</td>\n",
       "      <td>1.0</td>\n",
       "      <td>1.0</td>\n",
       "      <td>...</td>\n",
       "      <td>165.00</td>\n",
       "      <td>16.25</td>\n",
       "      <td>57.25</td>\n",
       "      <td>178.5</td>\n",
       "      <td>15.75</td>\n",
       "      <td>103.493095</td>\n",
       "      <td>POINT</td>\n",
       "      <td>21.0302805409061</td>\n",
       "      <td>52.3174329976903</td>\n",
       "      <td></td>\n",
       "    </tr>\n",
       "    <tr>\n",
       "      <th>3</th>\n",
       "      <td>2714</td>\n",
       "      <td>powiat Warszawa</td>\n",
       "      <td>35467</td>\n",
       "      <td>POINT (21.03759 52.31755)</td>\n",
       "      <td>2</td>\n",
       "      <td>0.0</td>\n",
       "      <td>0.0</td>\n",
       "      <td>0.0</td>\n",
       "      <td>0.0</td>\n",
       "      <td>1.0</td>\n",
       "      <td>...</td>\n",
       "      <td>165.00</td>\n",
       "      <td>16.25</td>\n",
       "      <td>57.25</td>\n",
       "      <td>178.5</td>\n",
       "      <td>15.75</td>\n",
       "      <td>103.493095</td>\n",
       "      <td>POINT</td>\n",
       "      <td>21.03759</td>\n",
       "      <td>52.31755</td>\n",
       "      <td></td>\n",
       "    </tr>\n",
       "    <tr>\n",
       "      <th>4</th>\n",
       "      <td>2715</td>\n",
       "      <td>powiat Warszawa</td>\n",
       "      <td>11434</td>\n",
       "      <td>POINT (21.05028 52.31764)</td>\n",
       "      <td>2</td>\n",
       "      <td>2.0</td>\n",
       "      <td>1.0</td>\n",
       "      <td>0.0</td>\n",
       "      <td>2.0</td>\n",
       "      <td>0.0</td>\n",
       "      <td>...</td>\n",
       "      <td>699.50</td>\n",
       "      <td>31.00</td>\n",
       "      <td>290.50</td>\n",
       "      <td>810.0</td>\n",
       "      <td>39.25</td>\n",
       "      <td>108.008928</td>\n",
       "      <td>POINT</td>\n",
       "      <td>21.05028</td>\n",
       "      <td>52.31764</td>\n",
       "      <td></td>\n",
       "    </tr>\n",
       "  </tbody>\n",
       "</table>\n",
       "<p>5 rows × 28 columns</p>\n",
       "</div>"
      ],
      "text/plain": [
       "   buffer_index       jpt_nazwa_  point_id  \\\n",
       "0          2709  powiat Warszawa     18334   \n",
       "1          2711  powiat Warszawa     11787   \n",
       "2          2713  powiat Warszawa      9475   \n",
       "3          2714  powiat Warszawa     35467   \n",
       "4          2715  powiat Warszawa     11434   \n",
       "\n",
       "                                      center  inpost_points  poczta_points  \\\n",
       "0                    POINT (21.0303 52.3169)              2            0.0   \n",
       "1                  POINT (20.99999 52.31708)              1            1.0   \n",
       "2  POINT (21.0302805409061 52.3174329976903)              3            0.0   \n",
       "3                  POINT (21.03759 52.31755)              2            0.0   \n",
       "4                  POINT (21.05028 52.31764)              2            2.0   \n",
       "\n",
       "   dhl_points  ruch_points  dpd_points  ups_points  ...  MALE_15_64  \\\n",
       "0         0.0          0.0         1.0         1.0  ...      165.00   \n",
       "1         3.0          0.0         1.0         0.0  ...       69.75   \n",
       "2         0.0          0.0         1.0         1.0  ...      165.00   \n",
       "3         0.0          0.0         0.0         1.0  ...      165.00   \n",
       "4         1.0          0.0         2.0         0.0  ...      699.50   \n",
       "\n",
       "   MALE_65__  FEM_0_14  FEM_15_64  FEM_65__   FEM_RATIO  remove  \\\n",
       "0      16.25     57.25      178.5     15.75  103.493095  POINT    \n",
       "1      12.25     10.25       68.5     28.00  103.576308  POINT    \n",
       "2      16.25     57.25      178.5     15.75  103.493095  POINT    \n",
       "3      16.25     57.25      178.5     15.75  103.493095  POINT    \n",
       "4      31.00    290.50      810.0     39.25  108.008928  POINT    \n",
       "\n",
       "               long               lat  remove2  \n",
       "0           21.0303           52.3169           \n",
       "1          20.99999          52.31708           \n",
       "2  21.0302805409061  52.3174329976903           \n",
       "3          21.03759          52.31755           \n",
       "4          21.05028          52.31764           \n",
       "\n",
       "[5 rows x 28 columns]"
      ]
     },
     "execution_count": 125,
     "metadata": {},
     "output_type": "execute_result"
    }
   ],
   "source": [
    "df.head()"
   ]
  },
  {
   "cell_type": "code",
   "execution_count": 126,
   "metadata": {
    "ExecuteTime": {
     "end_time": "2021-06-11T17:42:02.567151Z",
     "start_time": "2021-06-11T17:42:02.483087Z"
    }
   },
   "outputs": [],
   "source": [
    "import shapely\n",
    "from shapely.geometry import Point\n",
    "import shapely.wkt\n",
    "df['geometry'] = df.apply(lambda x: shapely.wkt.loads(x['center']), axis=1)"
   ]
  },
  {
   "cell_type": "code",
   "execution_count": 127,
   "metadata": {
    "ExecuteTime": {
     "end_time": "2021-06-11T17:42:03.020549Z",
     "start_time": "2021-06-11T17:42:02.994608Z"
    }
   },
   "outputs": [],
   "source": [
    "df_geo = gpd.GeoDataFrame(df, geometry = 'geometry', crs = \"epsg:4258\")"
   ]
  },
  {
   "cell_type": "code",
   "execution_count": 128,
   "metadata": {
    "ExecuteTime": {
     "end_time": "2021-06-11T17:42:03.991752Z",
     "start_time": "2021-06-11T17:42:03.986800Z"
    }
   },
   "outputs": [],
   "source": [
    "import mgwr"
   ]
  },
  {
   "cell_type": "code",
   "execution_count": 129,
   "metadata": {
    "ExecuteTime": {
     "end_time": "2021-06-11T17:42:04.391356Z",
     "start_time": "2021-06-11T17:42:04.387780Z"
    }
   },
   "outputs": [],
   "source": [
    "import numpy as np\n",
    "from mgwr.gwr import GWR, MGWR\n",
    "from mgwr.sel_bw import Sel_BW"
   ]
  },
  {
   "cell_type": "code",
   "execution_count": 130,
   "metadata": {
    "ExecuteTime": {
     "end_time": "2021-06-11T17:42:05.063609Z",
     "start_time": "2021-06-11T17:42:05.058621Z"
    }
   },
   "outputs": [],
   "source": [
    "from mgwr.utils import compare_surfaces, truncate_colormap"
   ]
  },
  {
   "cell_type": "code",
   "execution_count": 131,
   "metadata": {
    "ExecuteTime": {
     "end_time": "2021-06-11T17:42:06.254770Z",
     "start_time": "2021-06-11T17:42:05.379125Z"
    }
   },
   "outputs": [
    {
     "name": "stderr",
     "output_type": "stream",
     "text": [
      "c:\\users\\michal_schudnij\\appdata\\local\\programs\\python\\python36-32\\lib\\site-packages\\ipykernel_launcher.py:3: UserWarning: Geometry is in a geographic CRS. Results from 'centroid' are likely incorrect. Use 'GeoSeries.to_crs()' to re-project geometries to a projected CRS before this operation.\n",
      "\n",
      "  This is separate from the ipykernel package so we can avoid doing imports until\n"
     ]
    },
    {
     "data": {
      "image/png": "[encoded data removed]",
      "text/plain": [
       "<Figure size 720x720 with 1 Axes>"
      ]
     },
     "metadata": {},
     "output_type": "display_data"
    }
   ],
   "source": [
    "fig, ax = plt.subplots(figsize = (10, 10))\n",
    "df_geo.plot(ax=ax, **{'edgecolor': 'black', 'facecolor': 'white'})\n",
    "df_geo.centroid.plot(ax = ax, c = 'black')\n",
    "plt.savefig('georgia_shp')\n",
    "plt.show()"
   ]
  },
  {
   "cell_type": "code",
   "execution_count": 132,
   "metadata": {
    "ExecuteTime": {
     "end_time": "2021-06-11T17:42:09.505614Z",
     "start_time": "2021-06-11T17:42:09.426039Z"
    }
   },
   "outputs": [],
   "source": [
    "import shapely\n",
    "from shapely.geometry import Point\n",
    "import shapely.wkt\n",
    "df_warszawa['geometry'] = df_warszawa.apply(lambda x: shapely.wkt.loads(x['center']), axis=1)\n",
    "\n",
    "df_geo = gpd.GeoDataFrame(df_warszawa, geometry = 'geometry', crs = \"epsg:4258\")"
   ]
  },
  {
   "cell_type": "code",
   "execution_count": 133,
   "metadata": {
    "ExecuteTime": {
     "end_time": "2021-06-11T17:42:09.783000Z",
     "start_time": "2021-06-11T17:42:09.668258Z"
    }
   },
   "outputs": [
    {
     "data": {
      "text/html": [
       "<div>\n",
       "<style scoped>\n",
       "    .dataframe tbody tr th:only-of-type {\n",
       "        vertical-align: middle;\n",
       "    }\n",
       "\n",
       "    .dataframe tbody tr th {\n",
       "        vertical-align: top;\n",
       "    }\n",
       "\n",
       "    .dataframe thead th {\n",
       "        text-align: right;\n",
       "    }\n",
       "</style>\n",
       "<table border=\"1\" class=\"dataframe\">\n",
       "  <thead>\n",
       "    <tr style=\"text-align: right;\">\n",
       "      <th></th>\n",
       "      <th>buffer_index</th>\n",
       "      <th>jpt_nazwa_</th>\n",
       "      <th>operator</th>\n",
       "      <th>point_id</th>\n",
       "      <th>center</th>\n",
       "      <th>buffer</th>\n",
       "      <th>inpost_points</th>\n",
       "      <th>poczta_points</th>\n",
       "      <th>dhl_points</th>\n",
       "      <th>ruch_points</th>\n",
       "      <th>...</th>\n",
       "      <th>MALE_65__</th>\n",
       "      <th>FEM_0_14</th>\n",
       "      <th>FEM_15_64</th>\n",
       "      <th>FEM_65__</th>\n",
       "      <th>FEM_RATIO</th>\n",
       "      <th>remove</th>\n",
       "      <th>long</th>\n",
       "      <th>lat</th>\n",
       "      <th>remove2</th>\n",
       "      <th>geometry</th>\n",
       "    </tr>\n",
       "  </thead>\n",
       "  <tbody>\n",
       "    <tr>\n",
       "      <th>0</th>\n",
       "      <td>2709</td>\n",
       "      <td>powiat Warszawa</td>\n",
       "      <td>inpost</td>\n",
       "      <td>18334</td>\n",
       "      <td>POINT (21.0303 52.3169)</td>\n",
       "      <td>POLYGON ((21.03765588883248 52.31689977156337,...</td>\n",
       "      <td>2</td>\n",
       "      <td>0.0</td>\n",
       "      <td>0.0</td>\n",
       "      <td>0.0</td>\n",
       "      <td>...</td>\n",
       "      <td>16.25</td>\n",
       "      <td>57.25</td>\n",
       "      <td>178.5</td>\n",
       "      <td>15.75</td>\n",
       "      <td>103.493095</td>\n",
       "      <td>POINT</td>\n",
       "      <td>21.0303</td>\n",
       "      <td>52.3169</td>\n",
       "      <td></td>\n",
       "      <td>POINT (21.03030 52.31690)</td>\n",
       "    </tr>\n",
       "    <tr>\n",
       "      <th>1</th>\n",
       "      <td>2711</td>\n",
       "      <td>powiat Warszawa</td>\n",
       "      <td>inpost</td>\n",
       "      <td>11787</td>\n",
       "      <td>POINT (20.99999 52.31708)</td>\n",
       "      <td>POLYGON ((21.00734591875068 52.31707977156189,...</td>\n",
       "      <td>1</td>\n",
       "      <td>1.0</td>\n",
       "      <td>3.0</td>\n",
       "      <td>0.0</td>\n",
       "      <td>...</td>\n",
       "      <td>12.25</td>\n",
       "      <td>10.25</td>\n",
       "      <td>68.5</td>\n",
       "      <td>28.00</td>\n",
       "      <td>103.576308</td>\n",
       "      <td>POINT</td>\n",
       "      <td>20.99999</td>\n",
       "      <td>52.31708</td>\n",
       "      <td></td>\n",
       "      <td>POINT (20.99999 52.31708)</td>\n",
       "    </tr>\n",
       "    <tr>\n",
       "      <th>2</th>\n",
       "      <td>2713</td>\n",
       "      <td>powiat Warszawa</td>\n",
       "      <td>inpost</td>\n",
       "      <td>9475</td>\n",
       "      <td>POINT (21.0302805409061 52.3174329976903)</td>\n",
       "      <td>POLYGON ((21.03763651833026 52.31743276924928,...</td>\n",
       "      <td>3</td>\n",
       "      <td>0.0</td>\n",
       "      <td>0.0</td>\n",
       "      <td>0.0</td>\n",
       "      <td>...</td>\n",
       "      <td>16.25</td>\n",
       "      <td>57.25</td>\n",
       "      <td>178.5</td>\n",
       "      <td>15.75</td>\n",
       "      <td>103.493095</td>\n",
       "      <td>POINT</td>\n",
       "      <td>21.0302805409061</td>\n",
       "      <td>52.3174329976903</td>\n",
       "      <td></td>\n",
       "      <td>POINT (21.03028 52.31743)</td>\n",
       "    </tr>\n",
       "    <tr>\n",
       "      <th>3</th>\n",
       "      <td>2714</td>\n",
       "      <td>powiat Warszawa</td>\n",
       "      <td>inpost</td>\n",
       "      <td>35467</td>\n",
       "      <td>POINT (21.03759 52.31755)</td>\n",
       "      <td>POLYGON ((21.04494599687195 52.31754977155803,...</td>\n",
       "      <td>2</td>\n",
       "      <td>0.0</td>\n",
       "      <td>0.0</td>\n",
       "      <td>0.0</td>\n",
       "      <td>...</td>\n",
       "      <td>16.25</td>\n",
       "      <td>57.25</td>\n",
       "      <td>178.5</td>\n",
       "      <td>15.75</td>\n",
       "      <td>103.493095</td>\n",
       "      <td>POINT</td>\n",
       "      <td>21.03759</td>\n",
       "      <td>52.31755</td>\n",
       "      <td></td>\n",
       "      <td>POINT (21.03759 52.31755)</td>\n",
       "    </tr>\n",
       "    <tr>\n",
       "      <th>4</th>\n",
       "      <td>2715</td>\n",
       "      <td>powiat Warszawa</td>\n",
       "      <td>inpost</td>\n",
       "      <td>11434</td>\n",
       "      <td>POINT (21.05028 52.31764)</td>\n",
       "      <td>POLYGON ((21.05763601183158 52.31763977155728,...</td>\n",
       "      <td>2</td>\n",
       "      <td>2.0</td>\n",
       "      <td>1.0</td>\n",
       "      <td>0.0</td>\n",
       "      <td>...</td>\n",
       "      <td>31.00</td>\n",
       "      <td>290.50</td>\n",
       "      <td>810.0</td>\n",
       "      <td>39.25</td>\n",
       "      <td>108.008928</td>\n",
       "      <td>POINT</td>\n",
       "      <td>21.05028</td>\n",
       "      <td>52.31764</td>\n",
       "      <td></td>\n",
       "      <td>POINT (21.05028 52.31764)</td>\n",
       "    </tr>\n",
       "  </tbody>\n",
       "</table>\n",
       "<p>5 rows × 31 columns</p>\n",
       "</div>"
      ],
      "text/plain": [
       "   buffer_index       jpt_nazwa_ operator  point_id  \\\n",
       "0          2709  powiat Warszawa   inpost     18334   \n",
       "1          2711  powiat Warszawa   inpost     11787   \n",
       "2          2713  powiat Warszawa   inpost      9475   \n",
       "3          2714  powiat Warszawa   inpost     35467   \n",
       "4          2715  powiat Warszawa   inpost     11434   \n",
       "\n",
       "                                      center  \\\n",
       "0                    POINT (21.0303 52.3169)   \n",
       "1                  POINT (20.99999 52.31708)   \n",
       "2  POINT (21.0302805409061 52.3174329976903)   \n",
       "3                  POINT (21.03759 52.31755)   \n",
       "4                  POINT (21.05028 52.31764)   \n",
       "\n",
       "                                              buffer  inpost_points  \\\n",
       "0  POLYGON ((21.03765588883248 52.31689977156337,...              2   \n",
       "1  POLYGON ((21.00734591875068 52.31707977156189,...              1   \n",
       "2  POLYGON ((21.03763651833026 52.31743276924928,...              3   \n",
       "3  POLYGON ((21.04494599687195 52.31754977155803,...              2   \n",
       "4  POLYGON ((21.05763601183158 52.31763977155728,...              2   \n",
       "\n",
       "   poczta_points  dhl_points  ruch_points  ...  MALE_65__  FEM_0_14  \\\n",
       "0            0.0         0.0          0.0  ...      16.25     57.25   \n",
       "1            1.0         3.0          0.0  ...      12.25     10.25   \n",
       "2            0.0         0.0          0.0  ...      16.25     57.25   \n",
       "3            0.0         0.0          0.0  ...      16.25     57.25   \n",
       "4            2.0         1.0          0.0  ...      31.00    290.50   \n",
       "\n",
       "   FEM_15_64  FEM_65__   FEM_RATIO  remove              long  \\\n",
       "0      178.5     15.75  103.493095  POINT            21.0303   \n",
       "1       68.5     28.00  103.576308  POINT           20.99999   \n",
       "2      178.5     15.75  103.493095  POINT   21.0302805409061   \n",
       "3      178.5     15.75  103.493095  POINT           21.03759   \n",
       "4      810.0     39.25  108.008928  POINT           21.05028   \n",
       "\n",
       "                lat  remove2                   geometry  \n",
       "0           52.3169           POINT (21.03030 52.31690)  \n",
       "1          52.31708           POINT (20.99999 52.31708)  \n",
       "2  52.3174329976903           POINT (21.03028 52.31743)  \n",
       "3          52.31755           POINT (21.03759 52.31755)  \n",
       "4          52.31764           POINT (21.05028 52.31764)  \n",
       "\n",
       "[5 rows x 31 columns]"
      ]
     },
     "execution_count": 133,
     "metadata": {},
     "output_type": "execute_result"
    }
   ],
   "source": [
    "df_geo.head()"
   ]
  },
  {
   "cell_type": "code",
   "execution_count": 134,
   "metadata": {
    "ExecuteTime": {
     "end_time": "2021-06-11T17:42:10.408473Z",
     "start_time": "2021-06-11T17:42:10.402486Z"
    }
   },
   "outputs": [
    {
     "data": {
      "text/plain": [
       "'POINT (20.99999 52.31708)'"
      ]
     },
     "execution_count": 134,
     "metadata": {},
     "output_type": "execute_result"
    }
   ],
   "source": [
    "df_geo['center'][1]"
   ]
  },
  {
   "cell_type": "code",
   "execution_count": 135,
   "metadata": {
    "ExecuteTime": {
     "end_time": "2021-06-11T17:42:10.874258Z",
     "start_time": "2021-06-11T17:42:10.868750Z"
    }
   },
   "outputs": [],
   "source": [
    "df_geo['long'] = df_geo['long'].astype(float)"
   ]
  },
  {
   "cell_type": "code",
   "execution_count": 136,
   "metadata": {
    "ExecuteTime": {
     "end_time": "2021-06-11T17:42:11.544123Z",
     "start_time": "2021-06-11T17:42:11.539139Z"
    }
   },
   "outputs": [],
   "source": [
    "df_geo['lat'] = df_geo['lat'].astype(float)"
   ]
  },
  {
   "cell_type": "code",
   "execution_count": 137,
   "metadata": {
    "ExecuteTime": {
     "end_time": "2021-06-11T17:42:11.962375Z",
     "start_time": "2021-06-11T17:42:11.955415Z"
    }
   },
   "outputs": [
    {
     "data": {
      "text/plain": [
       "['buffer_index',\n",
       " 'jpt_nazwa_',\n",
       " 'operator',\n",
       " 'point_id',\n",
       " 'center',\n",
       " 'buffer',\n",
       " 'inpost_points',\n",
       " 'poczta_points',\n",
       " 'dhl_points',\n",
       " 'ruch_points',\n",
       " 'dpd_points',\n",
       " 'ups_points',\n",
       " 'fedex_points',\n",
       " 'TOT',\n",
       " 'TOT_0_14',\n",
       " 'TOT_15_64',\n",
       " 'TOT_65__',\n",
       " 'TOT_MALE',\n",
       " 'TOT_FEM',\n",
       " 'MALE_0_14',\n",
       " 'MALE_15_64',\n",
       " 'MALE_65__',\n",
       " 'FEM_0_14',\n",
       " 'FEM_15_64',\n",
       " 'FEM_65__',\n",
       " 'FEM_RATIO',\n",
       " 'remove',\n",
       " 'long',\n",
       " 'lat',\n",
       " 'remove2',\n",
       " 'geometry']"
      ]
     },
     "execution_count": 137,
     "metadata": {},
     "output_type": "execute_result"
    }
   ],
   "source": [
    "df_geo.columns.to_list()"
   ]
  },
  {
   "cell_type": "code",
   "execution_count": 167,
   "metadata": {
    "ExecuteTime": {
     "end_time": "2021-06-11T17:45:12.170665Z",
     "start_time": "2021-06-11T17:45:12.163682Z"
    }
   },
   "outputs": [],
   "source": [
    "g_y = df_geo['inpost_points'].values.reshape((-1, 1))\n",
    "g_X = df_geo[['poczta_points', 'dhl_points', 'ruch_points', 'dpd_points', 'ups_points', 'TOT','FEM_RATIO']].values\n",
    "#'poczta_points', 'dhl_points', 'ruch_points', 'dpd_points', 'ups_points', 'TOT','TOT_0_14','TOT_15_64','TOT_65__','TOT_MALE','TOT_FEM','MALE_0_14','MALE_15_64','MALE_65__','FEM_0_14','FEM_15_64','FEM_65__','FEM_RATIO'\n",
    "u = df_geo['long']\n",
    "v = df_geo['lat']\n",
    "g_coords = list(zip(u, v))"
   ]
  },
  {
   "cell_type": "code",
   "execution_count": 168,
   "metadata": {
    "ExecuteTime": {
     "end_time": "2021-06-11T17:45:12.396558Z",
     "start_time": "2021-06-11T17:45:12.389612Z"
    }
   },
   "outputs": [],
   "source": [
    "selector = Sel_BW(g_coords, g_y, g_X)"
   ]
  },
  {
   "cell_type": "code",
   "execution_count": 169,
   "metadata": {
    "ExecuteTime": {
     "end_time": "2021-06-11T17:45:12.557083Z",
     "start_time": "2021-06-11T17:45:12.549108Z"
    }
   },
   "outputs": [
    {
     "data": {
      "text/plain": [
       "array([[0.00000000e+00, 0.00000000e+00, 0.00000000e+00, ...,\n",
       "        1.00000000e+00, 4.91750000e+02, 1.03493095e+02],\n",
       "       [1.00000000e+00, 3.00000000e+00, 0.00000000e+00, ...,\n",
       "        0.00000000e+00, 1.99500000e+02, 1.03576308e+02],\n",
       "       [0.00000000e+00, 0.00000000e+00, 0.00000000e+00, ...,\n",
       "        1.00000000e+00, 4.91750000e+02, 1.03493095e+02],\n",
       "       ...,\n",
       "       [1.80000000e+01, 2.20000000e+01, 2.00000000e+00, ...,\n",
       "        0.00000000e+00, 9.48600000e+03, 1.20462758e+02],\n",
       "       [6.00000000e+00, 6.00000000e+00, 2.00000000e+00, ...,\n",
       "        1.00000000e+00, 8.47700000e+03, 1.20210322e+02],\n",
       "       [8.00000000e+00, 8.00000000e+00, 1.00000000e+00, ...,\n",
       "        2.00000000e+00, 8.47700000e+03, 1.20210322e+02]])"
      ]
     },
     "execution_count": 169,
     "metadata": {},
     "output_type": "execute_result"
    }
   ],
   "source": [
    "g_X"
   ]
  },
  {
   "cell_type": "code",
   "execution_count": 170,
   "metadata": {
    "ExecuteTime": {
     "end_time": "2021-06-11T17:45:17.288744Z",
     "start_time": "2021-06-11T17:45:13.310850Z"
    }
   },
   "outputs": [],
   "source": [
    "bw = selector.search()"
   ]
  },
  {
   "cell_type": "code",
   "execution_count": 171,
   "metadata": {
    "ExecuteTime": {
     "end_time": "2021-06-11T17:45:17.310380Z",
     "start_time": "2021-06-11T17:45:17.291723Z"
    }
   },
   "outputs": [
    {
     "name": "stdout",
     "output_type": "stream",
     "text": [
      "59.0\n"
     ]
    }
   ],
   "source": [
    "print(bw)"
   ]
  },
  {
   "cell_type": "code",
   "execution_count": 172,
   "metadata": {
    "ExecuteTime": {
     "end_time": "2021-06-11T17:45:17.322347Z",
     "start_time": "2021-06-11T17:45:17.316365Z"
    }
   },
   "outputs": [],
   "source": [
    "# bw = selector.search(search_method = 'interval',\n",
    "# interval = 2,\n",
    "# bw_min = 30,\n",
    "# bw_max = 100)"
   ]
  },
  {
   "cell_type": "code",
   "execution_count": 173,
   "metadata": {
    "ExecuteTime": {
     "end_time": "2021-06-11T17:45:17.334317Z",
     "start_time": "2021-06-11T17:45:17.325339Z"
    }
   },
   "outputs": [
    {
     "name": "stdout",
     "output_type": "stream",
     "text": [
      "59.0\n"
     ]
    }
   ],
   "source": [
    "print(bw)"
   ]
  },
  {
   "cell_type": "code",
   "execution_count": 174,
   "metadata": {
    "ExecuteTime": {
     "end_time": "2021-06-11T17:45:21.535187Z",
     "start_time": "2021-06-11T17:45:17.337306Z"
    }
   },
   "outputs": [
    {
     "name": "stdout",
     "output_type": "stream",
     "text": [
      "59.0\n"
     ]
    }
   ],
   "source": [
    "gwr_selector = Sel_BW(g_coords, g_y, g_X)\n",
    "gwr_bw = gwr_selector.search()\n",
    "print(gwr_bw)"
   ]
  },
  {
   "cell_type": "code",
   "execution_count": 175,
   "metadata": {
    "ExecuteTime": {
     "end_time": "2021-06-11T17:45:21.953735Z",
     "start_time": "2021-06-11T17:45:21.537184Z"
    }
   },
   "outputs": [
    {
     "name": "stdout",
     "output_type": "stream",
     "text": [
      "939.70768120749\n"
     ]
    }
   ],
   "source": [
    "gwr_model = GWR(g_coords, g_y, g_X, gwr_bw)\n",
    "gwr_results = gwr_model.fit()\n",
    "print(gwr_results.resid_ss)"
   ]
  },
  {
   "cell_type": "code",
   "execution_count": 176,
   "metadata": {
    "ExecuteTime": {
     "end_time": "2021-06-11T17:45:22.328667Z",
     "start_time": "2021-06-11T17:45:21.956662Z"
    }
   },
   "outputs": [
    {
     "name": "stdout",
     "output_type": "stream",
     "text": [
      "755.4962013102672\n"
     ]
    },
    {
     "name": "stderr",
     "output_type": "stream",
     "text": [
      "c:\\users\\michal_schudnij\\appdata\\local\\programs\\python\\python36-32\\lib\\site-packages\\spglm\\iwls.py:37: LinAlgWarning: Ill-conditioned matrix (rcond=3.02404e-22): result may not be accurate.\n",
      "  xtx_inv_xt = linalg.solve(xtx, xT)\n"
     ]
    }
   ],
   "source": [
    "gwr_model = GWR(g_coords, g_y, g_X, 47)\n",
    "gwr_results = gwr_model.fit()\n",
    "print(gwr_results.resid_ss)"
   ]
  },
  {
   "cell_type": "code",
   "execution_count": 177,
   "metadata": {
    "ExecuteTime": {
     "end_time": "2021-06-11T17:45:22.336647Z",
     "start_time": "2021-06-11T17:45:22.331663Z"
    }
   },
   "outputs": [],
   "source": [
    "# fig, ax = plt.subplots(2, 3, figsize = (10, 8))\n",
    "# bws = (x for x in range(25, 175, 25))\n",
    "\n",
    "# for row in range(2):\n",
    "#     for col in range(3):\n",
    "#         bw = next(bws)\n",
    "#         gwr_model = GWR(g_coords, g_y, g_X, bw)\n",
    "#         gwr_results = gwr_model.fit()\n",
    "#         georgia['rural'] = gwr_results.params[:, -1]\n",
    "#         georgia.plot('rural', ax = ax[row, col])\n",
    "#         ax[row,col].set_title('Bandwidth: ' + str(bw))\n",
    "#         ax[row,col].get_xaxis().set_visible(False)\n",
    "#         ax[row,col].get_yaxis().set_visible(False)\n",
    "#         plt.savefig('explore')\n",
    "#         plt.show()"
   ]
  },
  {
   "cell_type": "code",
   "execution_count": 178,
   "metadata": {
    "ExecuteTime": {
     "end_time": "2021-06-11T17:45:22.349620Z",
     "start_time": "2021-06-11T17:45:22.339654Z"
    }
   },
   "outputs": [],
   "source": [
    "from spglm.family import Poisson, Binomial"
   ]
  },
  {
   "cell_type": "code",
   "execution_count": 179,
   "metadata": {
    "ExecuteTime": {
     "end_time": "2021-06-11T17:45:26.399454Z",
     "start_time": "2021-06-11T17:45:22.352605Z"
    }
   },
   "outputs": [
    {
     "name": "stdout",
     "output_type": "stream",
     "text": [
      "59.0\n"
     ]
    }
   ],
   "source": [
    "gwr_selector = Sel_BW(g_coords, g_y, g_X)\n",
    "gwr_bw = gwr_selector.search()\n",
    "print(gwr_bw)"
   ]
  },
  {
   "cell_type": "code",
   "execution_count": 180,
   "metadata": {
    "ExecuteTime": {
     "end_time": "2021-06-11T17:45:26.851725Z",
     "start_time": "2021-06-11T17:45:26.402540Z"
    }
   },
   "outputs": [
    {
     "name": "stdout",
     "output_type": "stream",
     "text": [
      "3161.4447032158396\n",
      "3338.5970234605693\n",
      "0.8467518548542188\n"
     ]
    }
   ],
   "source": [
    "gwr_model = GWR(g_coords, g_y, g_X, gwr_bw)\n",
    "gwr_results = gwr_model.fit()\n",
    "print(gwr_results.aic)\n",
    "print(gwr_results.aicc)\n",
    "print(gwr_results.R2)"
   ]
  },
  {
   "cell_type": "code",
   "execution_count": 181,
   "metadata": {
    "ExecuteTime": {
     "end_time": "2021-06-11T17:45:27.480936Z",
     "start_time": "2021-06-11T17:45:26.853768Z"
    }
   },
   "outputs": [
    {
     "data": {
      "image/png": "[encoded data removed]",
      "text/plain": [
       "<Figure size 432x288 with 2 Axes>"
      ]
     },
     "metadata": {},
     "output_type": "display_data"
    }
   ],
   "source": [
    "df_geo['R2'] = gwr_results.localR2\n",
    "df_geo.plot('R2', legend = True)\n",
    "ax = plt.gca()\n",
    "ax.get_xaxis().set_visible(False)\n",
    "ax.get_yaxis().set_visible(False)\n",
    "# plt.savefig('local_R2')\n",
    "plt.show()"
   ]
  },
  {
   "cell_type": "code",
   "execution_count": 105,
   "metadata": {
    "ExecuteTime": {
     "end_time": "2021-06-11T17:21:56.396246Z",
     "start_time": "2021-06-11T17:21:52.578322Z"
    }
   },
   "outputs": [
    {
     "name": "stdout",
     "output_type": "stream",
     "text": [
      "51.0\n"
     ]
    }
   ],
   "source": [
    "#Visualizing hypothesis tests for significance of parameter estimates\n",
    "gwr_selector = Sel_BW(g_coords, g_y, g_X)\n",
    "gwr_bw = gwr_selector.search()\n",
    "print(gwr_bw)"
   ]
  },
  {
   "cell_type": "code",
   "execution_count": 107,
   "metadata": {
    "ExecuteTime": {
     "end_time": "2021-06-11T17:22:22.693627Z",
     "start_time": "2021-06-11T17:22:22.321896Z"
    }
   },
   "outputs": [],
   "source": [
    "gwr_model = GWR(g_coords, g_y, g_X, gwr_bw)\n",
    "gwr_results = gwr_model.fit()"
   ]
  },
  {
   "cell_type": "code",
   "execution_count": null,
   "metadata": {},
   "outputs": [],
   "source": [
    "# 'poczta_points', 'dhl_points', 'ruch_points', 'dpd_points', 'ups_points', 'TOT','FEM_RATIO'"
   ]
  },
  {
   "cell_type": "code",
   "execution_count": 182,
   "metadata": {
    "ExecuteTime": {
     "end_time": "2021-06-11T17:46:19.092692Z",
     "start_time": "2021-06-11T17:46:19.059603Z"
    }
   },
   "outputs": [
    {
     "name": "stdout",
     "output_type": "stream",
     "text": [
      "===========================================================================\n",
      "Model type                                                         Gaussian\n",
      "Number of observations:                                                 940\n",
      "Number of covariates:                                                     8\n",
      "\n",
      "Global Regression Results\n",
      "---------------------------------------------------------------------------\n",
      "Residual sum of squares:                                           3507.041\n",
      "Log-likelihood:                                                   -1952.627\n",
      "AIC:                                                               3921.254\n",
      "AICc:                                                              3923.447\n",
      "BIC:                                                              -2873.319\n",
      "R2:                                                                   0.428\n",
      "Adj. R2:                                                              0.424\n",
      "\n",
      "Variable                              Est.         SE  t(Est/SE)    p-value\n",
      "------------------------------- ---------- ---------- ---------- ----------\n",
      "X0                                   1.733      0.799      2.168      0.030\n",
      "X1                                  -0.005      0.042     -0.120      0.904\n",
      "X2                                   0.216      0.035      6.107      0.000\n",
      "X3                                   0.370      0.065      5.664      0.000\n",
      "X4                                   0.079      0.060      1.317      0.188\n",
      "X5                                   0.171      0.084      2.020      0.043\n",
      "X6                                   0.000      0.000      6.384      0.000\n",
      "X7                                   0.002      0.007      0.288      0.773\n",
      "\n",
      "Geographically Weighted Regression (GWR) Results\n",
      "---------------------------------------------------------------------------\n",
      "Spatial kernel:                                           Adaptive bisquare\n",
      "Bandwidth used:                                                      59.000\n",
      "\n",
      "Diagnostic information\n",
      "---------------------------------------------------------------------------\n",
      "Residual sum of squares:                                            939.708\n",
      "Effective number of parameters (trace(S)):                          246.066\n",
      "Degree of freedom (n - trace(S)):                                   693.934\n",
      "Sigma estimate:                                                       1.164\n",
      "Log-likelihood:                                                   -1333.656\n",
      "AIC:                                                               3161.445\n",
      "AICc:                                                              3338.597\n",
      "BIC:                                                               4358.698\n",
      "R2:                                                                   0.847\n",
      "Adjusted R2:                                                          0.792\n",
      "Adj. alpha (95%):                                                     0.002\n",
      "Adj. critical t value (95%):                                          3.160\n",
      "\n",
      "Summary Statistics For GWR Parameter Estimates\n",
      "---------------------------------------------------------------------------\n",
      "Variable                   Mean        STD        Min     Median        Max\n",
      "-------------------- ---------- ---------- ---------- ---------- ----------\n",
      "X0                       -1.024     20.236   -167.657      1.109    100.002\n",
      "X1                        0.115      0.391     -0.915      0.129      1.088\n",
      "X2                        0.077      0.347     -1.333      0.073      1.160\n",
      "X3                        0.366      0.515     -1.003      0.353      2.230\n",
      "X4                        0.172      0.391     -1.168      0.186      1.299\n",
      "X5                        0.219      0.786     -2.272      0.227      2.475\n",
      "X6                        0.000      0.000     -0.001      0.000      0.001\n",
      "X7                        0.025      0.177     -0.875      0.007      1.461\n",
      "===========================================================================\n",
      "\n"
     ]
    }
   ],
   "source": [
    "gwr_results.summary()"
   ]
  },
  {
   "cell_type": "code",
   "execution_count": 108,
   "metadata": {
    "ExecuteTime": {
     "end_time": "2021-06-11T17:23:06.538527Z",
     "start_time": "2021-06-11T17:23:06.530547Z"
    }
   },
   "outputs": [],
   "source": [
    "#default behavior using corrected alpha\n",
    "filter_tc = gwr_results.filter_tvals()"
   ]
  },
  {
   "cell_type": "code",
   "execution_count": 109,
   "metadata": {
    "ExecuteTime": {
     "end_time": "2021-06-11T17:23:07.001198Z",
     "start_time": "2021-06-11T17:23:06.995228Z"
    }
   },
   "outputs": [],
   "source": [
    "#without correction using common alpha\n",
    "filter_t = gwr_results.filter_tvals(alpha = 0.05)"
   ]
  },
  {
   "cell_type": "code",
   "execution_count": 110,
   "metadata": {
    "ExecuteTime": {
     "end_time": "2021-06-11T17:25:17.163427Z",
     "start_time": "2021-06-11T17:25:17.155448Z"
    }
   },
   "outputs": [],
   "source": [
    "df_warszawa['rural'] = gwr_results.params[:, 1]\n",
    "df_warszawa['rural_t'] = filter_t[:, 1]\n",
    "df_warszawa['rural_tc'] = filter_tc[:, 1]"
   ]
  },
  {
   "cell_type": "code",
   "execution_count": 113,
   "metadata": {
    "ExecuteTime": {
     "end_time": "2021-06-11T17:25:48.499564Z",
     "start_time": "2021-06-11T17:25:47.507526Z"
    }
   },
   "outputs": [
    {
     "ename": "AttributeError",
     "evalue": "'Line2D' object has no property 'edgecolor'",
     "output_type": "error",
     "traceback": [
      "\u001b[1;31m---------------------------------------------------------------------------\u001b[0m",
      "\u001b[1;31mAttributeError\u001b[0m                            Traceback (most recent call last)",
      "\u001b[1;32m<ipython-input-113-b05ad2fd9309>\u001b[0m in \u001b[0;36m<module>\u001b[1;34m()\u001b[0m\n\u001b[0;32m      1\u001b[0m \u001b[0mfig\u001b[0m\u001b[1;33m,\u001b[0m \u001b[0max\u001b[0m \u001b[1;33m=\u001b[0m \u001b[0mplt\u001b[0m\u001b[1;33m.\u001b[0m\u001b[0msubplots\u001b[0m\u001b[1;33m(\u001b[0m\u001b[1;36m1\u001b[0m\u001b[1;33m,\u001b[0m \u001b[1;36m3\u001b[0m\u001b[1;33m,\u001b[0m \u001b[0mfigsize\u001b[0m \u001b[1;33m=\u001b[0m \u001b[1;33m(\u001b[0m\u001b[1;36m10\u001b[0m\u001b[1;33m,\u001b[0m \u001b[1;36m4\u001b[0m\u001b[1;33m)\u001b[0m\u001b[1;33m)\u001b[0m\u001b[1;33m\u001b[0m\u001b[0m\n\u001b[1;32m----> 2\u001b[1;33m \u001b[0mdf_warszawa\u001b[0m\u001b[1;33m.\u001b[0m\u001b[0mplot\u001b[0m\u001b[1;33m(\u001b[0m\u001b[1;34m'rural'\u001b[0m\u001b[1;33m,\u001b[0m \u001b[1;33m**\u001b[0m\u001b[1;33m{\u001b[0m\u001b[1;34m'edgecolor'\u001b[0m\u001b[1;33m:\u001b[0m \u001b[1;34m'black'\u001b[0m\u001b[1;33m,\u001b[0m \u001b[1;34m'alpha'\u001b[0m\u001b[1;33m:\u001b[0m \u001b[1;36m.65\u001b[0m\u001b[1;33m,\u001b[0m \u001b[1;34m'linewidth'\u001b[0m\u001b[1;33m:\u001b[0m \u001b[1;36m.5\u001b[0m\u001b[1;33m}\u001b[0m\u001b[1;33m,\u001b[0m \u001b[0max\u001b[0m \u001b[1;33m=\u001b[0m \u001b[0max\u001b[0m\u001b[1;33m[\u001b[0m\u001b[1;36m0\u001b[0m\u001b[1;33m]\u001b[0m\u001b[1;33m)\u001b[0m\u001b[1;33m\u001b[0m\u001b[0m\n\u001b[0m\u001b[0;32m      3\u001b[0m \u001b[0max\u001b[0m\u001b[1;33m[\u001b[0m\u001b[1;36m0\u001b[0m\u001b[1;33m]\u001b[0m\u001b[1;33m.\u001b[0m\u001b[0mget_xaxis\u001b[0m\u001b[1;33m(\u001b[0m\u001b[1;33m)\u001b[0m\u001b[1;33m.\u001b[0m\u001b[0mset_visible\u001b[0m\u001b[1;33m(\u001b[0m\u001b[1;32mFalse\u001b[0m\u001b[1;33m)\u001b[0m\u001b[1;33m\u001b[0m\u001b[0m\n\u001b[0;32m      4\u001b[0m \u001b[0max\u001b[0m\u001b[1;33m[\u001b[0m\u001b[1;36m0\u001b[0m\u001b[1;33m]\u001b[0m\u001b[1;33m.\u001b[0m\u001b[0mget_yaxis\u001b[0m\u001b[1;33m(\u001b[0m\u001b[1;33m)\u001b[0m\u001b[1;33m.\u001b[0m\u001b[0mset_visible\u001b[0m\u001b[1;33m(\u001b[0m\u001b[1;32mFalse\u001b[0m\u001b[1;33m)\u001b[0m\u001b[1;33m\u001b[0m\u001b[0m\n\u001b[0;32m      5\u001b[0m \u001b[0max\u001b[0m\u001b[1;33m[\u001b[0m\u001b[1;36m0\u001b[0m\u001b[1;33m]\u001b[0m\u001b[1;33m.\u001b[0m\u001b[0mset_title\u001b[0m\u001b[1;33m(\u001b[0m\u001b[1;34m'Parameter estimates'\u001b[0m\u001b[1;33m)\u001b[0m\u001b[1;33m\u001b[0m\u001b[0m\n",
      "\u001b[1;32mc:\\users\\michal_schudnij\\appdata\\local\\programs\\python\\python36-32\\lib\\site-packages\\pandas\\plotting\\_core.py\u001b[0m in \u001b[0;36m__call__\u001b[1;34m(self, *args, **kwargs)\u001b[0m\n\u001b[0;32m    947\u001b[0m                     \u001b[0mdata\u001b[0m\u001b[1;33m.\u001b[0m\u001b[0mcolumns\u001b[0m \u001b[1;33m=\u001b[0m \u001b[0mlabel_name\u001b[0m\u001b[1;33m\u001b[0m\u001b[0m\n\u001b[0;32m    948\u001b[0m \u001b[1;33m\u001b[0m\u001b[0m\n\u001b[1;32m--> 949\u001b[1;33m         \u001b[1;32mreturn\u001b[0m \u001b[0mplot_backend\u001b[0m\u001b[1;33m.\u001b[0m\u001b[0mplot\u001b[0m\u001b[1;33m(\u001b[0m\u001b[0mdata\u001b[0m\u001b[1;33m,\u001b[0m \u001b[0mkind\u001b[0m\u001b[1;33m=\u001b[0m\u001b[0mkind\u001b[0m\u001b[1;33m,\u001b[0m \u001b[1;33m**\u001b[0m\u001b[0mkwargs\u001b[0m\u001b[1;33m)\u001b[0m\u001b[1;33m\u001b[0m\u001b[0m\n\u001b[0m\u001b[0;32m    950\u001b[0m \u001b[1;33m\u001b[0m\u001b[0m\n\u001b[0;32m    951\u001b[0m     \u001b[0m__call__\u001b[0m\u001b[1;33m.\u001b[0m\u001b[0m__doc__\u001b[0m \u001b[1;33m=\u001b[0m \u001b[0m__doc__\u001b[0m\u001b[1;33m\u001b[0m\u001b[0m\n",
      "\u001b[1;32mc:\\users\\michal_schudnij\\appdata\\local\\programs\\python\\python36-32\\lib\\site-packages\\pandas\\plotting\\_matplotlib\\__init__.py\u001b[0m in \u001b[0;36mplot\u001b[1;34m(data, kind, **kwargs)\u001b[0m\n\u001b[0;32m     59\u001b[0m             \u001b[0mkwargs\u001b[0m\u001b[1;33m[\u001b[0m\u001b[1;34m\"ax\"\u001b[0m\u001b[1;33m]\u001b[0m \u001b[1;33m=\u001b[0m \u001b[0mgetattr\u001b[0m\u001b[1;33m(\u001b[0m\u001b[0max\u001b[0m\u001b[1;33m,\u001b[0m \u001b[1;34m\"left_ax\"\u001b[0m\u001b[1;33m,\u001b[0m \u001b[0max\u001b[0m\u001b[1;33m)\u001b[0m\u001b[1;33m\u001b[0m\u001b[0m\n\u001b[0;32m     60\u001b[0m     \u001b[0mplot_obj\u001b[0m \u001b[1;33m=\u001b[0m \u001b[0mPLOT_CLASSES\u001b[0m\u001b[1;33m[\u001b[0m\u001b[0mkind\u001b[0m\u001b[1;33m]\u001b[0m\u001b[1;33m(\u001b[0m\u001b[0mdata\u001b[0m\u001b[1;33m,\u001b[0m \u001b[1;33m**\u001b[0m\u001b[0mkwargs\u001b[0m\u001b[1;33m)\u001b[0m\u001b[1;33m\u001b[0m\u001b[0m\n\u001b[1;32m---> 61\u001b[1;33m     \u001b[0mplot_obj\u001b[0m\u001b[1;33m.\u001b[0m\u001b[0mgenerate\u001b[0m\u001b[1;33m(\u001b[0m\u001b[1;33m)\u001b[0m\u001b[1;33m\u001b[0m\u001b[0m\n\u001b[0m\u001b[0;32m     62\u001b[0m     \u001b[0mplot_obj\u001b[0m\u001b[1;33m.\u001b[0m\u001b[0mdraw\u001b[0m\u001b[1;33m(\u001b[0m\u001b[1;33m)\u001b[0m\u001b[1;33m\u001b[0m\u001b[0m\n\u001b[0;32m     63\u001b[0m     \u001b[1;32mreturn\u001b[0m \u001b[0mplot_obj\u001b[0m\u001b[1;33m.\u001b[0m\u001b[0mresult\u001b[0m\u001b[1;33m\u001b[0m\u001b[0m\n",
      "\u001b[1;32mc:\\users\\michal_schudnij\\appdata\\local\\programs\\python\\python36-32\\lib\\site-packages\\pandas\\plotting\\_matplotlib\\core.py\u001b[0m in \u001b[0;36mgenerate\u001b[1;34m(self)\u001b[0m\n\u001b[0;32m    269\u001b[0m         \u001b[0mself\u001b[0m\u001b[1;33m.\u001b[0m\u001b[0m_compute_plot_data\u001b[0m\u001b[1;33m(\u001b[0m\u001b[1;33m)\u001b[0m\u001b[1;33m\u001b[0m\u001b[0m\n\u001b[0;32m    270\u001b[0m         \u001b[0mself\u001b[0m\u001b[1;33m.\u001b[0m\u001b[0m_setup_subplots\u001b[0m\u001b[1;33m(\u001b[0m\u001b[1;33m)\u001b[0m\u001b[1;33m\u001b[0m\u001b[0m\n\u001b[1;32m--> 271\u001b[1;33m         \u001b[0mself\u001b[0m\u001b[1;33m.\u001b[0m\u001b[0m_make_plot\u001b[0m\u001b[1;33m(\u001b[0m\u001b[1;33m)\u001b[0m\u001b[1;33m\u001b[0m\u001b[0m\n\u001b[0m\u001b[0;32m    272\u001b[0m         \u001b[0mself\u001b[0m\u001b[1;33m.\u001b[0m\u001b[0m_add_table\u001b[0m\u001b[1;33m(\u001b[0m\u001b[1;33m)\u001b[0m\u001b[1;33m\u001b[0m\u001b[0m\n\u001b[0;32m    273\u001b[0m         \u001b[0mself\u001b[0m\u001b[1;33m.\u001b[0m\u001b[0m_make_legend\u001b[0m\u001b[1;33m(\u001b[0m\u001b[1;33m)\u001b[0m\u001b[1;33m\u001b[0m\u001b[0m\n",
      "\u001b[1;32mc:\\users\\michal_schudnij\\appdata\\local\\programs\\python\\python36-32\\lib\\site-packages\\pandas\\plotting\\_matplotlib\\core.py\u001b[0m in \u001b[0;36m_make_plot\u001b[1;34m(self)\u001b[0m\n\u001b[0;32m   1124\u001b[0m                 \u001b[0mstacking_id\u001b[0m\u001b[1;33m=\u001b[0m\u001b[0mstacking_id\u001b[0m\u001b[1;33m,\u001b[0m\u001b[1;33m\u001b[0m\u001b[0m\n\u001b[0;32m   1125\u001b[0m                 \u001b[0mis_errorbar\u001b[0m\u001b[1;33m=\u001b[0m\u001b[0mis_errorbar\u001b[0m\u001b[1;33m,\u001b[0m\u001b[1;33m\u001b[0m\u001b[0m\n\u001b[1;32m-> 1126\u001b[1;33m                 \u001b[1;33m**\u001b[0m\u001b[0mkwds\u001b[0m\u001b[1;33m,\u001b[0m\u001b[1;33m\u001b[0m\u001b[0m\n\u001b[0m\u001b[0;32m   1127\u001b[0m             )\n\u001b[0;32m   1128\u001b[0m             \u001b[0mself\u001b[0m\u001b[1;33m.\u001b[0m\u001b[0m_add_legend_handle\u001b[0m\u001b[1;33m(\u001b[0m\u001b[0mnewlines\u001b[0m\u001b[1;33m[\u001b[0m\u001b[1;36m0\u001b[0m\u001b[1;33m]\u001b[0m\u001b[1;33m,\u001b[0m \u001b[0mlabel\u001b[0m\u001b[1;33m,\u001b[0m \u001b[0mindex\u001b[0m\u001b[1;33m=\u001b[0m\u001b[0mi\u001b[0m\u001b[1;33m)\u001b[0m\u001b[1;33m\u001b[0m\u001b[0m\n",
      "\u001b[1;32mc:\\users\\michal_schudnij\\appdata\\local\\programs\\python\\python36-32\\lib\\site-packages\\pandas\\plotting\\_matplotlib\\core.py\u001b[0m in \u001b[0;36m_plot\u001b[1;34m(cls, ax, x, y, style, column_num, stacking_id, **kwds)\u001b[0m\n\u001b[0;32m   1143\u001b[0m             \u001b[0mcls\u001b[0m\u001b[1;33m.\u001b[0m\u001b[0m_initialize_stacker\u001b[0m\u001b[1;33m(\u001b[0m\u001b[0max\u001b[0m\u001b[1;33m,\u001b[0m \u001b[0mstacking_id\u001b[0m\u001b[1;33m,\u001b[0m \u001b[0mlen\u001b[0m\u001b[1;33m(\u001b[0m\u001b[0my\u001b[0m\u001b[1;33m)\u001b[0m\u001b[1;33m)\u001b[0m\u001b[1;33m\u001b[0m\u001b[0m\n\u001b[0;32m   1144\u001b[0m         \u001b[0my_values\u001b[0m \u001b[1;33m=\u001b[0m \u001b[0mcls\u001b[0m\u001b[1;33m.\u001b[0m\u001b[0m_get_stacked_values\u001b[0m\u001b[1;33m(\u001b[0m\u001b[0max\u001b[0m\u001b[1;33m,\u001b[0m \u001b[0mstacking_id\u001b[0m\u001b[1;33m,\u001b[0m \u001b[0my\u001b[0m\u001b[1;33m,\u001b[0m \u001b[0mkwds\u001b[0m\u001b[1;33m[\u001b[0m\u001b[1;34m\"label\"\u001b[0m\u001b[1;33m]\u001b[0m\u001b[1;33m)\u001b[0m\u001b[1;33m\u001b[0m\u001b[0m\n\u001b[1;32m-> 1145\u001b[1;33m         \u001b[0mlines\u001b[0m \u001b[1;33m=\u001b[0m \u001b[0mMPLPlot\u001b[0m\u001b[1;33m.\u001b[0m\u001b[0m_plot\u001b[0m\u001b[1;33m(\u001b[0m\u001b[0max\u001b[0m\u001b[1;33m,\u001b[0m \u001b[0mx\u001b[0m\u001b[1;33m,\u001b[0m \u001b[0my_values\u001b[0m\u001b[1;33m,\u001b[0m \u001b[0mstyle\u001b[0m\u001b[1;33m=\u001b[0m\u001b[0mstyle\u001b[0m\u001b[1;33m,\u001b[0m \u001b[1;33m**\u001b[0m\u001b[0mkwds\u001b[0m\u001b[1;33m)\u001b[0m\u001b[1;33m\u001b[0m\u001b[0m\n\u001b[0m\u001b[0;32m   1146\u001b[0m         \u001b[0mcls\u001b[0m\u001b[1;33m.\u001b[0m\u001b[0m_update_stacker\u001b[0m\u001b[1;33m(\u001b[0m\u001b[0max\u001b[0m\u001b[1;33m,\u001b[0m \u001b[0mstacking_id\u001b[0m\u001b[1;33m,\u001b[0m \u001b[0my\u001b[0m\u001b[1;33m)\u001b[0m\u001b[1;33m\u001b[0m\u001b[0m\n\u001b[0;32m   1147\u001b[0m         \u001b[1;32mreturn\u001b[0m \u001b[0mlines\u001b[0m\u001b[1;33m\u001b[0m\u001b[0m\n",
      "\u001b[1;32mc:\\users\\michal_schudnij\\appdata\\local\\programs\\python\\python36-32\\lib\\site-packages\\pandas\\plotting\\_matplotlib\\converter.py\u001b[0m in \u001b[0;36mwrapper\u001b[1;34m(*args, **kwargs)\u001b[0m\n\u001b[0;32m     63\u001b[0m     \u001b[1;32mdef\u001b[0m \u001b[0mwrapper\u001b[0m\u001b[1;33m(\u001b[0m\u001b[1;33m*\u001b[0m\u001b[0margs\u001b[0m\u001b[1;33m,\u001b[0m \u001b[1;33m**\u001b[0m\u001b[0mkwargs\u001b[0m\u001b[1;33m)\u001b[0m\u001b[1;33m:\u001b[0m\u001b[1;33m\u001b[0m\u001b[0m\n\u001b[0;32m     64\u001b[0m         \u001b[1;32mwith\u001b[0m \u001b[0mpandas_converters\u001b[0m\u001b[1;33m(\u001b[0m\u001b[1;33m)\u001b[0m\u001b[1;33m:\u001b[0m\u001b[1;33m\u001b[0m\u001b[0m\n\u001b[1;32m---> 65\u001b[1;33m             \u001b[1;32mreturn\u001b[0m \u001b[0mfunc\u001b[0m\u001b[1;33m(\u001b[0m\u001b[1;33m*\u001b[0m\u001b[0margs\u001b[0m\u001b[1;33m,\u001b[0m \u001b[1;33m**\u001b[0m\u001b[0mkwargs\u001b[0m\u001b[1;33m)\u001b[0m\u001b[1;33m\u001b[0m\u001b[0m\n\u001b[0m\u001b[0;32m     66\u001b[0m \u001b[1;33m\u001b[0m\u001b[0m\n\u001b[0;32m     67\u001b[0m     \u001b[1;32mreturn\u001b[0m \u001b[0mwrapper\u001b[0m\u001b[1;33m\u001b[0m\u001b[0m\n",
      "\u001b[1;32mc:\\users\\michal_schudnij\\appdata\\local\\programs\\python\\python36-32\\lib\\site-packages\\pandas\\plotting\\_matplotlib\\core.py\u001b[0m in \u001b[0;36m_plot\u001b[1;34m(cls, ax, x, y, style, is_errorbar, **kwds)\u001b[0m\n\u001b[0;32m    666\u001b[0m             \u001b[1;32melse\u001b[0m\u001b[1;33m:\u001b[0m\u001b[1;33m\u001b[0m\u001b[0m\n\u001b[0;32m    667\u001b[0m                 \u001b[0margs\u001b[0m \u001b[1;33m=\u001b[0m \u001b[1;33m(\u001b[0m\u001b[0mx\u001b[0m\u001b[1;33m,\u001b[0m \u001b[0my\u001b[0m\u001b[1;33m)\u001b[0m\u001b[1;33m\u001b[0m\u001b[0m\n\u001b[1;32m--> 668\u001b[1;33m             \u001b[1;32mreturn\u001b[0m \u001b[0max\u001b[0m\u001b[1;33m.\u001b[0m\u001b[0mplot\u001b[0m\u001b[1;33m(\u001b[0m\u001b[1;33m*\u001b[0m\u001b[0margs\u001b[0m\u001b[1;33m,\u001b[0m \u001b[1;33m**\u001b[0m\u001b[0mkwds\u001b[0m\u001b[1;33m)\u001b[0m\u001b[1;33m\u001b[0m\u001b[0m\n\u001b[0m\u001b[0;32m    669\u001b[0m \u001b[1;33m\u001b[0m\u001b[0m\n\u001b[0;32m    670\u001b[0m     \u001b[1;32mdef\u001b[0m \u001b[0m_get_index_name\u001b[0m\u001b[1;33m(\u001b[0m\u001b[0mself\u001b[0m\u001b[1;33m)\u001b[0m\u001b[1;33m:\u001b[0m\u001b[1;33m\u001b[0m\u001b[0m\n",
      "\u001b[1;32m~\\AppData\\Roaming\\Python\\Python36\\site-packages\\matplotlib\\axes\\_axes.py\u001b[0m in \u001b[0;36mplot\u001b[1;34m(self, scalex, scaley, data, *args, **kwargs)\u001b[0m\n\u001b[0;32m   1644\u001b[0m         \"\"\"\n\u001b[0;32m   1645\u001b[0m         \u001b[0mkwargs\u001b[0m \u001b[1;33m=\u001b[0m \u001b[0mcbook\u001b[0m\u001b[1;33m.\u001b[0m\u001b[0mnormalize_kwargs\u001b[0m\u001b[1;33m(\u001b[0m\u001b[0mkwargs\u001b[0m\u001b[1;33m,\u001b[0m \u001b[0mmlines\u001b[0m\u001b[1;33m.\u001b[0m\u001b[0mLine2D\u001b[0m\u001b[1;33m)\u001b[0m\u001b[1;33m\u001b[0m\u001b[0m\n\u001b[1;32m-> 1646\u001b[1;33m         \u001b[0mlines\u001b[0m \u001b[1;33m=\u001b[0m \u001b[1;33m[\u001b[0m\u001b[1;33m*\u001b[0m\u001b[0mself\u001b[0m\u001b[1;33m.\u001b[0m\u001b[0m_get_lines\u001b[0m\u001b[1;33m(\u001b[0m\u001b[1;33m*\u001b[0m\u001b[0margs\u001b[0m\u001b[1;33m,\u001b[0m \u001b[0mdata\u001b[0m\u001b[1;33m=\u001b[0m\u001b[0mdata\u001b[0m\u001b[1;33m,\u001b[0m \u001b[1;33m**\u001b[0m\u001b[0mkwargs\u001b[0m\u001b[1;33m)\u001b[0m\u001b[1;33m]\u001b[0m\u001b[1;33m\u001b[0m\u001b[0m\n\u001b[0m\u001b[0;32m   1647\u001b[0m         \u001b[1;32mfor\u001b[0m \u001b[0mline\u001b[0m \u001b[1;32min\u001b[0m \u001b[0mlines\u001b[0m\u001b[1;33m:\u001b[0m\u001b[1;33m\u001b[0m\u001b[0m\n\u001b[0;32m   1648\u001b[0m             \u001b[0mself\u001b[0m\u001b[1;33m.\u001b[0m\u001b[0madd_line\u001b[0m\u001b[1;33m(\u001b[0m\u001b[0mline\u001b[0m\u001b[1;33m)\u001b[0m\u001b[1;33m\u001b[0m\u001b[0m\n",
      "\u001b[1;32m~\\AppData\\Roaming\\Python\\Python36\\site-packages\\matplotlib\\axes\\_base.py\u001b[0m in \u001b[0;36m__call__\u001b[1;34m(self, *args, **kwargs)\u001b[0m\n\u001b[0;32m    214\u001b[0m                 \u001b[0mthis\u001b[0m \u001b[1;33m+=\u001b[0m \u001b[0margs\u001b[0m\u001b[1;33m[\u001b[0m\u001b[1;36m0\u001b[0m\u001b[1;33m]\u001b[0m\u001b[1;33m,\u001b[0m\u001b[1;33m\u001b[0m\u001b[0m\n\u001b[0;32m    215\u001b[0m                 \u001b[0margs\u001b[0m \u001b[1;33m=\u001b[0m \u001b[0margs\u001b[0m\u001b[1;33m[\u001b[0m\u001b[1;36m1\u001b[0m\u001b[1;33m:\u001b[0m\u001b[1;33m]\u001b[0m\u001b[1;33m\u001b[0m\u001b[0m\n\u001b[1;32m--> 216\u001b[1;33m             \u001b[1;32myield\u001b[0m \u001b[1;32mfrom\u001b[0m \u001b[0mself\u001b[0m\u001b[1;33m.\u001b[0m\u001b[0m_plot_args\u001b[0m\u001b[1;33m(\u001b[0m\u001b[0mthis\u001b[0m\u001b[1;33m,\u001b[0m \u001b[0mkwargs\u001b[0m\u001b[1;33m)\u001b[0m\u001b[1;33m\u001b[0m\u001b[0m\n\u001b[0m\u001b[0;32m    217\u001b[0m \u001b[1;33m\u001b[0m\u001b[0m\n\u001b[0;32m    218\u001b[0m     \u001b[1;32mdef\u001b[0m \u001b[0mget_next_color\u001b[0m\u001b[1;33m(\u001b[0m\u001b[0mself\u001b[0m\u001b[1;33m)\u001b[0m\u001b[1;33m:\u001b[0m\u001b[1;33m\u001b[0m\u001b[0m\n",
      "\u001b[1;32m~\\AppData\\Roaming\\Python\\Python36\\site-packages\\matplotlib\\axes\\_base.py\u001b[0m in \u001b[0;36m_plot_args\u001b[1;34m(self, tup, kwargs)\u001b[0m\n\u001b[0;32m    362\u001b[0m                 \"non-matching shapes is deprecated.\")\n\u001b[0;32m    363\u001b[0m         return [func(x[:, j % ncx], y[:, j % ncy], kw, kwargs)\n\u001b[1;32m--> 364\u001b[1;33m                 for j in range(max(ncx, ncy))]\n\u001b[0m\u001b[0;32m    365\u001b[0m \u001b[1;33m\u001b[0m\u001b[0m\n\u001b[0;32m    366\u001b[0m \u001b[1;33m\u001b[0m\u001b[0m\n",
      "\u001b[1;32m~\\AppData\\Roaming\\Python\\Python36\\site-packages\\matplotlib\\axes\\_base.py\u001b[0m in \u001b[0;36m<listcomp>\u001b[1;34m(.0)\u001b[0m\n\u001b[0;32m    362\u001b[0m                 \"non-matching shapes is deprecated.\")\n\u001b[0;32m    363\u001b[0m         return [func(x[:, j % ncx], y[:, j % ncy], kw, kwargs)\n\u001b[1;32m--> 364\u001b[1;33m                 for j in range(max(ncx, ncy))]\n\u001b[0m\u001b[0;32m    365\u001b[0m \u001b[1;33m\u001b[0m\u001b[0m\n\u001b[0;32m    366\u001b[0m \u001b[1;33m\u001b[0m\u001b[0m\n",
      "\u001b[1;32m~\\AppData\\Roaming\\Python\\Python36\\site-packages\\matplotlib\\axes\\_base.py\u001b[0m in \u001b[0;36m_makeline\u001b[1;34m(self, x, y, kw, kwargs)\u001b[0m\n\u001b[0;32m    253\u001b[0m         \u001b[0mdefault_dict\u001b[0m \u001b[1;33m=\u001b[0m \u001b[0mself\u001b[0m\u001b[1;33m.\u001b[0m\u001b[0m_getdefaults\u001b[0m\u001b[1;33m(\u001b[0m\u001b[0mset\u001b[0m\u001b[1;33m(\u001b[0m\u001b[1;33m)\u001b[0m\u001b[1;33m,\u001b[0m \u001b[0mkw\u001b[0m\u001b[1;33m)\u001b[0m\u001b[1;33m\u001b[0m\u001b[0m\n\u001b[0;32m    254\u001b[0m         \u001b[0mself\u001b[0m\u001b[1;33m.\u001b[0m\u001b[0m_setdefaults\u001b[0m\u001b[1;33m(\u001b[0m\u001b[0mdefault_dict\u001b[0m\u001b[1;33m,\u001b[0m \u001b[0mkw\u001b[0m\u001b[1;33m)\u001b[0m\u001b[1;33m\u001b[0m\u001b[0m\n\u001b[1;32m--> 255\u001b[1;33m         \u001b[0mseg\u001b[0m \u001b[1;33m=\u001b[0m \u001b[0mmlines\u001b[0m\u001b[1;33m.\u001b[0m\u001b[0mLine2D\u001b[0m\u001b[1;33m(\u001b[0m\u001b[0mx\u001b[0m\u001b[1;33m,\u001b[0m \u001b[0my\u001b[0m\u001b[1;33m,\u001b[0m \u001b[1;33m**\u001b[0m\u001b[0mkw\u001b[0m\u001b[1;33m)\u001b[0m\u001b[1;33m\u001b[0m\u001b[0m\n\u001b[0m\u001b[0;32m    256\u001b[0m         \u001b[1;32mreturn\u001b[0m \u001b[0mseg\u001b[0m\u001b[1;33m\u001b[0m\u001b[0m\n\u001b[0;32m    257\u001b[0m \u001b[1;33m\u001b[0m\u001b[0m\n",
      "\u001b[1;32m~\\AppData\\Roaming\\Python\\Python36\\site-packages\\matplotlib\\lines.py\u001b[0m in \u001b[0;36m__init__\u001b[1;34m(self, xdata, ydata, linewidth, linestyle, color, marker, markersize, markeredgewidth, markeredgecolor, markerfacecolor, markerfacecoloralt, fillstyle, antialiased, dash_capstyle, solid_capstyle, dash_joinstyle, solid_joinstyle, pickradius, drawstyle, markevery, **kwargs)\u001b[0m\n\u001b[0;32m    398\u001b[0m         \u001b[1;31m# update kwargs before updating data to give the caller a\u001b[0m\u001b[1;33m\u001b[0m\u001b[1;33m\u001b[0m\u001b[0m\n\u001b[0;32m    399\u001b[0m         \u001b[1;31m# chance to init axes (and hence unit support)\u001b[0m\u001b[1;33m\u001b[0m\u001b[1;33m\u001b[0m\u001b[0m\n\u001b[1;32m--> 400\u001b[1;33m         \u001b[0mself\u001b[0m\u001b[1;33m.\u001b[0m\u001b[0mupdate\u001b[0m\u001b[1;33m(\u001b[0m\u001b[0mkwargs\u001b[0m\u001b[1;33m)\u001b[0m\u001b[1;33m\u001b[0m\u001b[0m\n\u001b[0m\u001b[0;32m    401\u001b[0m         \u001b[0mself\u001b[0m\u001b[1;33m.\u001b[0m\u001b[0mpickradius\u001b[0m \u001b[1;33m=\u001b[0m \u001b[0mpickradius\u001b[0m\u001b[1;33m\u001b[0m\u001b[0m\n\u001b[0;32m    402\u001b[0m         \u001b[0mself\u001b[0m\u001b[1;33m.\u001b[0m\u001b[0mind_offset\u001b[0m \u001b[1;33m=\u001b[0m \u001b[1;36m0\u001b[0m\u001b[1;33m\u001b[0m\u001b[0m\n",
      "\u001b[1;32m~\\AppData\\Roaming\\Python\\Python36\\site-packages\\matplotlib\\artist.py\u001b[0m in \u001b[0;36mupdate\u001b[1;34m(self, props)\u001b[0m\n\u001b[0;32m   1004\u001b[0m \u001b[1;33m\u001b[0m\u001b[0m\n\u001b[0;32m   1005\u001b[0m         \u001b[1;32mwith\u001b[0m \u001b[0mcbook\u001b[0m\u001b[1;33m.\u001b[0m\u001b[0m_setattr_cm\u001b[0m\u001b[1;33m(\u001b[0m\u001b[0mself\u001b[0m\u001b[1;33m,\u001b[0m \u001b[0meventson\u001b[0m\u001b[1;33m=\u001b[0m\u001b[1;32mFalse\u001b[0m\u001b[1;33m)\u001b[0m\u001b[1;33m:\u001b[0m\u001b[1;33m\u001b[0m\u001b[0m\n\u001b[1;32m-> 1006\u001b[1;33m             \u001b[0mret\u001b[0m \u001b[1;33m=\u001b[0m \u001b[1;33m[\u001b[0m\u001b[0m_update_property\u001b[0m\u001b[1;33m(\u001b[0m\u001b[0mself\u001b[0m\u001b[1;33m,\u001b[0m \u001b[0mk\u001b[0m\u001b[1;33m,\u001b[0m \u001b[0mv\u001b[0m\u001b[1;33m)\u001b[0m \u001b[1;32mfor\u001b[0m \u001b[0mk\u001b[0m\u001b[1;33m,\u001b[0m \u001b[0mv\u001b[0m \u001b[1;32min\u001b[0m \u001b[0mprops\u001b[0m\u001b[1;33m.\u001b[0m\u001b[0mitems\u001b[0m\u001b[1;33m(\u001b[0m\u001b[1;33m)\u001b[0m\u001b[1;33m]\u001b[0m\u001b[1;33m\u001b[0m\u001b[0m\n\u001b[0m\u001b[0;32m   1007\u001b[0m \u001b[1;33m\u001b[0m\u001b[0m\n\u001b[0;32m   1008\u001b[0m         \u001b[1;32mif\u001b[0m \u001b[0mlen\u001b[0m\u001b[1;33m(\u001b[0m\u001b[0mret\u001b[0m\u001b[1;33m)\u001b[0m\u001b[1;33m:\u001b[0m\u001b[1;33m\u001b[0m\u001b[0m\n",
      "\u001b[1;32m~\\AppData\\Roaming\\Python\\Python36\\site-packages\\matplotlib\\artist.py\u001b[0m in \u001b[0;36m<listcomp>\u001b[1;34m(.0)\u001b[0m\n\u001b[0;32m   1004\u001b[0m \u001b[1;33m\u001b[0m\u001b[0m\n\u001b[0;32m   1005\u001b[0m         \u001b[1;32mwith\u001b[0m \u001b[0mcbook\u001b[0m\u001b[1;33m.\u001b[0m\u001b[0m_setattr_cm\u001b[0m\u001b[1;33m(\u001b[0m\u001b[0mself\u001b[0m\u001b[1;33m,\u001b[0m \u001b[0meventson\u001b[0m\u001b[1;33m=\u001b[0m\u001b[1;32mFalse\u001b[0m\u001b[1;33m)\u001b[0m\u001b[1;33m:\u001b[0m\u001b[1;33m\u001b[0m\u001b[0m\n\u001b[1;32m-> 1006\u001b[1;33m             \u001b[0mret\u001b[0m \u001b[1;33m=\u001b[0m \u001b[1;33m[\u001b[0m\u001b[0m_update_property\u001b[0m\u001b[1;33m(\u001b[0m\u001b[0mself\u001b[0m\u001b[1;33m,\u001b[0m \u001b[0mk\u001b[0m\u001b[1;33m,\u001b[0m \u001b[0mv\u001b[0m\u001b[1;33m)\u001b[0m \u001b[1;32mfor\u001b[0m \u001b[0mk\u001b[0m\u001b[1;33m,\u001b[0m \u001b[0mv\u001b[0m \u001b[1;32min\u001b[0m \u001b[0mprops\u001b[0m\u001b[1;33m.\u001b[0m\u001b[0mitems\u001b[0m\u001b[1;33m(\u001b[0m\u001b[1;33m)\u001b[0m\u001b[1;33m]\u001b[0m\u001b[1;33m\u001b[0m\u001b[0m\n\u001b[0m\u001b[0;32m   1007\u001b[0m \u001b[1;33m\u001b[0m\u001b[0m\n\u001b[0;32m   1008\u001b[0m         \u001b[1;32mif\u001b[0m \u001b[0mlen\u001b[0m\u001b[1;33m(\u001b[0m\u001b[0mret\u001b[0m\u001b[1;33m)\u001b[0m\u001b[1;33m:\u001b[0m\u001b[1;33m\u001b[0m\u001b[0m\n",
      "\u001b[1;32m~\\AppData\\Roaming\\Python\\Python36\\site-packages\\matplotlib\\artist.py\u001b[0m in \u001b[0;36m_update_property\u001b[1;34m(self, k, v)\u001b[0m\n\u001b[0;32m   1000\u001b[0m                 \u001b[1;32mif\u001b[0m \u001b[1;32mnot\u001b[0m \u001b[0mcallable\u001b[0m\u001b[1;33m(\u001b[0m\u001b[0mfunc\u001b[0m\u001b[1;33m)\u001b[0m\u001b[1;33m:\u001b[0m\u001b[1;33m\u001b[0m\u001b[0m\n\u001b[0;32m   1001\u001b[0m                     raise AttributeError('{!r} object has no property {!r}'\n\u001b[1;32m-> 1002\u001b[1;33m                                          .format(type(self).__name__, k))\n\u001b[0m\u001b[0;32m   1003\u001b[0m                 \u001b[1;32mreturn\u001b[0m \u001b[0mfunc\u001b[0m\u001b[1;33m(\u001b[0m\u001b[0mv\u001b[0m\u001b[1;33m)\u001b[0m\u001b[1;33m\u001b[0m\u001b[0m\n\u001b[0;32m   1004\u001b[0m \u001b[1;33m\u001b[0m\u001b[0m\n",
      "\u001b[1;31mAttributeError\u001b[0m: 'Line2D' object has no property 'edgecolor'"
     ]
    },
    {
     "data": {
      "image/png": "[encoded data removed]",
      "text/plain": [
       "<Figure size 720x288 with 3 Axes>"
      ]
     },
     "metadata": {},
     "output_type": "display_data"
    }
   ],
   "source": [
    "fig, ax = plt.subplots(1, 3, figsize = (10, 4))\n",
    "df_warszawa.plot('rural', **{'edgecolor': 'black', 'alpha': .65, 'linewidth': .5}, ax = ax[0])\n",
    "ax[0].get_xaxis().set_visible(False)\n",
    "ax[0].get_yaxis().set_visible(False)\n",
    "ax[0].set_title('Parameter estimates')\n",
    "\n",
    "df_warszawa.plot('rural', **{'edgecolor': 'black', 'alpha': .65, 'linewidth': .5}, ax = ax[1])\n",
    "\n",
    "df_warszawa[filter_t[:, 1] == 0].plot(color = 'grey', ax = ax[1], **{'edgecolor': 'black', 'linewidth': .5})\n",
    "ax[1].get_xaxis().set_visible(False)\n",
    "ax[1].get_yaxis().set_visible(False)\n",
    "ax[1].set_title('Composite')\n",
    "\n",
    "df_warszawa.plot('rural', **{'edgecolor': 'black', 'alpha': .65, 'linewidth': .5}, ax = ax[2])\n",
    "df_warszawa[filter_tc[:, 1] == 0].plot(color = 'grey', ax = ax[2], **{'edgecolor': 'black', 'linewidth': .5})\n",
    "ax[2].get_xaxis().set_visible(False)\n",
    "ax[2].get_yaxis().set_visible(False)\n",
    "ax[2].set_title('Composite with correction')"
   ]
  },
  {
   "cell_type": "code",
   "execution_count": null,
   "metadata": {},
   "outputs": [],
   "source": [
    "#Visualizing hypothesis tests for significance of parameter estimates\n",
    "\n",
    "#Manually set bandwidth to 50 and fit\n",
    "gwr_model = GWR(g_coords, g_y, g_X, 50)\n",
    "gwr_results = gwr_model.fit()"
   ]
  },
  {
   "cell_type": "code",
   "execution_count": null,
   "metadata": {},
   "outputs": [],
   "source": [
    "#100 iterations\n",
    "p_vals_100 = gwr_results.spatial_variability(gwr_selector, 100)\n",
    "print(p_vals_100)"
   ]
  },
  {
   "cell_type": "code",
   "execution_count": null,
   "metadata": {},
   "outputs": [],
   "source": [
    "#default is 1000 iterations\n",
    "p_vals_1000 = gwr_results.spatial_variability(gwr_selector)\n",
    "print(p_vals_1000)"
   ]
  },
  {
   "cell_type": "code",
   "execution_count": null,
   "metadata": {},
   "outputs": [],
   "source": [
    "#2000 iterations\n",
    "p_vals_2000 = gwr_results.spatial_variability(gwr_selector, 2000)\n",
    "print(p_vals_2000)"
   ]
  },
  {
   "cell_type": "code",
   "execution_count": null,
   "metadata": {},
   "outputs": [],
   "source": [
    ">>> gwr_selector = Sel_BW(g_coords, g_y, g_X)\n",
    ">>> gwr_bw = gwr_selector.search()\n",
    ">>> print(gwr_bw)\n",
    "117.0\n",
    ">>> gwr_model = GWR(g_coords, g_y, g_X, gwr_bw)\n",
    ">>> gwr_results = gwr_model.fit()\n",
    ">>> LCC, VIF, CN, VDP = gwr_results.local_collinearity()\n",
    ">>> names = ['Foreign Born vs. African American',\n",
    "'Foreign Born vs. Rural',\n",
    "'African American vs. Rural']\n",
    ">>> fig, ax = plt.subplots(1, 3, figsize = (12, 4))\n",
    ">>> for col in range(3):\n",
    "georgia['vif'] = LCC[:, col]\n",
    "georgia.plot('vif', ax = ax[col], legend = True)\n",
    "ax[col].set_title('LCC: ' + names[col])\n",
    "ax[col].get_xaxis().set_visible(False)\n",
    "ax[col].get_yaxis().set_visible(False)\n",
    ">>> names = ['Foreign Born', 'African American', 'Rural']\n",
    ">>> fig, ax = plt.subplots(1, 3, figsize = (12, 4))\n",
    ">>> for col in range(3):\n",
    "georgia['vif'] = VIF[:, col]\n",
    "georgia.plot('vif', ax = ax[col], legend = True)\n",
    "ax[col].set_title('VIF: ' + names[col])\n",
    "ax[col].get_xaxis().set_visible(False)\n",
    "ax[col].get_yaxis().set_visible(False)\n",
    ">>> fig, ax = plt.subplots(1, 1, figsize = (4, 4))\n",
    ">>> georgia['cn'] = CN\n",
    ">>> georgia.plot('cn', legend = True, ax = ax)\n",
    ">>> ax.set_title('Condition Number')\n",
    ">>> ax.get_xaxis().set_visible(False)\n",
    ">>> ax.get_yaxis().set_visible(False)\n",
    ">>> names = ['Intercept', 'Foreign Born', 'African American', 'Rural']\n",
    ">>> fig, ax = plt.subplots(1, 4, figsize = (16, 4))\n",
    ">>> for col in range(4):\n",
    "georgia['vdp'] = VDP[:, col]\n",
    "georgia.plot('vdp', ax = ax[col], legend = True)\n",
    "ax[col].set_title('VDP: ' + names[col])\n",
    "ax[col].get_xaxis().set_visible(False)\n",
    "ax[col].get_yaxis().set_visible(False)"
   ]
  },
  {
   "cell_type": "code",
   "execution_count": null,
   "metadata": {},
   "outputs": [],
   "source": []
  }
 ],
 "metadata": {
  "kernelspec": {
   "display_name": "Python 3",
   "language": "python",
   "name": "python3"
  },
  "language_info": {
   "codemirror_mode": {
    "name": "ipython",
    "version": 3
   },
   "file_extension": ".py",
   "mimetype": "text/x-python",
   "name": "python",
   "nbconvert_exporter": "python",
   "pygments_lexer": "ipython3",
   "version": "3.6.4"
  }
 },
 "nbformat": 4,
 "nbformat_minor": 4
}
