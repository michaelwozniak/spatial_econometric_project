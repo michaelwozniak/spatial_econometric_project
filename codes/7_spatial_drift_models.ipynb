{
 "cells": [
  {
   "cell_type": "code",
   "execution_count": 2,
   "metadata": {
    "ExecuteTime": {
     "end_time": "2021-06-13T22:59:48.428190Z",
     "start_time": "2021-06-13T22:59:45.144897Z"
    }
   },
   "outputs": [
    {
     "name": "stderr",
     "output_type": "stream",
     "text": [
      "C:\\Users\\Michal_schudnij\\AppData\\Roaming\\Python\\Python36\\site-packages\\statsmodels\\tools\\_testing.py:19: FutureWarning: pandas.util.testing is deprecated. Use the functions in the public API at pandas.testing instead.\n",
      "  import pandas.util.testing as tm\n"
     ]
    },
    {
     "data": {
      "text/html": [
       "<style>.container { width:90% !important; }</style>"
      ],
      "text/plain": [
       "<IPython.core.display.HTML object>"
      ]
     },
     "metadata": {},
     "output_type": "display_data"
    },
    {
     "data": {
      "text/html": [
       "<style>.output_result { max-width:90% !important; }</style>"
      ],
      "text/plain": [
       "<IPython.core.display.HTML object>"
      ]
     },
     "metadata": {},
     "output_type": "display_data"
    },
    {
     "data": {
      "text/html": [
       "<style>.prompt { display:none !important; }</style>"
      ],
      "text/plain": [
       "<IPython.core.display.HTML object>"
      ]
     },
     "metadata": {},
     "output_type": "display_data"
    }
   ],
   "source": [
    "import pandas as pd\n",
    "import numpy as np\n",
    "import matplotlib.pyplot as plt\n",
    "import seaborn as sns\n",
    "import geopandas as gpd\n",
    "# import shapely\n",
    "# from shapely import wkt\n",
    "sns.set(style='darkgrid')\n",
    "% matplotlib inline\n",
    "\n",
    "from IPython.core.display import display, HTML\n",
    "display(HTML(\"<style>.container { width:90% !important; }</style>\"))\n",
    "display(HTML(\"<style>.output_result { max-width:90% !important; }</style>\"))\n",
    "display(HTML(\"<style>.prompt { display:none !important; }</style>\"))"
   ]
  },
  {
   "cell_type": "code",
   "execution_count": 3,
   "metadata": {
    "ExecuteTime": {
     "end_time": "2021-06-13T22:59:48.527925Z",
     "start_time": "2021-06-13T22:59:48.431183Z"
    }
   },
   "outputs": [],
   "source": [
    "df_warszawa = pd.read_csv(\"../datasets/preprocessed_data/df_warszawa_gwr.csv\")\n",
    "df_krakow = pd.read_csv(\"../datasets/preprocessed_data/df_krakow_gwr.csv\")\n",
    "df_poznan = pd.read_csv(\"../datasets/preprocessed_data/df_poznan_gwr.csv\")"
   ]
  },
  {
   "cell_type": "code",
   "execution_count": 4,
   "metadata": {
    "ExecuteTime": {
     "end_time": "2021-06-13T22:59:48.549865Z",
     "start_time": "2021-06-13T22:59:48.531919Z"
    }
   },
   "outputs": [],
   "source": [
    "df = pd.concat([df_warszawa, df_krakow, df_poznan])"
   ]
  },
  {
   "cell_type": "code",
   "execution_count": 7,
   "metadata": {
    "ExecuteTime": {
     "end_time": "2021-06-13T23:01:19.546911Z",
     "start_time": "2021-06-13T23:01:19.464923Z"
    }
   },
   "outputs": [],
   "source": [
    "df = pd.read_csv(\"../datasets/preprocessed_data/df_gwr_after_transform.csv\")"
   ]
  },
  {
   "cell_type": "code",
   "execution_count": 8,
   "metadata": {
    "ExecuteTime": {
     "end_time": "2021-06-13T23:01:21.791874Z",
     "start_time": "2021-06-13T23:01:21.784246Z"
    }
   },
   "outputs": [],
   "source": [
    "df = df.drop(columns = {'operator', 'buffer', 'buffer_index'})"
   ]
  },
  {
   "cell_type": "code",
   "execution_count": 9,
   "metadata": {
    "ExecuteTime": {
     "end_time": "2021-06-13T23:01:22.977177Z",
     "start_time": "2021-06-13T23:01:22.969197Z"
    }
   },
   "outputs": [
    {
     "data": {
      "text/plain": [
       "['point_id',\n",
       " 'center',\n",
       " 'inpost_points',\n",
       " 'poczta_points',\n",
       " 'dhl_points',\n",
       " 'ruch_points',\n",
       " 'dpd_points',\n",
       " 'ups_points',\n",
       " 'fedex_points',\n",
       " 'TOT',\n",
       " 'TOT_0_14',\n",
       " 'TOT_15_64',\n",
       " 'TOT_65__',\n",
       " 'TOT_MALE',\n",
       " 'TOT_FEM',\n",
       " 'MALE_0_14',\n",
       " 'MALE_15_64',\n",
       " 'MALE_65__',\n",
       " 'FEM_0_14',\n",
       " 'FEM_15_64',\n",
       " 'FEM_65__',\n",
       " 'FEM_RATIO',\n",
       " 'buildings',\n",
       " 'shops',\n",
       " 'parks',\n",
       " 'forests',\n",
       " 'schools',\n",
       " 'railways',\n",
       " 'cycleways',\n",
       " 'parkings',\n",
       " 'crossings',\n",
       " 'bus_stops',\n",
       " 'shops_binary',\n",
       " 'parks_binary',\n",
       " 'TOTlog',\n",
       " 'TOT_0_14log',\n",
       " 'TOT_15_64log',\n",
       " 'TOT_65__log',\n",
       " 'TOT_MALElog',\n",
       " 'TOT_FEMlog',\n",
       " 'MALE_0_14log',\n",
       " 'MALE_15_64log',\n",
       " 'MALE_65__log',\n",
       " 'FEM_0_14log',\n",
       " 'FEM_15_64log',\n",
       " 'FEM_65__log']"
      ]
     },
     "execution_count": 9,
     "metadata": {},
     "output_type": "execute_result"
    }
   ],
   "source": [
    "df.columns.to_list()"
   ]
  },
  {
   "cell_type": "code",
   "execution_count": 10,
   "metadata": {
    "ExecuteTime": {
     "end_time": "2021-06-13T23:01:27.208269Z",
     "start_time": "2021-06-13T23:01:27.162391Z"
    }
   },
   "outputs": [
    {
     "data": {
      "text/html": [
       "<div>\n",
       "<style scoped>\n",
       "    .dataframe tbody tr th:only-of-type {\n",
       "        vertical-align: middle;\n",
       "    }\n",
       "\n",
       "    .dataframe tbody tr th {\n",
       "        vertical-align: top;\n",
       "    }\n",
       "\n",
       "    .dataframe thead th {\n",
       "        text-align: right;\n",
       "    }\n",
       "</style>\n",
       "<table border=\"1\" class=\"dataframe\">\n",
       "  <thead>\n",
       "    <tr style=\"text-align: right;\">\n",
       "      <th></th>\n",
       "      <th>point_id</th>\n",
       "      <th>center</th>\n",
       "      <th>inpost_points</th>\n",
       "      <th>poczta_points</th>\n",
       "      <th>dhl_points</th>\n",
       "      <th>ruch_points</th>\n",
       "      <th>dpd_points</th>\n",
       "      <th>ups_points</th>\n",
       "      <th>fedex_points</th>\n",
       "      <th>TOT</th>\n",
       "      <th>...</th>\n",
       "      <th>TOT_15_64log</th>\n",
       "      <th>TOT_65__log</th>\n",
       "      <th>TOT_MALElog</th>\n",
       "      <th>TOT_FEMlog</th>\n",
       "      <th>MALE_0_14log</th>\n",
       "      <th>MALE_15_64log</th>\n",
       "      <th>MALE_65__log</th>\n",
       "      <th>FEM_0_14log</th>\n",
       "      <th>FEM_15_64log</th>\n",
       "      <th>FEM_65__log</th>\n",
       "    </tr>\n",
       "  </thead>\n",
       "  <tbody>\n",
       "    <tr>\n",
       "      <th>0</th>\n",
       "      <td>18329</td>\n",
       "      <td>POINT (21.0303 52.3169)</td>\n",
       "      <td>2</td>\n",
       "      <td>0.0</td>\n",
       "      <td>0.0</td>\n",
       "      <td>0.0</td>\n",
       "      <td>1.0</td>\n",
       "      <td>1.0</td>\n",
       "      <td>0.0</td>\n",
       "      <td>491.75</td>\n",
       "      <td>...</td>\n",
       "      <td>5.842384</td>\n",
       "      <td>3.499533</td>\n",
       "      <td>5.486248</td>\n",
       "      <td>5.531807</td>\n",
       "      <td>4.096010</td>\n",
       "      <td>5.112590</td>\n",
       "      <td>2.853593</td>\n",
       "      <td>4.066459</td>\n",
       "      <td>5.190732</td>\n",
       "      <td>2.824351</td>\n",
       "    </tr>\n",
       "    <tr>\n",
       "      <th>1</th>\n",
       "      <td>11784</td>\n",
       "      <td>POINT (20.99999 52.31708)</td>\n",
       "      <td>1</td>\n",
       "      <td>1.0</td>\n",
       "      <td>3.0</td>\n",
       "      <td>0.0</td>\n",
       "      <td>1.0</td>\n",
       "      <td>0.0</td>\n",
       "      <td>0.0</td>\n",
       "      <td>199.50</td>\n",
       "      <td>...</td>\n",
       "      <td>4.940570</td>\n",
       "      <td>3.709907</td>\n",
       "      <td>4.536356</td>\n",
       "      <td>4.680741</td>\n",
       "      <td>2.472328</td>\n",
       "      <td>4.260565</td>\n",
       "      <td>2.591516</td>\n",
       "      <td>2.429218</td>\n",
       "      <td>4.242765</td>\n",
       "      <td>3.370738</td>\n",
       "    </tr>\n",
       "    <tr>\n",
       "      <th>2</th>\n",
       "      <td>9471</td>\n",
       "      <td>POINT (21.0302805409061 52.3174329976903)</td>\n",
       "      <td>3</td>\n",
       "      <td>0.0</td>\n",
       "      <td>0.0</td>\n",
       "      <td>0.0</td>\n",
       "      <td>1.0</td>\n",
       "      <td>1.0</td>\n",
       "      <td>0.0</td>\n",
       "      <td>491.75</td>\n",
       "      <td>...</td>\n",
       "      <td>5.842384</td>\n",
       "      <td>3.499533</td>\n",
       "      <td>5.486248</td>\n",
       "      <td>5.531807</td>\n",
       "      <td>4.096010</td>\n",
       "      <td>5.112590</td>\n",
       "      <td>2.853593</td>\n",
       "      <td>4.066459</td>\n",
       "      <td>5.190732</td>\n",
       "      <td>2.824351</td>\n",
       "    </tr>\n",
       "    <tr>\n",
       "      <th>3</th>\n",
       "      <td>35458</td>\n",
       "      <td>POINT (21.03759 52.31755)</td>\n",
       "      <td>2</td>\n",
       "      <td>0.0</td>\n",
       "      <td>0.0</td>\n",
       "      <td>0.0</td>\n",
       "      <td>0.0</td>\n",
       "      <td>1.0</td>\n",
       "      <td>0.0</td>\n",
       "      <td>491.75</td>\n",
       "      <td>...</td>\n",
       "      <td>5.842384</td>\n",
       "      <td>3.499533</td>\n",
       "      <td>5.486248</td>\n",
       "      <td>5.531807</td>\n",
       "      <td>4.096010</td>\n",
       "      <td>5.112590</td>\n",
       "      <td>2.853593</td>\n",
       "      <td>4.066459</td>\n",
       "      <td>5.190732</td>\n",
       "      <td>2.824351</td>\n",
       "    </tr>\n",
       "    <tr>\n",
       "      <th>4</th>\n",
       "      <td>11431</td>\n",
       "      <td>POINT (21.05028 52.31764)</td>\n",
       "      <td>2</td>\n",
       "      <td>2.0</td>\n",
       "      <td>1.0</td>\n",
       "      <td>0.0</td>\n",
       "      <td>2.0</td>\n",
       "      <td>0.0</td>\n",
       "      <td>0.0</td>\n",
       "      <td>2178.75</td>\n",
       "      <td>...</td>\n",
       "      <td>7.320262</td>\n",
       "      <td>4.267597</td>\n",
       "      <td>6.947072</td>\n",
       "      <td>7.039529</td>\n",
       "      <td>5.735281</td>\n",
       "      <td>6.551937</td>\n",
       "      <td>3.468856</td>\n",
       "      <td>5.675383</td>\n",
       "      <td>6.698391</td>\n",
       "      <td>3.697591</td>\n",
       "    </tr>\n",
       "  </tbody>\n",
       "</table>\n",
       "<p>5 rows × 46 columns</p>\n",
       "</div>"
      ],
      "text/plain": [
       "   point_id                                     center  inpost_points  \\\n",
       "0     18329                    POINT (21.0303 52.3169)              2   \n",
       "1     11784                  POINT (20.99999 52.31708)              1   \n",
       "2      9471  POINT (21.0302805409061 52.3174329976903)              3   \n",
       "3     35458                  POINT (21.03759 52.31755)              2   \n",
       "4     11431                  POINT (21.05028 52.31764)              2   \n",
       "\n",
       "   poczta_points  dhl_points  ruch_points  dpd_points  ups_points  \\\n",
       "0            0.0         0.0          0.0         1.0         1.0   \n",
       "1            1.0         3.0          0.0         1.0         0.0   \n",
       "2            0.0         0.0          0.0         1.0         1.0   \n",
       "3            0.0         0.0          0.0         0.0         1.0   \n",
       "4            2.0         1.0          0.0         2.0         0.0   \n",
       "\n",
       "   fedex_points      TOT  ...  TOT_15_64log  TOT_65__log  TOT_MALElog  \\\n",
       "0           0.0   491.75  ...      5.842384     3.499533     5.486248   \n",
       "1           0.0   199.50  ...      4.940570     3.709907     4.536356   \n",
       "2           0.0   491.75  ...      5.842384     3.499533     5.486248   \n",
       "3           0.0   491.75  ...      5.842384     3.499533     5.486248   \n",
       "4           0.0  2178.75  ...      7.320262     4.267597     6.947072   \n",
       "\n",
       "   TOT_FEMlog  MALE_0_14log  MALE_15_64log  MALE_65__log  FEM_0_14log  \\\n",
       "0    5.531807      4.096010       5.112590      2.853593     4.066459   \n",
       "1    4.680741      2.472328       4.260565      2.591516     2.429218   \n",
       "2    5.531807      4.096010       5.112590      2.853593     4.066459   \n",
       "3    5.531807      4.096010       5.112590      2.853593     4.066459   \n",
       "4    7.039529      5.735281       6.551937      3.468856     5.675383   \n",
       "\n",
       "   FEM_15_64log  FEM_65__log  \n",
       "0      5.190732     2.824351  \n",
       "1      4.242765     3.370738  \n",
       "2      5.190732     2.824351  \n",
       "3      5.190732     2.824351  \n",
       "4      6.698391     3.697591  \n",
       "\n",
       "[5 rows x 46 columns]"
      ]
     },
     "execution_count": 10,
     "metadata": {},
     "output_type": "execute_result"
    }
   ],
   "source": [
    "df.head()"
   ]
  },
  {
   "cell_type": "code",
   "execution_count": 86,
   "metadata": {
    "ExecuteTime": {
     "end_time": "2021-06-12T10:53:38.080646Z",
     "start_time": "2021-06-12T10:53:38.076658Z"
    }
   },
   "outputs": [],
   "source": [
    "# df_warszawa['center'][0][7:]"
   ]
  },
  {
   "cell_type": "code",
   "execution_count": 87,
   "metadata": {
    "ExecuteTime": {
     "end_time": "2021-06-12T10:53:38.485060Z",
     "start_time": "2021-06-12T10:53:38.479074Z"
    }
   },
   "outputs": [],
   "source": [
    "# df_warszawa['z'], df_warszawa['y'] = df_warszawa['center'][0].split('(')\n",
    "# df_warszawa['lon'], df_warszawa['lat'] = df_warszawa['y'][0].split(' ')\n",
    "# df_warszawa['xxx'], df_warszawa['yyyy'] = df_warszawa['lat'][0].split(')')"
   ]
  },
  {
   "cell_type": "code",
   "execution_count": 11,
   "metadata": {
    "ExecuteTime": {
     "end_time": "2021-06-13T23:01:31.234584Z",
     "start_time": "2021-06-13T23:01:31.191621Z"
    }
   },
   "outputs": [],
   "source": [
    "# df_warszawa = pd.read_csv(\"../datasets/preprocessed_data/df_warszawa_gwr_niepelny.csv\")\n",
    "df[['remove', 'long']] = df['center'].str.split('(', expand=True)\n",
    "df[['long', 'lat']] = df['long'].str.split(' ', expand=True)\n",
    "df[['lat', 'remove2']] = df['lat'].str.split(')', expand=True)\n",
    "df = df.drop(columns = {'remove', 'remove2', 'point_id'})"
   ]
  },
  {
   "cell_type": "code",
   "execution_count": 12,
   "metadata": {
    "ExecuteTime": {
     "end_time": "2021-06-13T23:01:32.127769Z",
     "start_time": "2021-06-13T23:01:32.088768Z"
    }
   },
   "outputs": [
    {
     "data": {
      "text/html": [
       "<div>\n",
       "<style scoped>\n",
       "    .dataframe tbody tr th:only-of-type {\n",
       "        vertical-align: middle;\n",
       "    }\n",
       "\n",
       "    .dataframe tbody tr th {\n",
       "        vertical-align: top;\n",
       "    }\n",
       "\n",
       "    .dataframe thead th {\n",
       "        text-align: right;\n",
       "    }\n",
       "</style>\n",
       "<table border=\"1\" class=\"dataframe\">\n",
       "  <thead>\n",
       "    <tr style=\"text-align: right;\">\n",
       "      <th></th>\n",
       "      <th>center</th>\n",
       "      <th>inpost_points</th>\n",
       "      <th>poczta_points</th>\n",
       "      <th>dhl_points</th>\n",
       "      <th>ruch_points</th>\n",
       "      <th>dpd_points</th>\n",
       "      <th>ups_points</th>\n",
       "      <th>fedex_points</th>\n",
       "      <th>TOT</th>\n",
       "      <th>TOT_0_14</th>\n",
       "      <th>...</th>\n",
       "      <th>TOT_MALElog</th>\n",
       "      <th>TOT_FEMlog</th>\n",
       "      <th>MALE_0_14log</th>\n",
       "      <th>MALE_15_64log</th>\n",
       "      <th>MALE_65__log</th>\n",
       "      <th>FEM_0_14log</th>\n",
       "      <th>FEM_15_64log</th>\n",
       "      <th>FEM_65__log</th>\n",
       "      <th>long</th>\n",
       "      <th>lat</th>\n",
       "    </tr>\n",
       "  </thead>\n",
       "  <tbody>\n",
       "    <tr>\n",
       "      <th>0</th>\n",
       "      <td>POINT (21.0303 52.3169)</td>\n",
       "      <td>2</td>\n",
       "      <td>0.0</td>\n",
       "      <td>0.0</td>\n",
       "      <td>0.0</td>\n",
       "      <td>1.0</td>\n",
       "      <td>1.0</td>\n",
       "      <td>0.0</td>\n",
       "      <td>491.75</td>\n",
       "      <td>116.25</td>\n",
       "      <td>...</td>\n",
       "      <td>5.486248</td>\n",
       "      <td>5.531807</td>\n",
       "      <td>4.096010</td>\n",
       "      <td>5.112590</td>\n",
       "      <td>2.853593</td>\n",
       "      <td>4.066459</td>\n",
       "      <td>5.190732</td>\n",
       "      <td>2.824351</td>\n",
       "      <td>21.0303</td>\n",
       "      <td>52.3169</td>\n",
       "    </tr>\n",
       "    <tr>\n",
       "      <th>1</th>\n",
       "      <td>POINT (20.99999 52.31708)</td>\n",
       "      <td>1</td>\n",
       "      <td>1.0</td>\n",
       "      <td>3.0</td>\n",
       "      <td>0.0</td>\n",
       "      <td>1.0</td>\n",
       "      <td>0.0</td>\n",
       "      <td>0.0</td>\n",
       "      <td>199.50</td>\n",
       "      <td>21.00</td>\n",
       "      <td>...</td>\n",
       "      <td>4.536356</td>\n",
       "      <td>4.680741</td>\n",
       "      <td>2.472328</td>\n",
       "      <td>4.260565</td>\n",
       "      <td>2.591516</td>\n",
       "      <td>2.429218</td>\n",
       "      <td>4.242765</td>\n",
       "      <td>3.370738</td>\n",
       "      <td>20.99999</td>\n",
       "      <td>52.31708</td>\n",
       "    </tr>\n",
       "    <tr>\n",
       "      <th>2</th>\n",
       "      <td>POINT (21.0302805409061 52.3174329976903)</td>\n",
       "      <td>3</td>\n",
       "      <td>0.0</td>\n",
       "      <td>0.0</td>\n",
       "      <td>0.0</td>\n",
       "      <td>1.0</td>\n",
       "      <td>1.0</td>\n",
       "      <td>0.0</td>\n",
       "      <td>491.75</td>\n",
       "      <td>116.25</td>\n",
       "      <td>...</td>\n",
       "      <td>5.486248</td>\n",
       "      <td>5.531807</td>\n",
       "      <td>4.096010</td>\n",
       "      <td>5.112590</td>\n",
       "      <td>2.853593</td>\n",
       "      <td>4.066459</td>\n",
       "      <td>5.190732</td>\n",
       "      <td>2.824351</td>\n",
       "      <td>21.0302805409061</td>\n",
       "      <td>52.3174329976903</td>\n",
       "    </tr>\n",
       "    <tr>\n",
       "      <th>3</th>\n",
       "      <td>POINT (21.03759 52.31755)</td>\n",
       "      <td>2</td>\n",
       "      <td>0.0</td>\n",
       "      <td>0.0</td>\n",
       "      <td>0.0</td>\n",
       "      <td>0.0</td>\n",
       "      <td>1.0</td>\n",
       "      <td>0.0</td>\n",
       "      <td>491.75</td>\n",
       "      <td>116.25</td>\n",
       "      <td>...</td>\n",
       "      <td>5.486248</td>\n",
       "      <td>5.531807</td>\n",
       "      <td>4.096010</td>\n",
       "      <td>5.112590</td>\n",
       "      <td>2.853593</td>\n",
       "      <td>4.066459</td>\n",
       "      <td>5.190732</td>\n",
       "      <td>2.824351</td>\n",
       "      <td>21.03759</td>\n",
       "      <td>52.31755</td>\n",
       "    </tr>\n",
       "    <tr>\n",
       "      <th>4</th>\n",
       "      <td>POINT (21.05028 52.31764)</td>\n",
       "      <td>2</td>\n",
       "      <td>2.0</td>\n",
       "      <td>1.0</td>\n",
       "      <td>0.0</td>\n",
       "      <td>2.0</td>\n",
       "      <td>0.0</td>\n",
       "      <td>0.0</td>\n",
       "      <td>2178.75</td>\n",
       "      <td>599.00</td>\n",
       "      <td>...</td>\n",
       "      <td>6.947072</td>\n",
       "      <td>7.039529</td>\n",
       "      <td>5.735281</td>\n",
       "      <td>6.551937</td>\n",
       "      <td>3.468856</td>\n",
       "      <td>5.675383</td>\n",
       "      <td>6.698391</td>\n",
       "      <td>3.697591</td>\n",
       "      <td>21.05028</td>\n",
       "      <td>52.31764</td>\n",
       "    </tr>\n",
       "  </tbody>\n",
       "</table>\n",
       "<p>5 rows × 47 columns</p>\n",
       "</div>"
      ],
      "text/plain": [
       "                                      center  inpost_points  poczta_points  \\\n",
       "0                    POINT (21.0303 52.3169)              2            0.0   \n",
       "1                  POINT (20.99999 52.31708)              1            1.0   \n",
       "2  POINT (21.0302805409061 52.3174329976903)              3            0.0   \n",
       "3                  POINT (21.03759 52.31755)              2            0.0   \n",
       "4                  POINT (21.05028 52.31764)              2            2.0   \n",
       "\n",
       "   dhl_points  ruch_points  dpd_points  ups_points  fedex_points      TOT  \\\n",
       "0         0.0          0.0         1.0         1.0           0.0   491.75   \n",
       "1         3.0          0.0         1.0         0.0           0.0   199.50   \n",
       "2         0.0          0.0         1.0         1.0           0.0   491.75   \n",
       "3         0.0          0.0         0.0         1.0           0.0   491.75   \n",
       "4         1.0          0.0         2.0         0.0           0.0  2178.75   \n",
       "\n",
       "   TOT_0_14  ...  TOT_MALElog  TOT_FEMlog  MALE_0_14log  MALE_15_64log  \\\n",
       "0    116.25  ...     5.486248    5.531807      4.096010       5.112590   \n",
       "1     21.00  ...     4.536356    4.680741      2.472328       4.260565   \n",
       "2    116.25  ...     5.486248    5.531807      4.096010       5.112590   \n",
       "3    116.25  ...     5.486248    5.531807      4.096010       5.112590   \n",
       "4    599.00  ...     6.947072    7.039529      5.735281       6.551937   \n",
       "\n",
       "   MALE_65__log  FEM_0_14log  FEM_15_64log  FEM_65__log              long  \\\n",
       "0      2.853593     4.066459      5.190732     2.824351           21.0303   \n",
       "1      2.591516     2.429218      4.242765     3.370738          20.99999   \n",
       "2      2.853593     4.066459      5.190732     2.824351  21.0302805409061   \n",
       "3      2.853593     4.066459      5.190732     2.824351          21.03759   \n",
       "4      3.468856     5.675383      6.698391     3.697591          21.05028   \n",
       "\n",
       "                lat  \n",
       "0           52.3169  \n",
       "1          52.31708  \n",
       "2  52.3174329976903  \n",
       "3          52.31755  \n",
       "4          52.31764  \n",
       "\n",
       "[5 rows x 47 columns]"
      ]
     },
     "execution_count": 12,
     "metadata": {},
     "output_type": "execute_result"
    }
   ],
   "source": [
    "df.head()"
   ]
  },
  {
   "cell_type": "code",
   "execution_count": 13,
   "metadata": {
    "ExecuteTime": {
     "end_time": "2021-06-13T23:01:35.398398Z",
     "start_time": "2021-06-13T23:01:35.304639Z"
    }
   },
   "outputs": [],
   "source": [
    "import shapely\n",
    "from shapely.geometry import Point\n",
    "import shapely.wkt\n",
    "df['geometry'] = df.apply(lambda x: shapely.wkt.loads(x['center']), axis=1)"
   ]
  },
  {
   "cell_type": "code",
   "execution_count": 14,
   "metadata": {
    "ExecuteTime": {
     "end_time": "2021-06-13T23:01:35.648375Z",
     "start_time": "2021-06-13T23:01:35.625435Z"
    }
   },
   "outputs": [],
   "source": [
    "df_geo = gpd.GeoDataFrame(df, geometry = 'geometry', crs = \"epsg:4258\")"
   ]
  },
  {
   "cell_type": "code",
   "execution_count": 15,
   "metadata": {
    "ExecuteTime": {
     "end_time": "2021-06-13T23:01:39.915568Z",
     "start_time": "2021-06-13T23:01:35.928310Z"
    }
   },
   "outputs": [],
   "source": [
    "import mgwr"
   ]
  },
  {
   "cell_type": "code",
   "execution_count": 16,
   "metadata": {
    "ExecuteTime": {
     "end_time": "2021-06-13T23:01:39.924673Z",
     "start_time": "2021-06-13T23:01:39.918694Z"
    }
   },
   "outputs": [],
   "source": [
    "import numpy as np\n",
    "from mgwr.gwr import GWR, MGWR\n",
    "from mgwr.sel_bw import Sel_BW"
   ]
  },
  {
   "cell_type": "code",
   "execution_count": 17,
   "metadata": {
    "ExecuteTime": {
     "end_time": "2021-06-13T23:01:39.940629Z",
     "start_time": "2021-06-13T23:01:39.928660Z"
    }
   },
   "outputs": [],
   "source": [
    "from mgwr.utils import compare_surfaces, truncate_colormap"
   ]
  },
  {
   "cell_type": "code",
   "execution_count": 95,
   "metadata": {
    "ExecuteTime": {
     "end_time": "2021-06-12T10:53:46.601790Z",
     "start_time": "2021-06-12T10:53:45.678365Z"
    }
   },
   "outputs": [
    {
     "name": "stderr",
     "output_type": "stream",
     "text": [
      "c:\\users\\michal_schudnij\\appdata\\local\\programs\\python\\python36-32\\lib\\site-packages\\ipykernel_launcher.py:3: UserWarning: Geometry is in a geographic CRS. Results from 'centroid' are likely incorrect. Use 'GeoSeries.to_crs()' to re-project geometries to a projected CRS before this operation.\n",
      "\n",
      "  This is separate from the ipykernel package so we can avoid doing imports until\n"
     ]
    },
    {
     "data": {
      "image/png": "[encoded data removed]",
      "text/plain": [
       "<Figure size 720x720 with 1 Axes>"
      ]
     },
     "metadata": {},
     "output_type": "display_data"
    }
   ],
   "source": [
    "fig, ax = plt.subplots(figsize = (10, 10))\n",
    "df_geo.plot(ax=ax, **{'edgecolor': 'black', 'facecolor': 'white'})\n",
    "df_geo.centroid.plot(ax = ax, c = 'black')\n",
    "plt.show()"
   ]
  },
  {
   "cell_type": "code",
   "execution_count": 96,
   "metadata": {
    "ExecuteTime": {
     "end_time": "2021-06-12T10:54:08.510286Z",
     "start_time": "2021-06-12T10:54:08.398500Z"
    }
   },
   "outputs": [
    {
     "data": {
      "text/html": [
       "<div>\n",
       "<style scoped>\n",
       "    .dataframe tbody tr th:only-of-type {\n",
       "        vertical-align: middle;\n",
       "    }\n",
       "\n",
       "    .dataframe tbody tr th {\n",
       "        vertical-align: top;\n",
       "    }\n",
       "\n",
       "    .dataframe thead th {\n",
       "        text-align: right;\n",
       "    }\n",
       "</style>\n",
       "<table border=\"1\" class=\"dataframe\">\n",
       "  <thead>\n",
       "    <tr style=\"text-align: right;\">\n",
       "      <th></th>\n",
       "      <th>center</th>\n",
       "      <th>inpost_points</th>\n",
       "      <th>poczta_points</th>\n",
       "      <th>dhl_points</th>\n",
       "      <th>ruch_points</th>\n",
       "      <th>dpd_points</th>\n",
       "      <th>ups_points</th>\n",
       "      <th>fedex_points</th>\n",
       "      <th>TOT</th>\n",
       "      <th>TOT_0_14</th>\n",
       "      <th>...</th>\n",
       "      <th>forests</th>\n",
       "      <th>schools</th>\n",
       "      <th>railways</th>\n",
       "      <th>cycleways</th>\n",
       "      <th>parkings</th>\n",
       "      <th>crossings</th>\n",
       "      <th>bus_stops</th>\n",
       "      <th>long</th>\n",
       "      <th>lat</th>\n",
       "      <th>geometry</th>\n",
       "    </tr>\n",
       "  </thead>\n",
       "  <tbody>\n",
       "    <tr>\n",
       "      <th>0</th>\n",
       "      <td>POINT (21.0303 52.3169)</td>\n",
       "      <td>2</td>\n",
       "      <td>0.0</td>\n",
       "      <td>0.0</td>\n",
       "      <td>0.0</td>\n",
       "      <td>1.0</td>\n",
       "      <td>1.0</td>\n",
       "      <td>0.0</td>\n",
       "      <td>491.75</td>\n",
       "      <td>116.25</td>\n",
       "      <td>...</td>\n",
       "      <td>2.0</td>\n",
       "      <td>3.0</td>\n",
       "      <td>0.0</td>\n",
       "      <td>0.0</td>\n",
       "      <td>4.0</td>\n",
       "      <td>12.0</td>\n",
       "      <td>0.0</td>\n",
       "      <td>21.0303</td>\n",
       "      <td>52.3169</td>\n",
       "      <td>POINT (21.03030 52.31690)</td>\n",
       "    </tr>\n",
       "    <tr>\n",
       "      <th>1</th>\n",
       "      <td>POINT (20.99999 52.31708)</td>\n",
       "      <td>1</td>\n",
       "      <td>1.0</td>\n",
       "      <td>3.0</td>\n",
       "      <td>0.0</td>\n",
       "      <td>1.0</td>\n",
       "      <td>0.0</td>\n",
       "      <td>0.0</td>\n",
       "      <td>199.50</td>\n",
       "      <td>21.00</td>\n",
       "      <td>...</td>\n",
       "      <td>14.0</td>\n",
       "      <td>1.0</td>\n",
       "      <td>29.0</td>\n",
       "      <td>1.0</td>\n",
       "      <td>3.0</td>\n",
       "      <td>35.0</td>\n",
       "      <td>0.0</td>\n",
       "      <td>20.99999</td>\n",
       "      <td>52.31708</td>\n",
       "      <td>POINT (20.99999 52.31708)</td>\n",
       "    </tr>\n",
       "    <tr>\n",
       "      <th>2</th>\n",
       "      <td>POINT (21.0302805409061 52.3174329976903)</td>\n",
       "      <td>3</td>\n",
       "      <td>0.0</td>\n",
       "      <td>0.0</td>\n",
       "      <td>0.0</td>\n",
       "      <td>1.0</td>\n",
       "      <td>1.0</td>\n",
       "      <td>0.0</td>\n",
       "      <td>491.75</td>\n",
       "      <td>116.25</td>\n",
       "      <td>...</td>\n",
       "      <td>2.0</td>\n",
       "      <td>2.0</td>\n",
       "      <td>0.0</td>\n",
       "      <td>0.0</td>\n",
       "      <td>4.0</td>\n",
       "      <td>11.0</td>\n",
       "      <td>0.0</td>\n",
       "      <td>21.0302805409061</td>\n",
       "      <td>52.3174329976903</td>\n",
       "      <td>POINT (21.03028 52.31743)</td>\n",
       "    </tr>\n",
       "    <tr>\n",
       "      <th>3</th>\n",
       "      <td>POINT (21.03759 52.31755)</td>\n",
       "      <td>2</td>\n",
       "      <td>0.0</td>\n",
       "      <td>0.0</td>\n",
       "      <td>0.0</td>\n",
       "      <td>0.0</td>\n",
       "      <td>1.0</td>\n",
       "      <td>0.0</td>\n",
       "      <td>491.75</td>\n",
       "      <td>116.25</td>\n",
       "      <td>...</td>\n",
       "      <td>0.0</td>\n",
       "      <td>3.0</td>\n",
       "      <td>0.0</td>\n",
       "      <td>0.0</td>\n",
       "      <td>2.0</td>\n",
       "      <td>25.0</td>\n",
       "      <td>0.0</td>\n",
       "      <td>21.03759</td>\n",
       "      <td>52.31755</td>\n",
       "      <td>POINT (21.03759 52.31755)</td>\n",
       "    </tr>\n",
       "    <tr>\n",
       "      <th>4</th>\n",
       "      <td>POINT (21.05028 52.31764)</td>\n",
       "      <td>2</td>\n",
       "      <td>2.0</td>\n",
       "      <td>1.0</td>\n",
       "      <td>0.0</td>\n",
       "      <td>2.0</td>\n",
       "      <td>0.0</td>\n",
       "      <td>0.0</td>\n",
       "      <td>2178.75</td>\n",
       "      <td>599.00</td>\n",
       "      <td>...</td>\n",
       "      <td>2.0</td>\n",
       "      <td>5.0</td>\n",
       "      <td>0.0</td>\n",
       "      <td>0.0</td>\n",
       "      <td>8.0</td>\n",
       "      <td>12.0</td>\n",
       "      <td>0.0</td>\n",
       "      <td>21.05028</td>\n",
       "      <td>52.31764</td>\n",
       "      <td>POINT (21.05028 52.31764)</td>\n",
       "    </tr>\n",
       "  </tbody>\n",
       "</table>\n",
       "<p>5 rows × 34 columns</p>\n",
       "</div>"
      ],
      "text/plain": [
       "                                      center  inpost_points  poczta_points  \\\n",
       "0                    POINT (21.0303 52.3169)              2            0.0   \n",
       "1                  POINT (20.99999 52.31708)              1            1.0   \n",
       "2  POINT (21.0302805409061 52.3174329976903)              3            0.0   \n",
       "3                  POINT (21.03759 52.31755)              2            0.0   \n",
       "4                  POINT (21.05028 52.31764)              2            2.0   \n",
       "\n",
       "   dhl_points  ruch_points  dpd_points  ups_points  fedex_points      TOT  \\\n",
       "0         0.0          0.0         1.0         1.0           0.0   491.75   \n",
       "1         3.0          0.0         1.0         0.0           0.0   199.50   \n",
       "2         0.0          0.0         1.0         1.0           0.0   491.75   \n",
       "3         0.0          0.0         0.0         1.0           0.0   491.75   \n",
       "4         1.0          0.0         2.0         0.0           0.0  2178.75   \n",
       "\n",
       "   TOT_0_14  ...  forests  schools  railways  cycleways  parkings  crossings  \\\n",
       "0    116.25  ...      2.0      3.0       0.0        0.0       4.0       12.0   \n",
       "1     21.00  ...     14.0      1.0      29.0        1.0       3.0       35.0   \n",
       "2    116.25  ...      2.0      2.0       0.0        0.0       4.0       11.0   \n",
       "3    116.25  ...      0.0      3.0       0.0        0.0       2.0       25.0   \n",
       "4    599.00  ...      2.0      5.0       0.0        0.0       8.0       12.0   \n",
       "\n",
       "   bus_stops              long               lat                   geometry  \n",
       "0        0.0           21.0303           52.3169  POINT (21.03030 52.31690)  \n",
       "1        0.0          20.99999          52.31708  POINT (20.99999 52.31708)  \n",
       "2        0.0  21.0302805409061  52.3174329976903  POINT (21.03028 52.31743)  \n",
       "3        0.0          21.03759          52.31755  POINT (21.03759 52.31755)  \n",
       "4        0.0          21.05028          52.31764  POINT (21.05028 52.31764)  \n",
       "\n",
       "[5 rows x 34 columns]"
      ]
     },
     "execution_count": 96,
     "metadata": {},
     "output_type": "execute_result"
    }
   ],
   "source": [
    "df_geo.head()"
   ]
  },
  {
   "cell_type": "code",
   "execution_count": 18,
   "metadata": {
    "ExecuteTime": {
     "end_time": "2021-06-13T23:01:48.205873Z",
     "start_time": "2021-06-13T23:01:48.199890Z"
    }
   },
   "outputs": [],
   "source": [
    "df_geo['long'] = df_geo['long'].astype(float)"
   ]
  },
  {
   "cell_type": "code",
   "execution_count": 19,
   "metadata": {
    "ExecuteTime": {
     "end_time": "2021-06-13T23:01:48.495208Z",
     "start_time": "2021-06-13T23:01:48.488236Z"
    }
   },
   "outputs": [],
   "source": [
    "df_geo['lat'] = df_geo['lat'].astype(float)"
   ]
  },
  {
   "cell_type": "code",
   "execution_count": 20,
   "metadata": {
    "ExecuteTime": {
     "end_time": "2021-06-13T23:01:50.991305Z",
     "start_time": "2021-06-13T23:01:50.969365Z"
    }
   },
   "outputs": [
    {
     "data": {
      "text/plain": [
       "['center',\n",
       " 'inpost_points',\n",
       " 'poczta_points',\n",
       " 'dhl_points',\n",
       " 'ruch_points',\n",
       " 'dpd_points',\n",
       " 'ups_points',\n",
       " 'fedex_points',\n",
       " 'TOT',\n",
       " 'TOT_0_14',\n",
       " 'TOT_15_64',\n",
       " 'TOT_65__',\n",
       " 'TOT_MALE',\n",
       " 'TOT_FEM',\n",
       " 'MALE_0_14',\n",
       " 'MALE_15_64',\n",
       " 'MALE_65__',\n",
       " 'FEM_0_14',\n",
       " 'FEM_15_64',\n",
       " 'FEM_65__',\n",
       " 'FEM_RATIO',\n",
       " 'buildings',\n",
       " 'shops',\n",
       " 'parks',\n",
       " 'forests',\n",
       " 'schools',\n",
       " 'railways',\n",
       " 'cycleways',\n",
       " 'parkings',\n",
       " 'crossings',\n",
       " 'bus_stops',\n",
       " 'shops_binary',\n",
       " 'parks_binary',\n",
       " 'TOTlog',\n",
       " 'TOT_0_14log',\n",
       " 'TOT_15_64log',\n",
       " 'TOT_65__log',\n",
       " 'TOT_MALElog',\n",
       " 'TOT_FEMlog',\n",
       " 'MALE_0_14log',\n",
       " 'MALE_15_64log',\n",
       " 'MALE_65__log',\n",
       " 'FEM_0_14log',\n",
       " 'FEM_15_64log',\n",
       " 'FEM_65__log',\n",
       " 'long',\n",
       " 'lat',\n",
       " 'geometry']"
      ]
     },
     "execution_count": 20,
     "metadata": {},
     "output_type": "execute_result"
    }
   ],
   "source": [
    "df_geo.columns.to_list()"
   ]
  },
  {
   "cell_type": "code",
   "execution_count": null,
   "metadata": {},
   "outputs": [],
   "source": []
  },
  {
   "cell_type": "code",
   "execution_count": 25,
   "metadata": {
    "ExecuteTime": {
     "end_time": "2021-06-13T23:03:04.225705Z",
     "start_time": "2021-06-13T23:03:04.217727Z"
    }
   },
   "outputs": [],
   "source": [
    "g_y = df_geo['inpost_points'].values.reshape((-1, 1))\n",
    "g_X = df_geo[['poczta_points', 'dhl_points', 'ruch_points', 'dpd_points', 'ups_points', 'TOTlog','TOT_0_14log','TOT_15_64log','TOT_65__log','TOT_MALElog','TOT_FEMlog','MALE_0_14log','MALE_15_64log','MALE_65__log','FEM_0_14log','FEM_15_64log','FEM_65__log','FEM_RATIO', 'buildings','parks','forests','schools','railways','cycleways','parkings','crossings']].values\n",
    "# wywalam shops/parks oraz wiekszosc demo \n",
    "u = df_geo['long']\n",
    "v = df_geo['lat']\n",
    "g_coords = list(zip(u, v))"
   ]
  },
  {
   "cell_type": "code",
   "execution_count": 26,
   "metadata": {
    "ExecuteTime": {
     "end_time": "2021-06-13T23:03:04.718074Z",
     "start_time": "2021-06-13T23:03:04.713630Z"
    }
   },
   "outputs": [],
   "source": [
    "# g_y = df_geo['inpost_points'].values.reshape((-1, 1))\n",
    "# g_X = df_geo[['TOT','MALE_0_14','MALE_15_64','MALE_65__','FEM_RATIO']].values\n",
    "# # wywalam shops/parks oraz wiekszosc demo \n",
    "# u = df_geo['long']\n",
    "# v = df_geo['lat']\n",
    "# g_coords = list(zip(u, v))"
   ]
  },
  {
   "cell_type": "code",
   "execution_count": 27,
   "metadata": {
    "ExecuteTime": {
     "end_time": "2021-06-13T23:03:05.037059Z",
     "start_time": "2021-06-13T23:03:05.031424Z"
    }
   },
   "outputs": [],
   "source": [
    "selector = Sel_BW(g_coords, g_y, g_X)"
   ]
  },
  {
   "cell_type": "code",
   "execution_count": 28,
   "metadata": {
    "ExecuteTime": {
     "end_time": "2021-06-13T23:03:05.592149Z",
     "start_time": "2021-06-13T23:03:05.577045Z"
    }
   },
   "outputs": [
    {
     "data": {
      "text/plain": [
       "array([[  0.,   0.,   0., ...,   0.,   4.,  12.],\n",
       "       [  1.,   3.,   0., ...,   1.,   3.,  35.],\n",
       "       [  0.,   0.,   0., ...,   0.,   4.,  11.],\n",
       "       ...,\n",
       "       [ 15.,  12.,   2., ...,   6.,  93., 142.],\n",
       "       [  3.,   3.,   0., ...,   0.,  34.,  57.],\n",
       "       [  5.,   3.,   1., ...,  17.,  35.,  72.]])"
      ]
     },
     "execution_count": 28,
     "metadata": {},
     "output_type": "execute_result"
    }
   ],
   "source": [
    "g_X"
   ]
  },
  {
   "cell_type": "code",
   "execution_count": 29,
   "metadata": {
    "ExecuteTime": {
     "end_time": "2021-06-13T23:03:44.592131Z",
     "start_time": "2021-06-13T23:03:07.129609Z"
    }
   },
   "outputs": [],
   "source": [
    "bw = selector.search()"
   ]
  },
  {
   "cell_type": "code",
   "execution_count": 30,
   "metadata": {
    "ExecuteTime": {
     "end_time": "2021-06-13T23:03:50.030569Z",
     "start_time": "2021-06-13T23:03:50.024585Z"
    }
   },
   "outputs": [
    {
     "name": "stdout",
     "output_type": "stream",
     "text": [
      "178.0\n"
     ]
    }
   ],
   "source": [
    "print(bw)"
   ]
  },
  {
   "cell_type": "code",
   "execution_count": 170,
   "metadata": {
    "ExecuteTime": {
     "end_time": "2021-06-12T11:45:35.852244Z",
     "start_time": "2021-06-12T11:45:35.837285Z"
    }
   },
   "outputs": [],
   "source": [
    "# bw = selector.search(search_method = 'interval',\n",
    "# interval = 2,\n",
    "# bw_min = 30,\n",
    "# bw_max = 100)"
   ]
  },
  {
   "cell_type": "code",
   "execution_count": 31,
   "metadata": {
    "ExecuteTime": {
     "end_time": "2021-06-13T23:03:52.558541Z",
     "start_time": "2021-06-13T23:03:52.553553Z"
    }
   },
   "outputs": [
    {
     "name": "stdout",
     "output_type": "stream",
     "text": [
      "178.0\n"
     ]
    }
   ],
   "source": [
    "print(bw)"
   ]
  },
  {
   "cell_type": "code",
   "execution_count": 32,
   "metadata": {
    "ExecuteTime": {
     "end_time": "2021-06-13T23:04:29.593006Z",
     "start_time": "2021-06-13T23:03:52.872123Z"
    }
   },
   "outputs": [
    {
     "name": "stdout",
     "output_type": "stream",
     "text": [
      "178.0\n"
     ]
    }
   ],
   "source": [
    "gwr_selector = Sel_BW(g_coords, g_y, g_X)\n",
    "gwr_bw = gwr_selector.search()\n",
    "print(gwr_bw)"
   ]
  },
  {
   "cell_type": "code",
   "execution_count": 33,
   "metadata": {
    "ExecuteTime": {
     "end_time": "2021-06-13T23:04:32.583013Z",
     "start_time": "2021-06-13T23:04:29.595997Z"
    }
   },
   "outputs": [
    {
     "name": "stdout",
     "output_type": "stream",
     "text": [
      "1494.372770625138\n"
     ]
    }
   ],
   "source": [
    "gwr_model = GWR(g_coords, g_y, g_X, gwr_bw)\n",
    "gwr_results = gwr_model.fit()\n",
    "print(gwr_results.resid_ss)"
   ]
  },
  {
   "cell_type": "code",
   "execution_count": 34,
   "metadata": {
    "ExecuteTime": {
     "end_time": "2021-06-13T23:04:32.591989Z",
     "start_time": "2021-06-13T23:04:32.586004Z"
    }
   },
   "outputs": [],
   "source": [
    "# gwr_model = GWR(g_coords, g_y, g_X, 110)\n",
    "# gwr_results = gwr_model.fit()\n",
    "# print(gwr_results.resid_ss)"
   ]
  },
  {
   "cell_type": "code",
   "execution_count": 35,
   "metadata": {
    "ExecuteTime": {
     "end_time": "2021-06-13T23:04:32.603956Z",
     "start_time": "2021-06-13T23:04:32.594981Z"
    }
   },
   "outputs": [],
   "source": [
    "# fig, ax = plt.subplots(2, 3, figsize = (10, 8))\n",
    "# bws = (x for x in range(25, 175, 25))\n",
    "\n",
    "# for row in range(2):\n",
    "#     for col in range(3):\n",
    "#         bw = next(bws)\n",
    "#         gwr_model = GWR(g_coords, g_y, g_X, bw)\n",
    "#         gwr_results = gwr_model.fit()\n",
    "#         georgia['rural'] = gwr_results.params[:, -1]\n",
    "#         georgia.plot('rural', ax = ax[row, col])\n",
    "#         ax[row,col].set_title('Bandwidth: ' + str(bw))\n",
    "#         ax[row,col].get_xaxis().set_visible(False)\n",
    "#         ax[row,col].get_yaxis().set_visible(False)\n",
    "#         plt.savefig('explore')\n",
    "#         plt.show()"
   ]
  },
  {
   "cell_type": "code",
   "execution_count": 36,
   "metadata": {
    "ExecuteTime": {
     "end_time": "2021-06-13T23:04:32.628893Z",
     "start_time": "2021-06-13T23:04:32.615924Z"
    }
   },
   "outputs": [],
   "source": [
    "from spglm.family import Poisson, Binomial"
   ]
  },
  {
   "cell_type": "code",
   "execution_count": 37,
   "metadata": {
    "ExecuteTime": {
     "end_time": "2021-06-13T23:05:05.638264Z",
     "start_time": "2021-06-13T23:04:32.635873Z"
    }
   },
   "outputs": [
    {
     "name": "stdout",
     "output_type": "stream",
     "text": [
      "178.0\n"
     ]
    }
   ],
   "source": [
    "gwr_selector = Sel_BW(g_coords, g_y, g_X)\n",
    "gwr_bw = gwr_selector.search()\n",
    "print(gwr_bw)"
   ]
  },
  {
   "cell_type": "code",
   "execution_count": 38,
   "metadata": {
    "ExecuteTime": {
     "end_time": "2021-06-13T23:05:08.705278Z",
     "start_time": "2021-06-13T23:05:05.641258Z"
    }
   },
   "outputs": [
    {
     "name": "stdout",
     "output_type": "stream",
     "text": [
      "5366.961072039421\n",
      "5708.818257445382\n",
      "0.8270925193274468\n"
     ]
    }
   ],
   "source": [
    "gwr_model = GWR(g_coords, g_y, g_X, gwr_bw)\n",
    "gwr_results = gwr_model.fit()\n",
    "print(gwr_results.aic)\n",
    "print(gwr_results.aicc)\n",
    "print(gwr_results.R2)"
   ]
  },
  {
   "cell_type": "code",
   "execution_count": 39,
   "metadata": {
    "ExecuteTime": {
     "end_time": "2021-06-13T23:05:09.649006Z",
     "start_time": "2021-06-13T23:05:08.708272Z"
    }
   },
   "outputs": [
    {
     "data": {
      "image/png": "[encoded data removed]",
      "text/plain": [
       "<Figure size 432x288 with 2 Axes>"
      ]
     },
     "metadata": {},
     "output_type": "display_data"
    }
   ],
   "source": [
    "df_geo['R2'] = gwr_results.localR2\n",
    "df_geo.plot('R2', legend = True)\n",
    "ax = plt.gca()\n",
    "ax.get_xaxis().set_visible(False)\n",
    "ax.get_yaxis().set_visible(False)\n",
    "# plt.savefig('local_R2')\n",
    "plt.show()"
   ]
  },
  {
   "cell_type": "code",
   "execution_count": 40,
   "metadata": {
    "ExecuteTime": {
     "end_time": "2021-06-13T23:05:43.427215Z",
     "start_time": "2021-06-13T23:05:09.652000Z"
    }
   },
   "outputs": [
    {
     "name": "stdout",
     "output_type": "stream",
     "text": [
      "178.0\n"
     ]
    }
   ],
   "source": [
    "#Visualizing hypothesis tests for significance of parameter estimates\n",
    "gwr_selector = Sel_BW(g_coords, g_y, g_X)\n",
    "gwr_bw = gwr_selector.search()\n",
    "print(gwr_bw)"
   ]
  },
  {
   "cell_type": "code",
   "execution_count": 41,
   "metadata": {
    "ExecuteTime": {
     "end_time": "2021-06-13T23:05:46.329670Z",
     "start_time": "2021-06-13T23:05:43.430209Z"
    }
   },
   "outputs": [],
   "source": [
    "gwr_model = GWR(g_coords, g_y, g_X, gwr_bw)\n",
    "gwr_results = gwr_model.fit()"
   ]
  },
  {
   "cell_type": "code",
   "execution_count": 42,
   "metadata": {
    "ExecuteTime": {
     "end_time": "2021-06-13T23:05:46.336962Z",
     "start_time": "2021-06-13T23:05:46.329670Z"
    }
   },
   "outputs": [],
   "source": [
    "# 'poczta_points', 'dhl_points', 'ruch_points', 'dpd_points', 'ups_points', 'TOT','FEM_RATIO'"
   ]
  },
  {
   "cell_type": "code",
   "execution_count": 43,
   "metadata": {
    "ExecuteTime": {
     "end_time": "2021-06-13T23:05:46.411651Z",
     "start_time": "2021-06-13T23:05:46.340458Z"
    }
   },
   "outputs": [
    {
     "name": "stdout",
     "output_type": "stream",
     "text": [
      "===========================================================================\n",
      "Model type                                                         Gaussian\n",
      "Number of observations:                                                1623\n",
      "Number of covariates:                                                    27\n",
      "\n",
      "Global Regression Results\n",
      "---------------------------------------------------------------------------\n",
      "Residual sum of squares:                                           4504.228\n",
      "Log-likelihood:                                                   -3131.268\n",
      "AIC:                                                               6316.536\n",
      "AICc:                                                              6319.555\n",
      "BIC:                                                              -7293.455\n",
      "R2:                                                                   0.479\n",
      "Adj. R2:                                                              0.470\n",
      "\n",
      "Variable                              Est.         SE  t(Est/SE)    p-value\n",
      "------------------------------- ---------- ---------- ---------- ----------\n",
      "X0                                -237.481     62.613     -3.793      0.000\n",
      "X1                                  -0.019      0.031     -0.639      0.523\n",
      "X2                                   0.170      0.028      6.140      0.000\n",
      "X3                                   0.335      0.048      7.056      0.000\n",
      "X4                                   0.118      0.046      2.572      0.010\n",
      "X5                                   0.229      0.060      3.786      0.000\n",
      "X6                                 281.601     84.942      3.315      0.001\n",
      "X7                                 -17.488     12.934     -1.352      0.176\n",
      "X8                                 110.124     84.707      1.300      0.194\n",
      "X9                                 -29.432      9.385     -3.136      0.002\n",
      "X10                               -160.624     41.222     -3.897      0.000\n",
      "X11                               -122.513     45.685     -2.682      0.007\n",
      "X12                                 13.515      6.405      2.110      0.035\n",
      "X13                                -33.719     38.390     -0.878      0.380\n",
      "X14                                 17.126      4.060      4.218      0.000\n",
      "X15                                  6.361      6.754      0.942      0.346\n",
      "X16                                -76.101     46.051     -1.653      0.098\n",
      "X17                                 11.717      5.570      2.104      0.035\n",
      "X18                                  0.005      0.006      0.855      0.393\n",
      "X19                                  0.000      0.001      0.406      0.685\n",
      "X20                                 -0.027      0.013     -2.068      0.039\n",
      "X21                                 -0.003      0.006     -0.452      0.651\n",
      "X22                                  0.007      0.010      0.667      0.505\n",
      "X23                                  0.002      0.002      0.660      0.509\n",
      "X24                                  0.006      0.003      2.098      0.036\n",
      "X25                                  0.001      0.001      0.445      0.656\n",
      "X26                                  0.008      0.002      4.444      0.000\n",
      "\n",
      "Geographically Weighted Regression (GWR) Results\n",
      "---------------------------------------------------------------------------\n",
      "Spatial kernel:                                           Adaptive bisquare\n",
      "Bandwidth used:                                                     178.000\n",
      "\n",
      "Diagnostic information\n",
      "---------------------------------------------------------------------------\n",
      "Residual sum of squares:                                           1494.373\n",
      "Effective number of parameters (trace(S)):                          446.549\n",
      "Degree of freedom (n - trace(S)):                                  1176.451\n",
      "Sigma estimate:                                                       1.127\n",
      "Log-likelihood:                                                   -2235.932\n",
      "AIC:                                                               5366.961\n",
      "AICc:                                                              5708.818\n",
      "BIC:                                                               7780.157\n",
      "R2:                                                                   0.827\n",
      "Adjusted R2:                                                          0.761\n",
      "Adj. alpha (95%):                                                     0.003\n",
      "Adj. critical t value (95%):                                          2.970\n",
      "\n",
      "Summary Statistics For GWR Parameter Estimates\n",
      "---------------------------------------------------------------------------\n",
      "Variable                   Mean        STD        Min     Median        Max\n",
      "-------------------- ---------- ---------- ---------- ---------- ----------\n",
      "X0                     -237.801   1456.224  -9240.916   -153.473   7832.858\n",
      "X1                        0.024      0.183     -0.447      0.004      0.465\n",
      "X2                        0.073      0.176     -0.483      0.082      0.526\n",
      "X3                        0.289      0.339     -0.574      0.281      0.982\n",
      "X4                        0.132      0.294     -0.648      0.155      0.658\n",
      "X5                        0.295      0.374     -0.699      0.263      1.478\n",
      "X6                      668.771   2420.629 -15383.425    621.678  13498.728\n",
      "X7                      145.634    789.313  -3419.921      2.542   3873.087\n",
      "X8                     -419.184   2421.314 -17165.951   -357.157   9247.777\n",
      "X9                      -52.200    208.138  -1487.928    -59.199   1302.262\n",
      "X10                    -329.050   1102.127  -6296.277   -280.222   6612.694\n",
      "X11                    -337.674   1354.668  -7407.592   -341.473   8894.595\n",
      "X12                     -75.336    403.119  -1915.809     -3.913   1770.127\n",
      "X13                     211.076   1133.057  -4157.776    180.848   8123.696\n",
      "X14                      24.843     81.980   -303.635     24.742    594.717\n",
      "X15                     -69.129    383.680  -1935.704     -0.745   1669.665\n",
      "X16                     205.642   1300.547  -5142.698    159.778   9202.509\n",
      "X17                      27.183    132.529  -1022.040     34.534    894.343\n",
      "X18                      -0.001      0.061     -0.523      0.006      0.185\n",
      "X19                       0.001      0.006     -0.025     -0.000      0.027\n",
      "X20                      -0.207      0.224     -1.026     -0.184      0.200\n",
      "X21                      -0.009      0.046     -0.130     -0.012      0.157\n",
      "X22                       0.029      0.101     -0.153      0.006      0.471\n",
      "X23                       0.005      0.017     -0.177      0.007      0.195\n",
      "X24                      -0.000      0.028     -0.073      0.001      0.067\n",
      "X25                       0.004      0.020     -0.066      0.005      0.070\n",
      "X26                       0.010      0.017     -0.032      0.006      0.049\n",
      "===========================================================================\n",
      "\n"
     ]
    }
   ],
   "source": [
    "gwr_results.summary()"
   ]
  },
  {
   "cell_type": "code",
   "execution_count": 108,
   "metadata": {
    "ExecuteTime": {
     "end_time": "2021-06-11T17:23:06.538527Z",
     "start_time": "2021-06-11T17:23:06.530547Z"
    }
   },
   "outputs": [],
   "source": [
    "#default behavior using corrected alpha\n",
    "filter_tc = gwr_results.filter_tvals()"
   ]
  },
  {
   "cell_type": "code",
   "execution_count": 109,
   "metadata": {
    "ExecuteTime": {
     "end_time": "2021-06-11T17:23:07.001198Z",
     "start_time": "2021-06-11T17:23:06.995228Z"
    }
   },
   "outputs": [],
   "source": [
    "#without correction using common alpha\n",
    "filter_t = gwr_results.filter_tvals(alpha = 0.05)"
   ]
  },
  {
   "cell_type": "code",
   "execution_count": 110,
   "metadata": {
    "ExecuteTime": {
     "end_time": "2021-06-11T17:25:17.163427Z",
     "start_time": "2021-06-11T17:25:17.155448Z"
    }
   },
   "outputs": [],
   "source": [
    "df_warszawa['rural'] = gwr_results.params[:, 1]\n",
    "df_warszawa['rural_t'] = filter_t[:, 1]\n",
    "df_warszawa['rural_tc'] = filter_tc[:, 1]"
   ]
  },
  {
   "cell_type": "code",
   "execution_count": 113,
   "metadata": {
    "ExecuteTime": {
     "end_time": "2021-06-11T17:25:48.499564Z",
     "start_time": "2021-06-11T17:25:47.507526Z"
    }
   },
   "outputs": [
    {
     "ename": "AttributeError",
     "evalue": "'Line2D' object has no property 'edgecolor'",
     "output_type": "error",
     "traceback": [
      "\u001b[1;31m---------------------------------------------------------------------------\u001b[0m",
      "\u001b[1;31mAttributeError\u001b[0m                            Traceback (most recent call last)",
      "\u001b[1;32m<ipython-input-113-b05ad2fd9309>\u001b[0m in \u001b[0;36m<module>\u001b[1;34m()\u001b[0m\n\u001b[0;32m      1\u001b[0m \u001b[0mfig\u001b[0m\u001b[1;33m,\u001b[0m \u001b[0max\u001b[0m \u001b[1;33m=\u001b[0m \u001b[0mplt\u001b[0m\u001b[1;33m.\u001b[0m\u001b[0msubplots\u001b[0m\u001b[1;33m(\u001b[0m\u001b[1;36m1\u001b[0m\u001b[1;33m,\u001b[0m \u001b[1;36m3\u001b[0m\u001b[1;33m,\u001b[0m \u001b[0mfigsize\u001b[0m \u001b[1;33m=\u001b[0m \u001b[1;33m(\u001b[0m\u001b[1;36m10\u001b[0m\u001b[1;33m,\u001b[0m \u001b[1;36m4\u001b[0m\u001b[1;33m)\u001b[0m\u001b[1;33m)\u001b[0m\u001b[1;33m\u001b[0m\u001b[0m\n\u001b[1;32m----> 2\u001b[1;33m \u001b[0mdf_warszawa\u001b[0m\u001b[1;33m.\u001b[0m\u001b[0mplot\u001b[0m\u001b[1;33m(\u001b[0m\u001b[1;34m'rural'\u001b[0m\u001b[1;33m,\u001b[0m \u001b[1;33m**\u001b[0m\u001b[1;33m{\u001b[0m\u001b[1;34m'edgecolor'\u001b[0m\u001b[1;33m:\u001b[0m \u001b[1;34m'black'\u001b[0m\u001b[1;33m,\u001b[0m \u001b[1;34m'alpha'\u001b[0m\u001b[1;33m:\u001b[0m \u001b[1;36m.65\u001b[0m\u001b[1;33m,\u001b[0m \u001b[1;34m'linewidth'\u001b[0m\u001b[1;33m:\u001b[0m \u001b[1;36m.5\u001b[0m\u001b[1;33m}\u001b[0m\u001b[1;33m,\u001b[0m \u001b[0max\u001b[0m \u001b[1;33m=\u001b[0m \u001b[0max\u001b[0m\u001b[1;33m[\u001b[0m\u001b[1;36m0\u001b[0m\u001b[1;33m]\u001b[0m\u001b[1;33m)\u001b[0m\u001b[1;33m\u001b[0m\u001b[0m\n\u001b[0m\u001b[0;32m      3\u001b[0m \u001b[0max\u001b[0m\u001b[1;33m[\u001b[0m\u001b[1;36m0\u001b[0m\u001b[1;33m]\u001b[0m\u001b[1;33m.\u001b[0m\u001b[0mget_xaxis\u001b[0m\u001b[1;33m(\u001b[0m\u001b[1;33m)\u001b[0m\u001b[1;33m.\u001b[0m\u001b[0mset_visible\u001b[0m\u001b[1;33m(\u001b[0m\u001b[1;32mFalse\u001b[0m\u001b[1;33m)\u001b[0m\u001b[1;33m\u001b[0m\u001b[0m\n\u001b[0;32m      4\u001b[0m \u001b[0max\u001b[0m\u001b[1;33m[\u001b[0m\u001b[1;36m0\u001b[0m\u001b[1;33m]\u001b[0m\u001b[1;33m.\u001b[0m\u001b[0mget_yaxis\u001b[0m\u001b[1;33m(\u001b[0m\u001b[1;33m)\u001b[0m\u001b[1;33m.\u001b[0m\u001b[0mset_visible\u001b[0m\u001b[1;33m(\u001b[0m\u001b[1;32mFalse\u001b[0m\u001b[1;33m)\u001b[0m\u001b[1;33m\u001b[0m\u001b[0m\n\u001b[0;32m      5\u001b[0m \u001b[0max\u001b[0m\u001b[1;33m[\u001b[0m\u001b[1;36m0\u001b[0m\u001b[1;33m]\u001b[0m\u001b[1;33m.\u001b[0m\u001b[0mset_title\u001b[0m\u001b[1;33m(\u001b[0m\u001b[1;34m'Parameter estimates'\u001b[0m\u001b[1;33m)\u001b[0m\u001b[1;33m\u001b[0m\u001b[0m\n",
      "\u001b[1;32mc:\\users\\michal_schudnij\\appdata\\local\\programs\\python\\python36-32\\lib\\site-packages\\pandas\\plotting\\_core.py\u001b[0m in \u001b[0;36m__call__\u001b[1;34m(self, *args, **kwargs)\u001b[0m\n\u001b[0;32m    947\u001b[0m                     \u001b[0mdata\u001b[0m\u001b[1;33m.\u001b[0m\u001b[0mcolumns\u001b[0m \u001b[1;33m=\u001b[0m \u001b[0mlabel_name\u001b[0m\u001b[1;33m\u001b[0m\u001b[0m\n\u001b[0;32m    948\u001b[0m \u001b[1;33m\u001b[0m\u001b[0m\n\u001b[1;32m--> 949\u001b[1;33m         \u001b[1;32mreturn\u001b[0m \u001b[0mplot_backend\u001b[0m\u001b[1;33m.\u001b[0m\u001b[0mplot\u001b[0m\u001b[1;33m(\u001b[0m\u001b[0mdata\u001b[0m\u001b[1;33m,\u001b[0m \u001b[0mkind\u001b[0m\u001b[1;33m=\u001b[0m\u001b[0mkind\u001b[0m\u001b[1;33m,\u001b[0m \u001b[1;33m**\u001b[0m\u001b[0mkwargs\u001b[0m\u001b[1;33m)\u001b[0m\u001b[1;33m\u001b[0m\u001b[0m\n\u001b[0m\u001b[0;32m    950\u001b[0m \u001b[1;33m\u001b[0m\u001b[0m\n\u001b[0;32m    951\u001b[0m     \u001b[0m__call__\u001b[0m\u001b[1;33m.\u001b[0m\u001b[0m__doc__\u001b[0m \u001b[1;33m=\u001b[0m \u001b[0m__doc__\u001b[0m\u001b[1;33m\u001b[0m\u001b[0m\n",
      "\u001b[1;32mc:\\users\\michal_schudnij\\appdata\\local\\programs\\python\\python36-32\\lib\\site-packages\\pandas\\plotting\\_matplotlib\\__init__.py\u001b[0m in \u001b[0;36mplot\u001b[1;34m(data, kind, **kwargs)\u001b[0m\n\u001b[0;32m     59\u001b[0m             \u001b[0mkwargs\u001b[0m\u001b[1;33m[\u001b[0m\u001b[1;34m\"ax\"\u001b[0m\u001b[1;33m]\u001b[0m \u001b[1;33m=\u001b[0m \u001b[0mgetattr\u001b[0m\u001b[1;33m(\u001b[0m\u001b[0max\u001b[0m\u001b[1;33m,\u001b[0m \u001b[1;34m\"left_ax\"\u001b[0m\u001b[1;33m,\u001b[0m \u001b[0max\u001b[0m\u001b[1;33m)\u001b[0m\u001b[1;33m\u001b[0m\u001b[0m\n\u001b[0;32m     60\u001b[0m     \u001b[0mplot_obj\u001b[0m \u001b[1;33m=\u001b[0m \u001b[0mPLOT_CLASSES\u001b[0m\u001b[1;33m[\u001b[0m\u001b[0mkind\u001b[0m\u001b[1;33m]\u001b[0m\u001b[1;33m(\u001b[0m\u001b[0mdata\u001b[0m\u001b[1;33m,\u001b[0m \u001b[1;33m**\u001b[0m\u001b[0mkwargs\u001b[0m\u001b[1;33m)\u001b[0m\u001b[1;33m\u001b[0m\u001b[0m\n\u001b[1;32m---> 61\u001b[1;33m     \u001b[0mplot_obj\u001b[0m\u001b[1;33m.\u001b[0m\u001b[0mgenerate\u001b[0m\u001b[1;33m(\u001b[0m\u001b[1;33m)\u001b[0m\u001b[1;33m\u001b[0m\u001b[0m\n\u001b[0m\u001b[0;32m     62\u001b[0m     \u001b[0mplot_obj\u001b[0m\u001b[1;33m.\u001b[0m\u001b[0mdraw\u001b[0m\u001b[1;33m(\u001b[0m\u001b[1;33m)\u001b[0m\u001b[1;33m\u001b[0m\u001b[0m\n\u001b[0;32m     63\u001b[0m     \u001b[1;32mreturn\u001b[0m \u001b[0mplot_obj\u001b[0m\u001b[1;33m.\u001b[0m\u001b[0mresult\u001b[0m\u001b[1;33m\u001b[0m\u001b[0m\n",
      "\u001b[1;32mc:\\users\\michal_schudnij\\appdata\\local\\programs\\python\\python36-32\\lib\\site-packages\\pandas\\plotting\\_matplotlib\\core.py\u001b[0m in \u001b[0;36mgenerate\u001b[1;34m(self)\u001b[0m\n\u001b[0;32m    269\u001b[0m         \u001b[0mself\u001b[0m\u001b[1;33m.\u001b[0m\u001b[0m_compute_plot_data\u001b[0m\u001b[1;33m(\u001b[0m\u001b[1;33m)\u001b[0m\u001b[1;33m\u001b[0m\u001b[0m\n\u001b[0;32m    270\u001b[0m         \u001b[0mself\u001b[0m\u001b[1;33m.\u001b[0m\u001b[0m_setup_subplots\u001b[0m\u001b[1;33m(\u001b[0m\u001b[1;33m)\u001b[0m\u001b[1;33m\u001b[0m\u001b[0m\n\u001b[1;32m--> 271\u001b[1;33m         \u001b[0mself\u001b[0m\u001b[1;33m.\u001b[0m\u001b[0m_make_plot\u001b[0m\u001b[1;33m(\u001b[0m\u001b[1;33m)\u001b[0m\u001b[1;33m\u001b[0m\u001b[0m\n\u001b[0m\u001b[0;32m    272\u001b[0m         \u001b[0mself\u001b[0m\u001b[1;33m.\u001b[0m\u001b[0m_add_table\u001b[0m\u001b[1;33m(\u001b[0m\u001b[1;33m)\u001b[0m\u001b[1;33m\u001b[0m\u001b[0m\n\u001b[0;32m    273\u001b[0m         \u001b[0mself\u001b[0m\u001b[1;33m.\u001b[0m\u001b[0m_make_legend\u001b[0m\u001b[1;33m(\u001b[0m\u001b[1;33m)\u001b[0m\u001b[1;33m\u001b[0m\u001b[0m\n",
      "\u001b[1;32mc:\\users\\michal_schudnij\\appdata\\local\\programs\\python\\python36-32\\lib\\site-packages\\pandas\\plotting\\_matplotlib\\core.py\u001b[0m in \u001b[0;36m_make_plot\u001b[1;34m(self)\u001b[0m\n\u001b[0;32m   1124\u001b[0m                 \u001b[0mstacking_id\u001b[0m\u001b[1;33m=\u001b[0m\u001b[0mstacking_id\u001b[0m\u001b[1;33m,\u001b[0m\u001b[1;33m\u001b[0m\u001b[0m\n\u001b[0;32m   1125\u001b[0m                 \u001b[0mis_errorbar\u001b[0m\u001b[1;33m=\u001b[0m\u001b[0mis_errorbar\u001b[0m\u001b[1;33m,\u001b[0m\u001b[1;33m\u001b[0m\u001b[0m\n\u001b[1;32m-> 1126\u001b[1;33m                 \u001b[1;33m**\u001b[0m\u001b[0mkwds\u001b[0m\u001b[1;33m,\u001b[0m\u001b[1;33m\u001b[0m\u001b[0m\n\u001b[0m\u001b[0;32m   1127\u001b[0m             )\n\u001b[0;32m   1128\u001b[0m             \u001b[0mself\u001b[0m\u001b[1;33m.\u001b[0m\u001b[0m_add_legend_handle\u001b[0m\u001b[1;33m(\u001b[0m\u001b[0mnewlines\u001b[0m\u001b[1;33m[\u001b[0m\u001b[1;36m0\u001b[0m\u001b[1;33m]\u001b[0m\u001b[1;33m,\u001b[0m \u001b[0mlabel\u001b[0m\u001b[1;33m,\u001b[0m \u001b[0mindex\u001b[0m\u001b[1;33m=\u001b[0m\u001b[0mi\u001b[0m\u001b[1;33m)\u001b[0m\u001b[1;33m\u001b[0m\u001b[0m\n",
      "\u001b[1;32mc:\\users\\michal_schudnij\\appdata\\local\\programs\\python\\python36-32\\lib\\site-packages\\pandas\\plotting\\_matplotlib\\core.py\u001b[0m in \u001b[0;36m_plot\u001b[1;34m(cls, ax, x, y, style, column_num, stacking_id, **kwds)\u001b[0m\n\u001b[0;32m   1143\u001b[0m             \u001b[0mcls\u001b[0m\u001b[1;33m.\u001b[0m\u001b[0m_initialize_stacker\u001b[0m\u001b[1;33m(\u001b[0m\u001b[0max\u001b[0m\u001b[1;33m,\u001b[0m \u001b[0mstacking_id\u001b[0m\u001b[1;33m,\u001b[0m \u001b[0mlen\u001b[0m\u001b[1;33m(\u001b[0m\u001b[0my\u001b[0m\u001b[1;33m)\u001b[0m\u001b[1;33m)\u001b[0m\u001b[1;33m\u001b[0m\u001b[0m\n\u001b[0;32m   1144\u001b[0m         \u001b[0my_values\u001b[0m \u001b[1;33m=\u001b[0m \u001b[0mcls\u001b[0m\u001b[1;33m.\u001b[0m\u001b[0m_get_stacked_values\u001b[0m\u001b[1;33m(\u001b[0m\u001b[0max\u001b[0m\u001b[1;33m,\u001b[0m \u001b[0mstacking_id\u001b[0m\u001b[1;33m,\u001b[0m \u001b[0my\u001b[0m\u001b[1;33m,\u001b[0m \u001b[0mkwds\u001b[0m\u001b[1;33m[\u001b[0m\u001b[1;34m\"label\"\u001b[0m\u001b[1;33m]\u001b[0m\u001b[1;33m)\u001b[0m\u001b[1;33m\u001b[0m\u001b[0m\n\u001b[1;32m-> 1145\u001b[1;33m         \u001b[0mlines\u001b[0m \u001b[1;33m=\u001b[0m \u001b[0mMPLPlot\u001b[0m\u001b[1;33m.\u001b[0m\u001b[0m_plot\u001b[0m\u001b[1;33m(\u001b[0m\u001b[0max\u001b[0m\u001b[1;33m,\u001b[0m \u001b[0mx\u001b[0m\u001b[1;33m,\u001b[0m \u001b[0my_values\u001b[0m\u001b[1;33m,\u001b[0m \u001b[0mstyle\u001b[0m\u001b[1;33m=\u001b[0m\u001b[0mstyle\u001b[0m\u001b[1;33m,\u001b[0m \u001b[1;33m**\u001b[0m\u001b[0mkwds\u001b[0m\u001b[1;33m)\u001b[0m\u001b[1;33m\u001b[0m\u001b[0m\n\u001b[0m\u001b[0;32m   1146\u001b[0m         \u001b[0mcls\u001b[0m\u001b[1;33m.\u001b[0m\u001b[0m_update_stacker\u001b[0m\u001b[1;33m(\u001b[0m\u001b[0max\u001b[0m\u001b[1;33m,\u001b[0m \u001b[0mstacking_id\u001b[0m\u001b[1;33m,\u001b[0m \u001b[0my\u001b[0m\u001b[1;33m)\u001b[0m\u001b[1;33m\u001b[0m\u001b[0m\n\u001b[0;32m   1147\u001b[0m         \u001b[1;32mreturn\u001b[0m \u001b[0mlines\u001b[0m\u001b[1;33m\u001b[0m\u001b[0m\n",
      "\u001b[1;32mc:\\users\\michal_schudnij\\appdata\\local\\programs\\python\\python36-32\\lib\\site-packages\\pandas\\plotting\\_matplotlib\\converter.py\u001b[0m in \u001b[0;36mwrapper\u001b[1;34m(*args, **kwargs)\u001b[0m\n\u001b[0;32m     63\u001b[0m     \u001b[1;32mdef\u001b[0m \u001b[0mwrapper\u001b[0m\u001b[1;33m(\u001b[0m\u001b[1;33m*\u001b[0m\u001b[0margs\u001b[0m\u001b[1;33m,\u001b[0m \u001b[1;33m**\u001b[0m\u001b[0mkwargs\u001b[0m\u001b[1;33m)\u001b[0m\u001b[1;33m:\u001b[0m\u001b[1;33m\u001b[0m\u001b[0m\n\u001b[0;32m     64\u001b[0m         \u001b[1;32mwith\u001b[0m \u001b[0mpandas_converters\u001b[0m\u001b[1;33m(\u001b[0m\u001b[1;33m)\u001b[0m\u001b[1;33m:\u001b[0m\u001b[1;33m\u001b[0m\u001b[0m\n\u001b[1;32m---> 65\u001b[1;33m             \u001b[1;32mreturn\u001b[0m \u001b[0mfunc\u001b[0m\u001b[1;33m(\u001b[0m\u001b[1;33m*\u001b[0m\u001b[0margs\u001b[0m\u001b[1;33m,\u001b[0m \u001b[1;33m**\u001b[0m\u001b[0mkwargs\u001b[0m\u001b[1;33m)\u001b[0m\u001b[1;33m\u001b[0m\u001b[0m\n\u001b[0m\u001b[0;32m     66\u001b[0m \u001b[1;33m\u001b[0m\u001b[0m\n\u001b[0;32m     67\u001b[0m     \u001b[1;32mreturn\u001b[0m \u001b[0mwrapper\u001b[0m\u001b[1;33m\u001b[0m\u001b[0m\n",
      "\u001b[1;32mc:\\users\\michal_schudnij\\appdata\\local\\programs\\python\\python36-32\\lib\\site-packages\\pandas\\plotting\\_matplotlib\\core.py\u001b[0m in \u001b[0;36m_plot\u001b[1;34m(cls, ax, x, y, style, is_errorbar, **kwds)\u001b[0m\n\u001b[0;32m    666\u001b[0m             \u001b[1;32melse\u001b[0m\u001b[1;33m:\u001b[0m\u001b[1;33m\u001b[0m\u001b[0m\n\u001b[0;32m    667\u001b[0m                 \u001b[0margs\u001b[0m \u001b[1;33m=\u001b[0m \u001b[1;33m(\u001b[0m\u001b[0mx\u001b[0m\u001b[1;33m,\u001b[0m \u001b[0my\u001b[0m\u001b[1;33m)\u001b[0m\u001b[1;33m\u001b[0m\u001b[0m\n\u001b[1;32m--> 668\u001b[1;33m             \u001b[1;32mreturn\u001b[0m \u001b[0max\u001b[0m\u001b[1;33m.\u001b[0m\u001b[0mplot\u001b[0m\u001b[1;33m(\u001b[0m\u001b[1;33m*\u001b[0m\u001b[0margs\u001b[0m\u001b[1;33m,\u001b[0m \u001b[1;33m**\u001b[0m\u001b[0mkwds\u001b[0m\u001b[1;33m)\u001b[0m\u001b[1;33m\u001b[0m\u001b[0m\n\u001b[0m\u001b[0;32m    669\u001b[0m \u001b[1;33m\u001b[0m\u001b[0m\n\u001b[0;32m    670\u001b[0m     \u001b[1;32mdef\u001b[0m \u001b[0m_get_index_name\u001b[0m\u001b[1;33m(\u001b[0m\u001b[0mself\u001b[0m\u001b[1;33m)\u001b[0m\u001b[1;33m:\u001b[0m\u001b[1;33m\u001b[0m\u001b[0m\n",
      "\u001b[1;32m~\\AppData\\Roaming\\Python\\Python36\\site-packages\\matplotlib\\axes\\_axes.py\u001b[0m in \u001b[0;36mplot\u001b[1;34m(self, scalex, scaley, data, *args, **kwargs)\u001b[0m\n\u001b[0;32m   1644\u001b[0m         \"\"\"\n\u001b[0;32m   1645\u001b[0m         \u001b[0mkwargs\u001b[0m \u001b[1;33m=\u001b[0m \u001b[0mcbook\u001b[0m\u001b[1;33m.\u001b[0m\u001b[0mnormalize_kwargs\u001b[0m\u001b[1;33m(\u001b[0m\u001b[0mkwargs\u001b[0m\u001b[1;33m,\u001b[0m \u001b[0mmlines\u001b[0m\u001b[1;33m.\u001b[0m\u001b[0mLine2D\u001b[0m\u001b[1;33m)\u001b[0m\u001b[1;33m\u001b[0m\u001b[0m\n\u001b[1;32m-> 1646\u001b[1;33m         \u001b[0mlines\u001b[0m \u001b[1;33m=\u001b[0m \u001b[1;33m[\u001b[0m\u001b[1;33m*\u001b[0m\u001b[0mself\u001b[0m\u001b[1;33m.\u001b[0m\u001b[0m_get_lines\u001b[0m\u001b[1;33m(\u001b[0m\u001b[1;33m*\u001b[0m\u001b[0margs\u001b[0m\u001b[1;33m,\u001b[0m \u001b[0mdata\u001b[0m\u001b[1;33m=\u001b[0m\u001b[0mdata\u001b[0m\u001b[1;33m,\u001b[0m \u001b[1;33m**\u001b[0m\u001b[0mkwargs\u001b[0m\u001b[1;33m)\u001b[0m\u001b[1;33m]\u001b[0m\u001b[1;33m\u001b[0m\u001b[0m\n\u001b[0m\u001b[0;32m   1647\u001b[0m         \u001b[1;32mfor\u001b[0m \u001b[0mline\u001b[0m \u001b[1;32min\u001b[0m \u001b[0mlines\u001b[0m\u001b[1;33m:\u001b[0m\u001b[1;33m\u001b[0m\u001b[0m\n\u001b[0;32m   1648\u001b[0m             \u001b[0mself\u001b[0m\u001b[1;33m.\u001b[0m\u001b[0madd_line\u001b[0m\u001b[1;33m(\u001b[0m\u001b[0mline\u001b[0m\u001b[1;33m)\u001b[0m\u001b[1;33m\u001b[0m\u001b[0m\n",
      "\u001b[1;32m~\\AppData\\Roaming\\Python\\Python36\\site-packages\\matplotlib\\axes\\_base.py\u001b[0m in \u001b[0;36m__call__\u001b[1;34m(self, *args, **kwargs)\u001b[0m\n\u001b[0;32m    214\u001b[0m                 \u001b[0mthis\u001b[0m \u001b[1;33m+=\u001b[0m \u001b[0margs\u001b[0m\u001b[1;33m[\u001b[0m\u001b[1;36m0\u001b[0m\u001b[1;33m]\u001b[0m\u001b[1;33m,\u001b[0m\u001b[1;33m\u001b[0m\u001b[0m\n\u001b[0;32m    215\u001b[0m                 \u001b[0margs\u001b[0m \u001b[1;33m=\u001b[0m \u001b[0margs\u001b[0m\u001b[1;33m[\u001b[0m\u001b[1;36m1\u001b[0m\u001b[1;33m:\u001b[0m\u001b[1;33m]\u001b[0m\u001b[1;33m\u001b[0m\u001b[0m\n\u001b[1;32m--> 216\u001b[1;33m             \u001b[1;32myield\u001b[0m \u001b[1;32mfrom\u001b[0m \u001b[0mself\u001b[0m\u001b[1;33m.\u001b[0m\u001b[0m_plot_args\u001b[0m\u001b[1;33m(\u001b[0m\u001b[0mthis\u001b[0m\u001b[1;33m,\u001b[0m \u001b[0mkwargs\u001b[0m\u001b[1;33m)\u001b[0m\u001b[1;33m\u001b[0m\u001b[0m\n\u001b[0m\u001b[0;32m    217\u001b[0m \u001b[1;33m\u001b[0m\u001b[0m\n\u001b[0;32m    218\u001b[0m     \u001b[1;32mdef\u001b[0m \u001b[0mget_next_color\u001b[0m\u001b[1;33m(\u001b[0m\u001b[0mself\u001b[0m\u001b[1;33m)\u001b[0m\u001b[1;33m:\u001b[0m\u001b[1;33m\u001b[0m\u001b[0m\n",
      "\u001b[1;32m~\\AppData\\Roaming\\Python\\Python36\\site-packages\\matplotlib\\axes\\_base.py\u001b[0m in \u001b[0;36m_plot_args\u001b[1;34m(self, tup, kwargs)\u001b[0m\n\u001b[0;32m    362\u001b[0m                 \"non-matching shapes is deprecated.\")\n\u001b[0;32m    363\u001b[0m         return [func(x[:, j % ncx], y[:, j % ncy], kw, kwargs)\n\u001b[1;32m--> 364\u001b[1;33m                 for j in range(max(ncx, ncy))]\n\u001b[0m\u001b[0;32m    365\u001b[0m \u001b[1;33m\u001b[0m\u001b[0m\n\u001b[0;32m    366\u001b[0m \u001b[1;33m\u001b[0m\u001b[0m\n",
      "\u001b[1;32m~\\AppData\\Roaming\\Python\\Python36\\site-packages\\matplotlib\\axes\\_base.py\u001b[0m in \u001b[0;36m<listcomp>\u001b[1;34m(.0)\u001b[0m\n\u001b[0;32m    362\u001b[0m                 \"non-matching shapes is deprecated.\")\n\u001b[0;32m    363\u001b[0m         return [func(x[:, j % ncx], y[:, j % ncy], kw, kwargs)\n\u001b[1;32m--> 364\u001b[1;33m                 for j in range(max(ncx, ncy))]\n\u001b[0m\u001b[0;32m    365\u001b[0m \u001b[1;33m\u001b[0m\u001b[0m\n\u001b[0;32m    366\u001b[0m \u001b[1;33m\u001b[0m\u001b[0m\n",
      "\u001b[1;32m~\\AppData\\Roaming\\Python\\Python36\\site-packages\\matplotlib\\axes\\_base.py\u001b[0m in \u001b[0;36m_makeline\u001b[1;34m(self, x, y, kw, kwargs)\u001b[0m\n\u001b[0;32m    253\u001b[0m         \u001b[0mdefault_dict\u001b[0m \u001b[1;33m=\u001b[0m \u001b[0mself\u001b[0m\u001b[1;33m.\u001b[0m\u001b[0m_getdefaults\u001b[0m\u001b[1;33m(\u001b[0m\u001b[0mset\u001b[0m\u001b[1;33m(\u001b[0m\u001b[1;33m)\u001b[0m\u001b[1;33m,\u001b[0m \u001b[0mkw\u001b[0m\u001b[1;33m)\u001b[0m\u001b[1;33m\u001b[0m\u001b[0m\n\u001b[0;32m    254\u001b[0m         \u001b[0mself\u001b[0m\u001b[1;33m.\u001b[0m\u001b[0m_setdefaults\u001b[0m\u001b[1;33m(\u001b[0m\u001b[0mdefault_dict\u001b[0m\u001b[1;33m,\u001b[0m \u001b[0mkw\u001b[0m\u001b[1;33m)\u001b[0m\u001b[1;33m\u001b[0m\u001b[0m\n\u001b[1;32m--> 255\u001b[1;33m         \u001b[0mseg\u001b[0m \u001b[1;33m=\u001b[0m \u001b[0mmlines\u001b[0m\u001b[1;33m.\u001b[0m\u001b[0mLine2D\u001b[0m\u001b[1;33m(\u001b[0m\u001b[0mx\u001b[0m\u001b[1;33m,\u001b[0m \u001b[0my\u001b[0m\u001b[1;33m,\u001b[0m \u001b[1;33m**\u001b[0m\u001b[0mkw\u001b[0m\u001b[1;33m)\u001b[0m\u001b[1;33m\u001b[0m\u001b[0m\n\u001b[0m\u001b[0;32m    256\u001b[0m         \u001b[1;32mreturn\u001b[0m \u001b[0mseg\u001b[0m\u001b[1;33m\u001b[0m\u001b[0m\n\u001b[0;32m    257\u001b[0m \u001b[1;33m\u001b[0m\u001b[0m\n",
      "\u001b[1;32m~\\AppData\\Roaming\\Python\\Python36\\site-packages\\matplotlib\\lines.py\u001b[0m in \u001b[0;36m__init__\u001b[1;34m(self, xdata, ydata, linewidth, linestyle, color, marker, markersize, markeredgewidth, markeredgecolor, markerfacecolor, markerfacecoloralt, fillstyle, antialiased, dash_capstyle, solid_capstyle, dash_joinstyle, solid_joinstyle, pickradius, drawstyle, markevery, **kwargs)\u001b[0m\n\u001b[0;32m    398\u001b[0m         \u001b[1;31m# update kwargs before updating data to give the caller a\u001b[0m\u001b[1;33m\u001b[0m\u001b[1;33m\u001b[0m\u001b[0m\n\u001b[0;32m    399\u001b[0m         \u001b[1;31m# chance to init axes (and hence unit support)\u001b[0m\u001b[1;33m\u001b[0m\u001b[1;33m\u001b[0m\u001b[0m\n\u001b[1;32m--> 400\u001b[1;33m         \u001b[0mself\u001b[0m\u001b[1;33m.\u001b[0m\u001b[0mupdate\u001b[0m\u001b[1;33m(\u001b[0m\u001b[0mkwargs\u001b[0m\u001b[1;33m)\u001b[0m\u001b[1;33m\u001b[0m\u001b[0m\n\u001b[0m\u001b[0;32m    401\u001b[0m         \u001b[0mself\u001b[0m\u001b[1;33m.\u001b[0m\u001b[0mpickradius\u001b[0m \u001b[1;33m=\u001b[0m \u001b[0mpickradius\u001b[0m\u001b[1;33m\u001b[0m\u001b[0m\n\u001b[0;32m    402\u001b[0m         \u001b[0mself\u001b[0m\u001b[1;33m.\u001b[0m\u001b[0mind_offset\u001b[0m \u001b[1;33m=\u001b[0m \u001b[1;36m0\u001b[0m\u001b[1;33m\u001b[0m\u001b[0m\n",
      "\u001b[1;32m~\\AppData\\Roaming\\Python\\Python36\\site-packages\\matplotlib\\artist.py\u001b[0m in \u001b[0;36mupdate\u001b[1;34m(self, props)\u001b[0m\n\u001b[0;32m   1004\u001b[0m \u001b[1;33m\u001b[0m\u001b[0m\n\u001b[0;32m   1005\u001b[0m         \u001b[1;32mwith\u001b[0m \u001b[0mcbook\u001b[0m\u001b[1;33m.\u001b[0m\u001b[0m_setattr_cm\u001b[0m\u001b[1;33m(\u001b[0m\u001b[0mself\u001b[0m\u001b[1;33m,\u001b[0m \u001b[0meventson\u001b[0m\u001b[1;33m=\u001b[0m\u001b[1;32mFalse\u001b[0m\u001b[1;33m)\u001b[0m\u001b[1;33m:\u001b[0m\u001b[1;33m\u001b[0m\u001b[0m\n\u001b[1;32m-> 1006\u001b[1;33m             \u001b[0mret\u001b[0m \u001b[1;33m=\u001b[0m \u001b[1;33m[\u001b[0m\u001b[0m_update_property\u001b[0m\u001b[1;33m(\u001b[0m\u001b[0mself\u001b[0m\u001b[1;33m,\u001b[0m \u001b[0mk\u001b[0m\u001b[1;33m,\u001b[0m \u001b[0mv\u001b[0m\u001b[1;33m)\u001b[0m \u001b[1;32mfor\u001b[0m \u001b[0mk\u001b[0m\u001b[1;33m,\u001b[0m \u001b[0mv\u001b[0m \u001b[1;32min\u001b[0m \u001b[0mprops\u001b[0m\u001b[1;33m.\u001b[0m\u001b[0mitems\u001b[0m\u001b[1;33m(\u001b[0m\u001b[1;33m)\u001b[0m\u001b[1;33m]\u001b[0m\u001b[1;33m\u001b[0m\u001b[0m\n\u001b[0m\u001b[0;32m   1007\u001b[0m \u001b[1;33m\u001b[0m\u001b[0m\n\u001b[0;32m   1008\u001b[0m         \u001b[1;32mif\u001b[0m \u001b[0mlen\u001b[0m\u001b[1;33m(\u001b[0m\u001b[0mret\u001b[0m\u001b[1;33m)\u001b[0m\u001b[1;33m:\u001b[0m\u001b[1;33m\u001b[0m\u001b[0m\n",
      "\u001b[1;32m~\\AppData\\Roaming\\Python\\Python36\\site-packages\\matplotlib\\artist.py\u001b[0m in \u001b[0;36m<listcomp>\u001b[1;34m(.0)\u001b[0m\n\u001b[0;32m   1004\u001b[0m \u001b[1;33m\u001b[0m\u001b[0m\n\u001b[0;32m   1005\u001b[0m         \u001b[1;32mwith\u001b[0m \u001b[0mcbook\u001b[0m\u001b[1;33m.\u001b[0m\u001b[0m_setattr_cm\u001b[0m\u001b[1;33m(\u001b[0m\u001b[0mself\u001b[0m\u001b[1;33m,\u001b[0m \u001b[0meventson\u001b[0m\u001b[1;33m=\u001b[0m\u001b[1;32mFalse\u001b[0m\u001b[1;33m)\u001b[0m\u001b[1;33m:\u001b[0m\u001b[1;33m\u001b[0m\u001b[0m\n\u001b[1;32m-> 1006\u001b[1;33m             \u001b[0mret\u001b[0m \u001b[1;33m=\u001b[0m \u001b[1;33m[\u001b[0m\u001b[0m_update_property\u001b[0m\u001b[1;33m(\u001b[0m\u001b[0mself\u001b[0m\u001b[1;33m,\u001b[0m \u001b[0mk\u001b[0m\u001b[1;33m,\u001b[0m \u001b[0mv\u001b[0m\u001b[1;33m)\u001b[0m \u001b[1;32mfor\u001b[0m \u001b[0mk\u001b[0m\u001b[1;33m,\u001b[0m \u001b[0mv\u001b[0m \u001b[1;32min\u001b[0m \u001b[0mprops\u001b[0m\u001b[1;33m.\u001b[0m\u001b[0mitems\u001b[0m\u001b[1;33m(\u001b[0m\u001b[1;33m)\u001b[0m\u001b[1;33m]\u001b[0m\u001b[1;33m\u001b[0m\u001b[0m\n\u001b[0m\u001b[0;32m   1007\u001b[0m \u001b[1;33m\u001b[0m\u001b[0m\n\u001b[0;32m   1008\u001b[0m         \u001b[1;32mif\u001b[0m \u001b[0mlen\u001b[0m\u001b[1;33m(\u001b[0m\u001b[0mret\u001b[0m\u001b[1;33m)\u001b[0m\u001b[1;33m:\u001b[0m\u001b[1;33m\u001b[0m\u001b[0m\n",
      "\u001b[1;32m~\\AppData\\Roaming\\Python\\Python36\\site-packages\\matplotlib\\artist.py\u001b[0m in \u001b[0;36m_update_property\u001b[1;34m(self, k, v)\u001b[0m\n\u001b[0;32m   1000\u001b[0m                 \u001b[1;32mif\u001b[0m \u001b[1;32mnot\u001b[0m \u001b[0mcallable\u001b[0m\u001b[1;33m(\u001b[0m\u001b[0mfunc\u001b[0m\u001b[1;33m)\u001b[0m\u001b[1;33m:\u001b[0m\u001b[1;33m\u001b[0m\u001b[0m\n\u001b[0;32m   1001\u001b[0m                     raise AttributeError('{!r} object has no property {!r}'\n\u001b[1;32m-> 1002\u001b[1;33m                                          .format(type(self).__name__, k))\n\u001b[0m\u001b[0;32m   1003\u001b[0m                 \u001b[1;32mreturn\u001b[0m \u001b[0mfunc\u001b[0m\u001b[1;33m(\u001b[0m\u001b[0mv\u001b[0m\u001b[1;33m)\u001b[0m\u001b[1;33m\u001b[0m\u001b[0m\n\u001b[0;32m   1004\u001b[0m \u001b[1;33m\u001b[0m\u001b[0m\n",
      "\u001b[1;31mAttributeError\u001b[0m: 'Line2D' object has no property 'edgecolor'"
     ]
    },
    {
     "data": {
      "image/png": "[encoded data removed]",
      "text/plain": [
       "<Figure size 720x288 with 3 Axes>"
      ]
     },
     "metadata": {},
     "output_type": "display_data"
    }
   ],
   "source": [
    "fig, ax = plt.subplots(1, 3, figsize = (10, 4))\n",
    "df_warszawa.plot('rural', **{'edgecolor': 'black', 'alpha': .65, 'linewidth': .5}, ax = ax[0])\n",
    "ax[0].get_xaxis().set_visible(False)\n",
    "ax[0].get_yaxis().set_visible(False)\n",
    "ax[0].set_title('Parameter estimates')\n",
    "\n",
    "df_warszawa.plot('rural', **{'edgecolor': 'black', 'alpha': .65, 'linewidth': .5}, ax = ax[1])\n",
    "\n",
    "df_warszawa[filter_t[:, 1] == 0].plot(color = 'grey', ax = ax[1], **{'edgecolor': 'black', 'linewidth': .5})\n",
    "ax[1].get_xaxis().set_visible(False)\n",
    "ax[1].get_yaxis().set_visible(False)\n",
    "ax[1].set_title('Composite')\n",
    "\n",
    "df_warszawa.plot('rural', **{'edgecolor': 'black', 'alpha': .65, 'linewidth': .5}, ax = ax[2])\n",
    "df_warszawa[filter_tc[:, 1] == 0].plot(color = 'grey', ax = ax[2], **{'edgecolor': 'black', 'linewidth': .5})\n",
    "ax[2].get_xaxis().set_visible(False)\n",
    "ax[2].get_yaxis().set_visible(False)\n",
    "ax[2].set_title('Composite with correction')"
   ]
  },
  {
   "cell_type": "code",
   "execution_count": null,
   "metadata": {},
   "outputs": [],
   "source": [
    "#Visualizing hypothesis tests for significance of parameter estimates\n",
    "\n",
    "#Manually set bandwidth to 50 and fit\n",
    "gwr_model = GWR(g_coords, g_y, g_X, 50)\n",
    "gwr_results = gwr_model.fit()"
   ]
  },
  {
   "cell_type": "code",
   "execution_count": null,
   "metadata": {},
   "outputs": [],
   "source": [
    "#100 iterations\n",
    "p_vals_100 = gwr_results.spatial_variability(gwr_selector, 100)\n",
    "print(p_vals_100)"
   ]
  },
  {
   "cell_type": "code",
   "execution_count": null,
   "metadata": {},
   "outputs": [],
   "source": [
    "#default is 1000 iterations\n",
    "p_vals_1000 = gwr_results.spatial_variability(gwr_selector)\n",
    "print(p_vals_1000)"
   ]
  },
  {
   "cell_type": "code",
   "execution_count": null,
   "metadata": {},
   "outputs": [],
   "source": [
    "#2000 iterations\n",
    "p_vals_2000 = gwr_results.spatial_variability(gwr_selector, 2000)\n",
    "print(p_vals_2000)"
   ]
  },
  {
   "cell_type": "code",
   "execution_count": null,
   "metadata": {},
   "outputs": [],
   "source": [
    ">>> gwr_selector = Sel_BW(g_coords, g_y, g_X)\n",
    ">>> gwr_bw = gwr_selector.search()\n",
    ">>> print(gwr_bw)\n",
    "117.0\n",
    ">>> gwr_model = GWR(g_coords, g_y, g_X, gwr_bw)\n",
    ">>> gwr_results = gwr_model.fit()\n",
    ">>> LCC, VIF, CN, VDP = gwr_results.local_collinearity()\n",
    ">>> names = ['Foreign Born vs. African American',\n",
    "'Foreign Born vs. Rural',\n",
    "'African American vs. Rural']\n",
    ">>> fig, ax = plt.subplots(1, 3, figsize = (12, 4))\n",
    ">>> for col in range(3):\n",
    "georgia['vif'] = LCC[:, col]\n",
    "georgia.plot('vif', ax = ax[col], legend = True)\n",
    "ax[col].set_title('LCC: ' + names[col])\n",
    "ax[col].get_xaxis().set_visible(False)\n",
    "ax[col].get_yaxis().set_visible(False)\n",
    ">>> names = ['Foreign Born', 'African American', 'Rural']\n",
    ">>> fig, ax = plt.subplots(1, 3, figsize = (12, 4))\n",
    ">>> for col in range(3):\n",
    "georgia['vif'] = VIF[:, col]\n",
    "georgia.plot('vif', ax = ax[col], legend = True)\n",
    "ax[col].set_title('VIF: ' + names[col])\n",
    "ax[col].get_xaxis().set_visible(False)\n",
    "ax[col].get_yaxis().set_visible(False)\n",
    ">>> fig, ax = plt.subplots(1, 1, figsize = (4, 4))\n",
    ">>> georgia['cn'] = CN\n",
    ">>> georgia.plot('cn', legend = True, ax = ax)\n",
    ">>> ax.set_title('Condition Number')\n",
    ">>> ax.get_xaxis().set_visible(False)\n",
    ">>> ax.get_yaxis().set_visible(False)\n",
    ">>> names = ['Intercept', 'Foreign Born', 'African American', 'Rural']\n",
    ">>> fig, ax = plt.subplots(1, 4, figsize = (16, 4))\n",
    ">>> for col in range(4):\n",
    "georgia['vdp'] = VDP[:, col]\n",
    "georgia.plot('vdp', ax = ax[col], legend = True)\n",
    "ax[col].set_title('VDP: ' + names[col])\n",
    "ax[col].get_xaxis().set_visible(False)\n",
    "ax[col].get_yaxis().set_visible(False)"
   ]
  },
  {
   "cell_type": "code",
   "execution_count": null,
   "metadata": {},
   "outputs": [],
   "source": []
  }
 ],
 "metadata": {
  "kernelspec": {
   "display_name": "Python 3",
   "language": "python",
   "name": "python3"
  },
  "language_info": {
   "codemirror_mode": {
    "name": "ipython",
    "version": 3
   },
   "file_extension": ".py",
   "mimetype": "text/x-python",
   "name": "python",
   "nbconvert_exporter": "python",
   "pygments_lexer": "ipython3",
   "version": "3.6.4"
  }
 },
 "nbformat": 4,
 "nbformat_minor": 4
}
